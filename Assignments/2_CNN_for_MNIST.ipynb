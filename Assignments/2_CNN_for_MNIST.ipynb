{
  "nbformat": 4,
  "nbformat_minor": 0,
  "metadata": {
    "colab": {
      "provenance": [],
      "gpuType": "T4"
    },
    "kernelspec": {
      "name": "python3",
      "display_name": "Python 3"
    },
    "language_info": {
      "name": "python"
    },
    "accelerator": "GPU"
  },
  "cells": [
    {
      "cell_type": "markdown",
      "source": [
        "Roshan Rayala Bhaskar,\n",
        "Shashank Mysore Girish\n",
        "[link text](https://)"
      ],
      "metadata": {
        "id": "QGp8M1HKbw19"
      }
    },
    {
      "cell_type": "code",
      "execution_count": 72,
      "metadata": {
        "colab": {
          "base_uri": "https://localhost:8080/"
        },
        "id": "FrMRHG1pTmsn",
        "outputId": "b4b8f505-365b-43fc-a3e6-cdc24ce536b4"
      },
      "outputs": [
        {
          "output_type": "stream",
          "name": "stdout",
          "text": [
            "Downloading data from https://storage.googleapis.com/tensorflow/tf-keras-datasets/train-labels-idx1-ubyte.gz\n",
            "29515/29515 [==============================] - 0s 0us/step\n",
            "Downloading data from https://storage.googleapis.com/tensorflow/tf-keras-datasets/train-images-idx3-ubyte.gz\n",
            "26421880/26421880 [==============================] - 0s 0us/step\n",
            "Downloading data from https://storage.googleapis.com/tensorflow/tf-keras-datasets/t10k-labels-idx1-ubyte.gz\n",
            "5148/5148 [==============================] - 0s 0us/step\n",
            "Downloading data from https://storage.googleapis.com/tensorflow/tf-keras-datasets/t10k-images-idx3-ubyte.gz\n",
            "4422102/4422102 [==============================] - 0s 0us/step\n",
            "[8 6 4 ... 3 0 5]\n"
          ]
        }
      ],
      "source": [
        "import tensorflow as tf\n",
        "import numpy as np\n",
        "\n",
        "# Load MNIST dataset\n",
        "(train_images, train_labels), (test_images, test_labels) = tf.keras.datasets.fashion_mnist.load_data()\n",
        "\n",
        "# Split training data into training and validation sets\n",
        "val_split = 0.1  # 10% of the training data will be used for validation\n",
        "num_val_samples = int(val_split * len(train_images))\n",
        "\n",
        "val_images = train_images[:num_val_samples]\n",
        "val_labels = train_labels[:num_val_samples]\n",
        "\n",
        "train_images = train_images[num_val_samples:]\n",
        "train_labels = train_labels[num_val_samples:]\n",
        "\n",
        "print(train_labels)\n",
        "# Reshape and normalize images\n",
        "train_images = train_images.reshape(-1, 28, 28, 1).astype(np.float32) / 255\n",
        "test_images = test_images.reshape(-1, 28, 28, 1).astype(np.float32) / 255\n",
        "\n",
        "# Convert labels to int32\n",
        "train_labels = train_labels.astype(np.int32)\n",
        "test_labels = test_labels.astype(np.int32)\n"
      ]
    },
    {
      "cell_type": "code",
      "source": [
        "# Model Architecture\n",
        "model = tf.keras.Sequential([\n",
        "    tf.keras.layers.Conv2D(32, (3, 3), activation='relu', input_shape=(28, 28, 1)),\n",
        "    tf.keras.layers.MaxPooling2D((2, 2)),\n",
        "    tf.keras.layers.Conv2D(64, (3, 3), activation='relu'),\n",
        "    tf.keras.layers.MaxPooling2D((2, 2)),\n",
        "    tf.keras.layers.Conv2D(128, (3, 3), activation='relu'),\n",
        "    tf.keras.layers.MaxPooling2D((2, 2)),\n",
        "\n",
        "\n",
        "    tf.keras.layers.Flatten(),\n",
        "    tf.keras.layers.Dense(128, activation='relu'),\n",
        "    tf.keras.layers.Dense(64, activation='relu'),\n",
        "\n",
        "    tf.keras.layers.Dense(10)\n",
        "])\n"
      ],
      "metadata": {
        "id": "aQFeD0A5VPDB"
      },
      "execution_count": 120,
      "outputs": []
    },
    {
      "cell_type": "code",
      "source": [
        "# Compile the Model\n",
        "model.compile(optimizer='adam',\n",
        "              loss=tf.keras.losses.SparseCategoricalCrossentropy(from_logits=True),\n",
        "              metrics=['accuracy'])\n"
      ],
      "metadata": {
        "id": "jJErYU4_xaFv"
      },
      "execution_count": 121,
      "outputs": []
    },
    {
      "cell_type": "code",
      "source": [
        "# Training\n",
        "history = model.fit(train_images, train_labels, epochs=15, batch_size=32, validation_data=(val_images, val_labels))\n"
      ],
      "metadata": {
        "colab": {
          "base_uri": "https://localhost:8080/"
        },
        "id": "JY3kwHzpzweP",
        "outputId": "7051da15-1bde-45ac-ff68-3c56d25c823b"
      },
      "execution_count": 122,
      "outputs": [
        {
          "output_type": "stream",
          "name": "stdout",
          "text": [
            "Epoch 1/15\n",
            "1688/1688 [==============================] - 10s 5ms/step - loss: 0.5992 - accuracy: 0.7783 - val_loss: 46.4228 - val_accuracy: 0.8308\n",
            "Epoch 2/15\n",
            "1688/1688 [==============================] - 9s 5ms/step - loss: 0.3983 - accuracy: 0.8526 - val_loss: 50.3178 - val_accuracy: 0.8013\n",
            "Epoch 3/15\n",
            "1688/1688 [==============================] - 8s 5ms/step - loss: 0.3369 - accuracy: 0.8756 - val_loss: 42.1066 - val_accuracy: 0.8165\n",
            "Epoch 4/15\n",
            "1688/1688 [==============================] - 9s 5ms/step - loss: 0.2975 - accuracy: 0.8896 - val_loss: 80.8567 - val_accuracy: 0.6992\n",
            "Epoch 5/15\n",
            "1688/1688 [==============================] - 8s 5ms/step - loss: 0.2692 - accuracy: 0.8990 - val_loss: 59.1096 - val_accuracy: 0.7670\n",
            "Epoch 6/15\n",
            "1688/1688 [==============================] - 8s 5ms/step - loss: 0.2450 - accuracy: 0.9082 - val_loss: 82.5921 - val_accuracy: 0.7353\n",
            "Epoch 7/15\n",
            "1688/1688 [==============================] - 9s 5ms/step - loss: 0.2231 - accuracy: 0.9166 - val_loss: 118.3859 - val_accuracy: 0.6943\n",
            "Epoch 8/15\n",
            "1688/1688 [==============================] - 9s 5ms/step - loss: 0.2052 - accuracy: 0.9231 - val_loss: 145.3641 - val_accuracy: 0.6875\n",
            "Epoch 9/15\n",
            "1688/1688 [==============================] - 8s 5ms/step - loss: 0.1928 - accuracy: 0.9265 - val_loss: 172.7005 - val_accuracy: 0.6460\n",
            "Epoch 10/15\n",
            "1688/1688 [==============================] - 8s 5ms/step - loss: 0.1781 - accuracy: 0.9323 - val_loss: 145.5314 - val_accuracy: 0.7117\n",
            "Epoch 11/15\n",
            "1688/1688 [==============================] - 9s 5ms/step - loss: 0.1640 - accuracy: 0.9368 - val_loss: 270.5771 - val_accuracy: 0.6280\n",
            "Epoch 12/15\n",
            "1688/1688 [==============================] - 8s 5ms/step - loss: 0.1526 - accuracy: 0.9414 - val_loss: 190.2208 - val_accuracy: 0.6488\n",
            "Epoch 13/15\n",
            "1688/1688 [==============================] - 8s 5ms/step - loss: 0.1416 - accuracy: 0.9450 - val_loss: 277.6414 - val_accuracy: 0.6253\n",
            "Epoch 14/15\n",
            "1688/1688 [==============================] - 9s 5ms/step - loss: 0.1348 - accuracy: 0.9477 - val_loss: 165.9625 - val_accuracy: 0.7193\n",
            "Epoch 15/15\n",
            "1688/1688 [==============================] - 9s 5ms/step - loss: 0.1243 - accuracy: 0.9531 - val_loss: 253.3747 - val_accuracy: 0.6535\n"
          ]
        }
      ]
    },
    {
      "cell_type": "code",
      "source": [
        "# Evaluate the Model\n",
        "test_loss, test_acc = model.evaluate(test_images, test_labels, verbose=2)\n",
        "print(f\"\\nTest Accuracy: {test_acc}\")\n"
      ],
      "metadata": {
        "colab": {
          "base_uri": "https://localhost:8080/"
        },
        "id": "bj_XVPBj4Izo",
        "outputId": "988d50a5-bc30-4ed3-b11f-0c5462f2226c"
      },
      "execution_count": 106,
      "outputs": [
        {
          "output_type": "stream",
          "name": "stdout",
          "text": [
            "313/313 - 1s - loss: 0.2925 - accuracy: 0.9127 - 1s/epoch - 4ms/step\n",
            "\n",
            "Test Accuracy: 0.9126999974250793\n"
          ]
        }
      ]
    },
    {
      "cell_type": "code",
      "source": [
        "# Predictions\n",
        "predictions = model.predict(test_images)\n",
        "predictions[9]\n",
        "np.argmax(predictions[9])\n"
      ],
      "metadata": {
        "colab": {
          "base_uri": "https://localhost:8080/"
        },
        "id": "AnafMt6566DG",
        "outputId": "731ca6be-dbcc-489e-9a36-3e52eb2680aa"
      },
      "execution_count": 108,
      "outputs": [
        {
          "output_type": "stream",
          "name": "stdout",
          "text": [
            "313/313 [==============================] - 1s 2ms/step\n"
          ]
        },
        {
          "output_type": "execute_result",
          "data": {
            "text/plain": [
              "7"
            ]
          },
          "metadata": {},
          "execution_count": 108
        }
      ]
    },
    {
      "cell_type": "code",
      "source": [
        "import matplotlib.pyplot as plt\n",
        "def plot_image(i, predictions_array, true_label, img):\n",
        "  true_label, img = true_label[i], img[i]\n",
        "  plt.grid(False)\n",
        "  plt.xticks([])\n",
        "  plt.yticks([])\n",
        "\n",
        "  plt.imshow(img, cmap=plt.cm.binary)\n",
        "\n",
        "  predicted_label = np.argmax(predictions_array)\n",
        "  if predicted_label == true_label:\n",
        "    color = 'blue'\n",
        "  else:\n",
        "    color = 'red'\n",
        "\n",
        "  plt.xlabel(\"{} {:2.0f}% ({})\".format(class_names[predicted_label],\n",
        "                                100*np.max(predictions_array),\n",
        "                                class_names[true_label]),\n",
        "                                color=color)\n",
        "\n",
        "def plot_value_array(i, predictions_array, true_label):\n",
        "  true_label = true_label[i]\n",
        "  plt.grid(False)\n",
        "  plt.xticks(range(10))\n",
        "  plt.yticks([])\n",
        "  thisplot = plt.bar(range(10), predictions_array, color=\"#777777\")\n",
        "  plt.ylim([0, 1])\n",
        "  predicted_label = np.argmax(predictions_array)\n",
        "\n",
        "  thisplot[predicted_label].set_color('red')\n",
        "  thisplot[true_label].set_color('blue')"
      ],
      "metadata": {
        "id": "_SX9Y5V47J01"
      },
      "execution_count": 68,
      "outputs": []
    },
    {
      "cell_type": "code",
      "source": [
        "from numpy.ma.extras import unique\n",
        "class_names = unique(test_labels)\n",
        "print(class_names)\n",
        "i = 65\n",
        "plt.figure(figsize=(6,3))\n",
        "plt.subplot(1,2,1)\n",
        "plot_image(i, predictions[i], test_labels, test_images)\n",
        "plt.subplot(1,2,2)\n",
        "plot_value_array(i, predictions[i],  test_labels)\n",
        "plt.show()"
      ],
      "metadata": {
        "id": "2ZiEpuRw-tZb",
        "outputId": "16c8cb36-350b-4915-9131-bf16cbd87836",
        "colab": {
          "base_uri": "https://localhost:8080/",
          "height": 308
        }
      },
      "execution_count": 69,
      "outputs": [
        {
          "output_type": "stream",
          "name": "stdout",
          "text": [
            "[0 1 2 3 4 5 6 7 8 9]\n"
          ]
        },
        {
          "output_type": "display_data",
          "data": {
            "text/plain": [
              "<Figure size 600x300 with 2 Axes>"
            ],
            "image/png": "[encoded data removed]"
          },
          "metadata": {}
        }
      ]
    },
    {
      "cell_type": "code",
      "source": [
        "# Plotting\n",
        "plt.plot(history.history['accuracy'], label='Training Accuracy')\n",
        "plt.plot(history.history['val_accuracy'], label='Validation Accuracy')\n",
        "\n",
        "plt.xlabel('Epoch')\n",
        "plt.ylabel('Accuracy')\n",
        "plt.legend()\n",
        "plt.show()\n"
      ],
      "metadata": {
        "id": "o5qxHbPv-zjj",
        "outputId": "6c2f1cd4-914f-44a7-b095-6f423fe1ae5d",
        "colab": {
          "base_uri": "https://localhost:8080/",
          "height": 449
        }
      },
      "execution_count": 105,
      "outputs": [
        {
          "output_type": "display_data",
          "data": {
            "text/plain": [
              "<Figure size 640x480 with 1 Axes>"
            ],
            "image/png": "[encoded data removed]"
          },
          "metadata": {}
        }
      ]
    },
    {
      "cell_type": "code",
      "source": [],
      "metadata": {
        "id": "mN9c0srJAbrA"
      },
      "execution_count": null,
      "outputs": []
    }
  ]
}