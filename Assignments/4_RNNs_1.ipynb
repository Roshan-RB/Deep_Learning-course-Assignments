{
  "cells": [
    {
      "cell_type": "markdown",
      "source": [
        "Shashank Mysore Girish,\n",
        "Roshan Rayala Bhaskar"
      ],
      "metadata": {
        "id": "wPJa-L-Skbvz"
      }
    },
    {
      "cell_type": "code",
      "execution_count": 1,
      "metadata": {
        "id": "r-Chp8YyyvxN"
      },
      "outputs": [],
      "source": [
        "import tensorflow as tf\n",
        "import numpy as np\n",
        "from matplotlib import pyplot as plt"
      ]
    },
    {
      "cell_type": "code",
      "execution_count": 2,
      "metadata": {
        "colab": {
          "base_uri": "https://localhost:8080/"
        },
        "id": "ZVE7aMvC4iXK",
        "outputId": "f6bbca8d-f73e-44a9-fed6-b7a682a57888"
      },
      "outputs": [
        {
          "output_type": "stream",
          "name": "stdout",
          "text": [
            "Downloading data from https://storage.googleapis.com/tensorflow/tf-keras-datasets/imdb.npz\n",
            "17464789/17464789 [==============================] - 1s 0us/step\n"
          ]
        }
      ],
      "source": [
        "# remove infrequent words. you can play with this parameter as it will likely impact model quality\n",
        "num_words = 20000\n",
        "(train_sequences, train_labels), (test_sequences, test_labels) = tf.keras.datasets.imdb.load_data(num_words=num_words)"
      ]
    },
    {
      "cell_type": "code",
      "execution_count": 3,
      "metadata": {
        "colab": {
          "base_uri": "https://localhost:8080/"
        },
        "id": "c07u7Z7s4opk",
        "outputId": "fb052cc0-919b-44e1-cfdf-f3638e6d9bab"
      },
      "outputs": [
        {
          "output_type": "execute_result",
          "data": {
            "text/plain": [
              "array([list([1, 14, 22, 16, 43, 530, 973, 1622, 1385, 65, 458, 4468, 66, 3941, 4, 173, 36, 256, 5, 25, 100, 43, 838, 112, 50, 670, 2, 9, 35, 480, 284, 5, 150, 4, 172, 112, 167, 2, 336, 385, 39, 4, 172, 4536, 1111, 17, 546, 38, 13, 447, 4, 192, 50, 16, 6, 147, 2025, 19, 14, 22, 4, 1920, 4613, 469, 4, 22, 71, 87, 12, 16, 43, 530, 38, 76, 15, 13, 1247, 4, 22, 17, 515, 17, 12, 16, 626, 18, 19193, 5, 62, 386, 12, 8, 316, 8, 106, 5, 4, 2223, 5244, 16, 480, 66, 3785, 33, 4, 130, 12, 16, 38, 619, 5, 25, 124, 51, 36, 135, 48, 25, 1415, 33, 6, 22, 12, 215, 28, 77, 52, 5, 14, 407, 16, 82, 10311, 8, 4, 107, 117, 5952, 15, 256, 4, 2, 7, 3766, 5, 723, 36, 71, 43, 530, 476, 26, 400, 317, 46, 7, 4, 12118, 1029, 13, 104, 88, 4, 381, 15, 297, 98, 32, 2071, 56, 26, 141, 6, 194, 7486, 18, 4, 226, 22, 21, 134, 476, 26, 480, 5, 144, 30, 5535, 18, 51, 36, 28, 224, 92, 25, 104, 4, 226, 65, 16, 38, 1334, 88, 12, 16, 283, 5, 16, 4472, 113, 103, 32, 15, 16, 5345, 19, 178, 32]),\n",
              "       list([1, 194, 1153, 194, 8255, 78, 228, 5, 6, 1463, 4369, 5012, 134, 26, 4, 715, 8, 118, 1634, 14, 394, 20, 13, 119, 954, 189, 102, 5, 207, 110, 3103, 21, 14, 69, 188, 8, 30, 23, 7, 4, 249, 126, 93, 4, 114, 9, 2300, 1523, 5, 647, 4, 116, 9, 35, 8163, 4, 229, 9, 340, 1322, 4, 118, 9, 4, 130, 4901, 19, 4, 1002, 5, 89, 29, 952, 46, 37, 4, 455, 9, 45, 43, 38, 1543, 1905, 398, 4, 1649, 26, 6853, 5, 163, 11, 3215, 10156, 4, 1153, 9, 194, 775, 7, 8255, 11596, 349, 2637, 148, 605, 15358, 8003, 15, 123, 125, 68, 2, 6853, 15, 349, 165, 4362, 98, 5, 4, 228, 9, 43, 2, 1157, 15, 299, 120, 5, 120, 174, 11, 220, 175, 136, 50, 9, 4373, 228, 8255, 5, 2, 656, 245, 2350, 5, 4, 9837, 131, 152, 491, 18, 2, 32, 7464, 1212, 14, 9, 6, 371, 78, 22, 625, 64, 1382, 9, 8, 168, 145, 23, 4, 1690, 15, 16, 4, 1355, 5, 28, 6, 52, 154, 462, 33, 89, 78, 285, 16, 145, 95]),\n",
              "       list([1, 14, 47, 8, 30, 31, 7, 4, 249, 108, 7, 4, 5974, 54, 61, 369, 13, 71, 149, 14, 22, 112, 4, 2401, 311, 12, 16, 3711, 33, 75, 43, 1829, 296, 4, 86, 320, 35, 534, 19, 263, 4821, 1301, 4, 1873, 33, 89, 78, 12, 66, 16, 4, 360, 7, 4, 58, 316, 334, 11, 4, 1716, 43, 645, 662, 8, 257, 85, 1200, 42, 1228, 2578, 83, 68, 3912, 15, 36, 165, 1539, 278, 36, 69, 2, 780, 8, 106, 14, 6905, 1338, 18, 6, 22, 12, 215, 28, 610, 40, 6, 87, 326, 23, 2300, 21, 23, 22, 12, 272, 40, 57, 31, 11, 4, 22, 47, 6, 2307, 51, 9, 170, 23, 595, 116, 595, 1352, 13, 191, 79, 638, 89, 2, 14, 9, 8, 106, 607, 624, 35, 534, 6, 227, 7, 129, 113])],\n",
              "      dtype=object)"
            ]
          },
          "metadata": {},
          "execution_count": 3
        }
      ],
      "source": [
        "# look at some sequences. words have been replaced with arbitrary index mappings\n",
        "# 1 is a special \"beginning of sequence\" marker\n",
        "# infrequent words have been replaced by the index 2\n",
        "# actual words start with index 4, 3 is never used (???)\n",
        "train_sequences[:3]"
      ]
    },
    {
      "cell_type": "code",
      "execution_count": 4,
      "metadata": {
        "colab": {
          "base_uri": "https://localhost:8080/"
        },
        "id": "AD6Elit34sTL",
        "outputId": "0dee1f47-19c7-4347-902e-41007cb16992"
      },
      "outputs": [
        {
          "output_type": "execute_result",
          "data": {
            "text/plain": [
              "array([1, 0, 0])"
            ]
          },
          "metadata": {},
          "execution_count": 4
        }
      ],
      "source": [
        "# labels are simply binary: sentiment can be positive or negative\n",
        "train_labels[:3]"
      ]
    },
    {
      "cell_type": "code",
      "execution_count": 5,
      "metadata": {
        "colab": {
          "base_uri": "https://localhost:8080/"
        },
        "id": "xHTMEyXW5KcQ",
        "outputId": "52976bcd-11ae-4568-f672-2368c451baf4"
      },
      "outputs": [
        {
          "output_type": "stream",
          "name": "stdout",
          "text": [
            "Downloading data from https://storage.googleapis.com/tensorflow/tf-keras-datasets/imdb_word_index.json\n",
            "1641221/1641221 [==============================] - 0s 0us/step\n"
          ]
        }
      ],
      "source": [
        "# to restore words, load the word-to-index mapping\n",
        "word_to_index = tf.keras.datasets.imdb.get_word_index()"
      ]
    },
    {
      "cell_type": "code",
      "execution_count": 6,
      "metadata": {
        "id": "Vv25lUc_5ckG"
      },
      "outputs": [],
      "source": [
        "# invert to get index-to-word mapping\n",
        "index_to_word = dict((index, word) for (word, index) in word_to_index.items())\n",
        "index_to_word_sorted = dict(sorted(index_to_word.items()))\n"
      ]
    },
    {
      "cell_type": "code",
      "execution_count": 7,
      "metadata": {
        "id": "9eKZWv-nazxg"
      },
      "outputs": [],
      "source": [
        "#Index 0: Reserved for padding. Sequences are padded to have a consistent length, and index 0 is used for padding tokens.\n",
        "\n",
        "#Index 1: Reserved for the start of the sequence. It marks the beginning of a sequence of words.\n",
        "\n",
        "#Index 2: Reserved for out-of-vocabulary (OOV) or unknown words. If a word is not part of the vocabulary, it is represented by this index.\n",
        "\n"
      ]
    },
    {
      "cell_type": "code",
      "execution_count": 8,
      "metadata": {
        "colab": {
          "base_uri": "https://localhost:8080/",
          "height": 123
        },
        "id": "CYX6F3AX5hpV",
        "outputId": "e81b2de1-ae00-403c-e5a8-9b20a78433e4"
      },
      "outputs": [
        {
          "output_type": "execute_result",
          "data": {
            "text/plain": [
              "\"this film was just brilliant casting location scenery story direction everyone's really suited the part they played and you could just imagine being there robert UNKNOWN is an amazing actor and now the same being director UNKNOWN father came from the same scottish island as myself so i loved the fact there was a real connection with this film the witty remarks throughout the film were great it was just brilliant so much that i bought the film as soon as it was released for retail and would recommend it to everyone to watch and the fly fishing was amazing really cried at the end it was so sad and you know what they say if you cry at a film it must have been good and this definitely was also congratulations to the two little boy's that played the UNKNOWN of norman and paul they were just brilliant children are often left out of the praising list i think because the stars that play them all grown up are such a big profile for the whole film but these children are amazing and should be praised for what they have done don't you think the whole story was so lovely because it was true and was someone's life after all that was shared with us all\""
            ],
            "application/vnd.google.colaboratory.intrinsic+json": {
              "type": "string"
            }
          },
          "metadata": {},
          "execution_count": 8
        }
      ],
      "source": [
        "# we can convert a sequence to text by\n",
        "# - replacing each index by the respective word\n",
        "# - joining words together via spaces\n",
        "# note that we remove the beginning of sequence character and we have to subtract 3 from all indices\n",
        "# this is because, as mentioned above, the smallest indices are reserved for special characters\n",
        "# but for some reason this is not reflected in the mapping...\n",
        "\" \".join([index_to_word.get(index - 3 , \"UNKNOWN\") for index in train_sequences[0][1:]])"
      ]
    },
    {
      "cell_type": "code",
      "execution_count": 9,
      "metadata": {
        "id": "9axnbnwR6q6W"
      },
      "outputs": [],
      "source": [
        "# we cannot create a dataset :( this is because sequences are different length\n",
        "# but tensors have to be \"rectangular\"\n",
        "#train_data = tf.data.Dataset.from_tensor_slices(train_sequences, train_labels)"
      ]
    },
    {
      "cell_type": "code",
      "execution_count": 10,
      "metadata": {
        "colab": {
          "base_uri": "https://localhost:8080/"
        },
        "id": "m2lt9mE-9XO7",
        "outputId": "d5464733-5d21-41e8-8ca7-e3e8edef9d26"
      },
      "outputs": [
        {
          "output_type": "execute_result",
          "data": {
            "text/plain": [
              "2494"
            ]
          },
          "metadata": {},
          "execution_count": 10
        }
      ],
      "source": [
        "# solution is padding all sequences to the maximum length.\n",
        "# first find the maximum length\n",
        "sequence_lengths = [len(sequence) for sequence in train_sequences]\n",
        "sequence_lengths\n",
        "max_len = max(sequence_lengths)\n",
        "max_len\n"
      ]
    },
    {
      "cell_type": "code",
      "execution_count": 11,
      "metadata": {
        "colab": {
          "base_uri": "https://localhost:8080/",
          "height": 430
        },
        "id": "677ZXcRu9nUe",
        "outputId": "d1c075e1-1816-4bdd-9406-864f72a08d9f"
      },
      "outputs": [
        {
          "output_type": "display_data",
          "data": {
            "text/plain": [
              "<Figure size 640x480 with 1 Axes>"
            ],
            "image/png": "[encoded data removed]"
          },
          "metadata": {}
        }
      ],
      "source": [
        "# overview over sequence lengths in the data\n",
        "# could also look at mean, median, standard deviation...\n",
        "plt.hist(sequence_lengths, bins=80)\n",
        "plt.show()"
      ]
    },
    {
      "cell_type": "code",
      "execution_count": 12,
      "metadata": {
        "id": "lYr10G5M9rWX"
      },
      "outputs": [],
      "source": [
        "# luckily there is a convenient function for padding\n",
        "train_sequences_padded = tf.keras.preprocessing.sequence.pad_sequences(train_sequences, maxlen=max_len)\n"
      ]
    },
    {
      "cell_type": "code",
      "execution_count": 13,
      "metadata": {
        "id": "LQcP3uSpa_Dt"
      },
      "outputs": [],
      "source": [
        "test_sequences_padded = tf.keras.preprocessing.sequence.pad_sequences(test_sequences, maxlen=max_len)\n"
      ]
    },
    {
      "cell_type": "code",
      "execution_count": 14,
      "metadata": {
        "id": "pXEICggj-OL-"
      },
      "outputs": [],
      "source": [
        "# now we can create a dataset!\n",
        "train_data = tf.data.Dataset.from_tensor_slices((train_sequences_padded, train_labels))"
      ]
    },
    {
      "cell_type": "code",
      "execution_count": 15,
      "metadata": {
        "id": "IwPMTUnTbJg3"
      },
      "outputs": [],
      "source": [
        "# now we can create a dataset!\n",
        "test_data = tf.data.Dataset.from_tensor_slices((test_sequences_padded, train_labels))"
      ]
    },
    {
      "cell_type": "code",
      "execution_count": 16,
      "metadata": {
        "colab": {
          "base_uri": "https://localhost:8080/"
        },
        "id": "IPTPy5Ff-Q_C",
        "outputId": "26f9bf11-8275-4f32-e701-777cb7a43dcb"
      },
      "outputs": [
        {
          "output_type": "execute_result",
          "data": {
            "text/plain": [
              "(25000, 2494)"
            ]
          },
          "metadata": {},
          "execution_count": 16
        }
      ],
      "source": [
        "# all sequences are... very long\n",
        "train_sequences_padded.shape"
      ]
    },
    {
      "cell_type": "code",
      "execution_count": 17,
      "metadata": {
        "colab": {
          "base_uri": "https://localhost:8080/"
        },
        "id": "0-3WhmZnbRH9",
        "outputId": "4e0b6a8b-1081-4ba1-f2e7-3f5bbb5c86d9"
      },
      "outputs": [
        {
          "output_type": "execute_result",
          "data": {
            "text/plain": [
              "(25000, 2494)"
            ]
          },
          "metadata": {},
          "execution_count": 17
        }
      ],
      "source": [
        "# all sequences are... very long\n",
        "test_sequences_padded.shape"
      ]
    },
    {
      "cell_type": "code",
      "execution_count": 18,
      "metadata": {
        "id": "ivp9TgHHbZY3"
      },
      "outputs": [],
      "source": [
        "batch = 128\n",
        "train_data_pad = tf.data.Dataset.from_tensor_slices((train_sequences_padded,train_labels)).batch(batch,drop_remainder=True).repeat()\n",
        "test_data_pad = tf.data.Dataset.from_tensor_slices((test_sequences_padded,test_labels)).batch(batch,drop_remainder=True)"
      ]
    },
    {
      "cell_type": "code",
      "execution_count": 19,
      "metadata": {
        "id": "2ZW7YdDv_fRJ"
      },
      "outputs": [],
      "source": [
        "# for fun, you can look at the word-index mappings.\n",
        "# in this case, the mapping was done according to word frequency.\n",
        "# you can pass reverse=True to sorted() to look at the least common words.\n",
        "sorted_index_to_word = dict(sorted(index_to_word.items(), reverse=True)[:50000])\n"
      ]
    },
    {
      "cell_type": "code",
      "execution_count": 20,
      "metadata": {
        "id": "V02__5uIbq4l"
      },
      "outputs": [],
      "source": [
        "loss_fn = tf.losses.SparseCategoricalCrossentropy(from_logits=True)\n",
        "accuracy_metric = tf.metrics.SparseCategoricalAccuracy()\n",
        "optimizer = tf.optimizers.Adam()\n",
        "hidden_size = 64\n",
        "train_steps = 2000\n",
        "output_size = 2\n"
      ]
    },
    {
      "cell_type": "code",
      "execution_count": 21,
      "metadata": {
        "id": "IQp_r2V3bqy2"
      },
      "outputs": [],
      "source": [
        "W_xh = tf.Variable(tf.random.normal([hidden_size, num_words]))\n",
        "W_hh = tf.Variable(tf.random.normal([hidden_size, hidden_size]))\n",
        "W_ho = tf.Variable(tf.random.normal([output_size, hidden_size]))\n",
        "\n",
        "b_h = tf.Variable(tf.zeros([hidden_size, 1]))\n",
        "b_o = tf.Variable(tf.zeros([output_size, 1]))\n",
        "\n",
        "variables = [W_xh, W_hh, W_ho, b_h, b_o]\n"
      ]
    },
    {
      "cell_type": "code",
      "execution_count": 22,
      "metadata": {
        "id": "iJ-2YXnMbqmo"
      },
      "outputs": [],
      "source": [
        "def train_loop():\n",
        "\n",
        "  try:\n",
        "\n",
        "    for step, (batches_of_sequence, labels_of_batch) in enumerate(train_data_pad):\n",
        "\n",
        "      if step > train_steps:\n",
        "        break\n",
        "\n",
        "      else:\n",
        "        with tf.GradientTape() as tape:\n",
        "          #we are doing the GD with batches and not every sequence.\n",
        "          logits = rnn_loop(batches_of_sequence)\n",
        "          loss = loss_fn( labels_of_batch, tf.transpose(logits) )\n",
        "\n",
        "        gradient = tape.gradient(loss, variables)\n",
        "        optimizer.apply_gradients(zip(gradient, variables))\n",
        "        accuracy_metric(labels_of_batch, tf.transpose(logits))\n",
        "\n",
        "      if not step % 100:\n",
        "              print(\"Step:{} Loss: {} Accuracy: {}\".format(step, loss, accuracy_metric.result()))\n",
        "              accuracy_metric.reset_states()\n",
        "\n",
        "  except Exception as e:\n",
        "    print(str(e))\n",
        "\n",
        "#we are doing a_t and h_t according to text book\n",
        "def rnn_step(previous_state, input):\n",
        "\n",
        "  new_state = tf.matmul(W_hh, previous_state) + tf.matmul(W_xh, tf.transpose(input)) + b_h\n",
        "  new_state = tf.nn.tanh(new_state)\n",
        "  return new_state\n",
        "\n",
        "#now we calculate o_t\n",
        "@tf.function\n",
        "def rnn_loop(sequence):\n",
        "\n",
        "  old_state = tf.zeros([hidden_size, batch], tf.float32)  # initial state\n",
        "\n",
        "  #we get the entire batch of data, 128 sequences\n",
        "  for step in tf.range(200):\n",
        "    # iterating through each sequence in a batch.\n",
        "    x_t = sequence[:, step]\n",
        "    # we encode the entire sequence at once\n",
        "    x_t = tf.one_hot(x_t, depth=num_words)\n",
        "    #now we are passing this hidden state to the next input\n",
        "    #print('hello')\n",
        "    new_state = rnn_step(old_state, x_t)\n",
        "    #so in this new state we have the linear function and non linear (tanh)\n",
        "    old_state = new_state\n",
        "    #now we consider this as old state as this should be sent to the next hidden, hidden to hidden is RNN\n",
        "\n",
        "  #so after all the sequences are processed we calculate the output, in this case sentiment\n",
        "  o_t = output_layer(new_state)\n",
        "  return o_t\n",
        "  #we need the output and hence we return output\n",
        "\n",
        "def output_layer(state):\n",
        "    return tf.matmul(W_ho, state) + b_o\n",
        "\n"
      ]
    },
    {
      "cell_type": "code",
      "execution_count": 23,
      "metadata": {
        "colab": {
          "base_uri": "https://localhost:8080/"
        },
        "id": "8Ar5BO5fgpsB",
        "outputId": "95bee4da-c470-407d-bda1-6ba0e5be9bc1"
      },
      "outputs": [
        {
          "output_type": "stream",
          "name": "stderr",
          "text": [
            "WARNING:tensorflow:5 out of the last 5 calls to <function _BaseOptimizer._update_step_xla at 0x7d42b36c63b0> triggered tf.function retracing. Tracing is expensive and the excessive number of tracings could be due to (1) creating @tf.function repeatedly in a loop, (2) passing tensors with different shapes, (3) passing Python objects instead of tensors. For (1), please define your @tf.function outside of the loop. For (2), @tf.function has reduce_retracing=True option that can avoid unnecessary retracing. For (3), please refer to https://www.tensorflow.org/guide/function#controlling_retracing and https://www.tensorflow.org/api_docs/python/tf/function for  more details.\n"
          ]
        },
        {
          "output_type": "stream",
          "name": "stdout",
          "text": [
            "Step:0 Loss: 3.3307318687438965 Accuracy: 0.578125\n",
            "Step:100 Loss: nan Accuracy: 0.4945312440395355\n",
            "Step:200 Loss: nan Accuracy: 0.5051562786102295\n",
            "Step:300 Loss: nan Accuracy: 0.49390625953674316\n",
            "Step:400 Loss: nan Accuracy: 0.507031261920929\n",
            "Step:500 Loss: nan Accuracy: 0.4950000047683716\n",
            "Step:600 Loss: nan Accuracy: 0.5028125047683716\n",
            "Step:700 Loss: nan Accuracy: 0.49812498688697815\n",
            "Step:800 Loss: nan Accuracy: 0.5018749833106995\n",
            "Step:900 Loss: nan Accuracy: 0.5000781416893005\n",
            "Step:1000 Loss: nan Accuracy: 0.4987500011920929\n",
            "Step:1100 Loss: nan Accuracy: 0.5010937452316284\n",
            "Step:1200 Loss: nan Accuracy: 0.4998437464237213\n",
            "Step:1300 Loss: nan Accuracy: 0.4984374940395355\n",
            "Step:1400 Loss: nan Accuracy: 0.5007030963897705\n",
            "Step:1500 Loss: nan Accuracy: 0.4998437464237213\n",
            "Step:1600 Loss: nan Accuracy: 0.5010156035423279\n",
            "Step:1700 Loss: nan Accuracy: 0.5\n",
            "Step:1800 Loss: nan Accuracy: 0.4991406202316284\n",
            "Step:1900 Loss: nan Accuracy: 0.5016406178474426\n",
            "Step:2000 Loss: nan Accuracy: 0.4998437464237213\n"
          ]
        }
      ],
      "source": [
        "train_loop()"
      ]
    },
    {
      "cell_type": "code",
      "execution_count": 24,
      "metadata": {
        "colab": {
          "base_uri": "https://localhost:8080/"
        },
        "id": "8_aLjg1-gkbN",
        "outputId": "83ba9a2a-3988-480f-dd09-27368b423fd8"
      },
      "outputs": [
        {
          "output_type": "stream",
          "name": "stdout",
          "text": [
            "Test acc: 0.5001201629638672\n"
          ]
        }
      ],
      "source": [
        "for sequence_batch, label_batch in test_data_pad:\n",
        "    accuracy_metric(label_batch, tf.transpose(rnn_loop(sequence_batch)))\n",
        "print(\"Test acc: {}\".format(accuracy_metric.result()))"
      ]
    }
  ],
  "metadata": {
    "accelerator": "GPU",
    "colab": {
      "gpuType": "T4",
      "provenance": []
    },
    "kernelspec": {
      "display_name": "Python 3",
      "name": "python3"
    },
    "language_info": {
      "codemirror_mode": {
        "name": "ipython",
        "version": 3
      },
      "file_extension": ".py",
      "mimetype": "text/x-python",
      "name": "python",
      "nbconvert_exporter": "python",
      "pygments_lexer": "ipython3",
      "version": "3.11.3"
    }
  },
  "nbformat": 4,
  "nbformat_minor": 0
}