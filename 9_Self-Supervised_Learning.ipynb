{
  "cells": [
    {
      "cell_type": "markdown",
      "metadata": {},
      "source": [
        "Roshan Rayala Bhaskar\n",
        "Shashank Mysore Girish"
      ]
    },
    {
      "cell_type": "code",
      "execution_count": 31,
      "metadata": {
        "id": "YEY3cOC6Nh1G"
      },
      "outputs": [],
      "source": [
        "import tensorflow as tf\n",
        "import numpy as np\n",
        "from matplotlib import pyplot as plt\n",
        "tfkl = tf.keras.layers\n",
        "from tensorflow import keras\n",
        "from tensorflow.keras import datasets, layers, models\n"
      ]
    },
    {
      "cell_type": "code",
      "execution_count": 32,
      "metadata": {
        "colab": {
          "base_uri": "https://localhost:8080/"
        },
        "id": "DeslnBvCTd1Y",
        "outputId": "3f40e4c4-4755-4258-a0d1-87b7ab3fe229"
      },
      "outputs": [
        {
          "name": "stdout",
          "output_type": "stream",
          "text": [
            "Drive already mounted at /content/drive; to attempt to forcibly remount, call drive.mount(\"/content/drive\", force_remount=True).\n"
          ]
        }
      ],
      "source": [
        "from google.colab import drive\n",
        "drive.mount('/content/drive')\n",
        "import os\n",
        "os.getcwd\n",
        "os.chdir(\"/content/drive/MyDrive/Colab Notebooks/idl\")\n",
        "from datasets import MNISTDataset"
      ]
    },
    {
      "cell_type": "markdown",
      "metadata": {
        "id": "8SOLkplVTLNm"
      },
      "source": [
        "**Data Preprocessing**"
      ]
    },
    {
      "cell_type": "markdown",
      "metadata": {
        "id": "AOLsc9OBaXTE"
      },
      "source": [
        "Fetch the mnist dataset and normalize it"
      ]
    },
    {
      "cell_type": "code",
      "execution_count": 33,
      "metadata": {
        "colab": {
          "base_uri": "https://localhost:8080/",
          "height": 447
        },
        "id": "nGnoNvkqTKUh",
        "outputId": "b22d35db-28a2-4af3-98e0-977c3f02f419"
      },
      "outputs": [
        {
          "name": "stdout",
          "output_type": "stream",
          "text": [
            "[0 4 1 9 2 1 3 1 4]\n"
          ]
        },
        {
          "data": {
            "image/png": "[encoded data removed]",
            "text/plain": [
              "<Figure size 640x480 with 1 Axes>"
            ]
          },
          "metadata": {},
          "output_type": "display_data"
        }
      ],
      "source": [
        "mnist = tf.keras.datasets.mnist\n",
        "(train_images, train_labels), (test_images, test_labels) = mnist.load_data()\n",
        "plt.imshow(train_images[4], cmap=\"Greys_r\")\n",
        "print(train_labels[1:10])\n",
        "\n",
        "#Normalizing images\n",
        "train_images = train_images / 255.0\n",
        "\n",
        "test_images = test_images / 255.0\n"
      ]
    },
    {
      "cell_type": "markdown",
      "metadata": {
        "id": "TihSXxPaacSH"
      },
      "source": [
        "Flatten the train and test images"
      ]
    },
    {
      "cell_type": "code",
      "execution_count": 34,
      "metadata": {
        "colab": {
          "base_uri": "https://localhost:8080/"
        },
        "id": "PW6cc4abTXhs",
        "outputId": "d435d177-1dc1-4623-c358-135c2a331887"
      },
      "outputs": [
        {
          "name": "stdout",
          "output_type": "stream",
          "text": [
            "(60000, 784)\n"
          ]
        }
      ],
      "source": [
        "flattened_data = MNISTDataset(train_images.reshape([-1, 784]), train_labels,\n",
        "                    test_images.reshape([-1, 784]), test_labels,\n",
        "                    batch_size=128)\n",
        "print(train_images.reshape([-1, 784]).shape)\n",
        "train_images_flattened = train_images.reshape([-1, 784])\n",
        "test_images_flattened = test_images.reshape([-1, 784])\n"
      ]
    },
    {
      "cell_type": "code",
      "execution_count": 35,
      "metadata": {
        "colab": {
          "base_uri": "https://localhost:8080/"
        },
        "id": "xc120mzbVNy5",
        "outputId": "6870158f-d2cb-47fc-ce45-3590f1406630"
      },
      "outputs": [
        {
          "name": "stdout",
          "output_type": "stream",
          "text": [
            "(60000, 28, 28)\n",
            "(60000,)\n",
            "(10000, 28, 28)\n",
            "(10000,)\n"
          ]
        }
      ],
      "source": [
        "print(train_images.shape)\n",
        "print(train_labels.shape)\n",
        "print(test_images.shape)\n",
        "print(test_labels.shape)\n"
      ]
    },
    {
      "cell_type": "markdown",
      "metadata": {
        "id": "qF0KiP83V8YS"
      },
      "source": [
        "**MLP Autoencoder**"
      ]
    },
    {
      "cell_type": "markdown",
      "metadata": {
        "id": "vddC5k9JagAS"
      },
      "source": [
        "Building a function to create an MLP autoencoder and a encoder + classifier."
      ]
    },
    {
      "cell_type": "code",
      "execution_count": 36,
      "metadata": {
        "id": "VxXPJhloV_oF"
      },
      "outputs": [],
      "source": [
        "def create_mlp_model(input_shape=(28, 28), output_activation=\"sigmoid\", hidden_activation=\"relu\", classifier_units=10, classifier_activation=\"softmax\", freeze = False):\n",
        "    layer_dims = [256, 128, 64, 32, 64, 128, 256, 784]\n",
        "\n",
        "    # Define the encoder layers\n",
        "    encoder_layers = []\n",
        "    for i in range(4):  # Up to the layer before 32 neurons\n",
        "        encoder_layers.append(tf.keras.layers.Dense(units=layer_dims[i], activation=hidden_activation))\n",
        "\n",
        "    encoder = keras.Sequential([keras.layers.Flatten(input_shape=input_shape)] + encoder_layers)\n",
        "\n",
        "    #when we are training the model we should not train the encoder but we just train the classifier.\n",
        "    #but when we evaluate it goes through the whole network\n",
        "    decoder_layers = []\n",
        "    for i in range(4,8):  # Up to the layer before 32 neurons\n",
        "        decoder_layers.append(tf.keras.layers.Dense(units=layer_dims[i], activation=hidden_activation))\n",
        "\n",
        "    if freeze == True:\n",
        "      for layer in encoder.layers:\n",
        "        layer.trainable = False\n",
        "\n",
        "    # Define the classifier layers\n",
        "    classifier_layers = [\n",
        "        tf.keras.layers.Dense(units=classifier_units, activation=classifier_activation)\n",
        "    ]\n",
        "\n",
        "    classifier = keras.Sequential(encoder_layers + classifier_layers)\n",
        "\n",
        "    # Define the autoencoder model\n",
        "    autoencoder = keras.Sequential([keras.layers.Flatten(input_shape=input_shape)] + encoder_layers +\n",
        "                                   decoder_layers)\n",
        "\n",
        "\n",
        "    return autoencoder, encoder, classifier\n"
      ]
    },
    {
      "cell_type": "markdown",
      "metadata": {
        "id": "kPj35AipliSK"
      },
      "source": [
        "autoencoder, encoder, classifier = create_mlp_model()\n"
      ]
    },
    {
      "cell_type": "markdown",
      "metadata": {
        "id": "VzGfSQuRbNhA"
      },
      "source": [
        "Experimenting with different knid of activation functions"
      ]
    },
    {
      "cell_type": "code",
      "execution_count": 37,
      "metadata": {
        "id": "v_scbIJFW8KR"
      },
      "outputs": [],
      "source": [
        "model_relu, model_relu_encoder, model_relu_classifier  = create_mlp_model(input_shape=(28, 28),output_activation=\"sigmoid\",hidden_activation=\"relu\")\n",
        "model_sigmoid,model_sigmoid_encoder, model_sigmoid_classifier = create_mlp_model(input_shape=(28, 28),output_activation=\"sigmoid\",hidden_activation=\"sigmoid\")\n",
        "model_tanh, model_tanh_encoder, model_tanh_classifier = create_mlp_model(input_shape=(28, 28),output_activation=\"sigmoid\",hidden_activation=\"tanh\")\n",
        "model_linear, model_linear_encoder, model_linear_classifier = create_mlp_model(input_shape=(28, 28),output_activation=\"sigmoid\",hidden_activation=\"linear\")\n"
      ]
    },
    {
      "cell_type": "markdown",
      "metadata": {
        "id": "Tu2J0P2bbq-C"
      },
      "source": [
        "Experimenting models with linear output"
      ]
    },
    {
      "cell_type": "code",
      "execution_count": 38,
      "metadata": {
        "id": "OwneWuCtXFbA"
      },
      "outputs": [],
      "source": [
        "model_linear2, model_linear2_encoder, model_linear2_classifier = create_mlp_model(input_shape=(28, 28), output_activation=\"linear\",hidden_activation=\"sigmoid\")\n",
        "model_linear3, model_linear3_encoder, model_linear3_classifier = create_mlp_model(input_shape=(28, 28), output_activation=\"linear\",hidden_activation=\"relu\")\n",
        "model_relu2, model_relu2_encoder, model_relu2_classifier = create_mlp_model(input_shape=(28, 28), output_activation=\"sigmoid\",hidden_activation=\"relu\")\n"
      ]
    },
    {
      "cell_type": "code",
      "execution_count": 39,
      "metadata": {
        "colab": {
          "base_uri": "https://localhost:8080/"
        },
        "id": "_pwXjoMrXFY5",
        "outputId": "e97780a5-7f57-4832-cefa-0b3ac69556f9"
      },
      "outputs": [
        {
          "name": "stdout",
          "output_type": "stream",
          "text": [
            "Model: \"sequential_26\"\n",
            "_________________________________________________________________\n",
            " Layer (type)                Output Shape              Param #   \n",
            "=================================================================\n",
            " flatten_17 (Flatten)        (None, 784)               0         \n",
            "                                                                 \n",
            " dense_72 (Dense)            (None, 256)               200960    \n",
            "                                                                 \n",
            " dense_73 (Dense)            (None, 128)               32896     \n",
            "                                                                 \n",
            " dense_74 (Dense)            (None, 64)                8256      \n",
            "                                                                 \n",
            " dense_75 (Dense)            (None, 32)                2080      \n",
            "                                                                 \n",
            " dense_76 (Dense)            (None, 64)                2112      \n",
            "                                                                 \n",
            " dense_77 (Dense)            (None, 128)               8320      \n",
            "                                                                 \n",
            " dense_78 (Dense)            (None, 256)               33024     \n",
            "                                                                 \n",
            " dense_79 (Dense)            (None, 784)               201488    \n",
            "                                                                 \n",
            "=================================================================\n",
            "Total params: 489136 (1.87 MB)\n",
            "Trainable params: 489136 (1.87 MB)\n",
            "Non-trainable params: 0 (0.00 Byte)\n",
            "_________________________________________________________________\n"
          ]
        }
      ],
      "source": [
        "#Printing model summary to initial check\n",
        "model_relu.summary()"
      ]
    },
    {
      "cell_type": "markdown",
      "metadata": {
        "id": "U7EL4_Ifb7dU"
      },
      "source": [
        "Compiling the models"
      ]
    },
    {
      "cell_type": "code",
      "execution_count": 40,
      "metadata": {
        "id": "jGsLBS6EXFWh"
      },
      "outputs": [],
      "source": [
        "def compile_mlp_model(model,loss=\"MAE\", metrics=[\"accuracy\"], optimizer = \"adam\"):\n",
        "  if(loss == \"MAE\"):\n",
        "    model.compile(optimizer=optimizer, loss=tf.keras.losses.MAE, metrics=metrics)\n",
        "  elif (loss == \"MSQE\"):\n",
        "    model.compile(optimizer=optimizer, loss=tf.keras.losses.mean_squared_error, metrics=metrics)\n",
        "  else:\n",
        "    model.compile(optimizer=optimizer, loss=tf.keras.losses.binary_crossentropy, metrics=metrics)\n"
      ]
    },
    {
      "cell_type": "code",
      "execution_count": 41,
      "metadata": {
        "id": "HICYdv77XFUU"
      },
      "outputs": [],
      "source": [
        "compile_mlp_model(model_linear, loss = \"MSQE\", metrics=[\"accuracy\", tf.keras.metrics.FalseNegatives(), tf.keras.metrics.FalsePositives()])\n",
        "compile_mlp_model(model_tanh, loss = \"MSQE\", metrics=[\"accuracy\", tf.keras.metrics.FalseNegatives(), tf.keras.metrics.FalsePositives()])\n",
        "compile_mlp_model(model_sigmoid, loss = \"MSQE\", metrics=[\"accuracy\", tf.keras.metrics.FalseNegatives(), tf.keras.metrics.FalsePositives()])\n",
        "compile_mlp_model(model_relu, loss = \"MSQE\", metrics=[\"accuracy\", tf.keras.metrics.FalseNegatives(), tf.keras.metrics.FalsePositives()])\n"
      ]
    },
    {
      "cell_type": "code",
      "execution_count": 42,
      "metadata": {
        "id": "B4OspwrDXFRq"
      },
      "outputs": [],
      "source": [
        "compile_mlp_model(model_linear2, loss = \"MSQE\", metrics=[\"accuracy\"])\n",
        "compile_mlp_model(model_linear2, loss = \"MSQE\", metrics=[\"accuracy\"])\n",
        "compile_mlp_model(model_linear3, loss = \"MSQE\", metrics=[\"accuracy\"])\n",
        "compile_mlp_model(model_sigmoid, loss = \"MSQE\", metrics=[\"accuracy\", tf.keras.metrics.FalseNegatives(), tf.keras.metrics.FalsePositives()])\n",
        "compile_mlp_model(model_relu2, metrics=[\"accuracy\"])"
      ]
    },
    {
      "cell_type": "markdown",
      "metadata": {
        "id": "PvDhj2DnZmqi"
      },
      "source": [
        "model_linear2 = output_activation=\"linear\", hidden_activation=\"sigmoid\""
      ]
    },
    {
      "cell_type": "code",
      "execution_count": 43,
      "metadata": {
        "colab": {
          "base_uri": "https://localhost:8080/"
        },
        "id": "H4IiUp4pXFPR",
        "outputId": "92ed90ff-07c9-4f41-a544-925e681077f3"
      },
      "outputs": [
        {
          "name": "stdout",
          "output_type": "stream",
          "text": [
            "Model: \"sequential_38\"\n",
            "_________________________________________________________________\n",
            " Layer (type)                Output Shape              Param #   \n",
            "=================================================================\n",
            " flatten_25 (Flatten)        (None, 784)               0         \n",
            "                                                                 \n",
            " dense_108 (Dense)           (None, 256)               200960    \n",
            "                                                                 \n",
            " dense_109 (Dense)           (None, 128)               32896     \n",
            "                                                                 \n",
            " dense_110 (Dense)           (None, 64)                8256      \n",
            "                                                                 \n",
            " dense_111 (Dense)           (None, 32)                2080      \n",
            "                                                                 \n",
            " dense_112 (Dense)           (None, 64)                2112      \n",
            "                                                                 \n",
            " dense_113 (Dense)           (None, 128)               8320      \n",
            "                                                                 \n",
            " dense_114 (Dense)           (None, 256)               33024     \n",
            "                                                                 \n",
            " dense_115 (Dense)           (None, 784)               201488    \n",
            "                                                                 \n",
            "=================================================================\n",
            "Total params: 489136 (1.87 MB)\n",
            "Trainable params: 489136 (1.87 MB)\n",
            "Non-trainable params: 0 (0.00 Byte)\n",
            "_________________________________________________________________\n"
          ]
        }
      ],
      "source": [
        "model_linear2.summary()"
      ]
    },
    {
      "cell_type": "markdown",
      "metadata": {
        "id": "PWw8hLiFZtva"
      },
      "source": [
        "model_relu2 = output_activation=\"sigmoid\",hidden_activation=\"relu\"\n"
      ]
    },
    {
      "cell_type": "code",
      "execution_count": 44,
      "metadata": {
        "colab": {
          "base_uri": "https://localhost:8080/"
        },
        "id": "SCxVIJJjYW7u",
        "outputId": "6c53c4c1-9b71-4648-9673-2ffcfc1063b2"
      },
      "outputs": [
        {
          "name": "stdout",
          "output_type": "stream",
          "text": [
            "Epoch 1/10\n",
            "1875/1875 [==============================] - 13s 6ms/step - loss: 0.0799 - accuracy: 0.0099\n",
            "Epoch 2/10\n",
            "1875/1875 [==============================] - 10s 5ms/step - loss: 0.0626 - accuracy: 0.0119\n",
            "Epoch 3/10\n",
            "1875/1875 [==============================] - 10s 5ms/step - loss: 0.0588 - accuracy: 0.0117\n",
            "Epoch 4/10\n",
            "1875/1875 [==============================] - 11s 6ms/step - loss: 0.0566 - accuracy: 0.0116\n",
            "Epoch 5/10\n",
            "1875/1875 [==============================] - 10s 5ms/step - loss: 0.0549 - accuracy: 0.0125\n",
            "Epoch 6/10\n",
            "1875/1875 [==============================] - 10s 5ms/step - loss: 0.0535 - accuracy: 0.0127\n",
            "Epoch 7/10\n",
            "1875/1875 [==============================] - 11s 6ms/step - loss: 0.0520 - accuracy: 0.0126\n",
            "Epoch 8/10\n",
            "1875/1875 [==============================] - 10s 5ms/step - loss: 0.0513 - accuracy: 0.0135\n",
            "Epoch 9/10\n",
            "1875/1875 [==============================] - 10s 5ms/step - loss: 0.0505 - accuracy: 0.0124\n",
            "Epoch 10/10\n",
            "1875/1875 [==============================] - 10s 6ms/step - loss: 0.0500 - accuracy: 0.0127\n"
          ]
        },
        {
          "data": {
            "text/plain": [
              "<keras.src.callbacks.History at 0x7af49fbb86a0>"
            ]
          },
          "execution_count": 44,
          "metadata": {},
          "output_type": "execute_result"
        }
      ],
      "source": [
        "model_relu2.fit(train_images, train_images_flattened,  epochs=10)"
      ]
    },
    {
      "cell_type": "markdown",
      "metadata": {
        "id": "NmcYVE80Zzfs"
      },
      "source": [
        "model_linear3 =output_activation=\"linear\",hidden_activation=\"relu\""
      ]
    },
    {
      "cell_type": "code",
      "execution_count": 45,
      "metadata": {
        "colab": {
          "base_uri": "https://localhost:8080/"
        },
        "id": "Tk50ttMzYW47",
        "outputId": "85d1e572-a6e6-4297-dbbf-8897641142fc"
      },
      "outputs": [
        {
          "name": "stdout",
          "output_type": "stream",
          "text": [
            "Epoch 1/10\n",
            "1875/1875 [==============================] - 12s 5ms/step - loss: 0.0258 - accuracy: 0.0103\n",
            "Epoch 2/10\n",
            "1875/1875 [==============================] - 9s 5ms/step - loss: 0.0168 - accuracy: 0.0119\n",
            "Epoch 3/10\n",
            "1875/1875 [==============================] - 10s 6ms/step - loss: 0.0149 - accuracy: 0.0132\n",
            "Epoch 4/10\n",
            "1875/1875 [==============================] - 11s 6ms/step - loss: 0.0138 - accuracy: 0.0128\n",
            "Epoch 5/10\n",
            "1875/1875 [==============================] - 9s 5ms/step - loss: 0.0133 - accuracy: 0.0133\n",
            "Epoch 6/10\n",
            "1875/1875 [==============================] - 11s 6ms/step - loss: 0.0129 - accuracy: 0.0129\n",
            "Epoch 7/10\n",
            "1875/1875 [==============================] - 11s 6ms/step - loss: 0.0125 - accuracy: 0.0139\n",
            "Epoch 8/10\n",
            "1875/1875 [==============================] - 9s 5ms/step - loss: 0.0123 - accuracy: 0.0142\n",
            "Epoch 9/10\n",
            "1875/1875 [==============================] - 11s 6ms/step - loss: 0.0121 - accuracy: 0.0144\n",
            "Epoch 10/10\n",
            "1875/1875 [==============================] - 10s 6ms/step - loss: 0.0119 - accuracy: 0.0147\n"
          ]
        },
        {
          "data": {
            "text/plain": [
              "<keras.src.callbacks.History at 0x7af49f99b520>"
            ]
          },
          "execution_count": 45,
          "metadata": {},
          "output_type": "execute_result"
        }
      ],
      "source": [
        "model_linear3.fit(train_images, train_images_flattened,  epochs=10)"
      ]
    },
    {
      "cell_type": "markdown",
      "metadata": {
        "id": "pAp9S_msZ9KF"
      },
      "source": [
        "model_linear =output_activation=\"sigmoid\",hidden_activation=\"linear\"\n"
      ]
    },
    {
      "cell_type": "code",
      "execution_count": 46,
      "metadata": {
        "colab": {
          "base_uri": "https://localhost:8080/"
        },
        "id": "eV7LG_aNYW2K",
        "outputId": "a23b1a21-187c-476d-ef95-a1f0d64363ea"
      },
      "outputs": [
        {
          "name": "stdout",
          "output_type": "stream",
          "text": [
            "Epoch 1/10\n",
            "1875/1875 [==============================] - 14s 6ms/step - loss: 0.0211 - accuracy: 0.0113 - false_negatives: 3276159.0000 - false_positives: 91013.0000\n",
            "Epoch 2/10\n",
            "1875/1875 [==============================] - 10s 5ms/step - loss: 0.0179 - accuracy: 0.0116 - false_negatives: 3077425.0000 - false_positives: 55700.0000\n",
            "Epoch 3/10\n",
            "1875/1875 [==============================] - 11s 6ms/step - loss: 0.0179 - accuracy: 0.0115 - false_negatives: 3076821.0000 - false_positives: 55560.0000\n",
            "Epoch 4/10\n",
            "1875/1875 [==============================] - 11s 6ms/step - loss: 0.0178 - accuracy: 0.0114 - false_negatives: 3072115.0000 - false_positives: 55037.0000\n",
            "Epoch 5/10\n",
            "1875/1875 [==============================] - 10s 5ms/step - loss: 0.0178 - accuracy: 0.0112 - false_negatives: 3072070.0000 - false_positives: 54438.0000\n",
            "Epoch 6/10\n",
            "1875/1875 [==============================] - 10s 5ms/step - loss: 0.0177 - accuracy: 0.0110 - false_negatives: 3070031.0000 - false_positives: 54461.0000\n",
            "Epoch 7/10\n",
            "1875/1875 [==============================] - 12s 6ms/step - loss: 0.0177 - accuracy: 0.0113 - false_negatives: 3067167.0000 - false_positives: 54027.0000\n",
            "Epoch 8/10\n",
            "1875/1875 [==============================] - 11s 6ms/step - loss: 0.0176 - accuracy: 0.0114 - false_negatives: 3066646.0000 - false_positives: 53673.0000\n",
            "Epoch 9/10\n",
            "1875/1875 [==============================] - 10s 5ms/step - loss: 0.0176 - accuracy: 0.0117 - false_negatives: 3064630.0000 - false_positives: 53450.0000\n",
            "Epoch 10/10\n",
            "1875/1875 [==============================] - 11s 6ms/step - loss: 0.0176 - accuracy: 0.0118 - false_negatives: 3063258.0000 - false_positives: 53503.0000\n"
          ]
        },
        {
          "data": {
            "text/plain": [
              "<keras.src.callbacks.History at 0x7af499883a30>"
            ]
          },
          "execution_count": 46,
          "metadata": {},
          "output_type": "execute_result"
        }
      ],
      "source": [
        "model_linear.fit(train_images, train_images_flattened,  epochs=10)"
      ]
    },
    {
      "cell_type": "markdown",
      "metadata": {
        "id": "l09OlrEdaVfU"
      },
      "source": [
        "model_linear2 = output_activation=\"linear\",hidden_activation=\"sigmoid\""
      ]
    },
    {
      "cell_type": "code",
      "execution_count": 47,
      "metadata": {
        "colab": {
          "base_uri": "https://localhost:8080/"
        },
        "id": "fP0yHt7WYWz7",
        "outputId": "c4aa9eab-006f-424b-c5b3-6e123afb0b32"
      },
      "outputs": [
        {
          "name": "stdout",
          "output_type": "stream",
          "text": [
            "Epoch 1/10\n",
            "1875/1875 [==============================] - 13s 6ms/step - loss: 0.0651 - accuracy: 0.0103\n",
            "Epoch 2/10\n",
            "1875/1875 [==============================] - 10s 6ms/step - loss: 0.0548 - accuracy: 0.0165\n",
            "Epoch 3/10\n",
            "1875/1875 [==============================] - 9s 5ms/step - loss: 0.0511 - accuracy: 0.0160\n",
            "Epoch 4/10\n",
            "1875/1875 [==============================] - 11s 6ms/step - loss: 0.0485 - accuracy: 0.0163\n",
            "Epoch 5/10\n",
            "1875/1875 [==============================] - 10s 6ms/step - loss: 0.0462 - accuracy: 0.0154\n",
            "Epoch 6/10\n",
            "1875/1875 [==============================] - 9s 5ms/step - loss: 0.0432 - accuracy: 0.0139\n",
            "Epoch 7/10\n",
            "1875/1875 [==============================] - 11s 6ms/step - loss: 0.0418 - accuracy: 0.0130\n",
            "Epoch 8/10\n",
            "1875/1875 [==============================] - 10s 6ms/step - loss: 0.0406 - accuracy: 0.0136\n",
            "Epoch 9/10\n",
            "1875/1875 [==============================] - 10s 5ms/step - loss: 0.0395 - accuracy: 0.0131\n",
            "Epoch 10/10\n",
            "1875/1875 [==============================] - 11s 6ms/step - loss: 0.0382 - accuracy: 0.0132\n"
          ]
        },
        {
          "data": {
            "text/plain": [
              "<keras.src.callbacks.History at 0x7af49f981600>"
            ]
          },
          "execution_count": 47,
          "metadata": {},
          "output_type": "execute_result"
        }
      ],
      "source": [
        "model_linear2.fit(train_images, train_images_flattened,  epochs=10)"
      ]
    },
    {
      "cell_type": "markdown",
      "metadata": {
        "id": "28mqcWDOa5fV"
      },
      "source": [
        "model_relu = output_activation=\"sigmoid\",hidden_activation=\"relu\"\n"
      ]
    },
    {
      "cell_type": "code",
      "execution_count": 48,
      "metadata": {
        "colab": {
          "base_uri": "https://localhost:8080/"
        },
        "id": "30PhpeLYYWwt",
        "outputId": "88887018-49fe-46dd-871b-51ff2f98551b"
      },
      "outputs": [
        {
          "name": "stdout",
          "output_type": "stream",
          "text": [
            "Epoch 1/10\n",
            "1875/1875 [==============================] - 14s 6ms/step - loss: 0.0267 - accuracy: 0.0099 - false_negatives_3: 3676400.0000 - false_positives_3: 211180.0000\n",
            "Epoch 2/10\n",
            "1875/1875 [==============================] - 11s 6ms/step - loss: 0.0174 - accuracy: 0.0120 - false_negatives_3: 3135341.0000 - false_positives_3: 99529.0000\n",
            "Epoch 3/10\n",
            "1875/1875 [==============================] - 11s 6ms/step - loss: 0.0154 - accuracy: 0.0121 - false_negatives_3: 3056816.0000 - false_positives_3: 76268.0000\n",
            "Epoch 4/10\n",
            "1875/1875 [==============================] - 11s 6ms/step - loss: 0.0142 - accuracy: 0.0129 - false_negatives_3: 3014529.0000 - false_positives_3: 62677.0000\n",
            "Epoch 5/10\n",
            "1875/1875 [==============================] - 12s 6ms/step - loss: 0.0135 - accuracy: 0.0133 - false_negatives_3: 2990817.0000 - false_positives_3: 55216.0000\n",
            "Epoch 6/10\n",
            "1875/1875 [==============================] - 12s 6ms/step - loss: 0.0129 - accuracy: 0.0131 - false_negatives_3: 2972044.0000 - false_positives_3: 48753.0000\n",
            "Epoch 7/10\n",
            "1875/1875 [==============================] - 11s 6ms/step - loss: 0.0125 - accuracy: 0.0130 - false_negatives_3: 2957650.0000 - false_positives_3: 44921.0000\n",
            "Epoch 8/10\n",
            "1875/1875 [==============================] - 11s 6ms/step - loss: 0.0122 - accuracy: 0.0127 - false_negatives_3: 2949017.0000 - false_positives_3: 42724.0000\n",
            "Epoch 9/10\n",
            "1875/1875 [==============================] - 12s 6ms/step - loss: 0.0120 - accuracy: 0.0132 - false_negatives_3: 2940268.0000 - false_positives_3: 41416.0000\n",
            "Epoch 10/10\n",
            "1875/1875 [==============================] - 12s 6ms/step - loss: 0.0118 - accuracy: 0.0132 - false_negatives_3: 2932065.0000 - false_positives_3: 39936.0000\n"
          ]
        },
        {
          "data": {
            "text/plain": [
              "<keras.src.callbacks.History at 0x7af49f7492d0>"
            ]
          },
          "execution_count": 48,
          "metadata": {},
          "output_type": "execute_result"
        }
      ],
      "source": [
        "model_relu.fit(train_images, train_images_flattened,  epochs=10)"
      ]
    },
    {
      "cell_type": "markdown",
      "metadata": {
        "id": "rvtiuLqGbaOY"
      },
      "source": [
        "model_sigmoid = output_activation=\"sigmoid\",hidden_activation=\"sigmoid\"\n"
      ]
    },
    {
      "cell_type": "code",
      "execution_count": 49,
      "metadata": {
        "colab": {
          "base_uri": "https://localhost:8080/"
        },
        "id": "-u1b6OvGbVGR",
        "outputId": "8fcfa3c5-d94d-4021-f951-0084bca8a217"
      },
      "outputs": [
        {
          "name": "stdout",
          "output_type": "stream",
          "text": [
            "Epoch 1/10\n",
            "1875/1875 [==============================] - 14s 6ms/step - loss: 0.0654 - accuracy: 0.0104 - false_negatives_4: 7662156.0000 - false_positives_4: 519225.0000\n",
            "Epoch 2/10\n",
            "1875/1875 [==============================] - 11s 6ms/step - loss: 0.0549 - accuracy: 0.0154 - false_negatives_4: 5867688.0000 - false_positives_4: 770692.0000\n",
            "Epoch 3/10\n",
            "1875/1875 [==============================] - 11s 6ms/step - loss: 0.0483 - accuracy: 0.0127 - false_negatives_4: 4918503.0000 - false_positives_4: 815925.0000\n",
            "Epoch 4/10\n",
            "1875/1875 [==============================] - 12s 6ms/step - loss: 0.0431 - accuracy: 0.0148 - false_negatives_4: 4419510.0000 - false_positives_4: 745039.0000\n",
            "Epoch 5/10\n",
            "1875/1875 [==============================] - 12s 6ms/step - loss: 0.0409 - accuracy: 0.0154 - false_negatives_4: 4255122.0000 - false_positives_4: 695222.0000\n",
            "Epoch 6/10\n",
            "1875/1875 [==============================] - 11s 6ms/step - loss: 0.0397 - accuracy: 0.0147 - false_negatives_4: 4181614.0000 - false_positives_4: 666821.0000\n",
            "Epoch 7/10\n",
            "1875/1875 [==============================] - 11s 6ms/step - loss: 0.0389 - accuracy: 0.0142 - false_negatives_4: 4125619.0000 - false_positives_4: 647101.0000\n",
            "Epoch 8/10\n",
            "1875/1875 [==============================] - 12s 6ms/step - loss: 0.0382 - accuracy: 0.0135 - false_negatives_4: 4094128.0000 - false_positives_4: 632483.0000\n",
            "Epoch 9/10\n",
            "1875/1875 [==============================] - 12s 6ms/step - loss: 0.0378 - accuracy: 0.0132 - false_negatives_4: 4066829.0000 - false_positives_4: 619520.0000\n",
            "Epoch 10/10\n",
            "1875/1875 [==============================] - 11s 6ms/step - loss: 0.0375 - accuracy: 0.0127 - false_negatives_4: 4048737.0000 - false_positives_4: 615879.0000\n"
          ]
        },
        {
          "data": {
            "text/plain": [
              "<keras.src.callbacks.History at 0x7af3f366ac50>"
            ]
          },
          "execution_count": 49,
          "metadata": {},
          "output_type": "execute_result"
        }
      ],
      "source": [
        "model_sigmoid.fit(train_images, train_images_flattened,  epochs=10)"
      ]
    },
    {
      "cell_type": "markdown",
      "metadata": {
        "id": "NN_a86SGb7Fc"
      },
      "source": [
        "model_tanh = output_activation=\"sigmoid\",hidden_activation=\"tanh\"\n"
      ]
    },
    {
      "cell_type": "code",
      "execution_count": 50,
      "metadata": {
        "colab": {
          "base_uri": "https://localhost:8080/"
        },
        "id": "g_SMpf-HbVD-",
        "outputId": "7618e429-6162-4c45-f254-76d4b8f6b98a"
      },
      "outputs": [
        {
          "name": "stdout",
          "output_type": "stream",
          "text": [
            "Epoch 1/10\n",
            "1875/1875 [==============================] - 13s 6ms/step - loss: 0.0249 - accuracy: 0.0132 - false_negatives_1: 3226222.0000 - false_positives_1: 168248.0000\n",
            "Epoch 2/10\n",
            "1875/1875 [==============================] - 10s 5ms/step - loss: 0.0204 - accuracy: 0.0133 - false_negatives_1: 2975098.0000 - false_positives_1: 107440.0000\n",
            "Epoch 3/10\n",
            "1875/1875 [==============================] - 11s 6ms/step - loss: 0.0198 - accuracy: 0.0134 - false_negatives_1: 2996785.0000 - false_positives_1: 102970.0000\n",
            "Epoch 4/10\n",
            "1875/1875 [==============================] - 11s 6ms/step - loss: 0.0191 - accuracy: 0.0136 - false_negatives_1: 2983267.0000 - false_positives_1: 97657.0000\n",
            "Epoch 5/10\n",
            "1875/1875 [==============================] - 10s 5ms/step - loss: 0.0183 - accuracy: 0.0143 - false_negatives_1: 2955835.0000 - false_positives_1: 92043.0000\n",
            "Epoch 6/10\n",
            "1875/1875 [==============================] - 11s 6ms/step - loss: 0.0174 - accuracy: 0.0141 - false_negatives_1: 2914155.0000 - false_positives_1: 84321.0000\n",
            "Epoch 7/10\n",
            "1875/1875 [==============================] - 11s 6ms/step - loss: 0.0166 - accuracy: 0.0135 - false_negatives_1: 2878387.0000 - false_positives_1: 78007.0000\n",
            "Epoch 8/10\n",
            "1875/1875 [==============================] - 11s 6ms/step - loss: 0.0160 - accuracy: 0.0135 - false_negatives_1: 2853262.0000 - false_positives_1: 72961.0000\n",
            "Epoch 9/10\n",
            "1875/1875 [==============================] - 10s 5ms/step - loss: 0.0154 - accuracy: 0.0138 - false_negatives_1: 2836164.0000 - false_positives_1: 67812.0000\n",
            "Epoch 10/10\n",
            "1875/1875 [==============================] - 11s 6ms/step - loss: 0.0150 - accuracy: 0.0134 - false_negatives_1: 2821176.0000 - false_positives_1: 64214.0000\n"
          ]
        },
        {
          "data": {
            "text/plain": [
              "<keras.src.callbacks.History at 0x7af4a06c2290>"
            ]
          },
          "execution_count": 50,
          "metadata": {},
          "output_type": "execute_result"
        }
      ],
      "source": [
        "model_tanh.fit(train_images, train_images_flattened,  epochs=10)"
      ]
    },
    {
      "cell_type": "markdown",
      "metadata": {
        "id": "VVWUY46ncbn7"
      },
      "source": [
        "**Evaluation**\n"
      ]
    },
    {
      "cell_type": "code",
      "execution_count": 51,
      "metadata": {
        "id": "pHw4lwhQcbEY"
      },
      "outputs": [],
      "source": [
        "def evaluate_and_output_model(model, test_labels, test_images, reshape_matrix = [-1, 784], image_matrix=[10000,28,28], images_to_be_compared=6): #there are 10,000 images and hence image matrix is 10,000\n",
        "\n",
        "  #mnist dataset has 10 classes\n",
        "  class_names = ['0', '1', '2', '3', '4','5', '6', '7', '8', '9']\n",
        "\n",
        "  print(test_images.shape)\n",
        "\n",
        "  test_output_model = model.predict(test_images)\n",
        "\n",
        "  model_output_images = test_output_model.reshape(image_matrix)\n",
        "\n",
        "  print(model_output_images.shape)\n",
        "\n",
        "  plt.figure(figsize=(10,10))\n",
        "  j = -1\n",
        "\n",
        "  #plt.figure(figsize=(10,10)): Creating a new figure for the plot with a specified size of 10x10 inches.\n",
        "  #Looping through a range (25 times) to create subplots:\n",
        "    #If the current index is even, an original test image is plotted.\n",
        "    #If the current index is odd, the corresponding model-generated image is plotted.\n",
        "\n",
        "  for i in range(30):\n",
        "      plt.subplot(5,6,i+1)\n",
        "      plt.xticks([])\n",
        "      plt.yticks([])\n",
        "      plt.grid(False)\n",
        "      j = j+1\n",
        "      if(i%2 == 0):\n",
        "        plt.imshow(test_images[i+10], cmap=plt.cm.binary)\n",
        "      elif(j%2 == 1):\n",
        "\n",
        "        plt.imshow(model_output_images[j-1+10], cmap=\"Greys_r\")\n",
        "\n",
        "      #plt.xlabel(class_names[test_images[i]])\n",
        "  plt.show()\n"
      ]
    },
    {
      "cell_type": "code",
      "execution_count": 52,
      "metadata": {
        "colab": {
          "base_uri": "https://localhost:8080/",
          "height": 836
        },
        "id": "Ksi548V8bVBp",
        "outputId": "45c4c966-f381-41ed-b2e2-77ac905e586a"
      },
      "outputs": [
        {
          "name": "stdout",
          "output_type": "stream",
          "text": [
            "(10000, 28, 28)\n",
            "313/313 [==============================] - 1s 2ms/step\n",
            "(10000, 28, 28)\n"
          ]
        },
        {
          "data": {
            "image/png": "[encoded data removed]",
            "text/plain": [
              "<Figure size 1000x1000 with 30 Axes>"
            ]
          },
          "metadata": {},
          "output_type": "display_data"
        }
      ],
      "source": [
        "evaluate_and_output_model(model_relu2, test_labels, test_images)"
      ]
    },
    {
      "cell_type": "code",
      "execution_count": 53,
      "metadata": {
        "colab": {
          "base_uri": "https://localhost:8080/",
          "height": 836
        },
        "id": "5CNFqrxSbU_F",
        "outputId": "d35c974a-449c-4784-f902-50acd46f86c8"
      },
      "outputs": [
        {
          "name": "stdout",
          "output_type": "stream",
          "text": [
            "(10000, 28, 28)\n",
            "313/313 [==============================] - 1s 2ms/step\n",
            "(10000, 28, 28)\n"
          ]
        },
        {
          "data": {
            "image/png": "[encoded data removed]",
            "text/plain": [
              "<Figure size 1000x1000 with 30 Axes>"
            ]
          },
          "metadata": {},
          "output_type": "display_data"
        }
      ],
      "source": [
        "evaluate_and_output_model(model_linear3, test_labels, test_images)"
      ]
    },
    {
      "cell_type": "code",
      "execution_count": 54,
      "metadata": {
        "colab": {
          "base_uri": "https://localhost:8080/",
          "height": 836
        },
        "id": "UiIuZSEAbU85",
        "outputId": "89d3a927-f131-42a4-b9ab-6d8ea63655bb"
      },
      "outputs": [
        {
          "name": "stdout",
          "output_type": "stream",
          "text": [
            "(10000, 28, 28)\n",
            "313/313 [==============================] - 1s 2ms/step\n",
            "(10000, 28, 28)\n"
          ]
        },
        {
          "data": {
            "image/png": "[encoded data removed]",
            "text/plain": [
              "<Figure size 1000x1000 with 30 Axes>"
            ]
          },
          "metadata": {},
          "output_type": "display_data"
        }
      ],
      "source": [
        "evaluate_and_output_model(model_relu, test_labels, test_images)"
      ]
    },
    {
      "cell_type": "code",
      "execution_count": 55,
      "metadata": {
        "colab": {
          "base_uri": "https://localhost:8080/",
          "height": 836
        },
        "id": "bCvptEusbU6z",
        "outputId": "f0a537b6-70fb-49d5-eaf2-ecf23050a37b"
      },
      "outputs": [
        {
          "name": "stdout",
          "output_type": "stream",
          "text": [
            "(10000, 28, 28)\n",
            "313/313 [==============================] - 1s 2ms/step\n",
            "(10000, 28, 28)\n"
          ]
        },
        {
          "data": {
            "image/png": "[encoded data removed]",
            "text/plain": [
              "<Figure size 1000x1000 with 30 Axes>"
            ]
          },
          "metadata": {},
          "output_type": "display_data"
        }
      ],
      "source": [
        "evaluate_and_output_model(model_tanh, test_labels, test_images)"
      ]
    },
    {
      "cell_type": "markdown",
      "metadata": {
        "id": "_XdSHhCqtVoF"
      },
      "source": [
        "**Training the classifier of the relu autoencoder\n",
        "**"
      ]
    },
    {
      "cell_type": "code",
      "execution_count": 56,
      "metadata": {
        "id": "SsQaCj-UrI23"
      },
      "outputs": [],
      "source": [
        "model_relu2_classifier.compile(optimizer='adam',\n",
        "              loss=tf.keras.losses.MAE, #tf.keras.losses.SparseCategoricalCrossentropy(from_logits=True),\n",
        "              metrics=['accuracy'], run_eagerly=True)"
      ]
    },
    {
      "cell_type": "code",
      "execution_count": 57,
      "metadata": {
        "colab": {
          "base_uri": "https://localhost:8080/",
          "height": 926
        },
        "id": "9wA8MRK8rVqd",
        "outputId": "e8022a8e-8670-471d-ea31-2c6c9c0fc920"
      },
      "outputs": [
        {
          "name": "stdout",
          "output_type": "stream",
          "text": [
            "Epoch 1/10\n"
          ]
        },
        {
          "name": "stderr",
          "output_type": "stream",
          "text": [
            "WARNING:tensorflow:5 out of the last 5 calls to <function _BaseOptimizer._update_step_xla at 0x7af491246050> triggered tf.function retracing. Tracing is expensive and the excessive number of tracings could be due to (1) creating @tf.function repeatedly in a loop, (2) passing tensors with different shapes, (3) passing Python objects instead of tensors. For (1), please define your @tf.function outside of the loop. For (2), @tf.function has reduce_retracing=True option that can avoid unnecessary retracing. For (3), please refer to https://www.tensorflow.org/guide/function#controlling_retracing and https://www.tensorflow.org/api_docs/python/tf/function for  more details.\n",
            "WARNING:tensorflow:6 out of the last 6 calls to <function _BaseOptimizer._update_step_xla at 0x7af491246050> triggered tf.function retracing. Tracing is expensive and the excessive number of tracings could be due to (1) creating @tf.function repeatedly in a loop, (2) passing tensors with different shapes, (3) passing Python objects instead of tensors. For (1), please define your @tf.function outside of the loop. For (2), @tf.function has reduce_retracing=True option that can avoid unnecessary retracing. For (3), please refer to https://www.tensorflow.org/guide/function#controlling_retracing and https://www.tensorflow.org/api_docs/python/tf/function for  more details.\n"
          ]
        },
        {
          "name": "stdout",
          "output_type": "stream",
          "text": [
            "1875/1875 [==============================] - 65s 34ms/step - loss: 4.3737 - accuracy: 0.1003\n",
            "Epoch 2/10\n",
            "1875/1875 [==============================] - 63s 33ms/step - loss: 4.3737 - accuracy: 0.0970\n",
            "Epoch 3/10\n",
            "1875/1875 [==============================] - 63s 33ms/step - loss: 4.3737 - accuracy: 0.0903\n",
            "Epoch 4/10\n",
            "1875/1875 [==============================] - 64s 34ms/step - loss: 4.3737 - accuracy: 0.0821\n",
            "Epoch 5/10\n",
            "1875/1875 [==============================] - 62s 33ms/step - loss: 4.3737 - accuracy: 0.0738\n",
            "Epoch 6/10\n",
            "1875/1875 [==============================] - 62s 33ms/step - loss: 4.3737 - accuracy: 0.0662\n",
            "Epoch 7/10\n",
            "1875/1875 [==============================] - 62s 33ms/step - loss: 4.3737 - accuracy: 0.0629\n",
            "Epoch 8/10\n",
            "1875/1875 [==============================] - 63s 33ms/step - loss: 4.3737 - accuracy: 0.0612\n",
            "Epoch 9/10\n",
            "1875/1875 [==============================] - 62s 33ms/step - loss: 4.3737 - accuracy: 0.0584\n",
            "Epoch 10/10\n",
            "1875/1875 [==============================] - 62s 33ms/step - loss: 4.3737 - accuracy: 0.0593\n"
          ]
        },
        {
          "data": {
            "image/png": "[encoded data removed]",
            "text/plain": [
              "<Figure size 640x480 with 1 Axes>"
            ]
          },
          "metadata": {},
          "output_type": "display_data"
        },
        {
          "name": "stdout",
          "output_type": "stream",
          "text": [
            "313/313 [==============================] - 5s 15ms/step - loss: 4.3630 - accuracy: 0.0531\n",
            "Test Loss: 4.3629984855651855\n",
            "Test Accuracy: 0.05310000106692314\n"
          ]
        }
      ],
      "source": [
        "# Train the model and get the training history\n",
        "history = model_relu2_classifier.fit(train_images_flattened, train_labels, epochs=10)\n",
        "\n",
        "# Access the accuracy values from the history object\n",
        "train_accuracy = history.history['accuracy']\n",
        "\n",
        "# Plotting the training accuracy curve\n",
        "plt.plot(range(1, 11), train_accuracy, label='Training Accuracy')\n",
        "plt.xlabel('Epochs')\n",
        "plt.ylabel('Accuracy')\n",
        "plt.title('Training Accuracy Over Epochs')\n",
        "plt.legend()\n",
        "plt.show()\n",
        "\n",
        "# Evaluate the model on the test dataset\n",
        "test_loss, test_accuracy = model_relu2_classifier.evaluate(test_images_flattened, test_labels)\n",
        "\n",
        "print(f'Test Loss: {test_loss}')\n",
        "print(f'Test Accuracy: {test_accuracy}')"
      ]
    },
    {
      "cell_type": "markdown",
      "metadata": {
        "id": "S261h8OhcTfJ"
      },
      "source": [
        "building a normal mlp model"
      ]
    },
    {
      "cell_type": "code",
      "execution_count": 58,
      "metadata": {
        "id": "5JUjLSxibU4d"
      },
      "outputs": [],
      "source": [
        "model2 = keras.Sequential([\n",
        "    keras.layers.Dense(256, activation=\"relu\"),\n",
        "    keras.layers.Dense(128, activation=\"relu\"),\n",
        "    keras.layers.Dense(64, activation=\"relu\"),\n",
        "    keras.layers.Dense(32, activation=\"relu\"),\n",
        "    keras.layers.Dense(10, activation=\"sigmoid\")\n",
        "\n",
        "])\n"
      ]
    },
    {
      "cell_type": "code",
      "execution_count": 59,
      "metadata": {
        "id": "Cz-H7AM7bU2B"
      },
      "outputs": [],
      "source": [
        "model2.compile(optimizer='adam',\n",
        "               loss=tf.keras.losses.SparseCategoricalCrossentropy(from_logits=True),\n",
        "               metrics=['accuracy'], run_eagerly=True)\n"
      ]
    },
    {
      "cell_type": "code",
      "execution_count": 60,
      "metadata": {
        "colab": {
          "base_uri": "https://localhost:8080/",
          "height": 926
        },
        "id": "6qqD3t6lbUzf",
        "outputId": "647aeefd-5d4d-4c04-d9e5-1166b97e9b72"
      },
      "outputs": [
        {
          "name": "stdout",
          "output_type": "stream",
          "text": [
            "Epoch 1/10\n"
          ]
        },
        {
          "name": "stderr",
          "output_type": "stream",
          "text": [
            "/usr/local/lib/python3.10/dist-packages/keras/src/backend.py:5727: UserWarning: \"`sparse_categorical_crossentropy` received `from_logits=True`, but the `output` argument was produced by a Softmax activation and thus does not represent logits. Was this intended?\n",
            "  output, from_logits = _get_logits(\n"
          ]
        },
        {
          "name": "stdout",
          "output_type": "stream",
          "text": [
            "1875/1875 [==============================] - 62s 33ms/step - loss: 0.2403 - accuracy: 0.9268\n",
            "Epoch 2/10\n",
            "1875/1875 [==============================] - 61s 33ms/step - loss: 0.0986 - accuracy: 0.9702\n",
            "Epoch 3/10\n",
            "1875/1875 [==============================] - 62s 33ms/step - loss: 0.0715 - accuracy: 0.9777\n",
            "Epoch 4/10\n",
            "1875/1875 [==============================] - 60s 32ms/step - loss: 0.0548 - accuracy: 0.9826\n",
            "Epoch 5/10\n",
            "1875/1875 [==============================] - 60s 32ms/step - loss: 0.0446 - accuracy: 0.9862\n",
            "Epoch 6/10\n",
            "1875/1875 [==============================] - 60s 32ms/step - loss: 0.0362 - accuracy: 0.9881\n",
            "Epoch 7/10\n",
            "1875/1875 [==============================] - 61s 32ms/step - loss: 0.0328 - accuracy: 0.9896\n",
            "Epoch 8/10\n",
            "1875/1875 [==============================] - 60s 32ms/step - loss: 0.0271 - accuracy: 0.9913\n",
            "Epoch 9/10\n",
            "1875/1875 [==============================] - 61s 33ms/step - loss: 0.0247 - accuracy: 0.9923\n",
            "Epoch 10/10\n",
            "1875/1875 [==============================] - 61s 33ms/step - loss: 0.0223 - accuracy: 0.9931\n"
          ]
        },
        {
          "data": {
            "image/png": "[encoded data removed]",
            "text/plain": [
              "<Figure size 640x480 with 1 Axes>"
            ]
          },
          "metadata": {},
          "output_type": "display_data"
        },
        {
          "name": "stdout",
          "output_type": "stream",
          "text": [
            "313/313 [==============================] - 5s 15ms/step - loss: 0.0932 - accuracy: 0.9792\n",
            "Test Loss: 0.0931796133518219\n",
            "Test Accuracy: 0.979200005531311\n"
          ]
        }
      ],
      "source": [
        "# Train the model and get the training history\n",
        "history = model2.fit(train_images_flattened, train_labels, epochs=10)\n",
        "\n",
        "# Access the accuracy values from the history object\n",
        "train_accuracy = history.history['accuracy']\n",
        "\n",
        "# Plotting the training accuracy curve\n",
        "plt.plot(range(1, 11), train_accuracy, label='Training Accuracy')\n",
        "plt.xlabel('Epochs')\n",
        "plt.ylabel('Accuracy')\n",
        "plt.title('Training Accuracy Over Epochs')\n",
        "plt.legend()\n",
        "plt.show()\n",
        "\n",
        "# Evaluate the model on the test dataset\n",
        "test_loss, test_accuracy = model2.evaluate(test_images_flattened, test_labels)\n",
        "\n",
        "print(f'Test Loss: {test_loss}')\n",
        "print(f'Test Accuracy: {test_accuracy}')\n"
      ]
    },
    {
      "cell_type": "code",
      "execution_count": 61,
      "metadata": {
        "colab": {
          "base_uri": "https://localhost:8080/"
        },
        "id": "wu1Dkz8NbUvY",
        "outputId": "2fba10f7-def8-40c9-c2a4-b20402692b60"
      },
      "outputs": [
        {
          "name": "stdout",
          "output_type": "stream",
          "text": [
            "313/313 [==============================] - 2s 5ms/step\n",
            "313/313 [==============================] - 2s 6ms/step\n"
          ]
        }
      ],
      "source": [
        "test_output_model2 = model2.predict(test_images.reshape([-1, 784]),)\n",
        "test_output_model = model_relu2_classifier.predict(test_images.reshape([-1, 784]),)\n"
      ]
    },
    {
      "cell_type": "code",
      "execution_count": 62,
      "metadata": {
        "colab": {
          "base_uri": "https://localhost:8080/"
        },
        "id": "KAuutDnMhp6n",
        "outputId": "81e0cd87-c020-4e05-91de-9ab0b3c213c5"
      },
      "outputs": [
        {
          "name": "stdout",
          "output_type": "stream",
          "text": [
            "313/313 - 5s - loss: 0.0932 - accuracy: 0.9792 - 5s/epoch - 16ms/step\n",
            "\n",
            "  Relu Test accuracy: 0.979200005531311 test loss: 0.0931796133518219\n",
            "\n",
            "313/313 - 4s - loss: 4.3630 - accuracy: 0.0531 - 4s/epoch - 12ms/step\n",
            "\n",
            " Sigmoid Test accuracy: 0.05310000106692314 test loss: 4.3629984855651855\n"
          ]
        }
      ],
      "source": [
        "test_loss, test_acc = model2.evaluate(test_images_flattened,  test_labels, verbose=2)\n",
        "\n",
        "print('\\n  Relu Test accuracy:', str(test_acc) + \" test loss: \" + str(test_loss) + \"\\n\")\n",
        "\n",
        "test_loss, test_acc = model_relu2_classifier.evaluate(test_images_flattened,  test_labels, verbose=2)\n",
        "\n",
        "print('\\n Sigmoid Test accuracy:', str(test_acc) + \" test loss: \" + str(test_loss))"
      ]
    },
    {
      "cell_type": "markdown",
      "metadata": {
        "id": "TVhjoARvls0t"
      },
      "source": [
        "**Convolution Autoencoder**"
      ]
    },
    {
      "cell_type": "code",
      "execution_count": 63,
      "metadata": {
        "id": "nw1grgpbhp3V"
      },
      "outputs": [],
      "source": [
        "mnist = tf.keras.datasets.mnist\n",
        "(train_images_raw, train_labels_raw), (test_images_raw, test_labels_raw) = mnist.load_data()\n",
        "\n",
        "train_data = tf.data.Dataset.from_tensor_slices(( train_images_raw.astype(np.float32)/255.0, train_images_raw.astype(np.float32)/255.0 ))\n",
        "\n",
        "train_data = train_data.shuffle(buffer_size = train_images_raw.shape[0]).batch(32)\n",
        "\n",
        "#test_data = tf.data.Dataset.from_tensor_slices(( test_images_raw.astype(np.float32)/255.0, test_labels_raw.astype(np.int32) ))\n",
        "test_data = tf.data.Dataset.from_tensor_slices(( test_images_raw.astype(np.float32)/255.0,  test_images_raw.astype(np.float32)/255.0 ))\n",
        "test_data = test_data.batch(32)"
      ]
    },
    {
      "cell_type": "code",
      "execution_count": 64,
      "metadata": {
        "colab": {
          "base_uri": "https://localhost:8080/"
        },
        "id": "1wMLm0JrJvTA",
        "outputId": "bae3fb12-2563-4077-b25b-c25442e4b660"
      },
      "outputs": [
        {
          "name": "stdout",
          "output_type": "stream",
          "text": [
            "(28, 28, 1)\n",
            "(60000, 28, 28)\n"
          ]
        }
      ],
      "source": [
        "input_shape = (train_images_raw.shape[1], train_images_raw.shape[2], 1)\n",
        "print(input_shape)\n",
        "print(train_images_raw.shape)"
      ]
    },
    {
      "cell_type": "code",
      "execution_count": 65,
      "metadata": {
        "id": "C1uO-W5qJ0qG"
      },
      "outputs": [],
      "source": [
        "def create_conv_autoencoder_model(encoder_layer_dims=[32,64,128], compression_layer_dim=64, decoder_layer_dims=[32, 16, 1], input_shape=(28,28,1), ks=3,\n",
        "                  batch_norm_flag=True, dense_latent_rep_flag=False, upsampling_flag = False):\n",
        "  model = models.Sequential()\n",
        "\n",
        "  #Build encoder part, add batch norm after encoder if batch norm flag is set to true\n",
        "  conv_enc_base_name = \"conv_enc_\"\n",
        "  conv_cmprsn_base_name = \"conv_compress_dims\"\n",
        "  conv_dec_base_name = \"conv_dec_\"\n",
        "  for i in range (len(encoder_layer_dims)):\n",
        "    #For first layer we need to specify shape\n",
        "    if(i == 0):\n",
        "      model.add(layers.Conv2D(filters = encoder_layer_dims[i], kernel_size=(ks, ks),  padding = \"same\",\n",
        "                              activation=tf.nn.relu, name = conv_enc_base_name + str(i), input_shape = input_shape))\n",
        "      if(batch_norm_flag):\n",
        "        model.add(layers.BatchNormalization())\n",
        "\n",
        "      model.add(layers.MaxPool2D(pool_size=(2,2)))\n",
        "    else:\n",
        "      model.add(layers.Conv2D(filters = encoder_layer_dims[i], kernel_size=(ks, ks),  padding = \"same\",\n",
        "                              activation=tf.nn.relu, name = conv_enc_base_name + str(i)))\n",
        "\n",
        "      if(batch_norm_flag):\n",
        "        model.add(layers.BatchNormalization())\n",
        "\n",
        "      model.add(layers.MaxPool2D(pool_size=(2,2)))\n",
        "\n",
        "  print(\"Encoder has been built, checking for compression flag\")\n",
        "\n",
        "  #latent space rep\n",
        "  model.add(layers.Conv2D(filters = compression_layer_dim, kernel_size=(1, 1),  padding = \"same\", activation = tf.nn.relu, name = conv_cmprsn_base_name))\n",
        "\n",
        "  #Build Decoder , add batch norm before adding conv transpose, Use sigmoid at final layer and relu for others\n",
        "  if(upsampling_flag == False):\n",
        "    for i in range (len(decoder_layer_dims)):\n",
        "      if(i == 0):\n",
        "        if(batch_norm_flag):\n",
        "          model.add(layers.BatchNormalization())\n",
        "\n",
        "        model.add(layers.Conv2DTranspose(filters = decoder_layer_dims[i], kernel_size=(ks, ks),  strides=(2,2), padding = \"valid\",\n",
        "                                  activation=tf.nn.relu, name = conv_dec_base_name + str(i)))\n",
        "\n",
        "      elif(i < len(decoder_layer_dims)-1 and i > 0):\n",
        "\n",
        "        if(batch_norm_flag):\n",
        "          model.add(layers.BatchNormalization())\n",
        "\n",
        "        model.add(layers.Conv2DTranspose(filters = decoder_layer_dims[i], kernel_size=(ks, ks),  strides=(2,2), padding = \"same\",\n",
        "                                  activation=tf.nn.relu, name = conv_dec_base_name + str(i)))\n",
        "      else:\n",
        "        if(batch_norm_flag):\n",
        "          model.add(layers.BatchNormalization())\n",
        "\n",
        "        model.add(layers.Conv2DTranspose(filters = decoder_layer_dims[i], kernel_size=(ks, ks), strides=(2,2), padding = \"same\",\n",
        "                                  activation=tf.nn.sigmoid, name = conv_dec_base_name + str(i)))\n",
        "\n",
        "  elif(upsampling_flag == True):\n",
        "      print(\"Upscaling with convolution choosen\")\n",
        "      for i in range (len(decoder_layer_dims)):\n",
        "        if(i == 0):\n",
        "          model.add(layers.UpSampling2D(size=(3, 3)))\n",
        "          if(batch_norm_flag):\n",
        "            model.add(layers.BatchNormalization())\n",
        "\n",
        "          model.add(layers.Conv2D(filters = decoder_layer_dims[i], kernel_size=(ks, ks), padding = \"valid\", activation=tf.nn.relu, name = conv_dec_base_name + str(i)))\n",
        "          model.add(layers.UpSampling2D())\n",
        "\n",
        "        elif(i < len(decoder_layer_dims)-1 and i > 0):\n",
        "\n",
        "          if(batch_norm_flag):\n",
        "            model.add(layers.BatchNormalization())\n",
        "\n",
        "          model.add(layers.Conv2D(filters = decoder_layer_dims[i], kernel_size=(ks, ks), padding = \"same\", activation=tf.nn.relu, name = conv_dec_base_name + str(i)))\n",
        "          model.add(layers.UpSampling2D())\n",
        "        else:\n",
        "          if(batch_norm_flag):\n",
        "            model.add(layers.BatchNormalization())\n",
        "\n",
        "          model.add(layers.Conv2D(filters = decoder_layer_dims[i], kernel_size=(ks, ks),  padding = \"same\", activation=tf.nn.sigmoid, name = conv_dec_base_name + str(i)))\n",
        "\n",
        "  print(\"Model has been built, printing summary\")\n",
        "\n",
        "  print(model.summary())\n",
        "  return model;\n",
        "\n"
      ]
    },
    {
      "cell_type": "code",
      "execution_count": 66,
      "metadata": {
        "colab": {
          "base_uri": "https://localhost:8080/"
        },
        "id": "WE4W4kX8MKmD",
        "outputId": "55c6d43b-c9d4-4c95-dd0e-b17fb5bb0bff"
      },
      "outputs": [
        {
          "name": "stdout",
          "output_type": "stream",
          "text": [
            "Encoder has been built, checking for compression flag\n",
            "Upscaling with convolution choosen\n",
            "Model has been built, printing summary\n",
            "Model: \"sequential_46\"\n",
            "_________________________________________________________________\n",
            " Layer (type)                Output Shape              Param #   \n",
            "=================================================================\n",
            " conv_enc_0 (Conv2D)         (None, 28, 28, 32)        320       \n",
            "                                                                 \n",
            " batch_normalization (Batch  (None, 28, 28, 32)        128       \n",
            " Normalization)                                                  \n",
            "                                                                 \n",
            " max_pooling2d (MaxPooling2  (None, 14, 14, 32)        0         \n",
            " D)                                                              \n",
            "                                                                 \n",
            " conv_enc_1 (Conv2D)         (None, 14, 14, 64)        18496     \n",
            "                                                                 \n",
            " batch_normalization_1 (Bat  (None, 14, 14, 64)        256       \n",
            " chNormalization)                                                \n",
            "                                                                 \n",
            " max_pooling2d_1 (MaxPoolin  (None, 7, 7, 64)          0         \n",
            " g2D)                                                            \n",
            "                                                                 \n",
            " conv_enc_2 (Conv2D)         (None, 7, 7, 128)         73856     \n",
            "                                                                 \n",
            " batch_normalization_2 (Bat  (None, 7, 7, 128)         512       \n",
            " chNormalization)                                                \n",
            "                                                                 \n",
            " max_pooling2d_2 (MaxPoolin  (None, 3, 3, 128)         0         \n",
            " g2D)                                                            \n",
            "                                                                 \n",
            " conv_compress_dims (Conv2D  (None, 3, 3, 64)          8256      \n",
            " )                                                               \n",
            "                                                                 \n",
            " up_sampling2d (UpSampling2  (None, 9, 9, 64)          0         \n",
            " D)                                                              \n",
            "                                                                 \n",
            " batch_normalization_3 (Bat  (None, 9, 9, 64)          256       \n",
            " chNormalization)                                                \n",
            "                                                                 \n",
            " conv_dec_0 (Conv2D)         (None, 7, 7, 32)          18464     \n",
            "                                                                 \n",
            " up_sampling2d_1 (UpSamplin  (None, 14, 14, 32)        0         \n",
            " g2D)                                                            \n",
            "                                                                 \n",
            " batch_normalization_4 (Bat  (None, 14, 14, 32)        128       \n",
            " chNormalization)                                                \n",
            "                                                                 \n",
            " conv_dec_1 (Conv2D)         (None, 14, 14, 16)        4624      \n",
            "                                                                 \n",
            " up_sampling2d_2 (UpSamplin  (None, 28, 28, 16)        0         \n",
            " g2D)                                                            \n",
            "                                                                 \n",
            " batch_normalization_5 (Bat  (None, 28, 28, 16)        64        \n",
            " chNormalization)                                                \n",
            "                                                                 \n",
            " conv_dec_2 (Conv2D)         (None, 28, 28, 1)         145       \n",
            "                                                                 \n",
            "=================================================================\n",
            "Total params: 125505 (490.25 KB)\n",
            "Trainable params: 124833 (487.63 KB)\n",
            "Non-trainable params: 672 (2.62 KB)\n",
            "_________________________________________________________________\n",
            "None\n",
            "Model: \"sequential_46\"\n",
            "_________________________________________________________________\n",
            " Layer (type)                Output Shape              Param #   \n",
            "=================================================================\n",
            " conv_enc_0 (Conv2D)         (None, 28, 28, 32)        320       \n",
            "                                                                 \n",
            " batch_normalization (Batch  (None, 28, 28, 32)        128       \n",
            " Normalization)                                                  \n",
            "                                                                 \n",
            " max_pooling2d (MaxPooling2  (None, 14, 14, 32)        0         \n",
            " D)                                                              \n",
            "                                                                 \n",
            " conv_enc_1 (Conv2D)         (None, 14, 14, 64)        18496     \n",
            "                                                                 \n",
            " batch_normalization_1 (Bat  (None, 14, 14, 64)        256       \n",
            " chNormalization)                                                \n",
            "                                                                 \n",
            " max_pooling2d_1 (MaxPoolin  (None, 7, 7, 64)          0         \n",
            " g2D)                                                            \n",
            "                                                                 \n",
            " conv_enc_2 (Conv2D)         (None, 7, 7, 128)         73856     \n",
            "                                                                 \n",
            " batch_normalization_2 (Bat  (None, 7, 7, 128)         512       \n",
            " chNormalization)                                                \n",
            "                                                                 \n",
            " max_pooling2d_2 (MaxPoolin  (None, 3, 3, 128)         0         \n",
            " g2D)                                                            \n",
            "                                                                 \n",
            " conv_compress_dims (Conv2D  (None, 3, 3, 64)          8256      \n",
            " )                                                               \n",
            "                                                                 \n",
            " up_sampling2d (UpSampling2  (None, 9, 9, 64)          0         \n",
            " D)                                                              \n",
            "                                                                 \n",
            " batch_normalization_3 (Bat  (None, 9, 9, 64)          256       \n",
            " chNormalization)                                                \n",
            "                                                                 \n",
            " conv_dec_0 (Conv2D)         (None, 7, 7, 32)          18464     \n",
            "                                                                 \n",
            " up_sampling2d_1 (UpSamplin  (None, 14, 14, 32)        0         \n",
            " g2D)                                                            \n",
            "                                                                 \n",
            " batch_normalization_4 (Bat  (None, 14, 14, 32)        128       \n",
            " chNormalization)                                                \n",
            "                                                                 \n",
            " conv_dec_1 (Conv2D)         (None, 14, 14, 16)        4624      \n",
            "                                                                 \n",
            " up_sampling2d_2 (UpSamplin  (None, 28, 28, 16)        0         \n",
            " g2D)                                                            \n",
            "                                                                 \n",
            " batch_normalization_5 (Bat  (None, 28, 28, 16)        64        \n",
            " chNormalization)                                                \n",
            "                                                                 \n",
            " conv_dec_2 (Conv2D)         (None, 28, 28, 1)         145       \n",
            "                                                                 \n",
            "=================================================================\n",
            "Total params: 125505 (490.25 KB)\n",
            "Trainable params: 124833 (487.63 KB)\n",
            "Non-trainable params: 672 (2.62 KB)\n",
            "_________________________________________________________________\n"
          ]
        }
      ],
      "source": [
        "conv_model_with_upsampling = create_conv_autoencoder_model(upsampling_flag=True)\n",
        "conv_model_with_upsampling.summary()"
      ]
    },
    {
      "cell_type": "code",
      "execution_count": 67,
      "metadata": {
        "colab": {
          "base_uri": "https://localhost:8080/"
        },
        "id": "0MQAXir7MuqW",
        "outputId": "6650e134-7c3c-40dd-cfcf-6f4e3c4b0318"
      },
      "outputs": [
        {
          "name": "stdout",
          "output_type": "stream",
          "text": [
            "Encoder has been built, checking for compression flag\n",
            "Model has been built, printing summary\n",
            "Model: \"sequential_47\"\n",
            "_________________________________________________________________\n",
            " Layer (type)                Output Shape              Param #   \n",
            "=================================================================\n",
            " conv_enc_0 (Conv2D)         (None, 28, 28, 32)        320       \n",
            "                                                                 \n",
            " batch_normalization_6 (Bat  (None, 28, 28, 32)        128       \n",
            " chNormalization)                                                \n",
            "                                                                 \n",
            " max_pooling2d_3 (MaxPoolin  (None, 14, 14, 32)        0         \n",
            " g2D)                                                            \n",
            "                                                                 \n",
            " conv_enc_1 (Conv2D)         (None, 14, 14, 64)        18496     \n",
            "                                                                 \n",
            " batch_normalization_7 (Bat  (None, 14, 14, 64)        256       \n",
            " chNormalization)                                                \n",
            "                                                                 \n",
            " max_pooling2d_4 (MaxPoolin  (None, 7, 7, 64)          0         \n",
            " g2D)                                                            \n",
            "                                                                 \n",
            " conv_enc_2 (Conv2D)         (None, 7, 7, 128)         73856     \n",
            "                                                                 \n",
            " batch_normalization_8 (Bat  (None, 7, 7, 128)         512       \n",
            " chNormalization)                                                \n",
            "                                                                 \n",
            " max_pooling2d_5 (MaxPoolin  (None, 3, 3, 128)         0         \n",
            " g2D)                                                            \n",
            "                                                                 \n",
            " conv_compress_dims (Conv2D  (None, 3, 3, 64)          8256      \n",
            " )                                                               \n",
            "                                                                 \n",
            " batch_normalization_9 (Bat  (None, 3, 3, 64)          256       \n",
            " chNormalization)                                                \n",
            "                                                                 \n",
            " conv_dec_0 (Conv2DTranspos  (None, 7, 7, 32)          18464     \n",
            " e)                                                              \n",
            "                                                                 \n",
            " batch_normalization_10 (Ba  (None, 7, 7, 32)          128       \n",
            " tchNormalization)                                               \n",
            "                                                                 \n",
            " conv_dec_1 (Conv2DTranspos  (None, 14, 14, 16)        4624      \n",
            " e)                                                              \n",
            "                                                                 \n",
            " batch_normalization_11 (Ba  (None, 14, 14, 16)        64        \n",
            " tchNormalization)                                               \n",
            "                                                                 \n",
            " conv_dec_2 (Conv2DTranspos  (None, 28, 28, 1)         145       \n",
            " e)                                                              \n",
            "                                                                 \n",
            "=================================================================\n",
            "Total params: 125505 (490.25 KB)\n",
            "Trainable params: 124833 (487.63 KB)\n",
            "Non-trainable params: 672 (2.62 KB)\n",
            "_________________________________________________________________\n",
            "None\n",
            "Model: \"sequential_47\"\n",
            "_________________________________________________________________\n",
            " Layer (type)                Output Shape              Param #   \n",
            "=================================================================\n",
            " conv_enc_0 (Conv2D)         (None, 28, 28, 32)        320       \n",
            "                                                                 \n",
            " batch_normalization_6 (Bat  (None, 28, 28, 32)        128       \n",
            " chNormalization)                                                \n",
            "                                                                 \n",
            " max_pooling2d_3 (MaxPoolin  (None, 14, 14, 32)        0         \n",
            " g2D)                                                            \n",
            "                                                                 \n",
            " conv_enc_1 (Conv2D)         (None, 14, 14, 64)        18496     \n",
            "                                                                 \n",
            " batch_normalization_7 (Bat  (None, 14, 14, 64)        256       \n",
            " chNormalization)                                                \n",
            "                                                                 \n",
            " max_pooling2d_4 (MaxPoolin  (None, 7, 7, 64)          0         \n",
            " g2D)                                                            \n",
            "                                                                 \n",
            " conv_enc_2 (Conv2D)         (None, 7, 7, 128)         73856     \n",
            "                                                                 \n",
            " batch_normalization_8 (Bat  (None, 7, 7, 128)         512       \n",
            " chNormalization)                                                \n",
            "                                                                 \n",
            " max_pooling2d_5 (MaxPoolin  (None, 3, 3, 128)         0         \n",
            " g2D)                                                            \n",
            "                                                                 \n",
            " conv_compress_dims (Conv2D  (None, 3, 3, 64)          8256      \n",
            " )                                                               \n",
            "                                                                 \n",
            " batch_normalization_9 (Bat  (None, 3, 3, 64)          256       \n",
            " chNormalization)                                                \n",
            "                                                                 \n",
            " conv_dec_0 (Conv2DTranspos  (None, 7, 7, 32)          18464     \n",
            " e)                                                              \n",
            "                                                                 \n",
            " batch_normalization_10 (Ba  (None, 7, 7, 32)          128       \n",
            " tchNormalization)                                               \n",
            "                                                                 \n",
            " conv_dec_1 (Conv2DTranspos  (None, 14, 14, 16)        4624      \n",
            " e)                                                              \n",
            "                                                                 \n",
            " batch_normalization_11 (Ba  (None, 14, 14, 16)        64        \n",
            " tchNormalization)                                               \n",
            "                                                                 \n",
            " conv_dec_2 (Conv2DTranspos  (None, 28, 28, 1)         145       \n",
            " e)                                                              \n",
            "                                                                 \n",
            "=================================================================\n",
            "Total params: 125505 (490.25 KB)\n",
            "Trainable params: 124833 (487.63 KB)\n",
            "Non-trainable params: 672 (2.62 KB)\n",
            "_________________________________________________________________\n"
          ]
        }
      ],
      "source": [
        "conv_model_with_fc = create_conv_autoencoder_model(dense_latent_rep_flag=True)\n",
        "conv_model_with_fc.summary()"
      ]
    },
    {
      "cell_type": "code",
      "execution_count": 68,
      "metadata": {
        "colab": {
          "base_uri": "https://localhost:8080/"
        },
        "id": "XoqwOx8uMz_w",
        "outputId": "7e935502-9ee9-43b3-8b0d-dea91eed6507"
      },
      "outputs": [
        {
          "name": "stdout",
          "output_type": "stream",
          "text": [
            "Encoder has been built, checking for compression flag\n",
            "Model has been built, printing summary\n",
            "Model: \"sequential_48\"\n",
            "_________________________________________________________________\n",
            " Layer (type)                Output Shape              Param #   \n",
            "=================================================================\n",
            " conv_enc_0 (Conv2D)         (None, 28, 28, 32)        320       \n",
            "                                                                 \n",
            " batch_normalization_12 (Ba  (None, 28, 28, 32)        128       \n",
            " tchNormalization)                                               \n",
            "                                                                 \n",
            " max_pooling2d_6 (MaxPoolin  (None, 14, 14, 32)        0         \n",
            " g2D)                                                            \n",
            "                                                                 \n",
            " conv_enc_1 (Conv2D)         (None, 14, 14, 64)        18496     \n",
            "                                                                 \n",
            " batch_normalization_13 (Ba  (None, 14, 14, 64)        256       \n",
            " tchNormalization)                                               \n",
            "                                                                 \n",
            " max_pooling2d_7 (MaxPoolin  (None, 7, 7, 64)          0         \n",
            " g2D)                                                            \n",
            "                                                                 \n",
            " conv_enc_2 (Conv2D)         (None, 7, 7, 128)         73856     \n",
            "                                                                 \n",
            " batch_normalization_14 (Ba  (None, 7, 7, 128)         512       \n",
            " tchNormalization)                                               \n",
            "                                                                 \n",
            " max_pooling2d_8 (MaxPoolin  (None, 3, 3, 128)         0         \n",
            " g2D)                                                            \n",
            "                                                                 \n",
            " conv_compress_dims (Conv2D  (None, 3, 3, 64)          8256      \n",
            " )                                                               \n",
            "                                                                 \n",
            " batch_normalization_15 (Ba  (None, 3, 3, 64)          256       \n",
            " tchNormalization)                                               \n",
            "                                                                 \n",
            " conv_dec_0 (Conv2DTranspos  (None, 7, 7, 32)          18464     \n",
            " e)                                                              \n",
            "                                                                 \n",
            " batch_normalization_16 (Ba  (None, 7, 7, 32)          128       \n",
            " tchNormalization)                                               \n",
            "                                                                 \n",
            " conv_dec_1 (Conv2DTranspos  (None, 14, 14, 16)        4624      \n",
            " e)                                                              \n",
            "                                                                 \n",
            " batch_normalization_17 (Ba  (None, 14, 14, 16)        64        \n",
            " tchNormalization)                                               \n",
            "                                                                 \n",
            " conv_dec_2 (Conv2DTranspos  (None, 28, 28, 1)         145       \n",
            " e)                                                              \n",
            "                                                                 \n",
            "=================================================================\n",
            "Total params: 125505 (490.25 KB)\n",
            "Trainable params: 124833 (487.63 KB)\n",
            "Non-trainable params: 672 (2.62 KB)\n",
            "_________________________________________________________________\n",
            "None\n",
            "Model: \"sequential_48\"\n",
            "_________________________________________________________________\n",
            " Layer (type)                Output Shape              Param #   \n",
            "=================================================================\n",
            " conv_enc_0 (Conv2D)         (None, 28, 28, 32)        320       \n",
            "                                                                 \n",
            " batch_normalization_12 (Ba  (None, 28, 28, 32)        128       \n",
            " tchNormalization)                                               \n",
            "                                                                 \n",
            " max_pooling2d_6 (MaxPoolin  (None, 14, 14, 32)        0         \n",
            " g2D)                                                            \n",
            "                                                                 \n",
            " conv_enc_1 (Conv2D)         (None, 14, 14, 64)        18496     \n",
            "                                                                 \n",
            " batch_normalization_13 (Ba  (None, 14, 14, 64)        256       \n",
            " tchNormalization)                                               \n",
            "                                                                 \n",
            " max_pooling2d_7 (MaxPoolin  (None, 7, 7, 64)          0         \n",
            " g2D)                                                            \n",
            "                                                                 \n",
            " conv_enc_2 (Conv2D)         (None, 7, 7, 128)         73856     \n",
            "                                                                 \n",
            " batch_normalization_14 (Ba  (None, 7, 7, 128)         512       \n",
            " tchNormalization)                                               \n",
            "                                                                 \n",
            " max_pooling2d_8 (MaxPoolin  (None, 3, 3, 128)         0         \n",
            " g2D)                                                            \n",
            "                                                                 \n",
            " conv_compress_dims (Conv2D  (None, 3, 3, 64)          8256      \n",
            " )                                                               \n",
            "                                                                 \n",
            " batch_normalization_15 (Ba  (None, 3, 3, 64)          256       \n",
            " tchNormalization)                                               \n",
            "                                                                 \n",
            " conv_dec_0 (Conv2DTranspos  (None, 7, 7, 32)          18464     \n",
            " e)                                                              \n",
            "                                                                 \n",
            " batch_normalization_16 (Ba  (None, 7, 7, 32)          128       \n",
            " tchNormalization)                                               \n",
            "                                                                 \n",
            " conv_dec_1 (Conv2DTranspos  (None, 14, 14, 16)        4624      \n",
            " e)                                                              \n",
            "                                                                 \n",
            " batch_normalization_17 (Ba  (None, 14, 14, 16)        64        \n",
            " tchNormalization)                                               \n",
            "                                                                 \n",
            " conv_dec_2 (Conv2DTranspos  (None, 28, 28, 1)         145       \n",
            " e)                                                              \n",
            "                                                                 \n",
            "=================================================================\n",
            "Total params: 125505 (490.25 KB)\n",
            "Trainable params: 124833 (487.63 KB)\n",
            "Non-trainable params: 672 (2.62 KB)\n",
            "_________________________________________________________________\n"
          ]
        }
      ],
      "source": [
        "conv_model_with_batchnorm = create_conv_autoencoder_model()\n",
        "conv_model_with_batchnorm.summary()"
      ]
    },
    {
      "cell_type": "code",
      "execution_count": 69,
      "metadata": {
        "colab": {
          "base_uri": "https://localhost:8080/"
        },
        "id": "4OrbMRBaNZK2",
        "outputId": "7d4a407c-e819-4de1-9764-59ea3797939e"
      },
      "outputs": [
        {
          "name": "stdout",
          "output_type": "stream",
          "text": [
            "Encoder has been built, checking for compression flag\n",
            "Model has been built, printing summary\n",
            "Model: \"sequential_49\"\n",
            "_________________________________________________________________\n",
            " Layer (type)                Output Shape              Param #   \n",
            "=================================================================\n",
            " conv_enc_0 (Conv2D)         (None, 28, 28, 32)        320       \n",
            "                                                                 \n",
            " max_pooling2d_9 (MaxPoolin  (None, 14, 14, 32)        0         \n",
            " g2D)                                                            \n",
            "                                                                 \n",
            " conv_enc_1 (Conv2D)         (None, 14, 14, 64)        18496     \n",
            "                                                                 \n",
            " max_pooling2d_10 (MaxPooli  (None, 7, 7, 64)          0         \n",
            " ng2D)                                                           \n",
            "                                                                 \n",
            " conv_enc_2 (Conv2D)         (None, 7, 7, 128)         73856     \n",
            "                                                                 \n",
            " max_pooling2d_11 (MaxPooli  (None, 3, 3, 128)         0         \n",
            " ng2D)                                                           \n",
            "                                                                 \n",
            " conv_compress_dims (Conv2D  (None, 3, 3, 64)          8256      \n",
            " )                                                               \n",
            "                                                                 \n",
            " conv_dec_0 (Conv2DTranspos  (None, 7, 7, 32)          18464     \n",
            " e)                                                              \n",
            "                                                                 \n",
            " conv_dec_1 (Conv2DTranspos  (None, 14, 14, 16)        4624      \n",
            " e)                                                              \n",
            "                                                                 \n",
            " conv_dec_2 (Conv2DTranspos  (None, 28, 28, 1)         145       \n",
            " e)                                                              \n",
            "                                                                 \n",
            "=================================================================\n",
            "Total params: 124161 (485.00 KB)\n",
            "Trainable params: 124161 (485.00 KB)\n",
            "Non-trainable params: 0 (0.00 Byte)\n",
            "_________________________________________________________________\n",
            "None\n"
          ]
        }
      ],
      "source": [
        "conv_model_without_batchnorm = create_conv_autoencoder_model(batch_norm_flag=False)"
      ]
    },
    {
      "cell_type": "code",
      "execution_count": 70,
      "metadata": {
        "id": "OEjGmt6LNaSL"
      },
      "outputs": [],
      "source": [
        "conv_model_with_batchnorm.compile(optimizer=\"adam\", loss=tf.keras.losses.MeanAbsoluteError(), metrics=[\"accuracy\"])\n",
        "conv_model_without_batchnorm.compile(optimizer=\"adam\", loss=tf.keras.losses.MeanAbsoluteError(), metrics=[\"accuracy\"])"
      ]
    },
    {
      "cell_type": "code",
      "execution_count": 71,
      "metadata": {
        "id": "USEc9lftNoB9"
      },
      "outputs": [],
      "source": [
        "conv_model_with_fc.compile(optimizer=\"adam\", loss=tf.keras.losses.MeanAbsoluteError(), metrics=[\"accuracy\"])\n"
      ]
    },
    {
      "cell_type": "code",
      "execution_count": 72,
      "metadata": {
        "id": "OfKH68HkNonI"
      },
      "outputs": [],
      "source": [
        "conv_model_with_upsampling.compile(optimizer=\"adam\", loss=tf.keras.losses.MeanAbsoluteError(), metrics=[\"accuracy\"])"
      ]
    },
    {
      "cell_type": "code",
      "execution_count": 73,
      "metadata": {
        "colab": {
          "base_uri": "https://localhost:8080/"
        },
        "id": "OQiBqBFeNqyF",
        "outputId": "72fac640-0553-44cd-fa42-ba459232671e"
      },
      "outputs": [
        {
          "name": "stdout",
          "output_type": "stream",
          "text": [
            "(60000, 28, 28, 1)\n",
            "<dtype: 'float32'>\n"
          ]
        }
      ],
      "source": [
        "x = tf.expand_dims(train_images_raw.astype(np.float32)/255.0 , -1)\n",
        "y = tf.expand_dims(train_images_raw.astype(np.float32)/255.0, -1)\n",
        "print(x.shape)\n",
        "print(x.dtype)"
      ]
    },
    {
      "cell_type": "code",
      "execution_count": 74,
      "metadata": {
        "colab": {
          "base_uri": "https://localhost:8080/"
        },
        "id": "OR174TYqNuuj",
        "outputId": "e7f84028-e327-4622-e934-b2326e5f904b"
      },
      "outputs": [
        {
          "name": "stdout",
          "output_type": "stream",
          "text": [
            "Epoch 1/7\n",
            "1875/1875 [==============================] - 22s 8ms/step - loss: 0.0505 - accuracy: 0.8048\n",
            "Epoch 2/7\n",
            "1875/1875 [==============================] - 15s 8ms/step - loss: 0.0179 - accuracy: 0.8153\n",
            "Epoch 3/7\n",
            "1875/1875 [==============================] - 15s 8ms/step - loss: 0.0158 - accuracy: 0.8154\n",
            "Epoch 4/7\n",
            "1875/1875 [==============================] - 15s 8ms/step - loss: 0.0146 - accuracy: 0.8154\n",
            "Epoch 5/7\n",
            "1875/1875 [==============================] - 15s 8ms/step - loss: 0.0139 - accuracy: 0.8154\n",
            "Epoch 6/7\n",
            "1875/1875 [==============================] - 15s 8ms/step - loss: 0.0133 - accuracy: 0.8154\n",
            "Epoch 7/7\n",
            "1875/1875 [==============================] - 15s 8ms/step - loss: 0.0129 - accuracy: 0.8154\n",
            "Epoch 1/7\n",
            "1875/1875 [==============================] - 13s 6ms/step - loss: 0.1338 - accuracy: 0.8070\n",
            "Epoch 2/7\n",
            "1875/1875 [==============================] - 12s 6ms/step - loss: 0.1307 - accuracy: 0.8088\n",
            "Epoch 3/7\n",
            "1875/1875 [==============================] - 12s 6ms/step - loss: 0.1307 - accuracy: 0.8088\n",
            "Epoch 4/7\n",
            "1875/1875 [==============================] - 11s 6ms/step - loss: 0.1307 - accuracy: 0.8088\n",
            "Epoch 5/7\n",
            "1875/1875 [==============================] - 11s 6ms/step - loss: 0.1307 - accuracy: 0.8088\n",
            "Epoch 6/7\n",
            "1875/1875 [==============================] - 12s 6ms/step - loss: 0.1307 - accuracy: 0.8088\n",
            "Epoch 7/7\n",
            "1875/1875 [==============================] - 12s 6ms/step - loss: 0.1307 - accuracy: 0.8088\n"
          ]
        },
        {
          "data": {
            "text/plain": [
              "<keras.src.callbacks.History at 0x7af3f3f16080>"
            ]
          },
          "execution_count": 74,
          "metadata": {},
          "output_type": "execute_result"
        }
      ],
      "source": [
        "conv_model_with_batchnorm.fit(x=x, y=y, epochs = 7)\n",
        "conv_model_without_batchnorm.fit(x=x, y=y, epochs = 7)"
      ]
    },
    {
      "cell_type": "code",
      "execution_count": 75,
      "metadata": {
        "colab": {
          "base_uri": "https://localhost:8080/"
        },
        "id": "JUT_E8KlNy9d",
        "outputId": "9e86cea6-3248-460b-d8cc-94d692339562"
      },
      "outputs": [
        {
          "name": "stdout",
          "output_type": "stream",
          "text": [
            "Epoch 1/7\n",
            "1875/1875 [==============================] - 19s 8ms/step - loss: 0.0486 - accuracy: 0.8048\n",
            "Epoch 2/7\n",
            "1875/1875 [==============================] - 16s 8ms/step - loss: 0.0244 - accuracy: 0.8147\n",
            "Epoch 3/7\n",
            "1875/1875 [==============================] - 15s 8ms/step - loss: 0.0214 - accuracy: 0.8150\n",
            "Epoch 4/7\n",
            "1875/1875 [==============================] - 16s 8ms/step - loss: 0.0199 - accuracy: 0.8151\n",
            "Epoch 5/7\n",
            "1875/1875 [==============================] - 16s 8ms/step - loss: 0.0188 - accuracy: 0.8152\n",
            "Epoch 6/7\n",
            "1875/1875 [==============================] - 15s 8ms/step - loss: 0.0181 - accuracy: 0.8153\n",
            "Epoch 7/7\n",
            "1875/1875 [==============================] - 16s 8ms/step - loss: 0.0175 - accuracy: 0.8153\n"
          ]
        },
        {
          "data": {
            "text/plain": [
              "<keras.src.callbacks.History at 0x7af49ebef040>"
            ]
          },
          "execution_count": 75,
          "metadata": {},
          "output_type": "execute_result"
        }
      ],
      "source": [
        "conv_model_with_upsampling.fit(x=x, y=y, epochs=7)"
      ]
    },
    {
      "cell_type": "code",
      "execution_count": 76,
      "metadata": {
        "id": "Ft3TxHISOtye"
      },
      "outputs": [],
      "source": [
        "def evaluate_and_output_model(model, test_images, images_to_be_compared=5):\n",
        "  class_names = ['0', '1', '2', '3', '4','5', '6', '7', '8', '9']\n",
        "  print(test_images.shape)\n",
        "  #test_loss, test_acc = model.evaluate(test_images,  test_labels, verbose=2)\n",
        "  print(test_images.shape)\n",
        "  #print('\\n  Relu Test accuracy:', str(test_acc) + \" test loss: \" + str(test_loss) + \"\\n\")\n",
        "  model_output_images = model.predict(test_images)\n",
        "  print(model_output_images.shape)\n",
        "  plt.figure(figsize=(10,10))\n",
        "  j = -1\n",
        "  for i in range(25):\n",
        "      plt.subplot(5,5,i+1)\n",
        "      plt.xticks([])\n",
        "      plt.yticks([])\n",
        "      plt.grid(False)\n",
        "      j = j+1\n",
        "      if(i%2 == 0):\n",
        "        plt.imshow(test_images[i+10][:,:,0], cmap=plt.cm.binary)\n",
        "      elif(j%2 == 1):\n",
        "\n",
        "        plt.imshow(model_output_images[j-1+10][:,:,0], cmap=plt.cm.binary)\n",
        "\n",
        "      #plt.xlabel(class_names[test_images[i]])\n",
        "  plt.show()"
      ]
    },
    {
      "cell_type": "code",
      "execution_count": 77,
      "metadata": {
        "colab": {
          "base_uri": "https://localhost:8080/",
          "height": 876
        },
        "id": "bKn0XVuNPTbj",
        "outputId": "c7f8915b-c085-4e71-900f-52856f462837"
      },
      "outputs": [
        {
          "name": "stdout",
          "output_type": "stream",
          "text": [
            "(10000, 28, 28, 1)\n",
            "(10000, 28, 28, 1)\n",
            "313/313 [==============================] - 1s 3ms/step\n",
            "(10000, 28, 28, 1)\n"
          ]
        },
        {
          "data": {
            "image/png": "[encoded data removed]",
            "text/plain": [
              "<Figure size 1000x1000 with 25 Axes>"
            ]
          },
          "metadata": {},
          "output_type": "display_data"
        }
      ],
      "source": [
        "evaluate_and_output_model(conv_model_without_batchnorm, tf.expand_dims(test_images_raw.astype(np.float32)/255.0, -1))"
      ]
    },
    {
      "cell_type": "code",
      "execution_count": 78,
      "metadata": {
        "colab": {
          "base_uri": "https://localhost:8080/",
          "height": 876
        },
        "id": "_99BsR18PbUz",
        "outputId": "f328061a-0ee0-48b7-97b4-100a70606165"
      },
      "outputs": [
        {
          "name": "stdout",
          "output_type": "stream",
          "text": [
            "(10000, 28, 28, 1)\n",
            "(10000, 28, 28, 1)\n",
            "313/313 [==============================] - 1s 3ms/step\n",
            "(10000, 28, 28, 1)\n"
          ]
        },
        {
          "data": {
            "image/png": "[encoded data removed]",
            "text/plain": [
              "<Figure size 1000x1000 with 25 Axes>"
            ]
          },
          "metadata": {},
          "output_type": "display_data"
        }
      ],
      "source": [
        "evaluate_and_output_model(conv_model_with_batchnorm, tf.expand_dims(test_images_raw.astype(np.float32)/255.0, -1))"
      ]
    },
    {
      "cell_type": "code",
      "execution_count": 79,
      "metadata": {
        "colab": {
          "base_uri": "https://localhost:8080/",
          "height": 876
        },
        "id": "LGdeYwm1Pe_T",
        "outputId": "e5be615c-3ac0-4826-bc3b-d6739cb6737b"
      },
      "outputs": [
        {
          "name": "stdout",
          "output_type": "stream",
          "text": [
            "(10000, 28, 28, 1)\n",
            "(10000, 28, 28, 1)\n",
            "313/313 [==============================] - 1s 3ms/step\n",
            "(10000, 28, 28, 1)\n"
          ]
        },
        {
          "data": {
            "image/png": "[encoded data removed]",
            "text/plain": [
              "<Figure size 1000x1000 with 25 Axes>"
            ]
          },
          "metadata": {},
          "output_type": "display_data"
        }
      ],
      "source": [
        "evaluate_and_output_model(conv_model_with_upsampling, tf.expand_dims(test_images_raw.astype(np.float32)/255.0, -1))"
      ]
    },
    {
      "cell_type": "markdown",
      "metadata": {
        "id": "ZUEYurjyyXOu"
      },
      "source": [
        "\n",
        "**Pre-training for low supervision scenarios**"
      ]
    },
    {
      "cell_type": "code",
      "execution_count": 80,
      "metadata": {
        "colab": {
          "base_uri": "https://localhost:8080/"
        },
        "id": "7jKSm4hlPnqN",
        "outputId": "eb19d406-529e-40ba-b55f-fb81c05eb686"
      },
      "outputs": [
        {
          "name": "stdout",
          "output_type": "stream",
          "text": [
            "[1 0 0 5 5 6 7 5 3 2 8 5 0 9 4 4 6 0 3 5 0 8 9 4 7 6 1 3 3 4 4 6 8 8 2 6 3\n",
            " 2 9 1 3 7 2 1 2 7 9 4 3 9 2 6 7 3 2 9 8 7 8 3 7 4 6 8 3 4 9 7 9 9 7 7 8 1\n",
            " 9 6 5 5 8 9 5 2 7 7 0 7 0 1 5 0 8 3 7 6 4 3 3 9 4 3]\n"
          ]
        }
      ],
      "source": [
        "# Load MNIST data\n",
        "mnist = tf.keras.datasets.mnist\n",
        "(train_images_raw, train_labels_raw), (test_images_raw, test_labels_raw) = mnist.load_data()\n",
        "\n",
        "# Shuffle the training data\n",
        "train_data = tf.data.Dataset.from_tensor_slices((train_images_raw.astype(np.float32) / 255.0, train_labels_raw.astype(np.int32)))\n",
        "train_data_shuffled = train_data.shuffle(buffer_size=train_images_raw.shape[0])\n",
        "\n",
        "# Take a random subset of size 100\n",
        "random_subset = train_data_shuffled.take(100)\n",
        "\n",
        "# Extract images and labels from the subset\n",
        "random_images, random_labels = zip(*list(random_subset))\n",
        "\n",
        "\"\"\"\n",
        "\n",
        "# Extract images and labels from the subset without using zip\n",
        "random_images = []\n",
        "random_labels = []\n",
        "\n",
        "for images, labels in random_subset:\n",
        "    random_images.append(images)\n",
        "    random_labels.append(labels)\n",
        "\n",
        "\"\"\"\n",
        "# Convert to NumPy arrays\n",
        "random_images = np.array(random_images)\n",
        "random_labels = np.array(random_labels)\n",
        "\n",
        "print(random_labels)"
      ]
    },
    {
      "cell_type": "code",
      "execution_count": 81,
      "metadata": {
        "colab": {
          "base_uri": "https://localhost:8080/",
          "height": 430
        },
        "id": "Zrfcd0uKzEnr",
        "outputId": "cff71341-79fa-4ff5-fd33-425ce120b1b7"
      },
      "outputs": [
        {
          "data": {
            "image/png": "[encoded data removed]",
            "text/plain": [
              "<Figure size 640x480 with 1 Axes>"
            ]
          },
          "metadata": {},
          "output_type": "display_data"
        }
      ],
      "source": [
        "plt.imshow(random_images[9], cmap=\"Greys_r\")\n",
        "\n",
        "random_images_reshaped = random_images.reshape([-1, 784])\n"
      ]
    },
    {
      "cell_type": "code",
      "execution_count": 82,
      "metadata": {
        "colab": {
          "base_uri": "https://localhost:8080/"
        },
        "id": "Ca-NnSQf19Rk",
        "outputId": "511256e2-7bdc-4d6c-8e03-49a1ee4a492d"
      },
      "outputs": [
        {
          "name": "stdout",
          "output_type": "stream",
          "text": [
            "Epoch 1/1000\n",
            "4/4 [==============================] - 1s 15ms/step - loss: 0.0121 - accuracy: 0.0100 - false_negatives_3: 4902.0000 - false_positives_3: 60.0000\n",
            "Epoch 2/1000\n",
            "4/4 [==============================] - 0s 9ms/step - loss: 0.0115 - accuracy: 0.0300 - false_negatives_3: 4940.0000 - false_positives_3: 43.0000\n",
            "Epoch 3/1000\n",
            "4/4 [==============================] - 0s 9ms/step - loss: 0.0113 - accuracy: 0.0200 - false_negatives_3: 4865.0000 - false_positives_3: 55.0000\n",
            "Epoch 4/1000\n",
            "4/4 [==============================] - 0s 10ms/step - loss: 0.0111 - accuracy: 0.0300 - false_negatives_3: 4816.0000 - false_positives_3: 43.0000\n",
            "Epoch 5/1000\n",
            "4/4 [==============================] - 0s 9ms/step - loss: 0.0108 - accuracy: 0.0100 - false_negatives_3: 5054.0000 - false_positives_3: 27.0000\n",
            "Epoch 6/1000\n",
            "4/4 [==============================] - 0s 9ms/step - loss: 0.0115 - accuracy: 0.0200 - false_negatives_3: 4863.0000 - false_positives_3: 51.0000\n",
            "Epoch 7/1000\n",
            "4/4 [==============================] - 0s 10ms/step - loss: 0.0115 - accuracy: 0.0200 - false_negatives_3: 5368.0000 - false_positives_3: 25.0000\n",
            "Epoch 8/1000\n",
            "4/4 [==============================] - 0s 14ms/step - loss: 0.0113 - accuracy: 0.0100 - false_negatives_3: 4928.0000 - false_positives_3: 36.0000\n",
            "Epoch 9/1000\n",
            "4/4 [==============================] - 0s 13ms/step - loss: 0.0102 - accuracy: 0.0100 - false_negatives_3: 4969.0000 - false_positives_3: 15.0000\n",
            "Epoch 10/1000\n",
            "4/4 [==============================] - 0s 11ms/step - loss: 0.0102 - accuracy: 0.0000e+00 - false_negatives_3: 5155.0000 - false_positives_3: 14.0000\n",
            "Epoch 11/1000\n",
            "4/4 [==============================] - 0s 10ms/step - loss: 0.0098 - accuracy: 0.0300 - false_negatives_3: 4810.0000 - false_positives_3: 15.0000\n",
            "Epoch 12/1000\n",
            "4/4 [==============================] - 0s 9ms/step - loss: 0.0097 - accuracy: 0.0200 - false_negatives_3: 5312.0000 - false_positives_3: 10.0000\n",
            "Epoch 13/1000\n",
            "4/4 [==============================] - 0s 8ms/step - loss: 0.0096 - accuracy: 0.0300 - false_negatives_3: 4945.0000 - false_positives_3: 13.0000\n",
            "Epoch 14/1000\n",
            "4/4 [==============================] - 0s 11ms/step - loss: 0.0092 - accuracy: 0.0000e+00 - false_negatives_3: 4985.0000 - false_positives_3: 11.0000\n",
            "Epoch 15/1000\n",
            "4/4 [==============================] - 0s 10ms/step - loss: 0.0088 - accuracy: 0.0000e+00 - false_negatives_3: 5050.0000 - false_positives_3: 2.0000\n",
            "Epoch 16/1000\n",
            "4/4 [==============================] - 0s 14ms/step - loss: 0.0086 - accuracy: 0.0000e+00 - false_negatives_3: 4972.0000 - false_positives_3: 9.0000\n",
            "Epoch 17/1000\n",
            "4/4 [==============================] - 0s 10ms/step - loss: 0.0084 - accuracy: 0.0100 - false_negatives_3: 4923.0000 - false_positives_3: 6.0000\n",
            "Epoch 18/1000\n",
            "4/4 [==============================] - 0s 12ms/step - loss: 0.0079 - accuracy: 0.0000e+00 - false_negatives_3: 4991.0000 - false_positives_3: 8.0000\n",
            "Epoch 19/1000\n",
            "4/4 [==============================] - 0s 10ms/step - loss: 0.0079 - accuracy: 0.0100 - false_negatives_3: 4953.0000 - false_positives_3: 4.0000\n",
            "Epoch 20/1000\n",
            "4/4 [==============================] - 0s 9ms/step - loss: 0.0079 - accuracy: 0.0000e+00 - false_negatives_3: 5146.0000 - false_positives_3: 4.0000\n",
            "Epoch 21/1000\n",
            "4/4 [==============================] - 0s 10ms/step - loss: 0.0077 - accuracy: 0.0100 - false_negatives_3: 4950.0000 - false_positives_3: 5.0000\n",
            "Epoch 22/1000\n",
            "4/4 [==============================] - 0s 11ms/step - loss: 0.0074 - accuracy: 0.0000e+00 - false_negatives_3: 4954.0000 - false_positives_3: 3.0000\n",
            "Epoch 23/1000\n",
            "4/4 [==============================] - 0s 11ms/step - loss: 0.0074 - accuracy: 0.0100 - false_negatives_3: 5336.0000 - false_positives_3: 0.0000e+00\n",
            "Epoch 24/1000\n",
            "4/4 [==============================] - 0s 9ms/step - loss: 0.0074 - accuracy: 0.0200 - false_negatives_3: 4787.0000 - false_positives_3: 5.0000\n",
            "Epoch 25/1000\n",
            "4/4 [==============================] - 0s 9ms/step - loss: 0.0074 - accuracy: 0.0100 - false_negatives_3: 5124.0000 - false_positives_3: 4.0000\n",
            "Epoch 26/1000\n",
            "4/4 [==============================] - 0s 8ms/step - loss: 0.0072 - accuracy: 0.0100 - false_negatives_3: 5034.0000 - false_positives_3: 1.0000\n",
            "Epoch 27/1000\n",
            "4/4 [==============================] - 0s 7ms/step - loss: 0.0073 - accuracy: 0.0100 - false_negatives_3: 5157.0000 - false_positives_3: 2.0000\n",
            "Epoch 28/1000\n",
            "4/4 [==============================] - 0s 7ms/step - loss: 0.0076 - accuracy: 0.0000e+00 - false_negatives_3: 4981.0000 - false_positives_3: 4.0000\n",
            "Epoch 29/1000\n",
            "4/4 [==============================] - 0s 7ms/step - loss: 0.0072 - accuracy: 0.0000e+00 - false_negatives_3: 5017.0000 - false_positives_3: 2.0000\n",
            "Epoch 30/1000\n",
            "4/4 [==============================] - 0s 9ms/step - loss: 0.0071 - accuracy: 0.0100 - false_negatives_3: 5035.0000 - false_positives_3: 3.0000\n",
            "Epoch 31/1000\n",
            "4/4 [==============================] - 0s 12ms/step - loss: 0.0070 - accuracy: 0.0000e+00 - false_negatives_3: 5046.0000 - false_positives_3: 3.0000\n",
            "Epoch 32/1000\n",
            "4/4 [==============================] - 0s 7ms/step - loss: 0.0069 - accuracy: 0.0200 - false_negatives_3: 4959.0000 - false_positives_3: 6.0000\n",
            "Epoch 33/1000\n",
            "4/4 [==============================] - 0s 7ms/step - loss: 0.0071 - accuracy: 0.0200 - false_negatives_3: 5281.0000 - false_positives_3: 1.0000    \n",
            "Epoch 34/1000\n",
            "4/4 [==============================] - 0s 7ms/step - loss: 0.0072 - accuracy: 0.0600 - false_negatives_3: 4926.0000 - false_positives_3: 3.0000\n",
            "Epoch 35/1000\n",
            "4/4 [==============================] - 0s 9ms/step - loss: 0.0072 - accuracy: 0.0200 - false_negatives_3: 5039.0000 - false_positives_3: 1.0000    \n",
            "Epoch 36/1000\n",
            "4/4 [==============================] - 0s 8ms/step - loss: 0.0075 - accuracy: 0.0200 - false_negatives_3: 5254.0000 - false_positives_3: 0.0000e+00\n",
            "Epoch 37/1000\n",
            "4/4 [==============================] - 0s 8ms/step - loss: 0.0075 - accuracy: 0.0100 - false_negatives_3: 4927.0000 - false_positives_3: 1.0000\n",
            "Epoch 38/1000\n",
            "4/4 [==============================] - 0s 10ms/step - loss: 0.0075 - accuracy: 0.0400 - false_negatives_3: 5066.0000 - false_positives_3: 0.0000e+00\n",
            "Epoch 39/1000\n",
            "4/4 [==============================] - 0s 8ms/step - loss: 0.0072 - accuracy: 0.0000e+00 - false_negatives_3: 4881.0000 - false_positives_3: 1.0000\n",
            "Epoch 40/1000\n",
            "4/4 [==============================] - 0s 8ms/step - loss: 0.0069 - accuracy: 0.0100 - false_negatives_3: 5173.0000 - false_positives_3: 0.0000e+00\n",
            "Epoch 41/1000\n",
            "4/4 [==============================] - 0s 7ms/step - loss: 0.0067 - accuracy: 0.0100 - false_negatives_3: 4953.0000 - false_positives_3: 0.0000e+00\n",
            "Epoch 42/1000\n",
            "4/4 [==============================] - 0s 7ms/step - loss: 0.0067 - accuracy: 0.0100 - false_negatives_3: 5071.0000 - false_positives_3: 0.0000e+00\n",
            "Epoch 43/1000\n",
            "4/4 [==============================] - 0s 12ms/step - loss: 0.0067 - accuracy: 0.0100 - false_negatives_3: 5173.0000 - false_positives_3: 2.0000\n",
            "Epoch 44/1000\n",
            "4/4 [==============================] - 0s 8ms/step - loss: 0.0065 - accuracy: 0.0000e+00 - false_negatives_3: 4940.0000 - false_positives_3: 1.0000\n",
            "Epoch 45/1000\n",
            "4/4 [==============================] - 0s 8ms/step - loss: 0.0064 - accuracy: 0.0000e+00 - false_negatives_3: 5281.0000 - false_positives_3: 0.0000e+00\n",
            "Epoch 46/1000\n",
            "4/4 [==============================] - 0s 8ms/step - loss: 0.0064 - accuracy: 0.0100 - false_negatives_3: 4911.0000 - false_positives_3: 1.0000\n",
            "Epoch 47/1000\n",
            "4/4 [==============================] - 0s 7ms/step - loss: 0.0063 - accuracy: 0.0200 - false_negatives_3: 5260.0000 - false_positives_3: 0.0000e+00\n",
            "Epoch 48/1000\n",
            "4/4 [==============================] - 0s 9ms/step - loss: 0.0061 - accuracy: 0.0200 - false_negatives_3: 4942.0000 - false_positives_3: 0.0000e+00\n",
            "Epoch 49/1000\n",
            "4/4 [==============================] - 0s 10ms/step - loss: 0.0060 - accuracy: 0.0000e+00 - false_negatives_3: 5213.0000 - false_positives_3: 0.0000e+00\n",
            "Epoch 50/1000\n",
            "4/4 [==============================] - 0s 7ms/step - loss: 0.0059 - accuracy: 0.0400 - false_negatives_3: 5008.0000 - false_positives_3: 0.0000e+00\n",
            "Epoch 51/1000\n",
            "4/4 [==============================] - 0s 8ms/step - loss: 0.0058 - accuracy: 0.0400 - false_negatives_3: 5149.0000 - false_positives_3: 0.0000e+00\n",
            "Epoch 52/1000\n",
            "4/4 [==============================] - 0s 8ms/step - loss: 0.0057 - accuracy: 0.0000e+00 - false_negatives_3: 5057.0000 - false_positives_3: 0.0000e+00\n",
            "Epoch 53/1000\n",
            "4/4 [==============================] - 0s 8ms/step - loss: 0.0056 - accuracy: 0.0400 - false_negatives_3: 5015.0000 - false_positives_3: 0.0000e+00\n",
            "Epoch 54/1000\n",
            "4/4 [==============================] - 0s 7ms/step - loss: 0.0057 - accuracy: 0.0400 - false_negatives_3: 5228.0000 - false_positives_3: 0.0000e+00\n",
            "Epoch 55/1000\n",
            "4/4 [==============================] - 0s 7ms/step - loss: 0.0056 - accuracy: 0.0100 - false_negatives_3: 4962.0000 - false_positives_3: 0.0000e+00\n",
            "Epoch 56/1000\n",
            "4/4 [==============================] - 0s 8ms/step - loss: 0.0055 - accuracy: 0.0000e+00 - false_negatives_3: 5171.0000 - false_positives_3: 0.0000e+00\n",
            "Epoch 57/1000\n",
            "4/4 [==============================] - 0s 13ms/step - loss: 0.0054 - accuracy: 0.0200 - false_negatives_3: 5031.0000 - false_positives_3: 0.0000e+00\n",
            "Epoch 58/1000\n",
            "4/4 [==============================] - 0s 8ms/step - loss: 0.0054 - accuracy: 0.0100 - false_negatives_3: 5088.0000 - false_positives_3: 0.0000e+00\n",
            "Epoch 59/1000\n",
            "4/4 [==============================] - 0s 7ms/step - loss: 0.0053 - accuracy: 0.0100 - false_negatives_3: 5130.0000 - false_positives_3: 0.0000e+00\n",
            "Epoch 60/1000\n",
            "4/4 [==============================] - 0s 9ms/step - loss: 0.0052 - accuracy: 0.0500 - false_negatives_3: 5039.0000 - false_positives_3: 0.0000e+00\n",
            "Epoch 61/1000\n",
            "4/4 [==============================] - 0s 7ms/step - loss: 0.0052 - accuracy: 0.0300 - false_negatives_3: 5129.0000 - false_positives_3: 0.0000e+00\n",
            "Epoch 62/1000\n",
            "4/4 [==============================] - 0s 7ms/step - loss: 0.0052 - accuracy: 0.0400 - false_negatives_3: 5000.0000 - false_positives_3: 0.0000e+00\n",
            "Epoch 63/1000\n",
            "4/4 [==============================] - 0s 7ms/step - loss: 0.0052 - accuracy: 0.0300 - false_negatives_3: 5156.0000 - false_positives_3: 0.0000e+00\n",
            "Epoch 64/1000\n",
            "4/4 [==============================] - 0s 7ms/step - loss: 0.0051 - accuracy: 0.0500 - false_negatives_3: 5120.0000 - false_positives_3: 0.0000e+00\n",
            "Epoch 65/1000\n",
            "4/4 [==============================] - 0s 7ms/step - loss: 0.0051 - accuracy: 0.0400 - false_negatives_3: 5073.0000 - false_positives_3: 0.0000e+00\n",
            "Epoch 66/1000\n",
            "4/4 [==============================] - 0s 9ms/step - loss: 0.0051 - accuracy: 0.0200 - false_negatives_3: 5081.0000 - false_positives_3: 0.0000e+00\n",
            "Epoch 67/1000\n",
            "4/4 [==============================] - 0s 9ms/step - loss: 0.0050 - accuracy: 0.0300 - false_negatives_3: 5117.0000 - false_positives_3: 0.0000e+00\n",
            "Epoch 68/1000\n",
            "4/4 [==============================] - 0s 8ms/step - loss: 0.0050 - accuracy: 0.0200 - false_negatives_3: 5022.0000 - false_positives_3: 0.0000e+00\n",
            "Epoch 69/1000\n",
            "4/4 [==============================] - 0s 7ms/step - loss: 0.0050 - accuracy: 0.0400 - false_negatives_3: 5163.0000 - false_positives_3: 0.0000e+00\n",
            "Epoch 70/1000\n",
            "4/4 [==============================] - 0s 9ms/step - loss: 0.0049 - accuracy: 0.0200 - false_negatives_3: 5062.0000 - false_positives_3: 0.0000e+00\n",
            "Epoch 71/1000\n",
            "4/4 [==============================] - 0s 9ms/step - loss: 0.0049 - accuracy: 0.0100 - false_negatives_3: 5157.0000 - false_positives_3: 0.0000e+00\n",
            "Epoch 72/1000\n",
            "4/4 [==============================] - 0s 7ms/step - loss: 0.0049 - accuracy: 0.0200 - false_negatives_3: 5085.0000 - false_positives_3: 0.0000e+00\n",
            "Epoch 73/1000\n",
            "4/4 [==============================] - 0s 9ms/step - loss: 0.0049 - accuracy: 0.0200 - false_negatives_3: 5103.0000 - false_positives_3: 0.0000e+00\n",
            "Epoch 74/1000\n",
            "4/4 [==============================] - 0s 7ms/step - loss: 0.0050 - accuracy: 0.0300 - false_negatives_3: 5147.0000 - false_positives_3: 0.0000e+00\n",
            "Epoch 75/1000\n",
            "4/4 [==============================] - 0s 8ms/step - loss: 0.0049 - accuracy: 0.0200 - false_negatives_3: 5093.0000 - false_positives_3: 0.0000e+00\n",
            "Epoch 76/1000\n",
            "4/4 [==============================] - 0s 8ms/step - loss: 0.0049 - accuracy: 0.0200 - false_negatives_3: 5132.0000 - false_positives_3: 0.0000e+00\n",
            "Epoch 77/1000\n",
            "4/4 [==============================] - 0s 8ms/step - loss: 0.0049 - accuracy: 0.0000e+00 - false_negatives_3: 5085.0000 - false_positives_3: 0.0000e+00\n",
            "Epoch 78/1000\n",
            "4/4 [==============================] - 0s 7ms/step - loss: 0.0048 - accuracy: 0.0200 - false_negatives_3: 5177.0000 - false_positives_3: 0.0000e+00\n",
            "Epoch 79/1000\n",
            "4/4 [==============================] - 0s 10ms/step - loss: 0.0048 - accuracy: 0.0000e+00 - false_negatives_3: 5105.0000 - false_positives_3: 0.0000e+00\n",
            "Epoch 80/1000\n",
            "4/4 [==============================] - 0s 8ms/step - loss: 0.0048 - accuracy: 0.0200 - false_negatives_3: 5092.0000 - false_positives_3: 0.0000e+00\n",
            "Epoch 81/1000\n",
            "4/4 [==============================] - 0s 8ms/step - loss: 0.0048 - accuracy: 0.0200 - false_negatives_3: 5184.0000 - false_positives_3: 0.0000e+00\n",
            "Epoch 82/1000\n",
            "4/4 [==============================] - 0s 13ms/step - loss: 0.0047 - accuracy: 0.0000e+00 - false_negatives_3: 5076.0000 - false_positives_3: 0.0000e+00\n",
            "Epoch 83/1000\n",
            "4/4 [==============================] - 0s 8ms/step - loss: 0.0047 - accuracy: 0.0100 - false_negatives_3: 5180.0000 - false_positives_3: 0.0000e+00\n",
            "Epoch 84/1000\n",
            "4/4 [==============================] - 0s 7ms/step - loss: 0.0047 - accuracy: 0.0100 - false_negatives_3: 5096.0000 - false_positives_3: 0.0000e+00\n",
            "Epoch 85/1000\n",
            "4/4 [==============================] - 0s 8ms/step - loss: 0.0047 - accuracy: 0.0100 - false_negatives_3: 5152.0000 - false_positives_3: 0.0000e+00\n",
            "Epoch 86/1000\n",
            "4/4 [==============================] - 0s 10ms/step - loss: 0.0047 - accuracy: 0.0400 - false_negatives_3: 5086.0000 - false_positives_3: 0.0000e+00\n",
            "Epoch 87/1000\n",
            "4/4 [==============================] - 0s 7ms/step - loss: 0.0047 - accuracy: 0.0400 - false_negatives_3: 5154.0000 - false_positives_3: 0.0000e+00\n",
            "Epoch 88/1000\n",
            "4/4 [==============================] - 0s 7ms/step - loss: 0.0047 - accuracy: 0.0200 - false_negatives_3: 5131.0000 - false_positives_3: 0.0000e+00\n",
            "Epoch 89/1000\n",
            "4/4 [==============================] - 0s 9ms/step - loss: 0.0048 - accuracy: 0.0000e+00 - false_negatives_3: 5144.0000 - false_positives_3: 0.0000e+00\n",
            "Epoch 90/1000\n",
            "4/4 [==============================] - 0s 7ms/step - loss: 0.0049 - accuracy: 0.0100 - false_negatives_3: 5124.0000 - false_positives_3: 0.0000e+00\n",
            "Epoch 91/1000\n",
            "4/4 [==============================] - 0s 10ms/step - loss: 0.0048 - accuracy: 0.0400 - false_negatives_3: 5123.0000 - false_positives_3: 0.0000e+00\n",
            "Epoch 92/1000\n",
            "4/4 [==============================] - 0s 9ms/step - loss: 0.0048 - accuracy: 0.0200 - false_negatives_3: 5118.0000 - false_positives_3: 0.0000e+00\n",
            "Epoch 93/1000\n",
            "4/4 [==============================] - 0s 7ms/step - loss: 0.0048 - accuracy: 0.0400 - false_negatives_3: 5117.0000 - false_positives_3: 0.0000e+00\n",
            "Epoch 94/1000\n",
            "4/4 [==============================] - 0s 7ms/step - loss: 0.0048 - accuracy: 0.0200 - false_negatives_3: 5136.0000 - false_positives_3: 0.0000e+00\n",
            "Epoch 95/1000\n",
            "4/4 [==============================] - 0s 7ms/step - loss: 0.0048 - accuracy: 0.0200 - false_negatives_3: 5121.0000 - false_positives_3: 0.0000e+00\n",
            "Epoch 96/1000\n",
            "4/4 [==============================] - 0s 9ms/step - loss: 0.0048 - accuracy: 0.0100 - false_negatives_3: 5152.0000 - false_positives_3: 0.0000e+00\n",
            "Epoch 97/1000\n",
            "4/4 [==============================] - 0s 9ms/step - loss: 0.0048 - accuracy: 0.0200 - false_negatives_3: 5078.0000 - false_positives_3: 0.0000e+00\n",
            "Epoch 98/1000\n",
            "4/4 [==============================] - 0s 8ms/step - loss: 0.0047 - accuracy: 0.0400 - false_negatives_3: 5119.0000 - false_positives_3: 0.0000e+00\n",
            "Epoch 99/1000\n",
            "4/4 [==============================] - 0s 9ms/step - loss: 0.0047 - accuracy: 0.0300 - false_negatives_3: 5153.0000 - false_positives_3: 0.0000e+00\n",
            "Epoch 100/1000\n",
            "4/4 [==============================] - 0s 7ms/step - loss: 0.0047 - accuracy: 0.0200 - false_negatives_3: 5103.0000 - false_positives_3: 0.0000e+00\n",
            "Epoch 101/1000\n",
            "4/4 [==============================] - 0s 7ms/step - loss: 0.0047 - accuracy: 0.0100 - false_negatives_3: 5189.0000 - false_positives_3: 0.0000e+00\n",
            "Epoch 102/1000\n",
            "4/4 [==============================] - 0s 8ms/step - loss: 0.0047 - accuracy: 0.0200 - false_negatives_3: 5068.0000 - false_positives_3: 0.0000e+00\n",
            "Epoch 103/1000\n",
            "4/4 [==============================] - 0s 9ms/step - loss: 0.0047 - accuracy: 0.0200 - false_negatives_3: 5189.0000 - false_positives_3: 0.0000e+00\n",
            "Epoch 104/1000\n",
            "4/4 [==============================] - 0s 9ms/step - loss: 0.0046 - accuracy: 0.0200 - false_negatives_3: 5081.0000 - false_positives_3: 0.0000e+00\n",
            "Epoch 105/1000\n",
            "4/4 [==============================] - 0s 9ms/step - loss: 0.0046 - accuracy: 0.0100 - false_negatives_3: 5160.0000 - false_positives_3: 0.0000e+00\n",
            "Epoch 106/1000\n",
            "4/4 [==============================] - 0s 7ms/step - loss: 0.0046 - accuracy: 0.0000e+00 - false_negatives_3: 5118.0000 - false_positives_3: 0.0000e+00\n",
            "Epoch 107/1000\n",
            "4/4 [==============================] - 0s 12ms/step - loss: 0.0046 - accuracy: 0.0100 - false_negatives_3: 5126.0000 - false_positives_3: 0.0000e+00\n",
            "Epoch 108/1000\n",
            "4/4 [==============================] - 0s 7ms/step - loss: 0.0046 - accuracy: 0.0100 - false_negatives_3: 5132.0000 - false_positives_3: 0.0000e+00\n",
            "Epoch 109/1000\n",
            "4/4 [==============================] - 0s 8ms/step - loss: 0.0046 - accuracy: 0.0100 - false_negatives_3: 5118.0000 - false_positives_3: 0.0000e+00\n",
            "Epoch 110/1000\n",
            "4/4 [==============================] - 0s 9ms/step - loss: 0.0046 - accuracy: 0.0100 - false_negatives_3: 5143.0000 - false_positives_3: 0.0000e+00\n",
            "Epoch 111/1000\n",
            "4/4 [==============================] - 0s 9ms/step - loss: 0.0046 - accuracy: 0.0100 - false_negatives_3: 5099.0000 - false_positives_3: 0.0000e+00\n",
            "Epoch 112/1000\n",
            "4/4 [==============================] - 0s 10ms/step - loss: 0.0046 - accuracy: 0.0300 - false_negatives_3: 5156.0000 - false_positives_3: 0.0000e+00\n",
            "Epoch 113/1000\n",
            "4/4 [==============================] - 0s 7ms/step - loss: 0.0046 - accuracy: 0.0100 - false_negatives_3: 5178.0000 - false_positives_3: 0.0000e+00\n",
            "Epoch 114/1000\n",
            "4/4 [==============================] - 0s 8ms/step - loss: 0.0046 - accuracy: 0.0200 - false_negatives_3: 5118.0000 - false_positives_3: 0.0000e+00\n",
            "Epoch 115/1000\n",
            "4/4 [==============================] - 0s 8ms/step - loss: 0.0045 - accuracy: 0.0200 - false_negatives_3: 5133.0000 - false_positives_3: 0.0000e+00\n",
            "Epoch 116/1000\n",
            "4/4 [==============================] - 0s 7ms/step - loss: 0.0045 - accuracy: 0.0200 - false_negatives_3: 5180.0000 - false_positives_3: 0.0000e+00\n",
            "Epoch 117/1000\n",
            "4/4 [==============================] - 0s 8ms/step - loss: 0.0045 - accuracy: 0.0300 - false_negatives_3: 5140.0000 - false_positives_3: 0.0000e+00\n",
            "Epoch 118/1000\n",
            "4/4 [==============================] - 0s 8ms/step - loss: 0.0045 - accuracy: 0.0400 - false_negatives_3: 5150.0000 - false_positives_3: 0.0000e+00\n",
            "Epoch 119/1000\n",
            "4/4 [==============================] - 0s 10ms/step - loss: 0.0045 - accuracy: 0.0300 - false_negatives_3: 5170.0000 - false_positives_3: 0.0000e+00\n",
            "Epoch 120/1000\n",
            "4/4 [==============================] - 0s 10ms/step - loss: 0.0045 - accuracy: 0.0400 - false_negatives_3: 5131.0000 - false_positives_3: 0.0000e+00\n",
            "Epoch 121/1000\n",
            "4/4 [==============================] - 0s 11ms/step - loss: 0.0045 - accuracy: 0.0300 - false_negatives_3: 5140.0000 - false_positives_3: 0.0000e+00\n",
            "Epoch 122/1000\n",
            "4/4 [==============================] - 0s 7ms/step - loss: 0.0045 - accuracy: 0.0100 - false_negatives_3: 5155.0000 - false_positives_3: 0.0000e+00\n",
            "Epoch 123/1000\n",
            "4/4 [==============================] - 0s 8ms/step - loss: 0.0045 - accuracy: 0.0000e+00 - false_negatives_3: 5156.0000 - false_positives_3: 0.0000e+00\n",
            "Epoch 124/1000\n",
            "4/4 [==============================] - 0s 7ms/step - loss: 0.0045 - accuracy: 0.0300 - false_negatives_3: 5116.0000 - false_positives_3: 0.0000e+00\n",
            "Epoch 125/1000\n",
            "4/4 [==============================] - 0s 8ms/step - loss: 0.0044 - accuracy: 0.0300 - false_negatives_3: 5143.0000 - false_positives_3: 0.0000e+00\n",
            "Epoch 126/1000\n",
            "4/4 [==============================] - 0s 8ms/step - loss: 0.0044 - accuracy: 0.0100 - false_negatives_3: 5159.0000 - false_positives_3: 0.0000e+00\n",
            "Epoch 127/1000\n",
            "4/4 [==============================] - 0s 7ms/step - loss: 0.0045 - accuracy: 0.0300 - false_negatives_3: 5142.0000 - false_positives_3: 0.0000e+00\n",
            "Epoch 128/1000\n",
            "4/4 [==============================] - 0s 9ms/step - loss: 0.0044 - accuracy: 0.0200 - false_negatives_3: 5143.0000 - false_positives_3: 0.0000e+00\n",
            "Epoch 129/1000\n",
            "4/4 [==============================] - 0s 8ms/step - loss: 0.0045 - accuracy: 0.0300 - false_negatives_3: 5155.0000 - false_positives_3: 0.0000e+00\n",
            "Epoch 130/1000\n",
            "4/4 [==============================] - 0s 7ms/step - loss: 0.0045 - accuracy: 0.0200 - false_negatives_3: 5136.0000 - false_positives_3: 0.0000e+00\n",
            "Epoch 131/1000\n",
            "4/4 [==============================] - 0s 8ms/step - loss: 0.0045 - accuracy: 0.0300 - false_negatives_3: 5170.0000 - false_positives_3: 0.0000e+00\n",
            "Epoch 132/1000\n",
            "4/4 [==============================] - 0s 13ms/step - loss: 0.0045 - accuracy: 0.0500 - false_negatives_3: 5164.0000 - false_positives_3: 0.0000e+00\n",
            "Epoch 133/1000\n",
            "4/4 [==============================] - 0s 8ms/step - loss: 0.0045 - accuracy: 0.0100 - false_negatives_3: 5137.0000 - false_positives_3: 0.0000e+00\n",
            "Epoch 134/1000\n",
            "4/4 [==============================] - 0s 8ms/step - loss: 0.0045 - accuracy: 0.0200 - false_negatives_3: 5177.0000 - false_positives_3: 0.0000e+00\n",
            "Epoch 135/1000\n",
            "4/4 [==============================] - 0s 7ms/step - loss: 0.0044 - accuracy: 0.0200 - false_negatives_3: 5108.0000 - false_positives_3: 0.0000e+00\n",
            "Epoch 136/1000\n",
            "4/4 [==============================] - 0s 11ms/step - loss: 0.0045 - accuracy: 0.0100 - false_negatives_3: 5185.0000 - false_positives_3: 0.0000e+00\n",
            "Epoch 137/1000\n",
            "4/4 [==============================] - 0s 8ms/step - loss: 0.0045 - accuracy: 0.0200 - false_negatives_3: 5134.0000 - false_positives_3: 0.0000e+00\n",
            "Epoch 138/1000\n",
            "4/4 [==============================] - 0s 9ms/step - loss: 0.0044 - accuracy: 0.0100 - false_negatives_3: 5127.0000 - false_positives_3: 0.0000e+00\n",
            "Epoch 139/1000\n",
            "4/4 [==============================] - 0s 8ms/step - loss: 0.0045 - accuracy: 0.0100 - false_negatives_3: 5195.0000 - false_positives_3: 0.0000e+00\n",
            "Epoch 140/1000\n",
            "4/4 [==============================] - 0s 8ms/step - loss: 0.0045 - accuracy: 0.0200 - false_negatives_3: 5138.0000 - false_positives_3: 0.0000e+00\n",
            "Epoch 141/1000\n",
            "4/4 [==============================] - 0s 8ms/step - loss: 0.0045 - accuracy: 0.0400 - false_negatives_3: 5155.0000 - false_positives_3: 0.0000e+00\n",
            "Epoch 142/1000\n",
            "4/4 [==============================] - 0s 10ms/step - loss: 0.0044 - accuracy: 0.0300 - false_negatives_3: 5161.0000 - false_positives_3: 0.0000e+00\n",
            "Epoch 143/1000\n",
            "4/4 [==============================] - 0s 8ms/step - loss: 0.0044 - accuracy: 0.0500 - false_negatives_3: 5152.0000 - false_positives_3: 0.0000e+00\n",
            "Epoch 144/1000\n",
            "4/4 [==============================] - 0s 7ms/step - loss: 0.0045 - accuracy: 0.0100 - false_negatives_3: 5187.0000 - false_positives_3: 0.0000e+00\n",
            "Epoch 145/1000\n",
            "4/4 [==============================] - 0s 10ms/step - loss: 0.0045 - accuracy: 0.0200 - false_negatives_3: 5081.0000 - false_positives_3: 0.0000e+00\n",
            "Epoch 146/1000\n",
            "4/4 [==============================] - 0s 8ms/step - loss: 0.0045 - accuracy: 0.0300 - false_negatives_3: 5181.0000 - false_positives_3: 0.0000e+00\n",
            "Epoch 147/1000\n",
            "4/4 [==============================] - 0s 9ms/step - loss: 0.0045 - accuracy: 0.0200 - false_negatives_3: 5099.0000 - false_positives_3: 0.0000e+00\n",
            "Epoch 148/1000\n",
            "4/4 [==============================] - 0s 8ms/step - loss: 0.0045 - accuracy: 0.0300 - false_negatives_3: 5140.0000 - false_positives_3: 0.0000e+00\n",
            "Epoch 149/1000\n",
            "4/4 [==============================] - 0s 7ms/step - loss: 0.0045 - accuracy: 0.0200 - false_negatives_3: 5100.0000 - false_positives_3: 0.0000e+00\n",
            "Epoch 150/1000\n",
            "4/4 [==============================] - 0s 8ms/step - loss: 0.0045 - accuracy: 0.0100 - false_negatives_3: 5142.0000 - false_positives_3: 0.0000e+00\n",
            "Epoch 151/1000\n",
            "4/4 [==============================] - 0s 7ms/step - loss: 0.0045 - accuracy: 0.0200 - false_negatives_3: 5224.0000 - false_positives_3: 0.0000e+00\n",
            "Epoch 152/1000\n",
            "4/4 [==============================] - 0s 8ms/step - loss: 0.0046 - accuracy: 0.0200 - false_negatives_3: 5082.0000 - false_positives_3: 0.0000e+00\n",
            "Epoch 153/1000\n",
            "4/4 [==============================] - 0s 9ms/step - loss: 0.0046 - accuracy: 0.0300 - false_negatives_3: 5239.0000 - false_positives_3: 0.0000e+00\n",
            "Epoch 154/1000\n",
            "4/4 [==============================] - 0s 8ms/step - loss: 0.0046 - accuracy: 0.0500 - false_negatives_3: 5059.0000 - false_positives_3: 0.0000e+00\n",
            "Epoch 155/1000\n",
            "4/4 [==============================] - 0s 9ms/step - loss: 0.0046 - accuracy: 0.0300 - false_negatives_3: 5235.0000 - false_positives_3: 0.0000e+00\n",
            "Epoch 156/1000\n",
            "4/4 [==============================] - 0s 9ms/step - loss: 0.0046 - accuracy: 0.0200 - false_negatives_3: 5105.0000 - false_positives_3: 0.0000e+00\n",
            "Epoch 157/1000\n",
            "4/4 [==============================] - 0s 11ms/step - loss: 0.0046 - accuracy: 0.0100 - false_negatives_3: 5170.0000 - false_positives_3: 0.0000e+00\n",
            "Epoch 158/1000\n",
            "4/4 [==============================] - 0s 9ms/step - loss: 0.0046 - accuracy: 0.0200 - false_negatives_3: 5147.0000 - false_positives_3: 0.0000e+00\n",
            "Epoch 159/1000\n",
            "4/4 [==============================] - 0s 8ms/step - loss: 0.0045 - accuracy: 0.0500 - false_negatives_3: 5106.0000 - false_positives_3: 0.0000e+00\n",
            "Epoch 160/1000\n",
            "4/4 [==============================] - 0s 9ms/step - loss: 0.0046 - accuracy: 0.0100 - false_negatives_3: 5188.0000 - false_positives_3: 0.0000e+00\n",
            "Epoch 161/1000\n",
            "4/4 [==============================] - 0s 9ms/step - loss: 0.0046 - accuracy: 0.0000e+00 - false_negatives_3: 5096.0000 - false_positives_3: 0.0000e+00\n",
            "Epoch 162/1000\n",
            "4/4 [==============================] - 0s 9ms/step - loss: 0.0046 - accuracy: 0.0300 - false_negatives_3: 5192.0000 - false_positives_3: 0.0000e+00\n",
            "Epoch 163/1000\n",
            "4/4 [==============================] - 0s 7ms/step - loss: 0.0045 - accuracy: 0.0000e+00 - false_negatives_3: 5162.0000 - false_positives_3: 0.0000e+00\n",
            "Epoch 164/1000\n",
            "4/4 [==============================] - 0s 7ms/step - loss: 0.0045 - accuracy: 0.0200 - false_negatives_3: 5171.0000 - false_positives_3: 0.0000e+00\n",
            "Epoch 165/1000\n",
            "4/4 [==============================] - 0s 10ms/step - loss: 0.0045 - accuracy: 0.0700 - false_negatives_3: 5137.0000 - false_positives_3: 0.0000e+00\n",
            "Epoch 166/1000\n",
            "4/4 [==============================] - 0s 9ms/step - loss: 0.0045 - accuracy: 0.0100 - false_negatives_3: 5135.0000 - false_positives_3: 0.0000e+00\n",
            "Epoch 167/1000\n",
            "4/4 [==============================] - 0s 8ms/step - loss: 0.0045 - accuracy: 0.0300 - false_negatives_3: 5170.0000 - false_positives_3: 0.0000e+00\n",
            "Epoch 168/1000\n",
            "4/4 [==============================] - 0s 9ms/step - loss: 0.0045 - accuracy: 0.0500 - false_negatives_3: 5122.0000 - false_positives_3: 0.0000e+00\n",
            "Epoch 169/1000\n",
            "4/4 [==============================] - 0s 10ms/step - loss: 0.0045 - accuracy: 0.0400 - false_negatives_3: 5164.0000 - false_positives_3: 0.0000e+00\n",
            "Epoch 170/1000\n",
            "4/4 [==============================] - 0s 7ms/step - loss: 0.0045 - accuracy: 0.0400 - false_negatives_3: 5176.0000 - false_positives_3: 0.0000e+00\n",
            "Epoch 171/1000\n",
            "4/4 [==============================] - 0s 7ms/step - loss: 0.0044 - accuracy: 0.0100 - false_negatives_3: 5156.0000 - false_positives_3: 0.0000e+00\n",
            "Epoch 172/1000\n",
            "4/4 [==============================] - 0s 8ms/step - loss: 0.0045 - accuracy: 0.0300 - false_negatives_3: 5151.0000 - false_positives_3: 0.0000e+00\n",
            "Epoch 173/1000\n",
            "4/4 [==============================] - 0s 8ms/step - loss: 0.0045 - accuracy: 0.0500 - false_negatives_3: 5126.0000 - false_positives_3: 0.0000e+00\n",
            "Epoch 174/1000\n",
            "4/4 [==============================] - 0s 9ms/step - loss: 0.0044 - accuracy: 0.0500 - false_negatives_3: 5172.0000 - false_positives_3: 0.0000e+00\n",
            "Epoch 175/1000\n",
            "4/4 [==============================] - 0s 8ms/step - loss: 0.0045 - accuracy: 0.0200 - false_negatives_3: 5144.0000 - false_positives_3: 0.0000e+00\n",
            "Epoch 176/1000\n",
            "4/4 [==============================] - 0s 8ms/step - loss: 0.0045 - accuracy: 0.0200 - false_negatives_3: 5179.0000 - false_positives_3: 0.0000e+00\n",
            "Epoch 177/1000\n",
            "4/4 [==============================] - 0s 8ms/step - loss: 0.0045 - accuracy: 0.0500 - false_negatives_3: 5134.0000 - false_positives_3: 0.0000e+00\n",
            "Epoch 178/1000\n",
            "4/4 [==============================] - 0s 7ms/step - loss: 0.0046 - accuracy: 0.0600 - false_negatives_3: 5177.0000 - false_positives_3: 0.0000e+00\n",
            "Epoch 179/1000\n",
            "4/4 [==============================] - 0s 7ms/step - loss: 0.0046 - accuracy: 0.0500 - false_negatives_3: 5169.0000 - false_positives_3: 0.0000e+00\n",
            "Epoch 180/1000\n",
            "4/4 [==============================] - 0s 12ms/step - loss: 0.0047 - accuracy: 0.0100 - false_negatives_3: 5182.0000 - false_positives_3: 0.0000e+00\n",
            "Epoch 181/1000\n",
            "4/4 [==============================] - 0s 10ms/step - loss: 0.0047 - accuracy: 0.0300 - false_negatives_3: 5111.0000 - false_positives_3: 0.0000e+00\n",
            "Epoch 182/1000\n",
            "4/4 [==============================] - 0s 9ms/step - loss: 0.0047 - accuracy: 0.0400 - false_negatives_3: 5162.0000 - false_positives_3: 0.0000e+00\n",
            "Epoch 183/1000\n",
            "4/4 [==============================] - 0s 9ms/step - loss: 0.0047 - accuracy: 0.0500 - false_negatives_3: 5131.0000 - false_positives_3: 0.0000e+00\n",
            "Epoch 184/1000\n",
            "4/4 [==============================] - 0s 8ms/step - loss: 0.0046 - accuracy: 0.0400 - false_negatives_3: 5102.0000 - false_positives_3: 0.0000e+00\n",
            "Epoch 185/1000\n",
            "4/4 [==============================] - 0s 7ms/step - loss: 0.0046 - accuracy: 0.0800 - false_negatives_3: 5207.0000 - false_positives_3: 0.0000e+00\n",
            "Epoch 186/1000\n",
            "4/4 [==============================] - 0s 10ms/step - loss: 0.0047 - accuracy: 0.0200 - false_negatives_3: 5091.0000 - false_positives_3: 0.0000e+00\n",
            "Epoch 187/1000\n",
            "4/4 [==============================] - 0s 9ms/step - loss: 0.0046 - accuracy: 0.0700 - false_negatives_3: 5184.0000 - false_positives_3: 0.0000e+00\n",
            "Epoch 188/1000\n",
            "4/4 [==============================] - 0s 8ms/step - loss: 0.0046 - accuracy: 0.0300 - false_negatives_3: 5111.0000 - false_positives_3: 0.0000e+00\n",
            "Epoch 189/1000\n",
            "4/4 [==============================] - 0s 9ms/step - loss: 0.0046 - accuracy: 0.0200 - false_negatives_3: 5166.0000 - false_positives_3: 0.0000e+00\n",
            "Epoch 190/1000\n",
            "4/4 [==============================] - 0s 9ms/step - loss: 0.0045 - accuracy: 0.0400 - false_negatives_3: 5148.0000 - false_positives_3: 0.0000e+00\n",
            "Epoch 191/1000\n",
            "4/4 [==============================] - 0s 8ms/step - loss: 0.0046 - accuracy: 0.0300 - false_negatives_3: 5114.0000 - false_positives_3: 0.0000e+00\n",
            "Epoch 192/1000\n",
            "4/4 [==============================] - 0s 8ms/step - loss: 0.0046 - accuracy: 0.0200 - false_negatives_3: 5142.0000 - false_positives_3: 0.0000e+00\n",
            "Epoch 193/1000\n",
            "4/4 [==============================] - 0s 11ms/step - loss: 0.0045 - accuracy: 0.0400 - false_negatives_3: 5158.0000 - false_positives_3: 0.0000e+00\n",
            "Epoch 194/1000\n",
            "4/4 [==============================] - 0s 9ms/step - loss: 0.0045 - accuracy: 0.0300 - false_negatives_3: 5121.0000 - false_positives_3: 0.0000e+00\n",
            "Epoch 195/1000\n",
            "4/4 [==============================] - 0s 9ms/step - loss: 0.0045 - accuracy: 0.0600 - false_negatives_3: 5175.0000 - false_positives_3: 0.0000e+00\n",
            "Epoch 196/1000\n",
            "4/4 [==============================] - 0s 12ms/step - loss: 0.0047 - accuracy: 0.0200 - false_negatives_3: 5143.0000 - false_positives_3: 0.0000e+00\n",
            "Epoch 197/1000\n",
            "4/4 [==============================] - 0s 13ms/step - loss: 0.0047 - accuracy: 0.0200 - false_negatives_3: 5115.0000 - false_positives_3: 0.0000e+00\n",
            "Epoch 198/1000\n",
            "4/4 [==============================] - 0s 8ms/step - loss: 0.0047 - accuracy: 0.0500 - false_negatives_3: 5192.0000 - false_positives_3: 0.0000e+00\n",
            "Epoch 199/1000\n",
            "4/4 [==============================] - 0s 9ms/step - loss: 0.0049 - accuracy: 0.0100 - false_negatives_3: 5109.0000 - false_positives_3: 0.0000e+00\n",
            "Epoch 200/1000\n",
            "4/4 [==============================] - 0s 7ms/step - loss: 0.0052 - accuracy: 0.0300 - false_negatives_3: 5246.0000 - false_positives_3: 0.0000e+00\n",
            "Epoch 201/1000\n",
            "4/4 [==============================] - 0s 8ms/step - loss: 0.0051 - accuracy: 0.0300 - false_negatives_3: 5066.0000 - false_positives_3: 0.0000e+00\n",
            "Epoch 202/1000\n",
            "4/4 [==============================] - 0s 9ms/step - loss: 0.0050 - accuracy: 0.0400 - false_negatives_3: 5218.0000 - false_positives_3: 0.0000e+00\n",
            "Epoch 203/1000\n",
            "4/4 [==============================] - 0s 10ms/step - loss: 0.0051 - accuracy: 0.0200 - false_negatives_3: 5118.0000 - false_positives_3: 0.0000e+00\n",
            "Epoch 204/1000\n",
            "4/4 [==============================] - 0s 8ms/step - loss: 0.0051 - accuracy: 0.0400 - false_negatives_3: 5194.0000 - false_positives_3: 0.0000e+00\n",
            "Epoch 205/1000\n",
            "4/4 [==============================] - 0s 8ms/step - loss: 0.0050 - accuracy: 0.0000e+00 - false_negatives_3: 5079.0000 - false_positives_3: 0.0000e+00\n",
            "Epoch 206/1000\n",
            "4/4 [==============================] - 0s 8ms/step - loss: 0.0049 - accuracy: 0.0400 - false_negatives_3: 5146.0000 - false_positives_3: 0.0000e+00\n",
            "Epoch 207/1000\n",
            "4/4 [==============================] - 0s 7ms/step - loss: 0.0051 - accuracy: 0.0200 - false_negatives_3: 5134.0000 - false_positives_3: 0.0000e+00\n",
            "Epoch 208/1000\n",
            "4/4 [==============================] - 0s 8ms/step - loss: 0.0051 - accuracy: 0.0100 - false_negatives_3: 5159.0000 - false_positives_3: 0.0000e+00\n",
            "Epoch 209/1000\n",
            "4/4 [==============================] - 0s 10ms/step - loss: 0.0052 - accuracy: 0.0200 - false_negatives_3: 5102.0000 - false_positives_3: 0.0000e+00\n",
            "Epoch 210/1000\n",
            "4/4 [==============================] - 0s 8ms/step - loss: 0.0051 - accuracy: 0.0500 - false_negatives_3: 5165.0000 - false_positives_3: 0.0000e+00\n",
            "Epoch 211/1000\n",
            "4/4 [==============================] - 0s 10ms/step - loss: 0.0050 - accuracy: 0.0300 - false_negatives_3: 5141.0000 - false_positives_3: 0.0000e+00\n",
            "Epoch 212/1000\n",
            "4/4 [==============================] - 0s 8ms/step - loss: 0.0052 - accuracy: 0.0300 - false_negatives_3: 5136.0000 - false_positives_3: 0.0000e+00\n",
            "Epoch 213/1000\n",
            "4/4 [==============================] - 0s 8ms/step - loss: 0.0054 - accuracy: 0.0400 - false_negatives_3: 5214.0000 - false_positives_3: 0.0000e+00\n",
            "Epoch 214/1000\n",
            "4/4 [==============================] - 0s 9ms/step - loss: 0.0054 - accuracy: 0.0100 - false_negatives_3: 5052.0000 - false_positives_3: 0.0000e+00\n",
            "Epoch 215/1000\n",
            "4/4 [==============================] - 0s 8ms/step - loss: 0.0053 - accuracy: 0.0300 - false_negatives_3: 5214.0000 - false_positives_3: 0.0000e+00\n",
            "Epoch 216/1000\n",
            "4/4 [==============================] - 0s 9ms/step - loss: 0.0052 - accuracy: 0.0100 - false_negatives_3: 5117.0000 - false_positives_3: 0.0000e+00\n",
            "Epoch 217/1000\n",
            "4/4 [==============================] - 0s 8ms/step - loss: 0.0050 - accuracy: 0.0300 - false_negatives_3: 5098.0000 - false_positives_3: 0.0000e+00\n",
            "Epoch 218/1000\n",
            "4/4 [==============================] - 0s 8ms/step - loss: 0.0050 - accuracy: 0.0500 - false_negatives_3: 5116.0000 - false_positives_3: 0.0000e+00\n",
            "Epoch 219/1000\n",
            "4/4 [==============================] - 0s 9ms/step - loss: 0.0050 - accuracy: 0.0500 - false_negatives_3: 5196.0000 - false_positives_3: 0.0000e+00\n",
            "Epoch 220/1000\n",
            "4/4 [==============================] - 0s 8ms/step - loss: 0.0050 - accuracy: 0.0600 - false_negatives_3: 5023.0000 - false_positives_3: 0.0000e+00\n",
            "Epoch 221/1000\n",
            "4/4 [==============================] - 0s 7ms/step - loss: 0.0049 - accuracy: 0.0500 - false_negatives_3: 5119.0000 - false_positives_3: 0.0000e+00\n",
            "Epoch 222/1000\n",
            "4/4 [==============================] - 0s 7ms/step - loss: 0.0050 - accuracy: 0.0100 - false_negatives_3: 5176.0000 - false_positives_3: 0.0000e+00\n",
            "Epoch 223/1000\n",
            "4/4 [==============================] - 0s 8ms/step - loss: 0.0050 - accuracy: 0.0300 - false_negatives_3: 5079.0000 - false_positives_3: 0.0000e+00\n",
            "Epoch 224/1000\n",
            "4/4 [==============================] - 0s 7ms/step - loss: 0.0049 - accuracy: 0.0300 - false_negatives_3: 5134.0000 - false_positives_3: 0.0000e+00\n",
            "Epoch 225/1000\n",
            "4/4 [==============================] - 0s 9ms/step - loss: 0.0048 - accuracy: 0.0500 - false_negatives_3: 5152.0000 - false_positives_3: 0.0000e+00\n",
            "Epoch 226/1000\n",
            "4/4 [==============================] - 0s 8ms/step - loss: 0.0047 - accuracy: 0.0400 - false_negatives_3: 5092.0000 - false_positives_3: 0.0000e+00\n",
            "Epoch 227/1000\n",
            "4/4 [==============================] - 0s 8ms/step - loss: 0.0047 - accuracy: 0.0500 - false_negatives_3: 5147.0000 - false_positives_3: 0.0000e+00\n",
            "Epoch 228/1000\n",
            "4/4 [==============================] - 0s 8ms/step - loss: 0.0047 - accuracy: 0.0400 - false_negatives_3: 5124.0000 - false_positives_3: 0.0000e+00\n",
            "Epoch 229/1000\n",
            "4/4 [==============================] - 0s 8ms/step - loss: 0.0046 - accuracy: 0.0300 - false_negatives_3: 5096.0000 - false_positives_3: 0.0000e+00\n",
            "Epoch 230/1000\n",
            "4/4 [==============================] - 0s 9ms/step - loss: 0.0046 - accuracy: 0.0400 - false_negatives_3: 5186.0000 - false_positives_3: 0.0000e+00\n",
            "Epoch 231/1000\n",
            "4/4 [==============================] - 0s 9ms/step - loss: 0.0046 - accuracy: 0.0500 - false_negatives_3: 5042.0000 - false_positives_3: 0.0000e+00\n",
            "Epoch 232/1000\n",
            "4/4 [==============================] - 0s 9ms/step - loss: 0.0046 - accuracy: 0.0200 - false_negatives_3: 5180.0000 - false_positives_3: 0.0000e+00\n",
            "Epoch 233/1000\n",
            "4/4 [==============================] - 0s 9ms/step - loss: 0.0045 - accuracy: 0.0400 - false_negatives_3: 5094.0000 - false_positives_3: 0.0000e+00\n",
            "Epoch 234/1000\n",
            "4/4 [==============================] - 0s 7ms/step - loss: 0.0045 - accuracy: 0.0100 - false_negatives_3: 5168.0000 - false_positives_3: 0.0000e+00\n",
            "Epoch 235/1000\n",
            "4/4 [==============================] - 0s 9ms/step - loss: 0.0045 - accuracy: 0.0600 - false_negatives_3: 5169.0000 - false_positives_3: 0.0000e+00\n",
            "Epoch 236/1000\n",
            "4/4 [==============================] - 0s 9ms/step - loss: 0.0045 - accuracy: 0.0500 - false_negatives_3: 5120.0000 - false_positives_3: 0.0000e+00\n",
            "Epoch 237/1000\n",
            "4/4 [==============================] - 0s 10ms/step - loss: 0.0045 - accuracy: 0.0300 - false_negatives_3: 5145.0000 - false_positives_3: 0.0000e+00\n",
            "Epoch 238/1000\n",
            "4/4 [==============================] - 0s 11ms/step - loss: 0.0045 - accuracy: 0.0300 - false_negatives_3: 5129.0000 - false_positives_3: 0.0000e+00\n",
            "Epoch 239/1000\n",
            "4/4 [==============================] - 0s 8ms/step - loss: 0.0045 - accuracy: 0.0600 - false_negatives_3: 5148.0000 - false_positives_3: 0.0000e+00\n",
            "Epoch 240/1000\n",
            "4/4 [==============================] - 0s 7ms/step - loss: 0.0045 - accuracy: 0.0400 - false_negatives_3: 5129.0000 - false_positives_3: 0.0000e+00\n",
            "Epoch 241/1000\n",
            "4/4 [==============================] - 0s 8ms/step - loss: 0.0045 - accuracy: 0.0500 - false_negatives_3: 5081.0000 - false_positives_3: 0.0000e+00\n",
            "Epoch 242/1000\n",
            "4/4 [==============================] - 0s 8ms/step - loss: 0.0044 - accuracy: 0.0200 - false_negatives_3: 5191.0000 - false_positives_3: 0.0000e+00\n",
            "Epoch 243/1000\n",
            "4/4 [==============================] - 0s 9ms/step - loss: 0.0045 - accuracy: 0.0100 - false_negatives_3: 5099.0000 - false_positives_3: 0.0000e+00\n",
            "Epoch 244/1000\n",
            "4/4 [==============================] - 0s 9ms/step - loss: 0.0045 - accuracy: 0.0100 - false_negatives_3: 5209.0000 - false_positives_3: 0.0000e+00\n",
            "Epoch 245/1000\n",
            "4/4 [==============================] - 0s 8ms/step - loss: 0.0044 - accuracy: 0.0400 - false_negatives_3: 5124.0000 - false_positives_3: 0.0000e+00\n",
            "Epoch 246/1000\n",
            "4/4 [==============================] - 0s 9ms/step - loss: 0.0044 - accuracy: 0.0800 - false_negatives_3: 5097.0000 - false_positives_3: 0.0000e+00\n",
            "Epoch 247/1000\n",
            "4/4 [==============================] - 0s 10ms/step - loss: 0.0044 - accuracy: 0.0700 - false_negatives_3: 5167.0000 - false_positives_3: 0.0000e+00\n",
            "Epoch 248/1000\n",
            "4/4 [==============================] - 0s 10ms/step - loss: 0.0044 - accuracy: 0.0500 - false_negatives_3: 5111.0000 - false_positives_3: 0.0000e+00\n",
            "Epoch 249/1000\n",
            "4/4 [==============================] - 0s 11ms/step - loss: 0.0044 - accuracy: 0.0400 - false_negatives_3: 5155.0000 - false_positives_3: 0.0000e+00\n",
            "Epoch 250/1000\n",
            "4/4 [==============================] - 0s 8ms/step - loss: 0.0044 - accuracy: 0.0800 - false_negatives_3: 5168.0000 - false_positives_3: 0.0000e+00\n",
            "Epoch 251/1000\n",
            "4/4 [==============================] - 0s 12ms/step - loss: 0.0044 - accuracy: 0.0600 - false_negatives_3: 5114.0000 - false_positives_3: 0.0000e+00\n",
            "Epoch 252/1000\n",
            "4/4 [==============================] - 0s 8ms/step - loss: 0.0044 - accuracy: 0.0300 - false_negatives_3: 5177.0000 - false_positives_3: 0.0000e+00\n",
            "Epoch 253/1000\n",
            "4/4 [==============================] - 0s 9ms/step - loss: 0.0044 - accuracy: 0.0100 - false_negatives_3: 5104.0000 - false_positives_3: 0.0000e+00\n",
            "Epoch 254/1000\n",
            "4/4 [==============================] - 0s 8ms/step - loss: 0.0044 - accuracy: 0.0500 - false_negatives_3: 5173.0000 - false_positives_3: 0.0000e+00\n",
            "Epoch 255/1000\n",
            "4/4 [==============================] - 0s 8ms/step - loss: 0.0044 - accuracy: 0.0400 - false_negatives_3: 5156.0000 - false_positives_3: 0.0000e+00\n",
            "Epoch 256/1000\n",
            "4/4 [==============================] - 0s 7ms/step - loss: 0.0044 - accuracy: 0.0200 - false_negatives_3: 5115.0000 - false_positives_3: 0.0000e+00\n",
            "Epoch 257/1000\n",
            "4/4 [==============================] - 0s 8ms/step - loss: 0.0044 - accuracy: 0.0400 - false_negatives_3: 5187.0000 - false_positives_3: 0.0000e+00\n",
            "Epoch 258/1000\n",
            "4/4 [==============================] - 0s 8ms/step - loss: 0.0044 - accuracy: 0.0300 - false_negatives_3: 5086.0000 - false_positives_3: 0.0000e+00\n",
            "Epoch 259/1000\n",
            "4/4 [==============================] - 0s 11ms/step - loss: 0.0044 - accuracy: 0.0700 - false_negatives_3: 5147.0000 - false_positives_3: 0.0000e+00\n",
            "Epoch 260/1000\n",
            "4/4 [==============================] - 0s 10ms/step - loss: 0.0043 - accuracy: 0.0400 - false_negatives_3: 5151.0000 - false_positives_3: 0.0000e+00\n",
            "Epoch 261/1000\n",
            "4/4 [==============================] - 0s 11ms/step - loss: 0.0044 - accuracy: 0.0700 - false_negatives_3: 5139.0000 - false_positives_3: 0.0000e+00\n",
            "Epoch 262/1000\n",
            "4/4 [==============================] - 0s 11ms/step - loss: 0.0044 - accuracy: 0.0700 - false_negatives_3: 5136.0000 - false_positives_3: 0.0000e+00\n",
            "Epoch 263/1000\n",
            "4/4 [==============================] - 0s 11ms/step - loss: 0.0044 - accuracy: 0.0400 - false_negatives_3: 5155.0000 - false_positives_3: 0.0000e+00\n",
            "Epoch 264/1000\n",
            "4/4 [==============================] - 0s 10ms/step - loss: 0.0044 - accuracy: 0.0700 - false_negatives_3: 5156.0000 - false_positives_3: 0.0000e+00\n",
            "Epoch 265/1000\n",
            "4/4 [==============================] - 0s 9ms/step - loss: 0.0044 - accuracy: 0.0300 - false_negatives_3: 5203.0000 - false_positives_3: 0.0000e+00\n",
            "Epoch 266/1000\n",
            "4/4 [==============================] - 0s 12ms/step - loss: 0.0044 - accuracy: 0.0500 - false_negatives_3: 5127.0000 - false_positives_3: 0.0000e+00\n",
            "Epoch 267/1000\n",
            "4/4 [==============================] - 0s 11ms/step - loss: 0.0043 - accuracy: 0.0600 - false_negatives_3: 5148.0000 - false_positives_3: 0.0000e+00\n",
            "Epoch 268/1000\n",
            "4/4 [==============================] - 0s 9ms/step - loss: 0.0043 - accuracy: 0.0800 - false_negatives_3: 5156.0000 - false_positives_3: 0.0000e+00\n",
            "Epoch 269/1000\n",
            "4/4 [==============================] - 0s 12ms/step - loss: 0.0044 - accuracy: 0.0700 - false_negatives_3: 5150.0000 - false_positives_3: 0.0000e+00\n",
            "Epoch 270/1000\n",
            "4/4 [==============================] - 0s 10ms/step - loss: 0.0044 - accuracy: 0.0600 - false_negatives_3: 5163.0000 - false_positives_3: 0.0000e+00\n",
            "Epoch 271/1000\n",
            "4/4 [==============================] - 0s 10ms/step - loss: 0.0044 - accuracy: 0.0600 - false_negatives_3: 5141.0000 - false_positives_3: 0.0000e+00\n",
            "Epoch 272/1000\n",
            "4/4 [==============================] - 0s 11ms/step - loss: 0.0044 - accuracy: 0.0300 - false_negatives_3: 5169.0000 - false_positives_3: 0.0000e+00\n",
            "Epoch 273/1000\n",
            "4/4 [==============================] - 0s 12ms/step - loss: 0.0044 - accuracy: 0.0400 - false_negatives_3: 5126.0000 - false_positives_3: 0.0000e+00\n",
            "Epoch 274/1000\n",
            "4/4 [==============================] - 0s 10ms/step - loss: 0.0045 - accuracy: 0.1100 - false_negatives_3: 5192.0000 - false_positives_3: 0.0000e+00\n",
            "Epoch 275/1000\n",
            "4/4 [==============================] - 0s 11ms/step - loss: 0.0045 - accuracy: 0.0200 - false_negatives_3: 5173.0000 - false_positives_3: 0.0000e+00\n",
            "Epoch 276/1000\n",
            "4/4 [==============================] - 0s 8ms/step - loss: 0.0045 - accuracy: 0.0500 - false_negatives_3: 5106.0000 - false_positives_3: 0.0000e+00\n",
            "Epoch 277/1000\n",
            "4/4 [==============================] - 0s 8ms/step - loss: 0.0045 - accuracy: 0.0500 - false_negatives_3: 5187.0000 - false_positives_3: 0.0000e+00\n",
            "Epoch 278/1000\n",
            "4/4 [==============================] - 0s 9ms/step - loss: 0.0045 - accuracy: 0.0500 - false_negatives_3: 5126.0000 - false_positives_3: 0.0000e+00\n",
            "Epoch 279/1000\n",
            "4/4 [==============================] - 0s 9ms/step - loss: 0.0045 - accuracy: 0.0200 - false_negatives_3: 5180.0000 - false_positives_3: 0.0000e+00\n",
            "Epoch 280/1000\n",
            "4/4 [==============================] - 0s 9ms/step - loss: 0.0045 - accuracy: 0.0200 - false_negatives_3: 5159.0000 - false_positives_3: 0.0000e+00\n",
            "Epoch 281/1000\n",
            "4/4 [==============================] - 0s 9ms/step - loss: 0.0045 - accuracy: 0.0300 - false_negatives_3: 5152.0000 - false_positives_3: 0.0000e+00\n",
            "Epoch 282/1000\n",
            "4/4 [==============================] - 0s 10ms/step - loss: 0.0045 - accuracy: 0.0900 - false_negatives_3: 5178.0000 - false_positives_3: 0.0000e+00\n",
            "Epoch 283/1000\n",
            "4/4 [==============================] - 0s 11ms/step - loss: 0.0045 - accuracy: 0.0500 - false_negatives_3: 5180.0000 - false_positives_3: 0.0000e+00\n",
            "Epoch 284/1000\n",
            "4/4 [==============================] - 0s 10ms/step - loss: 0.0044 - accuracy: 0.0500 - false_negatives_3: 5130.0000 - false_positives_3: 0.0000e+00\n",
            "Epoch 285/1000\n",
            "4/4 [==============================] - 0s 11ms/step - loss: 0.0045 - accuracy: 0.0500 - false_negatives_3: 5216.0000 - false_positives_3: 0.0000e+00\n",
            "Epoch 286/1000\n",
            "4/4 [==============================] - 0s 14ms/step - loss: 0.0044 - accuracy: 0.0700 - false_negatives_3: 5118.0000 - false_positives_3: 0.0000e+00\n",
            "Epoch 287/1000\n",
            "4/4 [==============================] - 0s 12ms/step - loss: 0.0044 - accuracy: 0.0700 - false_negatives_3: 5181.0000 - false_positives_3: 0.0000e+00\n",
            "Epoch 288/1000\n",
            "4/4 [==============================] - 0s 11ms/step - loss: 0.0044 - accuracy: 0.1000 - false_negatives_3: 5119.0000 - false_positives_3: 0.0000e+00\n",
            "Epoch 289/1000\n",
            "4/4 [==============================] - 0s 8ms/step - loss: 0.0044 - accuracy: 0.1100 - false_negatives_3: 5144.0000 - false_positives_3: 0.0000e+00\n",
            "Epoch 290/1000\n",
            "4/4 [==============================] - 0s 10ms/step - loss: 0.0044 - accuracy: 0.0300 - false_negatives_3: 5196.0000 - false_positives_3: 0.0000e+00\n",
            "Epoch 291/1000\n",
            "4/4 [==============================] - 0s 11ms/step - loss: 0.0044 - accuracy: 0.0300 - false_negatives_3: 5113.0000 - false_positives_3: 0.0000e+00\n",
            "Epoch 292/1000\n",
            "4/4 [==============================] - 0s 10ms/step - loss: 0.0044 - accuracy: 0.0300 - false_negatives_3: 5169.0000 - false_positives_3: 0.0000e+00\n",
            "Epoch 293/1000\n",
            "4/4 [==============================] - 0s 12ms/step - loss: 0.0044 - accuracy: 0.0100 - false_negatives_3: 5155.0000 - false_positives_3: 0.0000e+00\n",
            "Epoch 294/1000\n",
            "4/4 [==============================] - 0s 10ms/step - loss: 0.0044 - accuracy: 0.0400 - false_negatives_3: 5143.0000 - false_positives_3: 0.0000e+00\n",
            "Epoch 295/1000\n",
            "4/4 [==============================] - 0s 9ms/step - loss: 0.0044 - accuracy: 0.0900 - false_negatives_3: 5116.0000 - false_positives_3: 0.0000e+00\n",
            "Epoch 296/1000\n",
            "4/4 [==============================] - 0s 8ms/step - loss: 0.0044 - accuracy: 0.0500 - false_negatives_3: 5173.0000 - false_positives_3: 0.0000e+00\n",
            "Epoch 297/1000\n",
            "4/4 [==============================] - 0s 9ms/step - loss: 0.0044 - accuracy: 0.1100 - false_negatives_3: 5127.0000 - false_positives_3: 0.0000e+00\n",
            "Epoch 298/1000\n",
            "4/4 [==============================] - 0s 9ms/step - loss: 0.0044 - accuracy: 0.0900 - false_negatives_3: 5157.0000 - false_positives_3: 0.0000e+00\n",
            "Epoch 299/1000\n",
            "4/4 [==============================] - 0s 11ms/step - loss: 0.0044 - accuracy: 0.0800 - false_negatives_3: 5132.0000 - false_positives_3: 0.0000e+00\n",
            "Epoch 300/1000\n",
            "4/4 [==============================] - 0s 9ms/step - loss: 0.0044 - accuracy: 0.0500 - false_negatives_3: 5149.0000 - false_positives_3: 0.0000e+00\n",
            "Epoch 301/1000\n",
            "4/4 [==============================] - 0s 8ms/step - loss: 0.0044 - accuracy: 0.0300 - false_negatives_3: 5096.0000 - false_positives_3: 0.0000e+00\n",
            "Epoch 302/1000\n",
            "4/4 [==============================] - 0s 9ms/step - loss: 0.0045 - accuracy: 0.0600 - false_negatives_3: 5185.0000 - false_positives_3: 0.0000e+00\n",
            "Epoch 303/1000\n",
            "4/4 [==============================] - 0s 8ms/step - loss: 0.0045 - accuracy: 0.0300 - false_negatives_3: 5098.0000 - false_positives_3: 0.0000e+00\n",
            "Epoch 304/1000\n",
            "4/4 [==============================] - 0s 10ms/step - loss: 0.0045 - accuracy: 0.0400 - false_negatives_3: 5169.0000 - false_positives_3: 0.0000e+00\n",
            "Epoch 305/1000\n",
            "4/4 [==============================] - 0s 11ms/step - loss: 0.0045 - accuracy: 0.0200 - false_negatives_3: 5099.0000 - false_positives_3: 0.0000e+00\n",
            "Epoch 306/1000\n",
            "4/4 [==============================] - 0s 13ms/step - loss: 0.0045 - accuracy: 0.1000 - false_negatives_3: 5174.0000 - false_positives_3: 0.0000e+00\n",
            "Epoch 307/1000\n",
            "4/4 [==============================] - 0s 11ms/step - loss: 0.0045 - accuracy: 0.0100 - false_negatives_3: 5127.0000 - false_positives_3: 0.0000e+00\n",
            "Epoch 308/1000\n",
            "4/4 [==============================] - 0s 10ms/step - loss: 0.0045 - accuracy: 0.0200 - false_negatives_3: 5094.0000 - false_positives_3: 0.0000e+00\n",
            "Epoch 309/1000\n",
            "4/4 [==============================] - 0s 11ms/step - loss: 0.0045 - accuracy: 0.0900 - false_negatives_3: 5197.0000 - false_positives_3: 0.0000e+00\n",
            "Epoch 310/1000\n",
            "4/4 [==============================] - 0s 10ms/step - loss: 0.0045 - accuracy: 0.0500 - false_negatives_3: 5116.0000 - false_positives_3: 0.0000e+00\n",
            "Epoch 311/1000\n",
            "4/4 [==============================] - 0s 9ms/step - loss: 0.0045 - accuracy: 0.1000 - false_negatives_3: 5218.0000 - false_positives_3: 0.0000e+00\n",
            "Epoch 312/1000\n",
            "4/4 [==============================] - 0s 10ms/step - loss: 0.0045 - accuracy: 0.0500 - false_negatives_3: 5131.0000 - false_positives_3: 0.0000e+00\n",
            "Epoch 313/1000\n",
            "4/4 [==============================] - 0s 9ms/step - loss: 0.0045 - accuracy: 0.0400 - false_negatives_3: 5112.0000 - false_positives_3: 0.0000e+00\n",
            "Epoch 314/1000\n",
            "4/4 [==============================] - 0s 9ms/step - loss: 0.0046 - accuracy: 0.0300 - false_negatives_3: 5207.0000 - false_positives_3: 0.0000e+00\n",
            "Epoch 315/1000\n",
            "4/4 [==============================] - 0s 10ms/step - loss: 0.0045 - accuracy: 0.0300 - false_negatives_3: 5120.0000 - false_positives_3: 0.0000e+00\n",
            "Epoch 316/1000\n",
            "4/4 [==============================] - 0s 10ms/step - loss: 0.0045 - accuracy: 0.0300 - false_negatives_3: 5170.0000 - false_positives_3: 0.0000e+00\n",
            "Epoch 317/1000\n",
            "4/4 [==============================] - 0s 11ms/step - loss: 0.0045 - accuracy: 0.0500 - false_negatives_3: 5179.0000 - false_positives_3: 0.0000e+00\n",
            "Epoch 318/1000\n",
            "4/4 [==============================] - 0s 10ms/step - loss: 0.0046 - accuracy: 0.0200 - false_negatives_3: 5133.0000 - false_positives_3: 0.0000e+00\n",
            "Epoch 319/1000\n",
            "4/4 [==============================] - 0s 10ms/step - loss: 0.0045 - accuracy: 0.0400 - false_negatives_3: 5169.0000 - false_positives_3: 0.0000e+00\n",
            "Epoch 320/1000\n",
            "4/4 [==============================] - 0s 13ms/step - loss: 0.0045 - accuracy: 0.0300 - false_negatives_3: 5157.0000 - false_positives_3: 0.0000e+00\n",
            "Epoch 321/1000\n",
            "4/4 [==============================] - 0s 11ms/step - loss: 0.0045 - accuracy: 0.0500 - false_negatives_3: 5150.0000 - false_positives_3: 0.0000e+00\n",
            "Epoch 322/1000\n",
            "4/4 [==============================] - 0s 9ms/step - loss: 0.0045 - accuracy: 0.0300 - false_negatives_3: 5148.0000 - false_positives_3: 0.0000e+00\n",
            "Epoch 323/1000\n",
            "4/4 [==============================] - 0s 11ms/step - loss: 0.0045 - accuracy: 0.0800 - false_negatives_3: 5153.0000 - false_positives_3: 0.0000e+00\n",
            "Epoch 324/1000\n",
            "4/4 [==============================] - 0s 10ms/step - loss: 0.0046 - accuracy: 0.0200 - false_negatives_3: 5154.0000 - false_positives_3: 0.0000e+00\n",
            "Epoch 325/1000\n",
            "4/4 [==============================] - 0s 13ms/step - loss: 0.0047 - accuracy: 0.0500 - false_negatives_3: 5185.0000 - false_positives_3: 0.0000e+00\n",
            "Epoch 326/1000\n",
            "4/4 [==============================] - 0s 8ms/step - loss: 0.0047 - accuracy: 0.0300 - false_negatives_3: 5117.0000 - false_positives_3: 0.0000e+00\n",
            "Epoch 327/1000\n",
            "4/4 [==============================] - 0s 9ms/step - loss: 0.0047 - accuracy: 0.0500 - false_negatives_3: 5151.0000 - false_positives_3: 0.0000e+00\n",
            "Epoch 328/1000\n",
            "4/4 [==============================] - 0s 10ms/step - loss: 0.0047 - accuracy: 0.0500 - false_negatives_3: 5203.0000 - false_positives_3: 0.0000e+00\n",
            "Epoch 329/1000\n",
            "4/4 [==============================] - 0s 10ms/step - loss: 0.0047 - accuracy: 0.0200 - false_negatives_3: 5173.0000 - false_positives_3: 0.0000e+00\n",
            "Epoch 330/1000\n",
            "4/4 [==============================] - 0s 10ms/step - loss: 0.0047 - accuracy: 0.0300 - false_negatives_3: 5157.0000 - false_positives_3: 0.0000e+00\n",
            "Epoch 331/1000\n",
            "4/4 [==============================] - 0s 9ms/step - loss: 0.0047 - accuracy: 0.1000 - false_negatives_3: 5099.0000 - false_positives_3: 0.0000e+00\n",
            "Epoch 332/1000\n",
            "4/4 [==============================] - 0s 9ms/step - loss: 0.0047 - accuracy: 0.0600 - false_negatives_3: 5150.0000 - false_positives_3: 0.0000e+00\n",
            "Epoch 333/1000\n",
            "4/4 [==============================] - 0s 12ms/step - loss: 0.0047 - accuracy: 0.0200 - false_negatives_3: 5114.0000 - false_positives_3: 0.0000e+00\n",
            "Epoch 334/1000\n",
            "4/4 [==============================] - 0s 11ms/step - loss: 0.0046 - accuracy: 0.0500 - false_negatives_3: 5236.0000 - false_positives_3: 0.0000e+00\n",
            "Epoch 335/1000\n",
            "4/4 [==============================] - 0s 11ms/step - loss: 0.0046 - accuracy: 0.0800 - false_negatives_3: 5137.0000 - false_positives_3: 0.0000e+00\n",
            "Epoch 336/1000\n",
            "4/4 [==============================] - 0s 8ms/step - loss: 0.0046 - accuracy: 0.0500 - false_negatives_3: 5109.0000 - false_positives_3: 0.0000e+00\n",
            "Epoch 337/1000\n",
            "4/4 [==============================] - 0s 10ms/step - loss: 0.0046 - accuracy: 0.0800 - false_negatives_3: 5201.0000 - false_positives_3: 0.0000e+00\n",
            "Epoch 338/1000\n",
            "4/4 [==============================] - 0s 12ms/step - loss: 0.0045 - accuracy: 0.0100 - false_negatives_3: 5127.0000 - false_positives_3: 0.0000e+00\n",
            "Epoch 339/1000\n",
            "4/4 [==============================] - 0s 14ms/step - loss: 0.0046 - accuracy: 0.0300 - false_negatives_3: 5101.0000 - false_positives_3: 0.0000e+00\n",
            "Epoch 340/1000\n",
            "4/4 [==============================] - 0s 13ms/step - loss: 0.0046 - accuracy: 0.0100 - false_negatives_3: 5130.0000 - false_positives_3: 0.0000e+00\n",
            "Epoch 341/1000\n",
            "4/4 [==============================] - 0s 10ms/step - loss: 0.0046 - accuracy: 0.0800 - false_negatives_3: 5176.0000 - false_positives_3: 0.0000e+00\n",
            "Epoch 342/1000\n",
            "4/4 [==============================] - 0s 10ms/step - loss: 0.0046 - accuracy: 0.0400 - false_negatives_3: 5156.0000 - false_positives_3: 0.0000e+00\n",
            "Epoch 343/1000\n",
            "4/4 [==============================] - 0s 9ms/step - loss: 0.0045 - accuracy: 0.0500 - false_negatives_3: 5099.0000 - false_positives_3: 0.0000e+00\n",
            "Epoch 344/1000\n",
            "4/4 [==============================] - 0s 9ms/step - loss: 0.0045 - accuracy: 0.1000 - false_negatives_3: 5196.0000 - false_positives_3: 0.0000e+00\n",
            "Epoch 345/1000\n",
            "4/4 [==============================] - 0s 10ms/step - loss: 0.0045 - accuracy: 0.0400 - false_negatives_3: 5098.0000 - false_positives_3: 0.0000e+00\n",
            "Epoch 346/1000\n",
            "4/4 [==============================] - 0s 13ms/step - loss: 0.0045 - accuracy: 0.0600 - false_negatives_3: 5118.0000 - false_positives_3: 0.0000e+00\n",
            "Epoch 347/1000\n",
            "4/4 [==============================] - 0s 20ms/step - loss: 0.0044 - accuracy: 0.0300 - false_negatives_3: 5142.0000 - false_positives_3: 0.0000e+00\n",
            "Epoch 348/1000\n",
            "4/4 [==============================] - 0s 13ms/step - loss: 0.0045 - accuracy: 0.0300 - false_negatives_3: 5166.0000 - false_positives_3: 0.0000e+00\n",
            "Epoch 349/1000\n",
            "4/4 [==============================] - 0s 13ms/step - loss: 0.0044 - accuracy: 0.0300 - false_negatives_3: 5130.0000 - false_positives_3: 0.0000e+00\n",
            "Epoch 350/1000\n",
            "4/4 [==============================] - 0s 13ms/step - loss: 0.0044 - accuracy: 0.0600 - false_negatives_3: 5187.0000 - false_positives_3: 0.0000e+00\n",
            "Epoch 351/1000\n",
            "4/4 [==============================] - 0s 12ms/step - loss: 0.0044 - accuracy: 0.1100 - false_negatives_3: 5177.0000 - false_positives_3: 0.0000e+00\n",
            "Epoch 352/1000\n",
            "4/4 [==============================] - 0s 9ms/step - loss: 0.0044 - accuracy: 0.0700 - false_negatives_3: 5115.0000 - false_positives_3: 0.0000e+00\n",
            "Epoch 353/1000\n",
            "4/4 [==============================] - 0s 10ms/step - loss: 0.0044 - accuracy: 0.0000e+00 - false_negatives_3: 5192.0000 - false_positives_3: 0.0000e+00\n",
            "Epoch 354/1000\n",
            "4/4 [==============================] - 0s 12ms/step - loss: 0.0044 - accuracy: 0.0600 - false_negatives_3: 5125.0000 - false_positives_3: 0.0000e+00\n",
            "Epoch 355/1000\n",
            "4/4 [==============================] - 0s 10ms/step - loss: 0.0044 - accuracy: 0.0500 - false_negatives_3: 5165.0000 - false_positives_3: 0.0000e+00\n",
            "Epoch 356/1000\n",
            "4/4 [==============================] - 0s 8ms/step - loss: 0.0045 - accuracy: 0.1300 - false_negatives_3: 5226.0000 - false_positives_3: 0.0000e+00\n",
            "Epoch 357/1000\n",
            "4/4 [==============================] - 0s 10ms/step - loss: 0.0044 - accuracy: 0.0400 - false_negatives_3: 5068.0000 - false_positives_3: 0.0000e+00\n",
            "Epoch 358/1000\n",
            "4/4 [==============================] - 0s 11ms/step - loss: 0.0044 - accuracy: 0.0800 - false_negatives_3: 5175.0000 - false_positives_3: 0.0000e+00\n",
            "Epoch 359/1000\n",
            "4/4 [==============================] - 0s 11ms/step - loss: 0.0045 - accuracy: 0.0500 - false_negatives_3: 5139.0000 - false_positives_3: 0.0000e+00\n",
            "Epoch 360/1000\n",
            "4/4 [==============================] - 0s 9ms/step - loss: 0.0045 - accuracy: 0.0300 - false_negatives_3: 5130.0000 - false_positives_3: 0.0000e+00\n",
            "Epoch 361/1000\n",
            "4/4 [==============================] - 0s 12ms/step - loss: 0.0045 - accuracy: 0.0500 - false_negatives_3: 5226.0000 - false_positives_3: 0.0000e+00\n",
            "Epoch 362/1000\n",
            "4/4 [==============================] - 0s 13ms/step - loss: 0.0045 - accuracy: 0.0800 - false_negatives_3: 5072.0000 - false_positives_3: 0.0000e+00\n",
            "Epoch 363/1000\n",
            "4/4 [==============================] - 0s 12ms/step - loss: 0.0045 - accuracy: 0.0100 - false_negatives_3: 5193.0000 - false_positives_3: 0.0000e+00\n",
            "Epoch 364/1000\n",
            "4/4 [==============================] - 0s 12ms/step - loss: 0.0045 - accuracy: 0.0700 - false_negatives_3: 5167.0000 - false_positives_3: 0.0000e+00\n",
            "Epoch 365/1000\n",
            "4/4 [==============================] - 0s 10ms/step - loss: 0.0046 - accuracy: 0.0300 - false_negatives_3: 5116.0000 - false_positives_3: 0.0000e+00\n",
            "Epoch 366/1000\n",
            "4/4 [==============================] - 0s 12ms/step - loss: 0.0046 - accuracy: 0.0400 - false_negatives_3: 5165.0000 - false_positives_3: 0.0000e+00\n",
            "Epoch 367/1000\n",
            "4/4 [==============================] - 0s 13ms/step - loss: 0.0046 - accuracy: 0.0200 - false_negatives_3: 5130.0000 - false_positives_3: 0.0000e+00\n",
            "Epoch 368/1000\n",
            "4/4 [==============================] - 0s 10ms/step - loss: 0.0045 - accuracy: 0.0100 - false_negatives_3: 5174.0000 - false_positives_3: 0.0000e+00\n",
            "Epoch 369/1000\n",
            "4/4 [==============================] - 0s 12ms/step - loss: 0.0045 - accuracy: 0.0200 - false_negatives_3: 5157.0000 - false_positives_3: 0.0000e+00\n",
            "Epoch 370/1000\n",
            "4/4 [==============================] - 0s 10ms/step - loss: 0.0045 - accuracy: 0.0100 - false_negatives_3: 5135.0000 - false_positives_3: 0.0000e+00\n",
            "Epoch 371/1000\n",
            "4/4 [==============================] - 0s 14ms/step - loss: 0.0045 - accuracy: 0.0400 - false_negatives_3: 5170.0000 - false_positives_3: 0.0000e+00\n",
            "Epoch 372/1000\n",
            "4/4 [==============================] - 0s 12ms/step - loss: 0.0045 - accuracy: 0.0200 - false_negatives_3: 5137.0000 - false_positives_3: 0.0000e+00\n",
            "Epoch 373/1000\n",
            "4/4 [==============================] - 0s 9ms/step - loss: 0.0045 - accuracy: 0.0100 - false_negatives_3: 5179.0000 - false_positives_3: 0.0000e+00\n",
            "Epoch 374/1000\n",
            "4/4 [==============================] - 0s 8ms/step - loss: 0.0045 - accuracy: 0.0200 - false_negatives_3: 5151.0000 - false_positives_3: 0.0000e+00\n",
            "Epoch 375/1000\n",
            "4/4 [==============================] - 0s 8ms/step - loss: 0.0045 - accuracy: 0.0500 - false_negatives_3: 5152.0000 - false_positives_3: 0.0000e+00\n",
            "Epoch 376/1000\n",
            "4/4 [==============================] - 0s 14ms/step - loss: 0.0045 - accuracy: 0.0400 - false_negatives_3: 5167.0000 - false_positives_3: 0.0000e+00\n",
            "Epoch 377/1000\n",
            "4/4 [==============================] - 0s 12ms/step - loss: 0.0045 - accuracy: 0.0400 - false_negatives_3: 5142.0000 - false_positives_3: 0.0000e+00\n",
            "Epoch 378/1000\n",
            "4/4 [==============================] - 0s 13ms/step - loss: 0.0045 - accuracy: 0.1000 - false_negatives_3: 5179.0000 - false_positives_3: 0.0000e+00\n",
            "Epoch 379/1000\n",
            "4/4 [==============================] - 0s 11ms/step - loss: 0.0044 - accuracy: 0.0900 - false_negatives_3: 5132.0000 - false_positives_3: 0.0000e+00\n",
            "Epoch 380/1000\n",
            "4/4 [==============================] - 0s 10ms/step - loss: 0.0044 - accuracy: 0.0600 - false_negatives_3: 5161.0000 - false_positives_3: 0.0000e+00\n",
            "Epoch 381/1000\n",
            "4/4 [==============================] - 0s 10ms/step - loss: 0.0044 - accuracy: 0.0500 - false_negatives_3: 5115.0000 - false_positives_3: 0.0000e+00\n",
            "Epoch 382/1000\n",
            "4/4 [==============================] - 0s 12ms/step - loss: 0.0044 - accuracy: 0.0500 - false_negatives_3: 5168.0000 - false_positives_3: 0.0000e+00\n",
            "Epoch 383/1000\n",
            "4/4 [==============================] - 0s 10ms/step - loss: 0.0044 - accuracy: 0.0700 - false_negatives_3: 5093.0000 - false_positives_3: 0.0000e+00\n",
            "Epoch 384/1000\n",
            "4/4 [==============================] - 0s 13ms/step - loss: 0.0044 - accuracy: 0.1000 - false_negatives_3: 5139.0000 - false_positives_3: 0.0000e+00\n",
            "Epoch 385/1000\n",
            "4/4 [==============================] - 0s 10ms/step - loss: 0.0044 - accuracy: 0.0600 - false_negatives_3: 5156.0000 - false_positives_3: 0.0000e+00\n",
            "Epoch 386/1000\n",
            "4/4 [==============================] - 0s 10ms/step - loss: 0.0043 - accuracy: 0.0800 - false_negatives_3: 5117.0000 - false_positives_3: 0.0000e+00\n",
            "Epoch 387/1000\n",
            "4/4 [==============================] - 0s 9ms/step - loss: 0.0044 - accuracy: 0.1200 - false_negatives_3: 5174.0000 - false_positives_3: 0.0000e+00\n",
            "Epoch 388/1000\n",
            "4/4 [==============================] - 0s 8ms/step - loss: 0.0044 - accuracy: 0.0500 - false_negatives_3: 5105.0000 - false_positives_3: 0.0000e+00\n",
            "Epoch 389/1000\n",
            "4/4 [==============================] - 0s 13ms/step - loss: 0.0044 - accuracy: 0.1100 - false_negatives_3: 5163.0000 - false_positives_3: 0.0000e+00\n",
            "Epoch 390/1000\n",
            "4/4 [==============================] - 0s 13ms/step - loss: 0.0044 - accuracy: 0.0500 - false_negatives_3: 5208.0000 - false_positives_3: 0.0000e+00\n",
            "Epoch 391/1000\n",
            "4/4 [==============================] - 0s 9ms/step - loss: 0.0044 - accuracy: 0.0300 - false_negatives_3: 5072.0000 - false_positives_3: 0.0000e+00\n",
            "Epoch 392/1000\n",
            "4/4 [==============================] - 0s 9ms/step - loss: 0.0044 - accuracy: 0.0600 - false_negatives_3: 5150.0000 - false_positives_3: 0.0000e+00\n",
            "Epoch 393/1000\n",
            "4/4 [==============================] - 0s 11ms/step - loss: 0.0044 - accuracy: 0.1300 - false_negatives_3: 5165.0000 - false_positives_3: 0.0000e+00\n",
            "Epoch 394/1000\n",
            "4/4 [==============================] - 0s 9ms/step - loss: 0.0043 - accuracy: 0.0400 - false_negatives_3: 5153.0000 - false_positives_3: 0.0000e+00\n",
            "Epoch 395/1000\n",
            "4/4 [==============================] - 0s 8ms/step - loss: 0.0043 - accuracy: 0.0700 - false_negatives_3: 5139.0000 - false_positives_3: 0.0000e+00\n",
            "Epoch 396/1000\n",
            "4/4 [==============================] - 0s 10ms/step - loss: 0.0043 - accuracy: 0.0400 - false_negatives_3: 5138.0000 - false_positives_3: 0.0000e+00\n",
            "Epoch 397/1000\n",
            "4/4 [==============================] - 0s 10ms/step - loss: 0.0043 - accuracy: 0.1300 - false_negatives_3: 5155.0000 - false_positives_3: 0.0000e+00\n",
            "Epoch 398/1000\n",
            "4/4 [==============================] - 0s 10ms/step - loss: 0.0043 - accuracy: 0.0800 - false_negatives_3: 5104.0000 - false_positives_3: 0.0000e+00\n",
            "Epoch 399/1000\n",
            "4/4 [==============================] - 0s 11ms/step - loss: 0.0043 - accuracy: 0.0900 - false_negatives_3: 5169.0000 - false_positives_3: 0.0000e+00\n",
            "Epoch 400/1000\n",
            "4/4 [==============================] - 0s 11ms/step - loss: 0.0043 - accuracy: 0.0700 - false_negatives_3: 5151.0000 - false_positives_3: 0.0000e+00\n",
            "Epoch 401/1000\n",
            "4/4 [==============================] - 0s 8ms/step - loss: 0.0043 - accuracy: 0.0300 - false_negatives_3: 5098.0000 - false_positives_3: 0.0000e+00\n",
            "Epoch 402/1000\n",
            "4/4 [==============================] - 0s 8ms/step - loss: 0.0043 - accuracy: 0.1000 - false_negatives_3: 5153.0000 - false_positives_3: 0.0000e+00\n",
            "Epoch 403/1000\n",
            "4/4 [==============================] - 0s 12ms/step - loss: 0.0043 - accuracy: 0.0500 - false_negatives_3: 5127.0000 - false_positives_3: 0.0000e+00\n",
            "Epoch 404/1000\n",
            "4/4 [==============================] - 0s 10ms/step - loss: 0.0043 - accuracy: 0.0600 - false_negatives_3: 5113.0000 - false_positives_3: 0.0000e+00\n",
            "Epoch 405/1000\n",
            "4/4 [==============================] - 0s 10ms/step - loss: 0.0043 - accuracy: 0.0500 - false_negatives_3: 5193.0000 - false_positives_3: 0.0000e+00\n",
            "Epoch 406/1000\n",
            "4/4 [==============================] - 0s 12ms/step - loss: 0.0043 - accuracy: 0.0700 - false_negatives_3: 5127.0000 - false_positives_3: 0.0000e+00\n",
            "Epoch 407/1000\n",
            "4/4 [==============================] - 0s 14ms/step - loss: 0.0043 - accuracy: 0.0900 - false_negatives_3: 5166.0000 - false_positives_3: 0.0000e+00\n",
            "Epoch 408/1000\n",
            "4/4 [==============================] - 0s 12ms/step - loss: 0.0043 - accuracy: 0.1100 - false_negatives_3: 5133.0000 - false_positives_3: 0.0000e+00\n",
            "Epoch 409/1000\n",
            "4/4 [==============================] - 0s 12ms/step - loss: 0.0043 - accuracy: 0.0600 - false_negatives_3: 5131.0000 - false_positives_3: 0.0000e+00\n",
            "Epoch 410/1000\n",
            "4/4 [==============================] - 0s 13ms/step - loss: 0.0043 - accuracy: 0.0600 - false_negatives_3: 5182.0000 - false_positives_3: 0.0000e+00\n",
            "Epoch 411/1000\n",
            "4/4 [==============================] - 0s 14ms/step - loss: 0.0043 - accuracy: 0.0700 - false_negatives_3: 5135.0000 - false_positives_3: 0.0000e+00\n",
            "Epoch 412/1000\n",
            "4/4 [==============================] - 0s 9ms/step - loss: 0.0043 - accuracy: 0.0700 - false_negatives_3: 5161.0000 - false_positives_3: 0.0000e+00\n",
            "Epoch 413/1000\n",
            "4/4 [==============================] - 0s 9ms/step - loss: 0.0043 - accuracy: 0.0700 - false_negatives_3: 5163.0000 - false_positives_3: 0.0000e+00\n",
            "Epoch 414/1000\n",
            "4/4 [==============================] - 0s 8ms/step - loss: 0.0043 - accuracy: 0.0900 - false_negatives_3: 5161.0000 - false_positives_3: 0.0000e+00\n",
            "Epoch 415/1000\n",
            "4/4 [==============================] - 0s 9ms/step - loss: 0.0044 - accuracy: 0.0700 - false_negatives_3: 5198.0000 - false_positives_3: 0.0000e+00\n",
            "Epoch 416/1000\n",
            "4/4 [==============================] - 0s 10ms/step - loss: 0.0043 - accuracy: 0.0400 - false_negatives_3: 5117.0000 - false_positives_3: 0.0000e+00\n",
            "Epoch 417/1000\n",
            "4/4 [==============================] - 0s 10ms/step - loss: 0.0043 - accuracy: 0.0600 - false_negatives_3: 5137.0000 - false_positives_3: 0.0000e+00\n",
            "Epoch 418/1000\n",
            "4/4 [==============================] - 0s 10ms/step - loss: 0.0044 - accuracy: 0.0500 - false_negatives_3: 5180.0000 - false_positives_3: 0.0000e+00\n",
            "Epoch 419/1000\n",
            "4/4 [==============================] - 0s 9ms/step - loss: 0.0044 - accuracy: 0.0900 - false_negatives_3: 5145.0000 - false_positives_3: 0.0000e+00\n",
            "Epoch 420/1000\n",
            "4/4 [==============================] - 0s 13ms/step - loss: 0.0044 - accuracy: 0.0400 - false_negatives_3: 5174.0000 - false_positives_3: 0.0000e+00\n",
            "Epoch 421/1000\n",
            "4/4 [==============================] - 0s 12ms/step - loss: 0.0044 - accuracy: 0.0400 - false_negatives_3: 5159.0000 - false_positives_3: 0.0000e+00\n",
            "Epoch 422/1000\n",
            "4/4 [==============================] - 0s 14ms/step - loss: 0.0044 - accuracy: 0.0500 - false_negatives_3: 5143.0000 - false_positives_3: 0.0000e+00\n",
            "Epoch 423/1000\n",
            "4/4 [==============================] - 0s 13ms/step - loss: 0.0044 - accuracy: 0.0500 - false_negatives_3: 5167.0000 - false_positives_3: 0.0000e+00\n",
            "Epoch 424/1000\n",
            "4/4 [==============================] - 0s 11ms/step - loss: 0.0045 - accuracy: 0.0500 - false_negatives_3: 5100.0000 - false_positives_3: 0.0000e+00\n",
            "Epoch 425/1000\n",
            "4/4 [==============================] - 0s 11ms/step - loss: 0.0045 - accuracy: 0.0500 - false_negatives_3: 5202.0000 - false_positives_3: 0.0000e+00\n",
            "Epoch 426/1000\n",
            "4/4 [==============================] - 0s 11ms/step - loss: 0.0045 - accuracy: 0.0100 - false_negatives_3: 5153.0000 - false_positives_3: 0.0000e+00\n",
            "Epoch 427/1000\n",
            "4/4 [==============================] - 0s 11ms/step - loss: 0.0044 - accuracy: 0.1000 - false_negatives_3: 5153.0000 - false_positives_3: 0.0000e+00\n",
            "Epoch 428/1000\n",
            "4/4 [==============================] - 0s 12ms/step - loss: 0.0044 - accuracy: 0.0700 - false_negatives_3: 5184.0000 - false_positives_3: 0.0000e+00\n",
            "Epoch 429/1000\n",
            "4/4 [==============================] - 0s 11ms/step - loss: 0.0044 - accuracy: 0.0700 - false_negatives_3: 5116.0000 - false_positives_3: 0.0000e+00\n",
            "Epoch 430/1000\n",
            "4/4 [==============================] - 0s 16ms/step - loss: 0.0044 - accuracy: 0.0100 - false_negatives_3: 5128.0000 - false_positives_3: 0.0000e+00\n",
            "Epoch 431/1000\n",
            "4/4 [==============================] - 0s 12ms/step - loss: 0.0044 - accuracy: 0.0200 - false_negatives_3: 5192.0000 - false_positives_3: 0.0000e+00\n",
            "Epoch 432/1000\n",
            "4/4 [==============================] - 0s 9ms/step - loss: 0.0044 - accuracy: 0.1000 - false_negatives_3: 5119.0000 - false_positives_3: 0.0000e+00\n",
            "Epoch 433/1000\n",
            "4/4 [==============================] - 0s 10ms/step - loss: 0.0044 - accuracy: 0.0600 - false_negatives_3: 5185.0000 - false_positives_3: 0.0000e+00\n",
            "Epoch 434/1000\n",
            "4/4 [==============================] - 0s 13ms/step - loss: 0.0044 - accuracy: 0.0600 - false_negatives_3: 5158.0000 - false_positives_3: 0.0000e+00\n",
            "Epoch 435/1000\n",
            "4/4 [==============================] - 0s 16ms/step - loss: 0.0044 - accuracy: 0.0900 - false_negatives_3: 5118.0000 - false_positives_3: 0.0000e+00\n",
            "Epoch 436/1000\n",
            "4/4 [==============================] - 0s 9ms/step - loss: 0.0044 - accuracy: 0.0800 - false_negatives_3: 5159.0000 - false_positives_3: 0.0000e+00\n",
            "Epoch 437/1000\n",
            "4/4 [==============================] - 0s 8ms/step - loss: 0.0044 - accuracy: 0.0700 - false_negatives_3: 5156.0000 - false_positives_3: 0.0000e+00\n",
            "Epoch 438/1000\n",
            "4/4 [==============================] - 0s 10ms/step - loss: 0.0044 - accuracy: 0.0700 - false_negatives_3: 5160.0000 - false_positives_3: 0.0000e+00\n",
            "Epoch 439/1000\n",
            "4/4 [==============================] - 0s 11ms/step - loss: 0.0044 - accuracy: 0.0600 - false_negatives_3: 5156.0000 - false_positives_3: 0.0000e+00\n",
            "Epoch 440/1000\n",
            "4/4 [==============================] - 0s 11ms/step - loss: 0.0044 - accuracy: 0.0600 - false_negatives_3: 5146.0000 - false_positives_3: 0.0000e+00\n",
            "Epoch 441/1000\n",
            "4/4 [==============================] - 0s 9ms/step - loss: 0.0044 - accuracy: 0.0100 - false_negatives_3: 5170.0000 - false_positives_3: 0.0000e+00\n",
            "Epoch 442/1000\n",
            "4/4 [==============================] - 0s 9ms/step - loss: 0.0044 - accuracy: 0.0200 - false_negatives_3: 5156.0000 - false_positives_3: 0.0000e+00\n",
            "Epoch 443/1000\n",
            "4/4 [==============================] - 0s 13ms/step - loss: 0.0044 - accuracy: 0.0800 - false_negatives_3: 5113.0000 - false_positives_3: 0.0000e+00\n",
            "Epoch 444/1000\n",
            "4/4 [==============================] - 0s 9ms/step - loss: 0.0044 - accuracy: 0.0500 - false_negatives_3: 5201.0000 - false_positives_3: 0.0000e+00\n",
            "Epoch 445/1000\n",
            "4/4 [==============================] - 0s 10ms/step - loss: 0.0044 - accuracy: 0.0600 - false_negatives_3: 5126.0000 - false_positives_3: 0.0000e+00\n",
            "Epoch 446/1000\n",
            "4/4 [==============================] - 0s 8ms/step - loss: 0.0044 - accuracy: 0.0700 - false_negatives_3: 5170.0000 - false_positives_3: 0.0000e+00\n",
            "Epoch 447/1000\n",
            "4/4 [==============================] - 0s 9ms/step - loss: 0.0044 - accuracy: 0.0500 - false_negatives_3: 5153.0000 - false_positives_3: 0.0000e+00\n",
            "Epoch 448/1000\n",
            "4/4 [==============================] - 0s 9ms/step - loss: 0.0044 - accuracy: 0.0300 - false_negatives_3: 5167.0000 - false_positives_3: 0.0000e+00\n",
            "Epoch 449/1000\n",
            "4/4 [==============================] - 0s 9ms/step - loss: 0.0044 - accuracy: 0.0200 - false_negatives_3: 5130.0000 - false_positives_3: 0.0000e+00\n",
            "Epoch 450/1000\n",
            "4/4 [==============================] - 0s 9ms/step - loss: 0.0044 - accuracy: 0.0800 - false_negatives_3: 5147.0000 - false_positives_3: 0.0000e+00\n",
            "Epoch 451/1000\n",
            "4/4 [==============================] - 0s 10ms/step - loss: 0.0044 - accuracy: 0.0700 - false_negatives_3: 5066.0000 - false_positives_3: 0.0000e+00\n",
            "Epoch 452/1000\n",
            "4/4 [==============================] - 0s 10ms/step - loss: 0.0044 - accuracy: 0.0400 - false_negatives_3: 5161.0000 - false_positives_3: 0.0000e+00\n",
            "Epoch 453/1000\n",
            "4/4 [==============================] - 0s 8ms/step - loss: 0.0044 - accuracy: 0.0200 - false_negatives_3: 5166.0000 - false_positives_3: 0.0000e+00\n",
            "Epoch 454/1000\n",
            "4/4 [==============================] - 0s 8ms/step - loss: 0.0044 - accuracy: 0.0800 - false_negatives_3: 5126.0000 - false_positives_3: 0.0000e+00\n",
            "Epoch 455/1000\n",
            "4/4 [==============================] - 0s 9ms/step - loss: 0.0044 - accuracy: 0.0400 - false_negatives_3: 5179.0000 - false_positives_3: 0.0000e+00\n",
            "Epoch 456/1000\n",
            "4/4 [==============================] - 0s 10ms/step - loss: 0.0044 - accuracy: 0.0800 - false_negatives_3: 5153.0000 - false_positives_3: 0.0000e+00\n",
            "Epoch 457/1000\n",
            "4/4 [==============================] - 0s 8ms/step - loss: 0.0044 - accuracy: 0.0200 - false_negatives_3: 5114.0000 - false_positives_3: 0.0000e+00\n",
            "Epoch 458/1000\n",
            "4/4 [==============================] - 0s 11ms/step - loss: 0.0044 - accuracy: 0.0400 - false_negatives_3: 5155.0000 - false_positives_3: 0.0000e+00\n",
            "Epoch 459/1000\n",
            "4/4 [==============================] - 0s 8ms/step - loss: 0.0044 - accuracy: 0.1000 - false_negatives_3: 5179.0000 - false_positives_3: 0.0000e+00\n",
            "Epoch 460/1000\n",
            "4/4 [==============================] - 0s 11ms/step - loss: 0.0044 - accuracy: 0.0300 - false_negatives_3: 5148.0000 - false_positives_3: 0.0000e+00\n",
            "Epoch 461/1000\n",
            "4/4 [==============================] - 0s 9ms/step - loss: 0.0044 - accuracy: 0.1000 - false_negatives_3: 5145.0000 - false_positives_3: 0.0000e+00\n",
            "Epoch 462/1000\n",
            "4/4 [==============================] - 0s 9ms/step - loss: 0.0044 - accuracy: 0.0500 - false_negatives_3: 5170.0000 - false_positives_3: 0.0000e+00\n",
            "Epoch 463/1000\n",
            "4/4 [==============================] - 0s 10ms/step - loss: 0.0044 - accuracy: 0.0600 - false_negatives_3: 5059.0000 - false_positives_3: 0.0000e+00\n",
            "Epoch 464/1000\n",
            "4/4 [==============================] - 0s 10ms/step - loss: 0.0045 - accuracy: 0.0500 - false_negatives_3: 5219.0000 - false_positives_3: 0.0000e+00\n",
            "Epoch 465/1000\n",
            "4/4 [==============================] - 0s 8ms/step - loss: 0.0045 - accuracy: 0.0800 - false_negatives_3: 5103.0000 - false_positives_3: 0.0000e+00\n",
            "Epoch 466/1000\n",
            "4/4 [==============================] - 0s 10ms/step - loss: 0.0045 - accuracy: 0.0600 - false_negatives_3: 5172.0000 - false_positives_3: 0.0000e+00\n",
            "Epoch 467/1000\n",
            "4/4 [==============================] - 0s 8ms/step - loss: 0.0045 - accuracy: 0.1100 - false_negatives_3: 5176.0000 - false_positives_3: 0.0000e+00\n",
            "Epoch 468/1000\n",
            "4/4 [==============================] - 0s 9ms/step - loss: 0.0045 - accuracy: 0.0300 - false_negatives_3: 5130.0000 - false_positives_3: 0.0000e+00\n",
            "Epoch 469/1000\n",
            "4/4 [==============================] - 0s 8ms/step - loss: 0.0045 - accuracy: 0.0300 - false_negatives_3: 5132.0000 - false_positives_3: 0.0000e+00\n",
            "Epoch 470/1000\n",
            "4/4 [==============================] - 0s 10ms/step - loss: 0.0045 - accuracy: 0.0400 - false_negatives_3: 5129.0000 - false_positives_3: 0.0000e+00\n",
            "Epoch 471/1000\n",
            "4/4 [==============================] - 0s 10ms/step - loss: 0.0045 - accuracy: 0.0600 - false_negatives_3: 5206.0000 - false_positives_3: 0.0000e+00\n",
            "Epoch 472/1000\n",
            "4/4 [==============================] - 0s 9ms/step - loss: 0.0045 - accuracy: 0.0400 - false_negatives_3: 5152.0000 - false_positives_3: 0.0000e+00\n",
            "Epoch 473/1000\n",
            "4/4 [==============================] - 0s 8ms/step - loss: 0.0045 - accuracy: 0.0500 - false_negatives_3: 5147.0000 - false_positives_3: 0.0000e+00\n",
            "Epoch 474/1000\n",
            "4/4 [==============================] - 0s 9ms/step - loss: 0.0045 - accuracy: 0.0400 - false_negatives_3: 5139.0000 - false_positives_3: 0.0000e+00\n",
            "Epoch 475/1000\n",
            "4/4 [==============================] - 0s 8ms/step - loss: 0.0046 - accuracy: 0.0700 - false_negatives_3: 5104.0000 - false_positives_3: 0.0000e+00\n",
            "Epoch 476/1000\n",
            "4/4 [==============================] - 0s 8ms/step - loss: 0.0045 - accuracy: 0.0500 - false_negatives_3: 5209.0000 - false_positives_3: 0.0000e+00\n",
            "Epoch 477/1000\n",
            "4/4 [==============================] - 0s 9ms/step - loss: 0.0046 - accuracy: 0.0000e+00 - false_negatives_3: 5169.0000 - false_positives_3: 0.0000e+00\n",
            "Epoch 478/1000\n",
            "4/4 [==============================] - 0s 8ms/step - loss: 0.0045 - accuracy: 0.0900 - false_negatives_3: 5065.0000 - false_positives_3: 0.0000e+00\n",
            "Epoch 479/1000\n",
            "4/4 [==============================] - 0s 10ms/step - loss: 0.0046 - accuracy: 0.0200 - false_negatives_3: 5194.0000 - false_positives_3: 0.0000e+00\n",
            "Epoch 480/1000\n",
            "4/4 [==============================] - 0s 8ms/step - loss: 0.0046 - accuracy: 0.0900 - false_negatives_3: 5124.0000 - false_positives_3: 0.0000e+00\n",
            "Epoch 481/1000\n",
            "4/4 [==============================] - 0s 8ms/step - loss: 0.0046 - accuracy: 0.0000e+00 - false_negatives_3: 5175.0000 - false_positives_3: 0.0000e+00\n",
            "Epoch 482/1000\n",
            "4/4 [==============================] - 0s 8ms/step - loss: 0.0045 - accuracy: 0.0800 - false_negatives_3: 5195.0000 - false_positives_3: 0.0000e+00\n",
            "Epoch 483/1000\n",
            "4/4 [==============================] - 0s 11ms/step - loss: 0.0045 - accuracy: 0.0400 - false_negatives_3: 5159.0000 - false_positives_3: 0.0000e+00\n",
            "Epoch 484/1000\n",
            "4/4 [==============================] - 0s 8ms/step - loss: 0.0046 - accuracy: 0.0400 - false_negatives_3: 5186.0000 - false_positives_3: 0.0000e+00\n",
            "Epoch 485/1000\n",
            "4/4 [==============================] - 0s 8ms/step - loss: 0.0047 - accuracy: 0.0400 - false_negatives_3: 5118.0000 - false_positives_3: 0.0000e+00\n",
            "Epoch 486/1000\n",
            "4/4 [==============================] - 0s 8ms/step - loss: 0.0047 - accuracy: 0.0800 - false_negatives_3: 5160.0000 - false_positives_3: 0.0000e+00\n",
            "Epoch 487/1000\n",
            "4/4 [==============================] - 0s 10ms/step - loss: 0.0047 - accuracy: 0.0400 - false_negatives_3: 5184.0000 - false_positives_3: 0.0000e+00\n",
            "Epoch 488/1000\n",
            "4/4 [==============================] - 0s 10ms/step - loss: 0.0047 - accuracy: 0.0500 - false_negatives_3: 5041.0000 - false_positives_3: 0.0000e+00\n",
            "Epoch 489/1000\n",
            "4/4 [==============================] - 0s 10ms/step - loss: 0.0048 - accuracy: 0.0300 - false_negatives_3: 5273.0000 - false_positives_3: 0.0000e+00\n",
            "Epoch 490/1000\n",
            "4/4 [==============================] - 0s 11ms/step - loss: 0.0049 - accuracy: 0.0600 - false_negatives_3: 5098.0000 - false_positives_3: 0.0000e+00\n",
            "Epoch 491/1000\n",
            "4/4 [==============================] - 0s 9ms/step - loss: 0.0051 - accuracy: 0.0800 - false_negatives_3: 5099.0000 - false_positives_3: 0.0000e+00\n",
            "Epoch 492/1000\n",
            "4/4 [==============================] - 0s 9ms/step - loss: 0.0052 - accuracy: 0.0300 - false_negatives_3: 5164.0000 - false_positives_3: 0.0000e+00\n",
            "Epoch 493/1000\n",
            "4/4 [==============================] - 0s 9ms/step - loss: 0.0052 - accuracy: 0.0100 - false_negatives_3: 5210.0000 - false_positives_3: 0.0000e+00\n",
            "Epoch 494/1000\n",
            "4/4 [==============================] - 0s 9ms/step - loss: 0.0053 - accuracy: 0.0400 - false_negatives_3: 5001.0000 - false_positives_3: 1.0000\n",
            "Epoch 495/1000\n",
            "4/4 [==============================] - 0s 11ms/step - loss: 0.0056 - accuracy: 0.0400 - false_negatives_3: 5278.0000 - false_positives_3: 0.0000e+00\n",
            "Epoch 496/1000\n",
            "4/4 [==============================] - 0s 11ms/step - loss: 0.0058 - accuracy: 0.0400 - false_negatives_3: 5155.0000 - false_positives_3: 1.0000\n",
            "Epoch 497/1000\n",
            "4/4 [==============================] - 0s 10ms/step - loss: 0.0054 - accuracy: 0.0200 - false_negatives_3: 5074.0000 - false_positives_3: 0.0000e+00\n",
            "Epoch 498/1000\n",
            "4/4 [==============================] - 0s 7ms/step - loss: 0.0055 - accuracy: 0.0100 - false_negatives_3: 5042.0000 - false_positives_3: 1.0000\n",
            "Epoch 499/1000\n",
            "4/4 [==============================] - 0s 10ms/step - loss: 0.0054 - accuracy: 0.0200 - false_negatives_3: 5226.0000 - false_positives_3: 0.0000e+00\n",
            "Epoch 500/1000\n",
            "4/4 [==============================] - 0s 8ms/step - loss: 0.0054 - accuracy: 0.0100 - false_negatives_3: 5049.0000 - false_positives_3: 0.0000e+00\n",
            "Epoch 501/1000\n",
            "4/4 [==============================] - 0s 9ms/step - loss: 0.0052 - accuracy: 0.0300 - false_negatives_3: 5201.0000 - false_positives_3: 0.0000e+00\n",
            "Epoch 502/1000\n",
            "4/4 [==============================] - 0s 9ms/step - loss: 0.0051 - accuracy: 0.0200 - false_negatives_3: 5081.0000 - false_positives_3: 0.0000e+00\n",
            "Epoch 503/1000\n",
            "4/4 [==============================] - 0s 10ms/step - loss: 0.0051 - accuracy: 0.0500 - false_negatives_3: 5142.0000 - false_positives_3: 0.0000e+00\n",
            "Epoch 504/1000\n",
            "4/4 [==============================] - 0s 9ms/step - loss: 0.0050 - accuracy: 0.0400 - false_negatives_3: 5163.0000 - false_positives_3: 0.0000e+00\n",
            "Epoch 505/1000\n",
            "4/4 [==============================] - 0s 9ms/step - loss: 0.0049 - accuracy: 0.0300 - false_negatives_3: 5049.0000 - false_positives_3: 0.0000e+00\n",
            "Epoch 506/1000\n",
            "4/4 [==============================] - 0s 9ms/step - loss: 0.0048 - accuracy: 0.0300 - false_negatives_3: 5227.0000 - false_positives_3: 0.0000e+00\n",
            "Epoch 507/1000\n",
            "4/4 [==============================] - 0s 8ms/step - loss: 0.0048 - accuracy: 0.0200 - false_negatives_3: 5084.0000 - false_positives_3: 0.0000e+00\n",
            "Epoch 508/1000\n",
            "4/4 [==============================] - 0s 9ms/step - loss: 0.0047 - accuracy: 0.0200 - false_negatives_3: 5143.0000 - false_positives_3: 0.0000e+00\n",
            "Epoch 509/1000\n",
            "4/4 [==============================] - 0s 9ms/step - loss: 0.0047 - accuracy: 0.0400 - false_negatives_3: 5189.0000 - false_positives_3: 0.0000e+00\n",
            "Epoch 510/1000\n",
            "4/4 [==============================] - 0s 10ms/step - loss: 0.0046 - accuracy: 0.0000e+00 - false_negatives_3: 5065.0000 - false_positives_3: 0.0000e+00\n",
            "Epoch 511/1000\n",
            "4/4 [==============================] - 0s 10ms/step - loss: 0.0047 - accuracy: 0.0400 - false_negatives_3: 5215.0000 - false_positives_3: 0.0000e+00\n",
            "Epoch 512/1000\n",
            "4/4 [==============================] - 0s 10ms/step - loss: 0.0046 - accuracy: 0.0200 - false_negatives_3: 5079.0000 - false_positives_3: 0.0000e+00\n",
            "Epoch 513/1000\n",
            "4/4 [==============================] - 0s 9ms/step - loss: 0.0046 - accuracy: 0.0700 - false_negatives_3: 5179.0000 - false_positives_3: 0.0000e+00\n",
            "Epoch 514/1000\n",
            "4/4 [==============================] - 0s 9ms/step - loss: 0.0046 - accuracy: 0.0300 - false_negatives_3: 5098.0000 - false_positives_3: 0.0000e+00\n",
            "Epoch 515/1000\n",
            "4/4 [==============================] - 0s 8ms/step - loss: 0.0046 - accuracy: 0.1000 - false_negatives_3: 5210.0000 - false_positives_3: 0.0000e+00\n",
            "Epoch 516/1000\n",
            "4/4 [==============================] - 0s 9ms/step - loss: 0.0047 - accuracy: 0.0400 - false_negatives_3: 5009.0000 - false_positives_3: 0.0000e+00\n",
            "Epoch 517/1000\n",
            "4/4 [==============================] - 0s 9ms/step - loss: 0.0047 - accuracy: 0.0500 - false_negatives_3: 5154.0000 - false_positives_3: 0.0000e+00\n",
            "Epoch 518/1000\n",
            "4/4 [==============================] - 0s 10ms/step - loss: 0.0048 - accuracy: 0.0100 - false_negatives_3: 5199.0000 - false_positives_3: 0.0000e+00\n",
            "Epoch 519/1000\n",
            "4/4 [==============================] - 0s 10ms/step - loss: 0.0049 - accuracy: 0.0600 - false_negatives_3: 5098.0000 - false_positives_3: 0.0000e+00\n",
            "Epoch 520/1000\n",
            "4/4 [==============================] - 0s 8ms/step - loss: 0.0049 - accuracy: 0.0100 - false_negatives_3: 5046.0000 - false_positives_3: 0.0000e+00\n",
            "Epoch 521/1000\n",
            "4/4 [==============================] - 0s 7ms/step - loss: 0.0051 - accuracy: 0.0500 - false_negatives_3: 5304.0000 - false_positives_3: 0.0000e+00\n",
            "Epoch 522/1000\n",
            "4/4 [==============================] - 0s 8ms/step - loss: 0.0050 - accuracy: 0.0300 - false_negatives_3: 5062.0000 - false_positives_3: 0.0000e+00\n",
            "Epoch 523/1000\n",
            "4/4 [==============================] - 0s 9ms/step - loss: 0.0051 - accuracy: 0.0400 - false_negatives_3: 5068.0000 - false_positives_3: 0.0000e+00\n",
            "Epoch 524/1000\n",
            "4/4 [==============================] - 0s 8ms/step - loss: 0.0051 - accuracy: 0.0500 - false_negatives_3: 5301.0000 - false_positives_3: 0.0000e+00\n",
            "Epoch 525/1000\n",
            "4/4 [==============================] - 0s 10ms/step - loss: 0.0052 - accuracy: 0.0400 - false_negatives_3: 4991.0000 - false_positives_3: 0.0000e+00\n",
            "Epoch 526/1000\n",
            "4/4 [==============================] - 0s 8ms/step - loss: 0.0052 - accuracy: 0.0500 - false_negatives_3: 5241.0000 - false_positives_3: 0.0000e+00\n",
            "Epoch 527/1000\n",
            "4/4 [==============================] - 0s 8ms/step - loss: 0.0051 - accuracy: 0.0600 - false_negatives_3: 5145.0000 - false_positives_3: 1.0000\n",
            "Epoch 528/1000\n",
            "4/4 [==============================] - 0s 10ms/step - loss: 0.0049 - accuracy: 0.0400 - false_negatives_3: 5163.0000 - false_positives_3: 0.0000e+00\n",
            "Epoch 529/1000\n",
            "4/4 [==============================] - 0s 10ms/step - loss: 0.0048 - accuracy: 0.0700 - false_negatives_3: 5191.0000 - false_positives_3: 0.0000e+00\n",
            "Epoch 530/1000\n",
            "4/4 [==============================] - 0s 9ms/step - loss: 0.0048 - accuracy: 0.0500 - false_negatives_3: 5033.0000 - false_positives_3: 0.0000e+00\n",
            "Epoch 531/1000\n",
            "4/4 [==============================] - 0s 8ms/step - loss: 0.0048 - accuracy: 0.0200 - false_negatives_3: 5211.0000 - false_positives_3: 0.0000e+00\n",
            "Epoch 532/1000\n",
            "4/4 [==============================] - 0s 10ms/step - loss: 0.0047 - accuracy: 0.0900 - false_negatives_3: 5065.0000 - false_positives_3: 0.0000e+00\n",
            "Epoch 533/1000\n",
            "4/4 [==============================] - 0s 10ms/step - loss: 0.0048 - accuracy: 0.0500 - false_negatives_3: 5073.0000 - false_positives_3: 0.0000e+00\n",
            "Epoch 534/1000\n",
            "4/4 [==============================] - 0s 9ms/step - loss: 0.0048 - accuracy: 0.0500 - false_negatives_3: 5190.0000 - false_positives_3: 0.0000e+00\n",
            "Epoch 535/1000\n",
            "4/4 [==============================] - 0s 9ms/step - loss: 0.0048 - accuracy: 0.0300 - false_negatives_3: 5150.0000 - false_positives_3: 0.0000e+00\n",
            "Epoch 536/1000\n",
            "4/4 [==============================] - 0s 8ms/step - loss: 0.0048 - accuracy: 0.0500 - false_negatives_3: 5187.0000 - false_positives_3: 0.0000e+00\n",
            "Epoch 537/1000\n",
            "4/4 [==============================] - 0s 12ms/step - loss: 0.0047 - accuracy: 0.0100 - false_negatives_3: 5168.0000 - false_positives_3: 0.0000e+00\n",
            "Epoch 538/1000\n",
            "4/4 [==============================] - 0s 11ms/step - loss: 0.0047 - accuracy: 0.0600 - false_negatives_3: 5083.0000 - false_positives_3: 0.0000e+00\n",
            "Epoch 539/1000\n",
            "4/4 [==============================] - 0s 13ms/step - loss: 0.0047 - accuracy: 0.0300 - false_negatives_3: 5174.0000 - false_positives_3: 0.0000e+00\n",
            "Epoch 540/1000\n",
            "4/4 [==============================] - 0s 12ms/step - loss: 0.0046 - accuracy: 0.0600 - false_negatives_3: 5078.0000 - false_positives_3: 0.0000e+00\n",
            "Epoch 541/1000\n",
            "4/4 [==============================] - 0s 9ms/step - loss: 0.0046 - accuracy: 0.0600 - false_negatives_3: 5192.0000 - false_positives_3: 0.0000e+00\n",
            "Epoch 542/1000\n",
            "4/4 [==============================] - 0s 8ms/step - loss: 0.0045 - accuracy: 0.0100 - false_negatives_3: 5126.0000 - false_positives_3: 0.0000e+00\n",
            "Epoch 543/1000\n",
            "4/4 [==============================] - 0s 8ms/step - loss: 0.0045 - accuracy: 0.0400 - false_negatives_3: 5096.0000 - false_positives_3: 0.0000e+00\n",
            "Epoch 544/1000\n",
            "4/4 [==============================] - 0s 9ms/step - loss: 0.0045 - accuracy: 0.0100 - false_negatives_3: 5176.0000 - false_positives_3: 0.0000e+00\n",
            "Epoch 545/1000\n",
            "4/4 [==============================] - 0s 9ms/step - loss: 0.0045 - accuracy: 0.0400 - false_negatives_3: 5100.0000 - false_positives_3: 0.0000e+00\n",
            "Epoch 546/1000\n",
            "4/4 [==============================] - 0s 11ms/step - loss: 0.0045 - accuracy: 0.0500 - false_negatives_3: 5204.0000 - false_positives_3: 0.0000e+00\n",
            "Epoch 547/1000\n",
            "4/4 [==============================] - 0s 8ms/step - loss: 0.0045 - accuracy: 0.0500 - false_negatives_3: 5109.0000 - false_positives_3: 0.0000e+00\n",
            "Epoch 548/1000\n",
            "4/4 [==============================] - 0s 10ms/step - loss: 0.0044 - accuracy: 0.0400 - false_negatives_3: 5131.0000 - false_positives_3: 0.0000e+00\n",
            "Epoch 549/1000\n",
            "4/4 [==============================] - 0s 10ms/step - loss: 0.0044 - accuracy: 0.1200 - false_negatives_3: 5190.0000 - false_positives_3: 0.0000e+00\n",
            "Epoch 550/1000\n",
            "4/4 [==============================] - 0s 9ms/step - loss: 0.0045 - accuracy: 0.0300 - false_negatives_3: 5044.0000 - false_positives_3: 0.0000e+00\n",
            "Epoch 551/1000\n",
            "4/4 [==============================] - 0s 10ms/step - loss: 0.0045 - accuracy: 0.0800 - false_negatives_3: 5233.0000 - false_positives_3: 0.0000e+00\n",
            "Epoch 552/1000\n",
            "4/4 [==============================] - 0s 8ms/step - loss: 0.0044 - accuracy: 0.0700 - false_negatives_3: 5080.0000 - false_positives_3: 0.0000e+00\n",
            "Epoch 553/1000\n",
            "4/4 [==============================] - 0s 9ms/step - loss: 0.0044 - accuracy: 0.0800 - false_negatives_3: 5181.0000 - false_positives_3: 0.0000e+00\n",
            "Epoch 554/1000\n",
            "4/4 [==============================] - 0s 9ms/step - loss: 0.0044 - accuracy: 0.0500 - false_negatives_3: 5134.0000 - false_positives_3: 0.0000e+00\n",
            "Epoch 555/1000\n",
            "4/4 [==============================] - 0s 11ms/step - loss: 0.0044 - accuracy: 0.0300 - false_negatives_3: 5131.0000 - false_positives_3: 0.0000e+00\n",
            "Epoch 556/1000\n",
            "4/4 [==============================] - 0s 10ms/step - loss: 0.0044 - accuracy: 0.0800 - false_negatives_3: 5151.0000 - false_positives_3: 0.0000e+00\n",
            "Epoch 557/1000\n",
            "4/4 [==============================] - 0s 11ms/step - loss: 0.0044 - accuracy: 0.0600 - false_negatives_3: 5185.0000 - false_positives_3: 0.0000e+00\n",
            "Epoch 558/1000\n",
            "4/4 [==============================] - 0s 10ms/step - loss: 0.0044 - accuracy: 0.0600 - false_negatives_3: 5212.0000 - false_positives_3: 0.0000e+00\n",
            "Epoch 559/1000\n",
            "4/4 [==============================] - 0s 10ms/step - loss: 0.0044 - accuracy: 0.0800 - false_negatives_3: 5094.0000 - false_positives_3: 0.0000e+00\n",
            "Epoch 560/1000\n",
            "4/4 [==============================] - 0s 10ms/step - loss: 0.0044 - accuracy: 0.0800 - false_negatives_3: 5183.0000 - false_positives_3: 0.0000e+00\n",
            "Epoch 561/1000\n",
            "4/4 [==============================] - 0s 14ms/step - loss: 0.0043 - accuracy: 0.0800 - false_negatives_3: 5108.0000 - false_positives_3: 0.0000e+00\n",
            "Epoch 562/1000\n",
            "4/4 [==============================] - 0s 9ms/step - loss: 0.0043 - accuracy: 0.0300 - false_negatives_3: 5164.0000 - false_positives_3: 0.0000e+00\n",
            "Epoch 563/1000\n",
            "4/4 [==============================] - 0s 13ms/step - loss: 0.0043 - accuracy: 0.0800 - false_negatives_3: 5154.0000 - false_positives_3: 0.0000e+00\n",
            "Epoch 564/1000\n",
            "4/4 [==============================] - 0s 9ms/step - loss: 0.0043 - accuracy: 0.0800 - false_negatives_3: 5156.0000 - false_positives_3: 0.0000e+00\n",
            "Epoch 565/1000\n",
            "4/4 [==============================] - 0s 10ms/step - loss: 0.0043 - accuracy: 0.0500 - false_negatives_3: 5146.0000 - false_positives_3: 0.0000e+00\n",
            "Epoch 566/1000\n",
            "4/4 [==============================] - 0s 8ms/step - loss: 0.0043 - accuracy: 0.0800 - false_negatives_3: 5127.0000 - false_positives_3: 0.0000e+00\n",
            "Epoch 567/1000\n",
            "4/4 [==============================] - 0s 9ms/step - loss: 0.0043 - accuracy: 0.0900 - false_negatives_3: 5134.0000 - false_positives_3: 0.0000e+00\n",
            "Epoch 568/1000\n",
            "4/4 [==============================] - 0s 9ms/step - loss: 0.0043 - accuracy: 0.1100 - false_negatives_3: 5157.0000 - false_positives_3: 0.0000e+00\n",
            "Epoch 569/1000\n",
            "4/4 [==============================] - 0s 11ms/step - loss: 0.0043 - accuracy: 0.0600 - false_negatives_3: 5154.0000 - false_positives_3: 0.0000e+00\n",
            "Epoch 570/1000\n",
            "4/4 [==============================] - 0s 9ms/step - loss: 0.0043 - accuracy: 0.0700 - false_negatives_3: 5153.0000 - false_positives_3: 0.0000e+00\n",
            "Epoch 571/1000\n",
            "4/4 [==============================] - 0s 11ms/step - loss: 0.0043 - accuracy: 0.0500 - false_negatives_3: 5142.0000 - false_positives_3: 0.0000e+00\n",
            "Epoch 572/1000\n",
            "4/4 [==============================] - 0s 9ms/step - loss: 0.0043 - accuracy: 0.0800 - false_negatives_3: 5118.0000 - false_positives_3: 0.0000e+00\n",
            "Epoch 573/1000\n",
            "4/4 [==============================] - 0s 9ms/step - loss: 0.0043 - accuracy: 0.1200 - false_negatives_3: 5167.0000 - false_positives_3: 0.0000e+00\n",
            "Epoch 574/1000\n",
            "4/4 [==============================] - 0s 9ms/step - loss: 0.0043 - accuracy: 0.0400 - false_negatives_3: 5106.0000 - false_positives_3: 0.0000e+00\n",
            "Epoch 575/1000\n",
            "4/4 [==============================] - 0s 10ms/step - loss: 0.0043 - accuracy: 0.1000 - false_negatives_3: 5150.0000 - false_positives_3: 0.0000e+00\n",
            "Epoch 576/1000\n",
            "4/4 [==============================] - 0s 10ms/step - loss: 0.0043 - accuracy: 0.0700 - false_negatives_3: 5133.0000 - false_positives_3: 0.0000e+00\n",
            "Epoch 577/1000\n",
            "4/4 [==============================] - 0s 12ms/step - loss: 0.0043 - accuracy: 0.0900 - false_negatives_3: 5157.0000 - false_positives_3: 0.0000e+00\n",
            "Epoch 578/1000\n",
            "4/4 [==============================] - 0s 10ms/step - loss: 0.0043 - accuracy: 0.0500 - false_negatives_3: 5127.0000 - false_positives_3: 0.0000e+00\n",
            "Epoch 579/1000\n",
            "4/4 [==============================] - 0s 9ms/step - loss: 0.0043 - accuracy: 0.1200 - false_negatives_3: 5139.0000 - false_positives_3: 0.0000e+00\n",
            "Epoch 580/1000\n",
            "4/4 [==============================] - 0s 11ms/step - loss: 0.0043 - accuracy: 0.0400 - false_negatives_3: 5144.0000 - false_positives_3: 0.0000e+00\n",
            "Epoch 581/1000\n",
            "4/4 [==============================] - 0s 10ms/step - loss: 0.0043 - accuracy: 0.2000 - false_negatives_3: 5146.0000 - false_positives_3: 0.0000e+00\n",
            "Epoch 582/1000\n",
            "4/4 [==============================] - 0s 11ms/step - loss: 0.0043 - accuracy: 0.0700 - false_negatives_3: 5114.0000 - false_positives_3: 0.0000e+00\n",
            "Epoch 583/1000\n",
            "4/4 [==============================] - 0s 11ms/step - loss: 0.0043 - accuracy: 0.1500 - false_negatives_3: 5153.0000 - false_positives_3: 0.0000e+00\n",
            "Epoch 584/1000\n",
            "4/4 [==============================] - 0s 8ms/step - loss: 0.0043 - accuracy: 0.0900 - false_negatives_3: 5121.0000 - false_positives_3: 0.0000e+00\n",
            "Epoch 585/1000\n",
            "4/4 [==============================] - 0s 9ms/step - loss: 0.0043 - accuracy: 0.1100 - false_negatives_3: 5156.0000 - false_positives_3: 0.0000e+00\n",
            "Epoch 586/1000\n",
            "4/4 [==============================] - 0s 9ms/step - loss: 0.0043 - accuracy: 0.1800 - false_negatives_3: 5141.0000 - false_positives_3: 0.0000e+00\n",
            "Epoch 587/1000\n",
            "4/4 [==============================] - 0s 9ms/step - loss: 0.0043 - accuracy: 0.0900 - false_negatives_3: 5168.0000 - false_positives_3: 0.0000e+00\n",
            "Epoch 588/1000\n",
            "4/4 [==============================] - 0s 9ms/step - loss: 0.0043 - accuracy: 0.1600 - false_negatives_3: 5178.0000 - false_positives_3: 0.0000e+00\n",
            "Epoch 589/1000\n",
            "4/4 [==============================] - 0s 10ms/step - loss: 0.0043 - accuracy: 0.0900 - false_negatives_3: 5119.0000 - false_positives_3: 0.0000e+00\n",
            "Epoch 590/1000\n",
            "4/4 [==============================] - 0s 9ms/step - loss: 0.0043 - accuracy: 0.1600 - false_negatives_3: 5167.0000 - false_positives_3: 0.0000e+00\n",
            "Epoch 591/1000\n",
            "4/4 [==============================] - 0s 8ms/step - loss: 0.0043 - accuracy: 0.1600 - false_negatives_3: 5100.0000 - false_positives_3: 0.0000e+00\n",
            "Epoch 592/1000\n",
            "4/4 [==============================] - 0s 10ms/step - loss: 0.0043 - accuracy: 0.0200 - false_negatives_3: 5198.0000 - false_positives_3: 0.0000e+00\n",
            "Epoch 593/1000\n",
            "4/4 [==============================] - 0s 10ms/step - loss: 0.0044 - accuracy: 0.1500 - false_negatives_3: 5145.0000 - false_positives_3: 0.0000e+00\n",
            "Epoch 594/1000\n",
            "4/4 [==============================] - 0s 10ms/step - loss: 0.0044 - accuracy: 0.0300 - false_negatives_3: 5165.0000 - false_positives_3: 0.0000e+00\n",
            "Epoch 595/1000\n",
            "4/4 [==============================] - 0s 8ms/step - loss: 0.0045 - accuracy: 0.1600 - false_negatives_3: 5172.0000 - false_positives_3: 0.0000e+00\n",
            "Epoch 596/1000\n",
            "4/4 [==============================] - 0s 9ms/step - loss: 0.0045 - accuracy: 0.0100 - false_negatives_3: 5110.0000 - false_positives_3: 0.0000e+00\n",
            "Epoch 597/1000\n",
            "4/4 [==============================] - 0s 10ms/step - loss: 0.0046 - accuracy: 0.1100 - false_negatives_3: 5182.0000 - false_positives_3: 0.0000e+00\n",
            "Epoch 598/1000\n",
            "4/4 [==============================] - 0s 9ms/step - loss: 0.0047 - accuracy: 0.0100 - false_negatives_3: 5194.0000 - false_positives_3: 0.0000e+00\n",
            "Epoch 599/1000\n",
            "4/4 [==============================] - 0s 8ms/step - loss: 0.0047 - accuracy: 0.0700 - false_negatives_3: 5075.0000 - false_positives_3: 0.0000e+00\n",
            "Epoch 600/1000\n",
            "4/4 [==============================] - 0s 9ms/step - loss: 0.0047 - accuracy: 0.0500 - false_negatives_3: 5149.0000 - false_positives_3: 0.0000e+00\n",
            "Epoch 601/1000\n",
            "4/4 [==============================] - 0s 10ms/step - loss: 0.0049 - accuracy: 0.0100 - false_negatives_3: 5221.0000 - false_positives_3: 0.0000e+00\n",
            "Epoch 602/1000\n",
            "4/4 [==============================] - 0s 12ms/step - loss: 0.0049 - accuracy: 0.0600 - false_negatives_3: 5147.0000 - false_positives_3: 0.0000e+00\n",
            "Epoch 603/1000\n",
            "4/4 [==============================] - 0s 11ms/step - loss: 0.0050 - accuracy: 0.0300 - false_negatives_3: 5211.0000 - false_positives_3: 0.0000e+00\n",
            "Epoch 604/1000\n",
            "4/4 [==============================] - 0s 11ms/step - loss: 0.0049 - accuracy: 0.0600 - false_negatives_3: 5195.0000 - false_positives_3: 0.0000e+00\n",
            "Epoch 605/1000\n",
            "4/4 [==============================] - 0s 9ms/step - loss: 0.0048 - accuracy: 0.0200 - false_negatives_3: 5123.0000 - false_positives_3: 0.0000e+00\n",
            "Epoch 606/1000\n",
            "4/4 [==============================] - 0s 10ms/step - loss: 0.0049 - accuracy: 0.0800 - false_negatives_3: 5132.0000 - false_positives_3: 0.0000e+00\n",
            "Epoch 607/1000\n",
            "4/4 [==============================] - 0s 9ms/step - loss: 0.0048 - accuracy: 0.0100 - false_negatives_3: 5211.0000 - false_positives_3: 0.0000e+00\n",
            "Epoch 608/1000\n",
            "4/4 [==============================] - 0s 9ms/step - loss: 0.0048 - accuracy: 0.0700 - false_negatives_3: 5147.0000 - false_positives_3: 0.0000e+00\n",
            "Epoch 609/1000\n",
            "4/4 [==============================] - 0s 9ms/step - loss: 0.0048 - accuracy: 0.0200 - false_negatives_3: 5221.0000 - false_positives_3: 0.0000e+00\n",
            "Epoch 610/1000\n",
            "4/4 [==============================] - 0s 10ms/step - loss: 0.0047 - accuracy: 0.0600 - false_negatives_3: 5142.0000 - false_positives_3: 0.0000e+00\n",
            "Epoch 611/1000\n",
            "4/4 [==============================] - 0s 9ms/step - loss: 0.0047 - accuracy: 0.0300 - false_negatives_3: 5131.0000 - false_positives_3: 0.0000e+00\n",
            "Epoch 612/1000\n",
            "4/4 [==============================] - 0s 8ms/step - loss: 0.0048 - accuracy: 0.0600 - false_negatives_3: 5117.0000 - false_positives_3: 0.0000e+00\n",
            "Epoch 613/1000\n",
            "4/4 [==============================] - 0s 8ms/step - loss: 0.0048 - accuracy: 0.0300 - false_negatives_3: 5172.0000 - false_positives_3: 0.0000e+00\n",
            "Epoch 614/1000\n",
            "4/4 [==============================] - 0s 9ms/step - loss: 0.0049 - accuracy: 0.0700 - false_negatives_3: 5130.0000 - false_positives_3: 0.0000e+00\n",
            "Epoch 615/1000\n",
            "4/4 [==============================] - 0s 8ms/step - loss: 0.0048 - accuracy: 0.0400 - false_negatives_3: 5038.0000 - false_positives_3: 0.0000e+00\n",
            "Epoch 616/1000\n",
            "4/4 [==============================] - 0s 10ms/step - loss: 0.0049 - accuracy: 0.0400 - false_negatives_3: 5226.0000 - false_positives_3: 0.0000e+00\n",
            "Epoch 617/1000\n",
            "4/4 [==============================] - 0s 9ms/step - loss: 0.0048 - accuracy: 0.0300 - false_negatives_3: 5060.0000 - false_positives_3: 0.0000e+00\n",
            "Epoch 618/1000\n",
            "4/4 [==============================] - 0s 8ms/step - loss: 0.0049 - accuracy: 0.0500 - false_negatives_3: 5226.0000 - false_positives_3: 0.0000e+00\n",
            "Epoch 619/1000\n",
            "4/4 [==============================] - 0s 8ms/step - loss: 0.0047 - accuracy: 0.0200 - false_negatives_3: 5112.0000 - false_positives_3: 0.0000e+00\n",
            "Epoch 620/1000\n",
            "4/4 [==============================] - 0s 8ms/step - loss: 0.0047 - accuracy: 0.0400 - false_negatives_3: 5104.0000 - false_positives_3: 0.0000e+00\n",
            "Epoch 621/1000\n",
            "4/4 [==============================] - 0s 9ms/step - loss: 0.0046 - accuracy: 0.0400 - false_negatives_3: 5163.0000 - false_positives_3: 0.0000e+00\n",
            "Epoch 622/1000\n",
            "4/4 [==============================] - 0s 12ms/step - loss: 0.0047 - accuracy: 0.0800 - false_negatives_3: 5101.0000 - false_positives_3: 0.0000e+00\n",
            "Epoch 623/1000\n",
            "4/4 [==============================] - 0s 9ms/step - loss: 0.0047 - accuracy: 0.0300 - false_negatives_3: 5241.0000 - false_positives_3: 0.0000e+00\n",
            "Epoch 624/1000\n",
            "4/4 [==============================] - 0s 12ms/step - loss: 0.0046 - accuracy: 0.0800 - false_negatives_3: 5056.0000 - false_positives_3: 0.0000e+00\n",
            "Epoch 625/1000\n",
            "4/4 [==============================] - 0s 9ms/step - loss: 0.0047 - accuracy: 0.0200 - false_negatives_3: 5198.0000 - false_positives_3: 0.0000e+00\n",
            "Epoch 626/1000\n",
            "4/4 [==============================] - 0s 8ms/step - loss: 0.0048 - accuracy: 0.0800 - false_negatives_3: 5096.0000 - false_positives_3: 0.0000e+00\n",
            "Epoch 627/1000\n",
            "4/4 [==============================] - 0s 9ms/step - loss: 0.0047 - accuracy: 0.0300 - false_negatives_3: 5192.0000 - false_positives_3: 0.0000e+00\n",
            "Epoch 628/1000\n",
            "4/4 [==============================] - 0s 10ms/step - loss: 0.0048 - accuracy: 0.0600 - false_negatives_3: 5131.0000 - false_positives_3: 0.0000e+00\n",
            "Epoch 629/1000\n",
            "4/4 [==============================] - 0s 8ms/step - loss: 0.0048 - accuracy: 0.0600 - false_negatives_3: 5150.0000 - false_positives_3: 0.0000e+00\n",
            "Epoch 630/1000\n",
            "4/4 [==============================] - 0s 8ms/step - loss: 0.0049 - accuracy: 0.0100 - false_negatives_3: 5154.0000 - false_positives_3: 0.0000e+00\n",
            "Epoch 631/1000\n",
            "4/4 [==============================] - 0s 9ms/step - loss: 0.0049 - accuracy: 0.0100 - false_negatives_3: 5128.0000 - false_positives_3: 0.0000e+00\n",
            "Epoch 632/1000\n",
            "4/4 [==============================] - 0s 8ms/step - loss: 0.0050 - accuracy: 0.0300 - false_negatives_3: 5096.0000 - false_positives_3: 0.0000e+00\n",
            "Epoch 633/1000\n",
            "4/4 [==============================] - 0s 13ms/step - loss: 0.0051 - accuracy: 0.0200 - false_negatives_3: 5156.0000 - false_positives_3: 0.0000e+00\n",
            "Epoch 634/1000\n",
            "4/4 [==============================] - 0s 9ms/step - loss: 0.0051 - accuracy: 0.0600 - false_negatives_3: 5157.0000 - false_positives_3: 0.0000e+00\n",
            "Epoch 635/1000\n",
            "4/4 [==============================] - 0s 8ms/step - loss: 0.0050 - accuracy: 0.0100 - false_negatives_3: 5084.0000 - false_positives_3: 0.0000e+00\n",
            "Epoch 636/1000\n",
            "4/4 [==============================] - 0s 8ms/step - loss: 0.0051 - accuracy: 0.0300 - false_negatives_3: 5261.0000 - false_positives_3: 0.0000e+00\n",
            "Epoch 637/1000\n",
            "4/4 [==============================] - 0s 8ms/step - loss: 0.0050 - accuracy: 0.0400 - false_negatives_3: 5191.0000 - false_positives_3: 0.0000e+00\n",
            "Epoch 638/1000\n",
            "4/4 [==============================] - 0s 9ms/step - loss: 0.0050 - accuracy: 0.0200 - false_negatives_3: 5048.0000 - false_positives_3: 0.0000e+00\n",
            "Epoch 639/1000\n",
            "4/4 [==============================] - 0s 9ms/step - loss: 0.0049 - accuracy: 0.0200 - false_negatives_3: 5103.0000 - false_positives_3: 0.0000e+00\n",
            "Epoch 640/1000\n",
            "4/4 [==============================] - 0s 8ms/step - loss: 0.0049 - accuracy: 0.0300 - false_negatives_3: 5183.0000 - false_positives_3: 0.0000e+00\n",
            "Epoch 641/1000\n",
            "4/4 [==============================] - 0s 10ms/step - loss: 0.0048 - accuracy: 0.0300 - false_negatives_3: 5103.0000 - false_positives_3: 0.0000e+00\n",
            "Epoch 642/1000\n",
            "4/4 [==============================] - 0s 11ms/step - loss: 0.0048 - accuracy: 0.0400 - false_negatives_3: 5077.0000 - false_positives_3: 0.0000e+00\n",
            "Epoch 643/1000\n",
            "4/4 [==============================] - 0s 9ms/step - loss: 0.0047 - accuracy: 0.0300 - false_negatives_3: 5203.0000 - false_positives_3: 0.0000e+00\n",
            "Epoch 644/1000\n",
            "4/4 [==============================] - 0s 9ms/step - loss: 0.0047 - accuracy: 0.0000e+00 - false_negatives_3: 5075.0000 - false_positives_3: 0.0000e+00\n",
            "Epoch 645/1000\n",
            "4/4 [==============================] - 0s 10ms/step - loss: 0.0046 - accuracy: 0.0500 - false_negatives_3: 5169.0000 - false_positives_3: 0.0000e+00\n",
            "Epoch 646/1000\n",
            "4/4 [==============================] - 0s 8ms/step - loss: 0.0045 - accuracy: 0.0200 - false_negatives_3: 5089.0000 - false_positives_3: 0.0000e+00\n",
            "Epoch 647/1000\n",
            "4/4 [==============================] - 0s 9ms/step - loss: 0.0045 - accuracy: 0.0200 - false_negatives_3: 5178.0000 - false_positives_3: 0.0000e+00\n",
            "Epoch 648/1000\n",
            "4/4 [==============================] - 0s 8ms/step - loss: 0.0045 - accuracy: 0.0600 - false_negatives_3: 5110.0000 - false_positives_3: 0.0000e+00\n",
            "Epoch 649/1000\n",
            "4/4 [==============================] - 0s 11ms/step - loss: 0.0045 - accuracy: 0.0100 - false_negatives_3: 5138.0000 - false_positives_3: 0.0000e+00\n",
            "Epoch 650/1000\n",
            "4/4 [==============================] - 0s 11ms/step - loss: 0.0044 - accuracy: 0.0700 - false_negatives_3: 5146.0000 - false_positives_3: 0.0000e+00\n",
            "Epoch 651/1000\n",
            "4/4 [==============================] - 0s 11ms/step - loss: 0.0044 - accuracy: 0.0300 - false_negatives_3: 5170.0000 - false_positives_3: 0.0000e+00\n",
            "Epoch 652/1000\n",
            "4/4 [==============================] - 0s 13ms/step - loss: 0.0044 - accuracy: 0.0800 - false_negatives_3: 5115.0000 - false_positives_3: 0.0000e+00\n",
            "Epoch 653/1000\n",
            "4/4 [==============================] - 0s 12ms/step - loss: 0.0044 - accuracy: 0.0500 - false_negatives_3: 5149.0000 - false_positives_3: 0.0000e+00\n",
            "Epoch 654/1000\n",
            "4/4 [==============================] - 0s 13ms/step - loss: 0.0044 - accuracy: 0.0400 - false_negatives_3: 5106.0000 - false_positives_3: 0.0000e+00\n",
            "Epoch 655/1000\n",
            "4/4 [==============================] - 0s 12ms/step - loss: 0.0044 - accuracy: 0.0400 - false_negatives_3: 5141.0000 - false_positives_3: 0.0000e+00\n",
            "Epoch 656/1000\n",
            "4/4 [==============================] - 0s 9ms/step - loss: 0.0043 - accuracy: 0.0700 - false_negatives_3: 5129.0000 - false_positives_3: 0.0000e+00\n",
            "Epoch 657/1000\n",
            "4/4 [==============================] - 0s 11ms/step - loss: 0.0043 - accuracy: 0.0500 - false_negatives_3: 5141.0000 - false_positives_3: 0.0000e+00\n",
            "Epoch 658/1000\n",
            "4/4 [==============================] - 0s 10ms/step - loss: 0.0043 - accuracy: 0.0300 - false_negatives_3: 5131.0000 - false_positives_3: 0.0000e+00\n",
            "Epoch 659/1000\n",
            "4/4 [==============================] - 0s 13ms/step - loss: 0.0043 - accuracy: 0.1300 - false_negatives_3: 5170.0000 - false_positives_3: 0.0000e+00\n",
            "Epoch 660/1000\n",
            "4/4 [==============================] - 0s 12ms/step - loss: 0.0043 - accuracy: 0.0600 - false_negatives_3: 5136.0000 - false_positives_3: 0.0000e+00\n",
            "Epoch 661/1000\n",
            "4/4 [==============================] - 0s 11ms/step - loss: 0.0043 - accuracy: 0.1100 - false_negatives_3: 5127.0000 - false_positives_3: 0.0000e+00\n",
            "Epoch 662/1000\n",
            "4/4 [==============================] - 0s 12ms/step - loss: 0.0043 - accuracy: 0.1500 - false_negatives_3: 5160.0000 - false_positives_3: 0.0000e+00\n",
            "Epoch 663/1000\n",
            "4/4 [==============================] - 0s 14ms/step - loss: 0.0043 - accuracy: 0.1300 - false_negatives_3: 5126.0000 - false_positives_3: 0.0000e+00\n",
            "Epoch 664/1000\n",
            "4/4 [==============================] - 0s 17ms/step - loss: 0.0043 - accuracy: 0.0400 - false_negatives_3: 5170.0000 - false_positives_3: 0.0000e+00\n",
            "Epoch 665/1000\n",
            "4/4 [==============================] - 0s 14ms/step - loss: 0.0043 - accuracy: 0.1100 - false_negatives_3: 5119.0000 - false_positives_3: 0.0000e+00\n",
            "Epoch 666/1000\n",
            "4/4 [==============================] - 0s 13ms/step - loss: 0.0043 - accuracy: 0.0500 - false_negatives_3: 5163.0000 - false_positives_3: 0.0000e+00\n",
            "Epoch 667/1000\n",
            "4/4 [==============================] - 0s 11ms/step - loss: 0.0043 - accuracy: 0.0400 - false_negatives_3: 5132.0000 - false_positives_3: 0.0000e+00\n",
            "Epoch 668/1000\n",
            "4/4 [==============================] - 0s 11ms/step - loss: 0.0043 - accuracy: 0.0900 - false_negatives_3: 5140.0000 - false_positives_3: 0.0000e+00\n",
            "Epoch 669/1000\n",
            "4/4 [==============================] - 0s 14ms/step - loss: 0.0043 - accuracy: 0.0600 - false_negatives_3: 5124.0000 - false_positives_3: 0.0000e+00\n",
            "Epoch 670/1000\n",
            "4/4 [==============================] - 0s 10ms/step - loss: 0.0043 - accuracy: 0.0900 - false_negatives_3: 5175.0000 - false_positives_3: 0.0000e+00\n",
            "Epoch 671/1000\n",
            "4/4 [==============================] - 0s 12ms/step - loss: 0.0043 - accuracy: 0.0900 - false_negatives_3: 5134.0000 - false_positives_3: 0.0000e+00\n",
            "Epoch 672/1000\n",
            "4/4 [==============================] - 0s 11ms/step - loss: 0.0043 - accuracy: 0.1100 - false_negatives_3: 5162.0000 - false_positives_3: 0.0000e+00\n",
            "Epoch 673/1000\n",
            "4/4 [==============================] - 0s 11ms/step - loss: 0.0043 - accuracy: 0.2000 - false_negatives_3: 5138.0000 - false_positives_3: 0.0000e+00\n",
            "Epoch 674/1000\n",
            "4/4 [==============================] - 0s 9ms/step - loss: 0.0043 - accuracy: 0.0600 - false_negatives_3: 5134.0000 - false_positives_3: 0.0000e+00\n",
            "Epoch 675/1000\n",
            "4/4 [==============================] - 0s 11ms/step - loss: 0.0043 - accuracy: 0.0800 - false_negatives_3: 5155.0000 - false_positives_3: 0.0000e+00\n",
            "Epoch 676/1000\n",
            "4/4 [==============================] - 0s 9ms/step - loss: 0.0043 - accuracy: 0.0200 - false_negatives_3: 5143.0000 - false_positives_3: 0.0000e+00\n",
            "Epoch 677/1000\n",
            "4/4 [==============================] - 0s 11ms/step - loss: 0.0043 - accuracy: 0.0900 - false_negatives_3: 5133.0000 - false_positives_3: 0.0000e+00\n",
            "Epoch 678/1000\n",
            "4/4 [==============================] - 0s 8ms/step - loss: 0.0043 - accuracy: 0.1200 - false_negatives_3: 5138.0000 - false_positives_3: 0.0000e+00\n",
            "Epoch 679/1000\n",
            "4/4 [==============================] - 0s 10ms/step - loss: 0.0043 - accuracy: 0.0500 - false_negatives_3: 5143.0000 - false_positives_3: 0.0000e+00\n",
            "Epoch 680/1000\n",
            "4/4 [==============================] - 0s 12ms/step - loss: 0.0043 - accuracy: 0.0500 - false_negatives_3: 5153.0000 - false_positives_3: 0.0000e+00\n",
            "Epoch 681/1000\n",
            "4/4 [==============================] - 0s 10ms/step - loss: 0.0043 - accuracy: 0.1600 - false_negatives_3: 5159.0000 - false_positives_3: 0.0000e+00\n",
            "Epoch 682/1000\n",
            "4/4 [==============================] - 0s 10ms/step - loss: 0.0043 - accuracy: 0.0900 - false_negatives_3: 5147.0000 - false_positives_3: 0.0000e+00\n",
            "Epoch 683/1000\n",
            "4/4 [==============================] - 0s 10ms/step - loss: 0.0043 - accuracy: 0.1300 - false_negatives_3: 5121.0000 - false_positives_3: 0.0000e+00\n",
            "Epoch 684/1000\n",
            "4/4 [==============================] - 0s 8ms/step - loss: 0.0043 - accuracy: 0.0900 - false_negatives_3: 5154.0000 - false_positives_3: 0.0000e+00\n",
            "Epoch 685/1000\n",
            "4/4 [==============================] - 0s 10ms/step - loss: 0.0043 - accuracy: 0.1300 - false_negatives_3: 5142.0000 - false_positives_3: 0.0000e+00\n",
            "Epoch 686/1000\n",
            "4/4 [==============================] - 0s 10ms/step - loss: 0.0043 - accuracy: 0.1000 - false_negatives_3: 5173.0000 - false_positives_3: 0.0000e+00\n",
            "Epoch 687/1000\n",
            "4/4 [==============================] - 0s 9ms/step - loss: 0.0043 - accuracy: 0.0900 - false_negatives_3: 5171.0000 - false_positives_3: 0.0000e+00\n",
            "Epoch 688/1000\n",
            "4/4 [==============================] - 0s 10ms/step - loss: 0.0043 - accuracy: 0.0600 - false_negatives_3: 5128.0000 - false_positives_3: 0.0000e+00\n",
            "Epoch 689/1000\n",
            "4/4 [==============================] - 0s 9ms/step - loss: 0.0043 - accuracy: 0.0700 - false_negatives_3: 5175.0000 - false_positives_3: 0.0000e+00\n",
            "Epoch 690/1000\n",
            "4/4 [==============================] - 0s 11ms/step - loss: 0.0043 - accuracy: 0.0800 - false_negatives_3: 5139.0000 - false_positives_3: 0.0000e+00\n",
            "Epoch 691/1000\n",
            "4/4 [==============================] - 0s 10ms/step - loss: 0.0043 - accuracy: 0.0700 - false_negatives_3: 5168.0000 - false_positives_3: 0.0000e+00\n",
            "Epoch 692/1000\n",
            "4/4 [==============================] - 0s 12ms/step - loss: 0.0043 - accuracy: 0.0500 - false_negatives_3: 5132.0000 - false_positives_3: 0.0000e+00\n",
            "Epoch 693/1000\n",
            "4/4 [==============================] - 0s 12ms/step - loss: 0.0043 - accuracy: 0.1300 - false_negatives_3: 5156.0000 - false_positives_3: 0.0000e+00\n",
            "Epoch 694/1000\n",
            "4/4 [==============================] - 0s 11ms/step - loss: 0.0043 - accuracy: 0.0800 - false_negatives_3: 5134.0000 - false_positives_3: 0.0000e+00\n",
            "Epoch 695/1000\n",
            "4/4 [==============================] - 0s 9ms/step - loss: 0.0043 - accuracy: 0.0700 - false_negatives_3: 5167.0000 - false_positives_3: 0.0000e+00\n",
            "Epoch 696/1000\n",
            "4/4 [==============================] - 0s 10ms/step - loss: 0.0043 - accuracy: 0.0900 - false_negatives_3: 5139.0000 - false_positives_3: 0.0000e+00\n",
            "Epoch 697/1000\n",
            "4/4 [==============================] - 0s 10ms/step - loss: 0.0043 - accuracy: 0.0800 - false_negatives_3: 5178.0000 - false_positives_3: 0.0000e+00\n",
            "Epoch 698/1000\n",
            "4/4 [==============================] - 0s 10ms/step - loss: 0.0043 - accuracy: 0.1100 - false_negatives_3: 5104.0000 - false_positives_3: 0.0000e+00\n",
            "Epoch 699/1000\n",
            "4/4 [==============================] - 0s 13ms/step - loss: 0.0043 - accuracy: 0.0700 - false_negatives_3: 5177.0000 - false_positives_3: 0.0000e+00\n",
            "Epoch 700/1000\n",
            "4/4 [==============================] - 0s 11ms/step - loss: 0.0043 - accuracy: 0.0500 - false_negatives_3: 5128.0000 - false_positives_3: 0.0000e+00\n",
            "Epoch 701/1000\n",
            "4/4 [==============================] - 0s 12ms/step - loss: 0.0043 - accuracy: 0.0600 - false_negatives_3: 5201.0000 - false_positives_3: 0.0000e+00\n",
            "Epoch 702/1000\n",
            "4/4 [==============================] - 0s 10ms/step - loss: 0.0043 - accuracy: 0.0600 - false_negatives_3: 5127.0000 - false_positives_3: 0.0000e+00\n",
            "Epoch 703/1000\n",
            "4/4 [==============================] - 0s 12ms/step - loss: 0.0043 - accuracy: 0.0900 - false_negatives_3: 5137.0000 - false_positives_3: 0.0000e+00\n",
            "Epoch 704/1000\n",
            "4/4 [==============================] - 0s 10ms/step - loss: 0.0043 - accuracy: 0.0800 - false_negatives_3: 5144.0000 - false_positives_3: 0.0000e+00\n",
            "Epoch 705/1000\n",
            "4/4 [==============================] - 0s 15ms/step - loss: 0.0043 - accuracy: 0.1100 - false_negatives_3: 5135.0000 - false_positives_3: 0.0000e+00\n",
            "Epoch 706/1000\n",
            "4/4 [==============================] - 0s 16ms/step - loss: 0.0043 - accuracy: 0.1000 - false_negatives_3: 5158.0000 - false_positives_3: 0.0000e+00\n",
            "Epoch 707/1000\n",
            "4/4 [==============================] - 0s 15ms/step - loss: 0.0043 - accuracy: 0.1200 - false_negatives_3: 5179.0000 - false_positives_3: 0.0000e+00\n",
            "Epoch 708/1000\n",
            "4/4 [==============================] - 0s 13ms/step - loss: 0.0043 - accuracy: 0.0600 - false_negatives_3: 5125.0000 - false_positives_3: 0.0000e+00\n",
            "Epoch 709/1000\n",
            "4/4 [==============================] - 0s 11ms/step - loss: 0.0043 - accuracy: 0.0700 - false_negatives_3: 5165.0000 - false_positives_3: 0.0000e+00\n",
            "Epoch 710/1000\n",
            "4/4 [==============================] - 0s 12ms/step - loss: 0.0043 - accuracy: 0.0800 - false_negatives_3: 5127.0000 - false_positives_3: 0.0000e+00\n",
            "Epoch 711/1000\n",
            "4/4 [==============================] - 0s 12ms/step - loss: 0.0043 - accuracy: 0.0800 - false_negatives_3: 5170.0000 - false_positives_3: 0.0000e+00\n",
            "Epoch 712/1000\n",
            "4/4 [==============================] - 0s 11ms/step - loss: 0.0043 - accuracy: 0.0900 - false_negatives_3: 5124.0000 - false_positives_3: 0.0000e+00\n",
            "Epoch 713/1000\n",
            "4/4 [==============================] - 0s 11ms/step - loss: 0.0043 - accuracy: 0.0700 - false_negatives_3: 5185.0000 - false_positives_3: 0.0000e+00\n",
            "Epoch 714/1000\n",
            "4/4 [==============================] - 0s 13ms/step - loss: 0.0043 - accuracy: 0.0800 - false_negatives_3: 5137.0000 - false_positives_3: 0.0000e+00\n",
            "Epoch 715/1000\n",
            "4/4 [==============================] - 0s 10ms/step - loss: 0.0043 - accuracy: 0.0500 - false_negatives_3: 5196.0000 - false_positives_3: 0.0000e+00\n",
            "Epoch 716/1000\n",
            "4/4 [==============================] - 0s 13ms/step - loss: 0.0043 - accuracy: 0.0900 - false_negatives_3: 5144.0000 - false_positives_3: 0.0000e+00\n",
            "Epoch 717/1000\n",
            "4/4 [==============================] - 0s 15ms/step - loss: 0.0043 - accuracy: 0.0600 - false_negatives_3: 5185.0000 - false_positives_3: 0.0000e+00\n",
            "Epoch 718/1000\n",
            "4/4 [==============================] - 0s 16ms/step - loss: 0.0043 - accuracy: 0.1000 - false_negatives_3: 5111.0000 - false_positives_3: 0.0000e+00\n",
            "Epoch 719/1000\n",
            "4/4 [==============================] - 0s 11ms/step - loss: 0.0043 - accuracy: 0.0700 - false_negatives_3: 5172.0000 - false_positives_3: 0.0000e+00\n",
            "Epoch 720/1000\n",
            "4/4 [==============================] - 0s 16ms/step - loss: 0.0043 - accuracy: 0.1100 - false_negatives_3: 5137.0000 - false_positives_3: 0.0000e+00\n",
            "Epoch 721/1000\n",
            "4/4 [==============================] - 0s 15ms/step - loss: 0.0043 - accuracy: 0.0700 - false_negatives_3: 5174.0000 - false_positives_3: 0.0000e+00\n",
            "Epoch 722/1000\n",
            "4/4 [==============================] - 0s 15ms/step - loss: 0.0043 - accuracy: 0.1300 - false_negatives_3: 5133.0000 - false_positives_3: 0.0000e+00\n",
            "Epoch 723/1000\n",
            "4/4 [==============================] - 0s 12ms/step - loss: 0.0043 - accuracy: 0.0900 - false_negatives_3: 5182.0000 - false_positives_3: 0.0000e+00\n",
            "Epoch 724/1000\n",
            "4/4 [==============================] - 0s 12ms/step - loss: 0.0043 - accuracy: 0.1200 - false_negatives_3: 5122.0000 - false_positives_3: 0.0000e+00\n",
            "Epoch 725/1000\n",
            "4/4 [==============================] - 0s 15ms/step - loss: 0.0043 - accuracy: 0.0500 - false_negatives_3: 5178.0000 - false_positives_3: 0.0000e+00\n",
            "Epoch 726/1000\n",
            "4/4 [==============================] - 0s 12ms/step - loss: 0.0043 - accuracy: 0.1300 - false_negatives_3: 5139.0000 - false_positives_3: 0.0000e+00\n",
            "Epoch 727/1000\n",
            "4/4 [==============================] - 0s 12ms/step - loss: 0.0043 - accuracy: 0.0300 - false_negatives_3: 5139.0000 - false_positives_3: 0.0000e+00\n",
            "Epoch 728/1000\n",
            "4/4 [==============================] - 0s 17ms/step - loss: 0.0043 - accuracy: 0.1100 - false_negatives_3: 5163.0000 - false_positives_3: 0.0000e+00\n",
            "Epoch 729/1000\n",
            "4/4 [==============================] - 0s 14ms/step - loss: 0.0043 - accuracy: 0.0500 - false_negatives_3: 5141.0000 - false_positives_3: 0.0000e+00\n",
            "Epoch 730/1000\n",
            "4/4 [==============================] - 0s 13ms/step - loss: 0.0043 - accuracy: 0.0600 - false_negatives_3: 5139.0000 - false_positives_3: 0.0000e+00\n",
            "Epoch 731/1000\n",
            "4/4 [==============================] - 0s 16ms/step - loss: 0.0043 - accuracy: 0.1200 - false_negatives_3: 5150.0000 - false_positives_3: 0.0000e+00\n",
            "Epoch 732/1000\n",
            "4/4 [==============================] - 0s 12ms/step - loss: 0.0043 - accuracy: 0.0700 - false_negatives_3: 5153.0000 - false_positives_3: 0.0000e+00\n",
            "Epoch 733/1000\n",
            "4/4 [==============================] - 0s 9ms/step - loss: 0.0043 - accuracy: 0.0700 - false_negatives_3: 5116.0000 - false_positives_3: 0.0000e+00\n",
            "Epoch 734/1000\n",
            "4/4 [==============================] - 0s 9ms/step - loss: 0.0043 - accuracy: 0.0800 - false_negatives_3: 5135.0000 - false_positives_3: 0.0000e+00\n",
            "Epoch 735/1000\n",
            "4/4 [==============================] - 0s 9ms/step - loss: 0.0043 - accuracy: 0.1500 - false_negatives_3: 5152.0000 - false_positives_3: 0.0000e+00\n",
            "Epoch 736/1000\n",
            "4/4 [==============================] - 0s 13ms/step - loss: 0.0043 - accuracy: 0.0900 - false_negatives_3: 5141.0000 - false_positives_3: 0.0000e+00\n",
            "Epoch 737/1000\n",
            "4/4 [==============================] - 0s 9ms/step - loss: 0.0043 - accuracy: 0.1000 - false_negatives_3: 5168.0000 - false_positives_3: 0.0000e+00\n",
            "Epoch 738/1000\n",
            "4/4 [==============================] - 0s 13ms/step - loss: 0.0043 - accuracy: 0.0800 - false_negatives_3: 5122.0000 - false_positives_3: 0.0000e+00\n",
            "Epoch 739/1000\n",
            "4/4 [==============================] - 0s 11ms/step - loss: 0.0043 - accuracy: 0.1700 - false_negatives_3: 5150.0000 - false_positives_3: 0.0000e+00\n",
            "Epoch 740/1000\n",
            "4/4 [==============================] - 0s 12ms/step - loss: 0.0043 - accuracy: 0.0900 - false_negatives_3: 5136.0000 - false_positives_3: 0.0000e+00\n",
            "Epoch 741/1000\n",
            "4/4 [==============================] - 0s 12ms/step - loss: 0.0043 - accuracy: 0.1300 - false_negatives_3: 5143.0000 - false_positives_3: 0.0000e+00\n",
            "Epoch 742/1000\n",
            "4/4 [==============================] - 0s 11ms/step - loss: 0.0043 - accuracy: 0.1300 - false_negatives_3: 5165.0000 - false_positives_3: 0.0000e+00\n",
            "Epoch 743/1000\n",
            "4/4 [==============================] - 0s 11ms/step - loss: 0.0043 - accuracy: 0.0600 - false_negatives_3: 5131.0000 - false_positives_3: 0.0000e+00\n",
            "Epoch 744/1000\n",
            "4/4 [==============================] - 0s 12ms/step - loss: 0.0043 - accuracy: 0.1700 - false_negatives_3: 5159.0000 - false_positives_3: 0.0000e+00\n",
            "Epoch 745/1000\n",
            "4/4 [==============================] - 0s 16ms/step - loss: 0.0043 - accuracy: 0.1600 - false_negatives_3: 5182.0000 - false_positives_3: 0.0000e+00\n",
            "Epoch 746/1000\n",
            "4/4 [==============================] - 0s 17ms/step - loss: 0.0043 - accuracy: 0.1200 - false_negatives_3: 5110.0000 - false_positives_3: 0.0000e+00\n",
            "Epoch 747/1000\n",
            "4/4 [==============================] - 0s 12ms/step - loss: 0.0043 - accuracy: 0.1600 - false_negatives_3: 5131.0000 - false_positives_3: 0.0000e+00\n",
            "Epoch 748/1000\n",
            "4/4 [==============================] - 0s 12ms/step - loss: 0.0043 - accuracy: 0.1500 - false_negatives_3: 5143.0000 - false_positives_3: 0.0000e+00\n",
            "Epoch 749/1000\n",
            "4/4 [==============================] - 0s 12ms/step - loss: 0.0043 - accuracy: 0.1200 - false_negatives_3: 5196.0000 - false_positives_3: 0.0000e+00\n",
            "Epoch 750/1000\n",
            "4/4 [==============================] - 0s 11ms/step - loss: 0.0043 - accuracy: 0.1200 - false_negatives_3: 5162.0000 - false_positives_3: 0.0000e+00\n",
            "Epoch 751/1000\n",
            "4/4 [==============================] - 0s 12ms/step - loss: 0.0043 - accuracy: 0.1100 - false_negatives_3: 5168.0000 - false_positives_3: 0.0000e+00\n",
            "Epoch 752/1000\n",
            "4/4 [==============================] - 0s 16ms/step - loss: 0.0043 - accuracy: 0.2100 - false_negatives_3: 5152.0000 - false_positives_3: 0.0000e+00\n",
            "Epoch 753/1000\n",
            "4/4 [==============================] - 0s 11ms/step - loss: 0.0043 - accuracy: 0.0900 - false_negatives_3: 5129.0000 - false_positives_3: 0.0000e+00\n",
            "Epoch 754/1000\n",
            "4/4 [==============================] - 0s 16ms/step - loss: 0.0043 - accuracy: 0.0500 - false_negatives_3: 5124.0000 - false_positives_3: 0.0000e+00\n",
            "Epoch 755/1000\n",
            "4/4 [==============================] - 0s 11ms/step - loss: 0.0043 - accuracy: 0.1400 - false_negatives_3: 5206.0000 - false_positives_3: 0.0000e+00\n",
            "Epoch 756/1000\n",
            "4/4 [==============================] - 0s 15ms/step - loss: 0.0043 - accuracy: 0.0500 - false_negatives_3: 5117.0000 - false_positives_3: 0.0000e+00\n",
            "Epoch 757/1000\n",
            "4/4 [==============================] - 0s 14ms/step - loss: 0.0043 - accuracy: 0.1000 - false_negatives_3: 5173.0000 - false_positives_3: 0.0000e+00\n",
            "Epoch 758/1000\n",
            "4/4 [==============================] - 0s 11ms/step - loss: 0.0043 - accuracy: 0.1300 - false_negatives_3: 5159.0000 - false_positives_3: 0.0000e+00\n",
            "Epoch 759/1000\n",
            "4/4 [==============================] - 0s 12ms/step - loss: 0.0043 - accuracy: 0.1300 - false_negatives_3: 5151.0000 - false_positives_3: 0.0000e+00\n",
            "Epoch 760/1000\n",
            "4/4 [==============================] - 0s 10ms/step - loss: 0.0043 - accuracy: 0.1000 - false_negatives_3: 5143.0000 - false_positives_3: 0.0000e+00\n",
            "Epoch 761/1000\n",
            "4/4 [==============================] - 0s 8ms/step - loss: 0.0043 - accuracy: 0.1800 - false_negatives_3: 5123.0000 - false_positives_3: 0.0000e+00\n",
            "Epoch 762/1000\n",
            "4/4 [==============================] - 0s 9ms/step - loss: 0.0043 - accuracy: 0.1200 - false_negatives_3: 5153.0000 - false_positives_3: 0.0000e+00\n",
            "Epoch 763/1000\n",
            "4/4 [==============================] - 0s 13ms/step - loss: 0.0043 - accuracy: 0.0700 - false_negatives_3: 5157.0000 - false_positives_3: 0.0000e+00\n",
            "Epoch 764/1000\n",
            "4/4 [==============================] - 0s 10ms/step - loss: 0.0043 - accuracy: 0.0900 - false_negatives_3: 5141.0000 - false_positives_3: 0.0000e+00\n",
            "Epoch 765/1000\n",
            "4/4 [==============================] - 0s 12ms/step - loss: 0.0043 - accuracy: 0.0600 - false_negatives_3: 5152.0000 - false_positives_3: 0.0000e+00\n",
            "Epoch 766/1000\n",
            "4/4 [==============================] - 0s 16ms/step - loss: 0.0043 - accuracy: 0.0500 - false_negatives_3: 5181.0000 - false_positives_3: 0.0000e+00\n",
            "Epoch 767/1000\n",
            "4/4 [==============================] - 0s 12ms/step - loss: 0.0043 - accuracy: 0.0600 - false_negatives_3: 5087.0000 - false_positives_3: 0.0000e+00\n",
            "Epoch 768/1000\n",
            "4/4 [==============================] - 0s 14ms/step - loss: 0.0043 - accuracy: 0.0700 - false_negatives_3: 5202.0000 - false_positives_3: 0.0000e+00\n",
            "Epoch 769/1000\n",
            "4/4 [==============================] - 0s 11ms/step - loss: 0.0043 - accuracy: 0.0800 - false_negatives_3: 5144.0000 - false_positives_3: 0.0000e+00\n",
            "Epoch 770/1000\n",
            "4/4 [==============================] - 0s 12ms/step - loss: 0.0044 - accuracy: 0.0400 - false_negatives_3: 5130.0000 - false_positives_3: 0.0000e+00\n",
            "Epoch 771/1000\n",
            "4/4 [==============================] - 0s 9ms/step - loss: 0.0044 - accuracy: 0.0500 - false_negatives_3: 5194.0000 - false_positives_3: 0.0000e+00\n",
            "Epoch 772/1000\n",
            "4/4 [==============================] - 0s 14ms/step - loss: 0.0044 - accuracy: 0.0500 - false_negatives_3: 5127.0000 - false_positives_3: 0.0000e+00\n",
            "Epoch 773/1000\n",
            "4/4 [==============================] - 0s 12ms/step - loss: 0.0044 - accuracy: 0.0200 - false_negatives_3: 5171.0000 - false_positives_3: 0.0000e+00\n",
            "Epoch 774/1000\n",
            "4/4 [==============================] - 0s 14ms/step - loss: 0.0044 - accuracy: 0.0500 - false_negatives_3: 5151.0000 - false_positives_3: 0.0000e+00\n",
            "Epoch 775/1000\n",
            "4/4 [==============================] - 0s 12ms/step - loss: 0.0044 - accuracy: 0.0400 - false_negatives_3: 5142.0000 - false_positives_3: 0.0000e+00\n",
            "Epoch 776/1000\n",
            "4/4 [==============================] - 0s 13ms/step - loss: 0.0044 - accuracy: 0.1000 - false_negatives_3: 5198.0000 - false_positives_3: 0.0000e+00\n",
            "Epoch 777/1000\n",
            "4/4 [==============================] - 0s 14ms/step - loss: 0.0044 - accuracy: 0.0400 - false_negatives_3: 5162.0000 - false_positives_3: 0.0000e+00\n",
            "Epoch 778/1000\n",
            "4/4 [==============================] - 0s 13ms/step - loss: 0.0044 - accuracy: 0.0600 - false_negatives_3: 5138.0000 - false_positives_3: 0.0000e+00\n",
            "Epoch 779/1000\n",
            "4/4 [==============================] - 0s 15ms/step - loss: 0.0044 - accuracy: 0.0600 - false_negatives_3: 5120.0000 - false_positives_3: 0.0000e+00\n",
            "Epoch 780/1000\n",
            "4/4 [==============================] - 0s 12ms/step - loss: 0.0045 - accuracy: 0.0600 - false_negatives_3: 5177.0000 - false_positives_3: 0.0000e+00\n",
            "Epoch 781/1000\n",
            "4/4 [==============================] - 0s 17ms/step - loss: 0.0045 - accuracy: 0.0600 - false_negatives_3: 5127.0000 - false_positives_3: 0.0000e+00\n",
            "Epoch 782/1000\n",
            "4/4 [==============================] - 0s 13ms/step - loss: 0.0045 - accuracy: 0.0500 - false_negatives_3: 5134.0000 - false_positives_3: 0.0000e+00\n",
            "Epoch 783/1000\n",
            "4/4 [==============================] - 0s 16ms/step - loss: 0.0045 - accuracy: 0.0800 - false_negatives_3: 5241.0000 - false_positives_3: 0.0000e+00\n",
            "Epoch 784/1000\n",
            "4/4 [==============================] - 0s 13ms/step - loss: 0.0045 - accuracy: 0.0200 - false_negatives_3: 5090.0000 - false_positives_3: 0.0000e+00\n",
            "Epoch 785/1000\n",
            "4/4 [==============================] - 0s 14ms/step - loss: 0.0046 - accuracy: 0.0700 - false_negatives_3: 5211.0000 - false_positives_3: 0.0000e+00\n",
            "Epoch 786/1000\n",
            "4/4 [==============================] - 0s 11ms/step - loss: 0.0046 - accuracy: 0.0500 - false_negatives_3: 5193.0000 - false_positives_3: 0.0000e+00\n",
            "Epoch 787/1000\n",
            "4/4 [==============================] - 0s 14ms/step - loss: 0.0046 - accuracy: 0.0000e+00 - false_negatives_3: 5113.0000 - false_positives_3: 0.0000e+00\n",
            "Epoch 788/1000\n",
            "4/4 [==============================] - 0s 13ms/step - loss: 0.0046 - accuracy: 0.0200 - false_negatives_3: 5183.0000 - false_positives_3: 0.0000e+00\n",
            "Epoch 789/1000\n",
            "4/4 [==============================] - 0s 16ms/step - loss: 0.0046 - accuracy: 0.0300 - false_negatives_3: 5178.0000 - false_positives_3: 0.0000e+00\n",
            "Epoch 790/1000\n",
            "4/4 [==============================] - 0s 10ms/step - loss: 0.0046 - accuracy: 0.0400 - false_negatives_3: 5141.0000 - false_positives_3: 0.0000e+00\n",
            "Epoch 791/1000\n",
            "4/4 [==============================] - 0s 12ms/step - loss: 0.0046 - accuracy: 0.0500 - false_negatives_3: 5159.0000 - false_positives_3: 0.0000e+00\n",
            "Epoch 792/1000\n",
            "4/4 [==============================] - 0s 11ms/step - loss: 0.0047 - accuracy: 0.0200 - false_negatives_3: 5194.0000 - false_positives_3: 0.0000e+00\n",
            "Epoch 793/1000\n",
            "4/4 [==============================] - 0s 11ms/step - loss: 0.0048 - accuracy: 0.0300 - false_negatives_3: 5191.0000 - false_positives_3: 0.0000e+00\n",
            "Epoch 794/1000\n",
            "4/4 [==============================] - 0s 12ms/step - loss: 0.0048 - accuracy: 0.0700 - false_negatives_3: 5098.0000 - false_positives_3: 0.0000e+00\n",
            "Epoch 795/1000\n",
            "4/4 [==============================] - 0s 9ms/step - loss: 0.0048 - accuracy: 0.0500 - false_negatives_3: 5295.0000 - false_positives_3: 0.0000e+00\n",
            "Epoch 796/1000\n",
            "4/4 [==============================] - 0s 10ms/step - loss: 0.0049 - accuracy: 0.0500 - false_negatives_3: 5089.0000 - false_positives_3: 0.0000e+00\n",
            "Epoch 797/1000\n",
            "4/4 [==============================] - 0s 13ms/step - loss: 0.0050 - accuracy: 0.0300 - false_negatives_3: 5068.0000 - false_positives_3: 0.0000e+00\n",
            "Epoch 798/1000\n",
            "4/4 [==============================] - 0s 13ms/step - loss: 0.0049 - accuracy: 0.0400 - false_negatives_3: 5254.0000 - false_positives_3: 0.0000e+00\n",
            "Epoch 799/1000\n",
            "4/4 [==============================] - 0s 9ms/step - loss: 0.0048 - accuracy: 0.0300 - false_negatives_3: 5054.0000 - false_positives_3: 0.0000e+00\n",
            "Epoch 800/1000\n",
            "4/4 [==============================] - 0s 13ms/step - loss: 0.0048 - accuracy: 0.0200 - false_negatives_3: 5144.0000 - false_positives_3: 0.0000e+00\n",
            "Epoch 801/1000\n",
            "4/4 [==============================] - 0s 9ms/step - loss: 0.0049 - accuracy: 0.0200 - false_negatives_3: 5153.0000 - false_positives_3: 0.0000e+00\n",
            "Epoch 802/1000\n",
            "4/4 [==============================] - 0s 9ms/step - loss: 0.0047 - accuracy: 0.0300 - false_negatives_3: 5100.0000 - false_positives_3: 0.0000e+00\n",
            "Epoch 803/1000\n",
            "4/4 [==============================] - 0s 8ms/step - loss: 0.0049 - accuracy: 0.0200 - false_negatives_3: 5144.0000 - false_positives_3: 0.0000e+00\n",
            "Epoch 804/1000\n",
            "4/4 [==============================] - 0s 11ms/step - loss: 0.0048 - accuracy: 0.0400 - false_negatives_3: 5091.0000 - false_positives_3: 0.0000e+00\n",
            "Epoch 805/1000\n",
            "4/4 [==============================] - 0s 11ms/step - loss: 0.0048 - accuracy: 0.0100 - false_negatives_3: 5241.0000 - false_positives_3: 0.0000e+00\n",
            "Epoch 806/1000\n",
            "4/4 [==============================] - 0s 10ms/step - loss: 0.0048 - accuracy: 0.0000e+00 - false_negatives_3: 5051.0000 - false_positives_3: 0.0000e+00\n",
            "Epoch 807/1000\n",
            "4/4 [==============================] - 0s 10ms/step - loss: 0.0049 - accuracy: 0.0200 - false_negatives_3: 5085.0000 - false_positives_3: 0.0000e+00\n",
            "Epoch 808/1000\n",
            "4/4 [==============================] - 0s 9ms/step - loss: 0.0048 - accuracy: 0.0200 - false_negatives_3: 5184.0000 - false_positives_3: 0.0000e+00\n",
            "Epoch 809/1000\n",
            "4/4 [==============================] - 0s 11ms/step - loss: 0.0048 - accuracy: 0.0800 - false_negatives_3: 5138.0000 - false_positives_3: 0.0000e+00\n",
            "Epoch 810/1000\n",
            "4/4 [==============================] - 0s 9ms/step - loss: 0.0048 - accuracy: 0.0300 - false_negatives_3: 5149.0000 - false_positives_3: 0.0000e+00\n",
            "Epoch 811/1000\n",
            "4/4 [==============================] - 0s 8ms/step - loss: 0.0048 - accuracy: 0.0500 - false_negatives_3: 5198.0000 - false_positives_3: 0.0000e+00\n",
            "Epoch 812/1000\n",
            "4/4 [==============================] - 0s 10ms/step - loss: 0.0048 - accuracy: 0.0100 - false_negatives_3: 5118.0000 - false_positives_3: 0.0000e+00\n",
            "Epoch 813/1000\n",
            "4/4 [==============================] - 0s 10ms/step - loss: 0.0049 - accuracy: 0.0500 - false_negatives_3: 5112.0000 - false_positives_3: 0.0000e+00\n",
            "Epoch 814/1000\n",
            "4/4 [==============================] - 0s 13ms/step - loss: 0.0049 - accuracy: 0.0300 - false_negatives_3: 5162.0000 - false_positives_3: 0.0000e+00\n",
            "Epoch 815/1000\n",
            "4/4 [==============================] - 0s 11ms/step - loss: 0.0048 - accuracy: 0.0300 - false_negatives_3: 5135.0000 - false_positives_3: 0.0000e+00\n",
            "Epoch 816/1000\n",
            "4/4 [==============================] - 0s 10ms/step - loss: 0.0049 - accuracy: 0.0300 - false_negatives_3: 5108.0000 - false_positives_3: 0.0000e+00\n",
            "Epoch 817/1000\n",
            "4/4 [==============================] - 0s 9ms/step - loss: 0.0049 - accuracy: 0.0500 - false_negatives_3: 5160.0000 - false_positives_3: 0.0000e+00\n",
            "Epoch 818/1000\n",
            "4/4 [==============================] - 0s 11ms/step - loss: 0.0050 - accuracy: 0.0200 - false_negatives_3: 5019.0000 - false_positives_3: 0.0000e+00\n",
            "Epoch 819/1000\n",
            "4/4 [==============================] - 0s 9ms/step - loss: 0.0049 - accuracy: 0.0900 - false_negatives_3: 5224.0000 - false_positives_3: 0.0000e+00\n",
            "Epoch 820/1000\n",
            "4/4 [==============================] - 0s 10ms/step - loss: 0.0049 - accuracy: 0.0200 - false_negatives_3: 5144.0000 - false_positives_3: 0.0000e+00\n",
            "Epoch 821/1000\n",
            "4/4 [==============================] - 0s 8ms/step - loss: 0.0050 - accuracy: 0.0800 - false_negatives_3: 5185.0000 - false_positives_3: 0.0000e+00\n",
            "Epoch 822/1000\n",
            "4/4 [==============================] - 0s 10ms/step - loss: 0.0049 - accuracy: 0.0300 - false_negatives_3: 5194.0000 - false_positives_3: 0.0000e+00\n",
            "Epoch 823/1000\n",
            "4/4 [==============================] - 0s 9ms/step - loss: 0.0049 - accuracy: 0.1000 - false_negatives_3: 5094.0000 - false_positives_3: 0.0000e+00\n",
            "Epoch 824/1000\n",
            "4/4 [==============================] - 0s 9ms/step - loss: 0.0049 - accuracy: 0.0200 - false_negatives_3: 5176.0000 - false_positives_3: 0.0000e+00\n",
            "Epoch 825/1000\n",
            "4/4 [==============================] - 0s 8ms/step - loss: 0.0048 - accuracy: 0.0600 - false_negatives_3: 5129.0000 - false_positives_3: 0.0000e+00\n",
            "Epoch 826/1000\n",
            "4/4 [==============================] - 0s 9ms/step - loss: 0.0047 - accuracy: 0.0100 - false_negatives_3: 5082.0000 - false_positives_3: 0.0000e+00\n",
            "Epoch 827/1000\n",
            "4/4 [==============================] - 0s 12ms/step - loss: 0.0048 - accuracy: 0.0400 - false_negatives_3: 5241.0000 - false_positives_3: 0.0000e+00\n",
            "Epoch 828/1000\n",
            "4/4 [==============================] - 0s 11ms/step - loss: 0.0047 - accuracy: 0.0200 - false_negatives_3: 5066.0000 - false_positives_3: 0.0000e+00\n",
            "Epoch 829/1000\n",
            "4/4 [==============================] - 0s 9ms/step - loss: 0.0047 - accuracy: 0.0700 - false_negatives_3: 5214.0000 - false_positives_3: 0.0000e+00\n",
            "Epoch 830/1000\n",
            "4/4 [==============================] - 0s 10ms/step - loss: 0.0048 - accuracy: 0.0200 - false_negatives_3: 5118.0000 - false_positives_3: 0.0000e+00\n",
            "Epoch 831/1000\n",
            "4/4 [==============================] - 0s 9ms/step - loss: 0.0049 - accuracy: 0.0400 - false_negatives_3: 5083.0000 - false_positives_3: 0.0000e+00\n",
            "Epoch 832/1000\n",
            "4/4 [==============================] - 0s 8ms/step - loss: 0.0049 - accuracy: 0.0200 - false_negatives_3: 5217.0000 - false_positives_3: 0.0000e+00\n",
            "Epoch 833/1000\n",
            "4/4 [==============================] - 0s 11ms/step - loss: 0.0049 - accuracy: 0.0600 - false_negatives_3: 5162.0000 - false_positives_3: 0.0000e+00\n",
            "Epoch 834/1000\n",
            "4/4 [==============================] - 0s 11ms/step - loss: 0.0048 - accuracy: 0.0800 - false_negatives_3: 5102.0000 - false_positives_3: 0.0000e+00\n",
            "Epoch 835/1000\n",
            "4/4 [==============================] - 0s 9ms/step - loss: 0.0047 - accuracy: 0.0600 - false_negatives_3: 5150.0000 - false_positives_3: 0.0000e+00\n",
            "Epoch 836/1000\n",
            "4/4 [==============================] - 0s 8ms/step - loss: 0.0047 - accuracy: 0.0200 - false_negatives_3: 5191.0000 - false_positives_3: 0.0000e+00\n",
            "Epoch 837/1000\n",
            "4/4 [==============================] - 0s 9ms/step - loss: 0.0046 - accuracy: 0.0100 - false_negatives_3: 5053.0000 - false_positives_3: 0.0000e+00\n",
            "Epoch 838/1000\n",
            "4/4 [==============================] - 0s 10ms/step - loss: 0.0047 - accuracy: 0.0400 - false_negatives_3: 5179.0000 - false_positives_3: 0.0000e+00\n",
            "Epoch 839/1000\n",
            "4/4 [==============================] - 0s 11ms/step - loss: 0.0046 - accuracy: 0.0700 - false_negatives_3: 5124.0000 - false_positives_3: 0.0000e+00\n",
            "Epoch 840/1000\n",
            "4/4 [==============================] - 0s 11ms/step - loss: 0.0046 - accuracy: 0.0300 - false_negatives_3: 5141.0000 - false_positives_3: 0.0000e+00\n",
            "Epoch 841/1000\n",
            "4/4 [==============================] - 0s 10ms/step - loss: 0.0046 - accuracy: 0.0600 - false_negatives_3: 5142.0000 - false_positives_3: 0.0000e+00\n",
            "Epoch 842/1000\n",
            "4/4 [==============================] - 0s 8ms/step - loss: 0.0045 - accuracy: 0.0900 - false_negatives_3: 5153.0000 - false_positives_3: 0.0000e+00\n",
            "Epoch 843/1000\n",
            "4/4 [==============================] - 0s 10ms/step - loss: 0.0045 - accuracy: 0.0600 - false_negatives_3: 5100.0000 - false_positives_3: 0.0000e+00\n",
            "Epoch 844/1000\n",
            "4/4 [==============================] - 0s 9ms/step - loss: 0.0044 - accuracy: 0.0800 - false_negatives_3: 5129.0000 - false_positives_3: 0.0000e+00\n",
            "Epoch 845/1000\n",
            "4/4 [==============================] - 0s 11ms/step - loss: 0.0046 - accuracy: 0.0200 - false_negatives_3: 5222.0000 - false_positives_3: 0.0000e+00\n",
            "Epoch 846/1000\n",
            "4/4 [==============================] - 0s 9ms/step - loss: 0.0046 - accuracy: 0.0400 - false_negatives_3: 5059.0000 - false_positives_3: 0.0000e+00\n",
            "Epoch 847/1000\n",
            "4/4 [==============================] - 0s 9ms/step - loss: 0.0045 - accuracy: 0.0200 - false_negatives_3: 5189.0000 - false_positives_3: 0.0000e+00\n",
            "Epoch 848/1000\n",
            "4/4 [==============================] - 0s 9ms/step - loss: 0.0045 - accuracy: 0.0700 - false_negatives_3: 5088.0000 - false_positives_3: 0.0000e+00\n",
            "Epoch 849/1000\n",
            "4/4 [==============================] - 0s 9ms/step - loss: 0.0045 - accuracy: 0.1000 - false_negatives_3: 5169.0000 - false_positives_3: 0.0000e+00\n",
            "Epoch 850/1000\n",
            "4/4 [==============================] - 0s 10ms/step - loss: 0.0044 - accuracy: 0.0800 - false_negatives_3: 5120.0000 - false_positives_3: 0.0000e+00\n",
            "Epoch 851/1000\n",
            "4/4 [==============================] - 0s 13ms/step - loss: 0.0044 - accuracy: 0.0500 - false_negatives_3: 5186.0000 - false_positives_3: 0.0000e+00\n",
            "Epoch 852/1000\n",
            "4/4 [==============================] - 0s 12ms/step - loss: 0.0044 - accuracy: 0.0600 - false_negatives_3: 5067.0000 - false_positives_3: 0.0000e+00\n",
            "Epoch 853/1000\n",
            "4/4 [==============================] - 0s 8ms/step - loss: 0.0044 - accuracy: 0.1000 - false_negatives_3: 5184.0000 - false_positives_3: 0.0000e+00\n",
            "Epoch 854/1000\n",
            "4/4 [==============================] - 0s 11ms/step - loss: 0.0044 - accuracy: 0.0200 - false_negatives_3: 5058.0000 - false_positives_3: 0.0000e+00\n",
            "Epoch 855/1000\n",
            "4/4 [==============================] - 0s 11ms/step - loss: 0.0044 - accuracy: 0.0600 - false_negatives_3: 5177.0000 - false_positives_3: 0.0000e+00\n",
            "Epoch 856/1000\n",
            "4/4 [==============================] - 0s 11ms/step - loss: 0.0045 - accuracy: 0.0800 - false_negatives_3: 5153.0000 - false_positives_3: 0.0000e+00\n",
            "Epoch 857/1000\n",
            "4/4 [==============================] - 0s 10ms/step - loss: 0.0045 - accuracy: 0.0300 - false_negatives_3: 5173.0000 - false_positives_3: 0.0000e+00\n",
            "Epoch 858/1000\n",
            "4/4 [==============================] - 0s 12ms/step - loss: 0.0044 - accuracy: 0.0200 - false_negatives_3: 5172.0000 - false_positives_3: 0.0000e+00\n",
            "Epoch 859/1000\n",
            "4/4 [==============================] - 0s 9ms/step - loss: 0.0044 - accuracy: 0.0700 - false_negatives_3: 5112.0000 - false_positives_3: 0.0000e+00\n",
            "Epoch 860/1000\n",
            "4/4 [==============================] - 0s 11ms/step - loss: 0.0044 - accuracy: 0.0500 - false_negatives_3: 5191.0000 - false_positives_3: 0.0000e+00\n",
            "Epoch 861/1000\n",
            "4/4 [==============================] - 0s 9ms/step - loss: 0.0044 - accuracy: 0.1300 - false_negatives_3: 5089.0000 - false_positives_3: 0.0000e+00\n",
            "Epoch 862/1000\n",
            "4/4 [==============================] - 0s 9ms/step - loss: 0.0044 - accuracy: 0.0300 - false_negatives_3: 5181.0000 - false_positives_3: 0.0000e+00\n",
            "Epoch 863/1000\n",
            "4/4 [==============================] - 0s 8ms/step - loss: 0.0044 - accuracy: 0.0300 - false_negatives_3: 5141.0000 - false_positives_3: 0.0000e+00\n",
            "Epoch 864/1000\n",
            "4/4 [==============================] - 0s 9ms/step - loss: 0.0044 - accuracy: 0.0400 - false_negatives_3: 5112.0000 - false_positives_3: 0.0000e+00\n",
            "Epoch 865/1000\n",
            "4/4 [==============================] - 0s 9ms/step - loss: 0.0044 - accuracy: 0.0300 - false_negatives_3: 5219.0000 - false_positives_3: 0.0000e+00\n",
            "Epoch 866/1000\n",
            "4/4 [==============================] - 0s 8ms/step - loss: 0.0044 - accuracy: 0.0600 - false_negatives_3: 5114.0000 - false_positives_3: 0.0000e+00\n",
            "Epoch 867/1000\n",
            "4/4 [==============================] - 0s 8ms/step - loss: 0.0044 - accuracy: 0.0500 - false_negatives_3: 5119.0000 - false_positives_3: 0.0000e+00\n",
            "Epoch 868/1000\n",
            "4/4 [==============================] - 0s 9ms/step - loss: 0.0044 - accuracy: 0.0600 - false_negatives_3: 5168.0000 - false_positives_3: 0.0000e+00\n",
            "Epoch 869/1000\n",
            "4/4 [==============================] - 0s 12ms/step - loss: 0.0045 - accuracy: 0.0500 - false_negatives_3: 5084.0000 - false_positives_3: 0.0000e+00\n",
            "Epoch 870/1000\n",
            "4/4 [==============================] - 0s 10ms/step - loss: 0.0045 - accuracy: 0.0200 - false_negatives_3: 5210.0000 - false_positives_3: 0.0000e+00\n",
            "Epoch 871/1000\n",
            "4/4 [==============================] - 0s 9ms/step - loss: 0.0045 - accuracy: 0.0400 - false_negatives_3: 5124.0000 - false_positives_3: 0.0000e+00\n",
            "Epoch 872/1000\n",
            "4/4 [==============================] - 0s 8ms/step - loss: 0.0045 - accuracy: 0.0200 - false_negatives_3: 5128.0000 - false_positives_3: 0.0000e+00\n",
            "Epoch 873/1000\n",
            "4/4 [==============================] - 0s 10ms/step - loss: 0.0045 - accuracy: 0.0400 - false_negatives_3: 5196.0000 - false_positives_3: 0.0000e+00\n",
            "Epoch 874/1000\n",
            "4/4 [==============================] - 0s 10ms/step - loss: 0.0045 - accuracy: 0.0200 - false_negatives_3: 5158.0000 - false_positives_3: 0.0000e+00\n",
            "Epoch 875/1000\n",
            "4/4 [==============================] - 0s 13ms/step - loss: 0.0045 - accuracy: 0.0300 - false_negatives_3: 5183.0000 - false_positives_3: 0.0000e+00\n",
            "Epoch 876/1000\n",
            "4/4 [==============================] - 0s 10ms/step - loss: 0.0045 - accuracy: 0.0400 - false_negatives_3: 5148.0000 - false_positives_3: 0.0000e+00\n",
            "Epoch 877/1000\n",
            "4/4 [==============================] - 0s 9ms/step - loss: 0.0044 - accuracy: 0.0300 - false_negatives_3: 5095.0000 - false_positives_3: 0.0000e+00\n",
            "Epoch 878/1000\n",
            "4/4 [==============================] - 0s 10ms/step - loss: 0.0044 - accuracy: 0.0600 - false_negatives_3: 5138.0000 - false_positives_3: 0.0000e+00\n",
            "Epoch 879/1000\n",
            "4/4 [==============================] - 0s 10ms/step - loss: 0.0044 - accuracy: 0.0200 - false_negatives_3: 5161.0000 - false_positives_3: 0.0000e+00\n",
            "Epoch 880/1000\n",
            "4/4 [==============================] - 0s 11ms/step - loss: 0.0044 - accuracy: 0.0400 - false_negatives_3: 5182.0000 - false_positives_3: 0.0000e+00\n",
            "Epoch 881/1000\n",
            "4/4 [==============================] - 0s 11ms/step - loss: 0.0044 - accuracy: 0.0400 - false_negatives_3: 5067.0000 - false_positives_3: 0.0000e+00\n",
            "Epoch 882/1000\n",
            "4/4 [==============================] - 0s 9ms/step - loss: 0.0045 - accuracy: 0.0500 - false_negatives_3: 5187.0000 - false_positives_3: 0.0000e+00\n",
            "Epoch 883/1000\n",
            "4/4 [==============================] - 0s 10ms/step - loss: 0.0044 - accuracy: 0.0300 - false_negatives_3: 5133.0000 - false_positives_3: 0.0000e+00\n",
            "Epoch 884/1000\n",
            "4/4 [==============================] - 0s 11ms/step - loss: 0.0044 - accuracy: 0.0200 - false_negatives_3: 5109.0000 - false_positives_3: 0.0000e+00\n",
            "Epoch 885/1000\n",
            "4/4 [==============================] - 0s 10ms/step - loss: 0.0044 - accuracy: 0.0600 - false_negatives_3: 5238.0000 - false_positives_3: 0.0000e+00\n",
            "Epoch 886/1000\n",
            "4/4 [==============================] - 0s 10ms/step - loss: 0.0044 - accuracy: 0.0700 - false_negatives_3: 5057.0000 - false_positives_3: 0.0000e+00\n",
            "Epoch 887/1000\n",
            "4/4 [==============================] - 0s 14ms/step - loss: 0.0043 - accuracy: 0.0500 - false_negatives_3: 5186.0000 - false_positives_3: 0.0000e+00\n",
            "Epoch 888/1000\n",
            "4/4 [==============================] - 0s 9ms/step - loss: 0.0043 - accuracy: 0.1100 - false_negatives_3: 5162.0000 - false_positives_3: 0.0000e+00\n",
            "Epoch 889/1000\n",
            "4/4 [==============================] - 0s 8ms/step - loss: 0.0043 - accuracy: 0.0600 - false_negatives_3: 5119.0000 - false_positives_3: 0.0000e+00\n",
            "Epoch 890/1000\n",
            "4/4 [==============================] - 0s 9ms/step - loss: 0.0043 - accuracy: 0.0300 - false_negatives_3: 5189.0000 - false_positives_3: 0.0000e+00\n",
            "Epoch 891/1000\n",
            "4/4 [==============================] - 0s 10ms/step - loss: 0.0043 - accuracy: 0.0900 - false_negatives_3: 5139.0000 - false_positives_3: 0.0000e+00\n",
            "Epoch 892/1000\n",
            "4/4 [==============================] - 0s 10ms/step - loss: 0.0044 - accuracy: 0.0200 - false_negatives_3: 5118.0000 - false_positives_3: 0.0000e+00\n",
            "Epoch 893/1000\n",
            "4/4 [==============================] - 0s 10ms/step - loss: 0.0045 - accuracy: 0.0400 - false_negatives_3: 5082.0000 - false_positives_3: 0.0000e+00\n",
            "Epoch 894/1000\n",
            "4/4 [==============================] - 0s 10ms/step - loss: 0.0045 - accuracy: 0.0400 - false_negatives_3: 5196.0000 - false_positives_3: 0.0000e+00\n",
            "Epoch 895/1000\n",
            "4/4 [==============================] - 0s 9ms/step - loss: 0.0044 - accuracy: 0.0600 - false_negatives_3: 5178.0000 - false_positives_3: 0.0000e+00\n",
            "Epoch 896/1000\n",
            "4/4 [==============================] - 0s 13ms/step - loss: 0.0044 - accuracy: 0.1000 - false_negatives_3: 5136.0000 - false_positives_3: 0.0000e+00\n",
            "Epoch 897/1000\n",
            "4/4 [==============================] - 0s 10ms/step - loss: 0.0044 - accuracy: 0.0400 - false_negatives_3: 5158.0000 - false_positives_3: 0.0000e+00\n",
            "Epoch 898/1000\n",
            "4/4 [==============================] - 0s 10ms/step - loss: 0.0044 - accuracy: 0.0500 - false_negatives_3: 5133.0000 - false_positives_3: 0.0000e+00\n",
            "Epoch 899/1000\n",
            "4/4 [==============================] - 0s 9ms/step - loss: 0.0043 - accuracy: 0.0500 - false_negatives_3: 5119.0000 - false_positives_3: 0.0000e+00\n",
            "Epoch 900/1000\n",
            "4/4 [==============================] - 0s 9ms/step - loss: 0.0043 - accuracy: 0.0300 - false_negatives_3: 5176.0000 - false_positives_3: 0.0000e+00\n",
            "Epoch 901/1000\n",
            "4/4 [==============================] - 0s 13ms/step - loss: 0.0043 - accuracy: 0.0600 - false_negatives_3: 5117.0000 - false_positives_3: 0.0000e+00\n",
            "Epoch 902/1000\n",
            "4/4 [==============================] - 0s 11ms/step - loss: 0.0043 - accuracy: 0.0700 - false_negatives_3: 5159.0000 - false_positives_3: 0.0000e+00\n",
            "Epoch 903/1000\n",
            "4/4 [==============================] - 0s 10ms/step - loss: 0.0043 - accuracy: 0.0800 - false_negatives_3: 5124.0000 - false_positives_3: 0.0000e+00\n",
            "Epoch 904/1000\n",
            "4/4 [==============================] - 0s 10ms/step - loss: 0.0043 - accuracy: 0.0600 - false_negatives_3: 5123.0000 - false_positives_3: 0.0000e+00\n",
            "Epoch 905/1000\n",
            "4/4 [==============================] - 0s 9ms/step - loss: 0.0043 - accuracy: 0.0600 - false_negatives_3: 5143.0000 - false_positives_3: 0.0000e+00\n",
            "Epoch 906/1000\n",
            "4/4 [==============================] - 0s 10ms/step - loss: 0.0043 - accuracy: 0.0200 - false_negatives_3: 5149.0000 - false_positives_3: 0.0000e+00\n",
            "Epoch 907/1000\n",
            "4/4 [==============================] - 0s 13ms/step - loss: 0.0043 - accuracy: 0.0700 - false_negatives_3: 5143.0000 - false_positives_3: 0.0000e+00\n",
            "Epoch 908/1000\n",
            "4/4 [==============================] - 0s 9ms/step - loss: 0.0043 - accuracy: 0.0500 - false_negatives_3: 5153.0000 - false_positives_3: 0.0000e+00\n",
            "Epoch 909/1000\n",
            "4/4 [==============================] - 0s 8ms/step - loss: 0.0043 - accuracy: 0.0500 - false_negatives_3: 5164.0000 - false_positives_3: 0.0000e+00\n",
            "Epoch 910/1000\n",
            "4/4 [==============================] - 0s 8ms/step - loss: 0.0043 - accuracy: 0.1300 - false_negatives_3: 5167.0000 - false_positives_3: 0.0000e+00\n",
            "Epoch 911/1000\n",
            "4/4 [==============================] - 0s 13ms/step - loss: 0.0043 - accuracy: 0.1000 - false_negatives_3: 5124.0000 - false_positives_3: 0.0000e+00\n",
            "Epoch 912/1000\n",
            "4/4 [==============================] - 0s 10ms/step - loss: 0.0043 - accuracy: 0.1800 - false_negatives_3: 5180.0000 - false_positives_3: 0.0000e+00\n",
            "Epoch 913/1000\n",
            "4/4 [==============================] - 0s 10ms/step - loss: 0.0042 - accuracy: 0.1000 - false_negatives_3: 5129.0000 - false_positives_3: 0.0000e+00\n",
            "Epoch 914/1000\n",
            "4/4 [==============================] - 0s 8ms/step - loss: 0.0042 - accuracy: 0.1000 - false_negatives_3: 5153.0000 - false_positives_3: 0.0000e+00\n",
            "Epoch 915/1000\n",
            "4/4 [==============================] - 0s 10ms/step - loss: 0.0042 - accuracy: 0.2100 - false_negatives_3: 5144.0000 - false_positives_3: 0.0000e+00\n",
            "Epoch 916/1000\n",
            "4/4 [==============================] - 0s 9ms/step - loss: 0.0043 - accuracy: 0.0900 - false_negatives_3: 5125.0000 - false_positives_3: 0.0000e+00\n",
            "Epoch 917/1000\n",
            "4/4 [==============================] - 0s 9ms/step - loss: 0.0042 - accuracy: 0.1000 - false_negatives_3: 5154.0000 - false_positives_3: 0.0000e+00\n",
            "Epoch 918/1000\n",
            "4/4 [==============================] - 0s 10ms/step - loss: 0.0042 - accuracy: 0.1500 - false_negatives_3: 5141.0000 - false_positives_3: 0.0000e+00\n",
            "Epoch 919/1000\n",
            "4/4 [==============================] - 0s 11ms/step - loss: 0.0042 - accuracy: 0.1200 - false_negatives_3: 5146.0000 - false_positives_3: 0.0000e+00\n",
            "Epoch 920/1000\n",
            "4/4 [==============================] - 0s 10ms/step - loss: 0.0042 - accuracy: 0.1500 - false_negatives_3: 5143.0000 - false_positives_3: 0.0000e+00\n",
            "Epoch 921/1000\n",
            "4/4 [==============================] - 0s 9ms/step - loss: 0.0042 - accuracy: 0.0900 - false_negatives_3: 5135.0000 - false_positives_3: 0.0000e+00\n",
            "Epoch 922/1000\n",
            "4/4 [==============================] - 0s 11ms/step - loss: 0.0042 - accuracy: 0.1500 - false_negatives_3: 5151.0000 - false_positives_3: 0.0000e+00\n",
            "Epoch 923/1000\n",
            "4/4 [==============================] - 0s 11ms/step - loss: 0.0042 - accuracy: 0.1000 - false_negatives_3: 5114.0000 - false_positives_3: 0.0000e+00\n",
            "Epoch 924/1000\n",
            "4/4 [==============================] - 0s 11ms/step - loss: 0.0042 - accuracy: 0.2300 - false_negatives_3: 5136.0000 - false_positives_3: 0.0000e+00\n",
            "Epoch 925/1000\n",
            "4/4 [==============================] - 0s 9ms/step - loss: 0.0042 - accuracy: 0.2000 - false_negatives_3: 5130.0000 - false_positives_3: 0.0000e+00\n",
            "Epoch 926/1000\n",
            "4/4 [==============================] - 0s 9ms/step - loss: 0.0042 - accuracy: 0.1900 - false_negatives_3: 5149.0000 - false_positives_3: 0.0000e+00\n",
            "Epoch 927/1000\n",
            "4/4 [==============================] - 0s 10ms/step - loss: 0.0042 - accuracy: 0.2700 - false_negatives_3: 5170.0000 - false_positives_3: 0.0000e+00\n",
            "Epoch 928/1000\n",
            "4/4 [==============================] - 0s 11ms/step - loss: 0.0042 - accuracy: 0.2200 - false_negatives_3: 5128.0000 - false_positives_3: 0.0000e+00\n",
            "Epoch 929/1000\n",
            "4/4 [==============================] - 0s 10ms/step - loss: 0.0042 - accuracy: 0.2000 - false_negatives_3: 5131.0000 - false_positives_3: 0.0000e+00\n",
            "Epoch 930/1000\n",
            "4/4 [==============================] - 0s 9ms/step - loss: 0.0042 - accuracy: 0.1800 - false_negatives_3: 5140.0000 - false_positives_3: 0.0000e+00\n",
            "Epoch 931/1000\n",
            "4/4 [==============================] - 0s 9ms/step - loss: 0.0042 - accuracy: 0.2300 - false_negatives_3: 5129.0000 - false_positives_3: 0.0000e+00\n",
            "Epoch 932/1000\n",
            "4/4 [==============================] - 0s 8ms/step - loss: 0.0042 - accuracy: 0.1700 - false_negatives_3: 5130.0000 - false_positives_3: 0.0000e+00\n",
            "Epoch 933/1000\n",
            "4/4 [==============================] - 0s 8ms/step - loss: 0.0042 - accuracy: 0.1800 - false_negatives_3: 5128.0000 - false_positives_3: 0.0000e+00\n",
            "Epoch 934/1000\n",
            "4/4 [==============================] - 0s 9ms/step - loss: 0.0042 - accuracy: 0.2700 - false_negatives_3: 5133.0000 - false_positives_3: 0.0000e+00\n",
            "Epoch 935/1000\n",
            "4/4 [==============================] - 0s 9ms/step - loss: 0.0042 - accuracy: 0.1000 - false_negatives_3: 5154.0000 - false_positives_3: 0.0000e+00\n",
            "Epoch 936/1000\n",
            "4/4 [==============================] - 0s 8ms/step - loss: 0.0042 - accuracy: 0.2700 - false_negatives_3: 5124.0000 - false_positives_3: 0.0000e+00\n",
            "Epoch 937/1000\n",
            "4/4 [==============================] - 0s 11ms/step - loss: 0.0042 - accuracy: 0.1900 - false_negatives_3: 5151.0000 - false_positives_3: 0.0000e+00\n",
            "Epoch 938/1000\n",
            "4/4 [==============================] - 0s 9ms/step - loss: 0.0042 - accuracy: 0.2800 - false_negatives_3: 5141.0000 - false_positives_3: 0.0000e+00\n",
            "Epoch 939/1000\n",
            "4/4 [==============================] - 0s 8ms/step - loss: 0.0042 - accuracy: 0.1000 - false_negatives_3: 5156.0000 - false_positives_3: 0.0000e+00\n",
            "Epoch 940/1000\n",
            "4/4 [==============================] - 0s 9ms/step - loss: 0.0042 - accuracy: 0.1400 - false_negatives_3: 5126.0000 - false_positives_3: 0.0000e+00\n",
            "Epoch 941/1000\n",
            "4/4 [==============================] - 0s 7ms/step - loss: 0.0042 - accuracy: 0.1200 - false_negatives_3: 5141.0000 - false_positives_3: 0.0000e+00\n",
            "Epoch 942/1000\n",
            "4/4 [==============================] - 0s 9ms/step - loss: 0.0042 - accuracy: 0.1700 - false_negatives_3: 5147.0000 - false_positives_3: 0.0000e+00\n",
            "Epoch 943/1000\n",
            "4/4 [==============================] - 0s 12ms/step - loss: 0.0042 - accuracy: 0.0900 - false_negatives_3: 5145.0000 - false_positives_3: 0.0000e+00\n",
            "Epoch 944/1000\n",
            "4/4 [==============================] - 0s 11ms/step - loss: 0.0042 - accuracy: 0.1400 - false_negatives_3: 5118.0000 - false_positives_3: 0.0000e+00\n",
            "Epoch 945/1000\n",
            "4/4 [==============================] - 0s 11ms/step - loss: 0.0042 - accuracy: 0.1800 - false_negatives_3: 5167.0000 - false_positives_3: 0.0000e+00\n",
            "Epoch 946/1000\n",
            "4/4 [==============================] - 0s 9ms/step - loss: 0.0042 - accuracy: 0.1800 - false_negatives_3: 5127.0000 - false_positives_3: 0.0000e+00\n",
            "Epoch 947/1000\n",
            "4/4 [==============================] - 0s 9ms/step - loss: 0.0042 - accuracy: 0.1300 - false_negatives_3: 5148.0000 - false_positives_3: 0.0000e+00\n",
            "Epoch 948/1000\n",
            "4/4 [==============================] - 0s 10ms/step - loss: 0.0042 - accuracy: 0.1700 - false_negatives_3: 5168.0000 - false_positives_3: 0.0000e+00\n",
            "Epoch 949/1000\n",
            "4/4 [==============================] - 0s 9ms/step - loss: 0.0042 - accuracy: 0.1200 - false_negatives_3: 5109.0000 - false_positives_3: 0.0000e+00\n",
            "Epoch 950/1000\n",
            "4/4 [==============================] - 0s 9ms/step - loss: 0.0042 - accuracy: 0.1700 - false_negatives_3: 5183.0000 - false_positives_3: 0.0000e+00\n",
            "Epoch 951/1000\n",
            "4/4 [==============================] - 0s 12ms/step - loss: 0.0042 - accuracy: 0.1700 - false_negatives_3: 5156.0000 - false_positives_3: 0.0000e+00\n",
            "Epoch 952/1000\n",
            "4/4 [==============================] - 0s 9ms/step - loss: 0.0042 - accuracy: 0.0900 - false_negatives_3: 5143.0000 - false_positives_3: 0.0000e+00\n",
            "Epoch 953/1000\n",
            "4/4 [==============================] - 0s 9ms/step - loss: 0.0043 - accuracy: 0.1100 - false_negatives_3: 5156.0000 - false_positives_3: 0.0000e+00\n",
            "Epoch 954/1000\n",
            "4/4 [==============================] - 0s 10ms/step - loss: 0.0043 - accuracy: 0.0500 - false_negatives_3: 5124.0000 - false_positives_3: 0.0000e+00\n",
            "Epoch 955/1000\n",
            "4/4 [==============================] - 0s 10ms/step - loss: 0.0043 - accuracy: 0.1400 - false_negatives_3: 5140.0000 - false_positives_3: 0.0000e+00\n",
            "Epoch 956/1000\n",
            "4/4 [==============================] - 0s 9ms/step - loss: 0.0043 - accuracy: 0.1100 - false_negatives_3: 5134.0000 - false_positives_3: 0.0000e+00\n",
            "Epoch 957/1000\n",
            "4/4 [==============================] - 0s 8ms/step - loss: 0.0043 - accuracy: 0.1000 - false_negatives_3: 5186.0000 - false_positives_3: 0.0000e+00\n",
            "Epoch 958/1000\n",
            "4/4 [==============================] - 0s 9ms/step - loss: 0.0042 - accuracy: 0.1100 - false_negatives_3: 5160.0000 - false_positives_3: 0.0000e+00\n",
            "Epoch 959/1000\n",
            "4/4 [==============================] - 0s 9ms/step - loss: 0.0042 - accuracy: 0.1100 - false_negatives_3: 5135.0000 - false_positives_3: 0.0000e+00\n",
            "Epoch 960/1000\n",
            "4/4 [==============================] - 0s 11ms/step - loss: 0.0042 - accuracy: 0.1100 - false_negatives_3: 5154.0000 - false_positives_3: 0.0000e+00\n",
            "Epoch 961/1000\n",
            "4/4 [==============================] - 0s 8ms/step - loss: 0.0042 - accuracy: 0.1200 - false_negatives_3: 5143.0000 - false_positives_3: 0.0000e+00\n",
            "Epoch 962/1000\n",
            "4/4 [==============================] - 0s 9ms/step - loss: 0.0042 - accuracy: 0.0800 - false_negatives_3: 5159.0000 - false_positives_3: 0.0000e+00\n",
            "Epoch 963/1000\n",
            "4/4 [==============================] - 0s 10ms/step - loss: 0.0043 - accuracy: 0.1800 - false_negatives_3: 5151.0000 - false_positives_3: 0.0000e+00\n",
            "Epoch 964/1000\n",
            "4/4 [==============================] - 0s 8ms/step - loss: 0.0043 - accuracy: 0.0700 - false_negatives_3: 5131.0000 - false_positives_3: 0.0000e+00\n",
            "Epoch 965/1000\n",
            "4/4 [==============================] - 0s 9ms/step - loss: 0.0042 - accuracy: 0.1700 - false_negatives_3: 5164.0000 - false_positives_3: 0.0000e+00\n",
            "Epoch 966/1000\n",
            "4/4 [==============================] - 0s 8ms/step - loss: 0.0042 - accuracy: 0.1000 - false_negatives_3: 5183.0000 - false_positives_3: 0.0000e+00\n",
            "Epoch 967/1000\n",
            "4/4 [==============================] - 0s 9ms/step - loss: 0.0043 - accuracy: 0.1200 - false_negatives_3: 5136.0000 - false_positives_3: 0.0000e+00\n",
            "Epoch 968/1000\n",
            "4/4 [==============================] - 0s 10ms/step - loss: 0.0042 - accuracy: 0.1300 - false_negatives_3: 5158.0000 - false_positives_3: 0.0000e+00\n",
            "Epoch 969/1000\n",
            "4/4 [==============================] - 0s 8ms/step - loss: 0.0042 - accuracy: 0.2000 - false_negatives_3: 5169.0000 - false_positives_3: 0.0000e+00\n",
            "Epoch 970/1000\n",
            "4/4 [==============================] - 0s 9ms/step - loss: 0.0042 - accuracy: 0.1100 - false_negatives_3: 5113.0000 - false_positives_3: 0.0000e+00\n",
            "Epoch 971/1000\n",
            "4/4 [==============================] - 0s 10ms/step - loss: 0.0042 - accuracy: 0.0900 - false_negatives_3: 5109.0000 - false_positives_3: 0.0000e+00\n",
            "Epoch 972/1000\n",
            "4/4 [==============================] - 0s 10ms/step - loss: 0.0042 - accuracy: 0.1800 - false_negatives_3: 5168.0000 - false_positives_3: 0.0000e+00\n",
            "Epoch 973/1000\n",
            "4/4 [==============================] - 0s 14ms/step - loss: 0.0042 - accuracy: 0.0800 - false_negatives_3: 5122.0000 - false_positives_3: 0.0000e+00\n",
            "Epoch 974/1000\n",
            "4/4 [==============================] - 0s 11ms/step - loss: 0.0042 - accuracy: 0.1200 - false_negatives_3: 5166.0000 - false_positives_3: 0.0000e+00\n",
            "Epoch 975/1000\n",
            "4/4 [==============================] - 0s 9ms/step - loss: 0.0043 - accuracy: 0.0400 - false_negatives_3: 5163.0000 - false_positives_3: 0.0000e+00\n",
            "Epoch 976/1000\n",
            "4/4 [==============================] - 0s 10ms/step - loss: 0.0043 - accuracy: 0.1000 - false_negatives_3: 5101.0000 - false_positives_3: 0.0000e+00\n",
            "Epoch 977/1000\n",
            "4/4 [==============================] - 0s 9ms/step - loss: 0.0043 - accuracy: 0.0700 - false_negatives_3: 5186.0000 - false_positives_3: 0.0000e+00\n",
            "Epoch 978/1000\n",
            "4/4 [==============================] - 0s 11ms/step - loss: 0.0043 - accuracy: 0.0700 - false_negatives_3: 5122.0000 - false_positives_3: 0.0000e+00\n",
            "Epoch 979/1000\n",
            "4/4 [==============================] - 0s 10ms/step - loss: 0.0043 - accuracy: 0.0800 - false_negatives_3: 5180.0000 - false_positives_3: 0.0000e+00\n",
            "Epoch 980/1000\n",
            "4/4 [==============================] - 0s 13ms/step - loss: 0.0043 - accuracy: 0.1100 - false_negatives_3: 5151.0000 - false_positives_3: 0.0000e+00\n",
            "Epoch 981/1000\n",
            "4/4 [==============================] - 0s 13ms/step - loss: 0.0043 - accuracy: 0.0900 - false_negatives_3: 5180.0000 - false_positives_3: 0.0000e+00\n",
            "Epoch 982/1000\n",
            "4/4 [==============================] - 0s 10ms/step - loss: 0.0043 - accuracy: 0.0400 - false_negatives_3: 5138.0000 - false_positives_3: 0.0000e+00\n",
            "Epoch 983/1000\n",
            "4/4 [==============================] - 0s 8ms/step - loss: 0.0043 - accuracy: 0.0800 - false_negatives_3: 5112.0000 - false_positives_3: 0.0000e+00\n",
            "Epoch 984/1000\n",
            "4/4 [==============================] - 0s 8ms/step - loss: 0.0043 - accuracy: 0.0900 - false_negatives_3: 5204.0000 - false_positives_3: 0.0000e+00\n",
            "Epoch 985/1000\n",
            "4/4 [==============================] - 0s 11ms/step - loss: 0.0043 - accuracy: 0.0800 - false_negatives_3: 5108.0000 - false_positives_3: 0.0000e+00\n",
            "Epoch 986/1000\n",
            "4/4 [==============================] - 0s 10ms/step - loss: 0.0043 - accuracy: 0.0800 - false_negatives_3: 5153.0000 - false_positives_3: 0.0000e+00\n",
            "Epoch 987/1000\n",
            "4/4 [==============================] - 0s 10ms/step - loss: 0.0043 - accuracy: 0.0700 - false_negatives_3: 5142.0000 - false_positives_3: 0.0000e+00\n",
            "Epoch 988/1000\n",
            "4/4 [==============================] - 0s 8ms/step - loss: 0.0043 - accuracy: 0.1100 - false_negatives_3: 5158.0000 - false_positives_3: 0.0000e+00\n",
            "Epoch 989/1000\n",
            "4/4 [==============================] - 0s 11ms/step - loss: 0.0043 - accuracy: 0.0700 - false_negatives_3: 5175.0000 - false_positives_3: 0.0000e+00\n",
            "Epoch 990/1000\n",
            "4/4 [==============================] - 0s 10ms/step - loss: 0.0043 - accuracy: 0.1100 - false_negatives_3: 5112.0000 - false_positives_3: 0.0000e+00\n",
            "Epoch 991/1000\n",
            "4/4 [==============================] - 0s 9ms/step - loss: 0.0043 - accuracy: 0.0900 - false_negatives_3: 5184.0000 - false_positives_3: 0.0000e+00\n",
            "Epoch 992/1000\n",
            "4/4 [==============================] - 0s 9ms/step - loss: 0.0043 - accuracy: 0.0900 - false_negatives_3: 5174.0000 - false_positives_3: 0.0000e+00\n",
            "Epoch 993/1000\n",
            "4/4 [==============================] - 0s 11ms/step - loss: 0.0043 - accuracy: 0.1300 - false_negatives_3: 5120.0000 - false_positives_3: 0.0000e+00\n",
            "Epoch 994/1000\n",
            "4/4 [==============================] - 0s 9ms/step - loss: 0.0043 - accuracy: 0.1600 - false_negatives_3: 5149.0000 - false_positives_3: 0.0000e+00\n",
            "Epoch 995/1000\n",
            "4/4 [==============================] - 0s 10ms/step - loss: 0.0043 - accuracy: 0.0900 - false_negatives_3: 5116.0000 - false_positives_3: 0.0000e+00\n",
            "Epoch 996/1000\n",
            "4/4 [==============================] - 0s 10ms/step - loss: 0.0043 - accuracy: 0.1300 - false_negatives_3: 5148.0000 - false_positives_3: 0.0000e+00\n",
            "Epoch 997/1000\n",
            "4/4 [==============================] - 0s 11ms/step - loss: 0.0043 - accuracy: 0.0900 - false_negatives_3: 5137.0000 - false_positives_3: 0.0000e+00\n",
            "Epoch 998/1000\n",
            "4/4 [==============================] - 0s 9ms/step - loss: 0.0043 - accuracy: 0.1200 - false_negatives_3: 5160.0000 - false_positives_3: 0.0000e+00\n",
            "Epoch 999/1000\n",
            "4/4 [==============================] - 0s 8ms/step - loss: 0.0043 - accuracy: 0.0800 - false_negatives_3: 5139.0000 - false_positives_3: 0.0000e+00\n",
            "Epoch 1000/1000\n",
            "4/4 [==============================] - 0s 8ms/step - loss: 0.0043 - accuracy: 0.1200 - false_negatives_3: 5185.0000 - false_positives_3: 0.0000e+00\n"
          ]
        },
        {
          "data": {
            "text/plain": [
              "<keras.src.callbacks.History at 0x7af49208d330>"
            ]
          },
          "execution_count": 82,
          "metadata": {},
          "output_type": "execute_result"
        }
      ],
      "source": [
        "model_relu.fit(random_images, random_images_reshaped,  epochs=1000)"
      ]
    },
    {
      "cell_type": "code",
      "execution_count": 83,
      "metadata": {
        "id": "hCNpG0DV9Lkn"
      },
      "outputs": [],
      "source": [
        "def evaluate_and_output_model(model, test_labels, test_images, reshape_matrix = [-1, 784], image_matrix=[10000,28,28], images_to_be_compared=6): #there are 10,000 images and hence image matrix is 10,000\n",
        "\n",
        "  #mnist dataset has 10 classes\n",
        "  class_names = ['0', '1', '2', '3', '4','5', '6', '7', '8', '9']\n",
        "\n",
        "  print(test_images.shape)\n",
        "\n",
        "  test_output_model = model.predict(test_images)\n",
        "\n",
        "  model_output_images = test_output_model.reshape(image_matrix)\n",
        "\n",
        "  print(model_output_images.shape)\n",
        "\n",
        "  plt.figure(figsize=(10,10))\n",
        "  j = -1\n",
        "\n",
        "  #plt.figure(figsize=(10,10)): Creating a new figure for the plot with a specified size of 10x10 inches.\n",
        "  #Looping through a range (25 times) to create subplots:\n",
        "    #If the current index is even, an original test image is plotted.\n",
        "    #If the current index is odd, the corresponding model-generated image is plotted.\n",
        "\n",
        "  for i in range(30):\n",
        "      plt.subplot(5,6,i+1)\n",
        "      plt.xticks([])\n",
        "      plt.yticks([])\n",
        "      plt.grid(False)\n",
        "      j = j+1\n",
        "      if(i%2 == 0):\n",
        "        plt.imshow(test_images[i+10], cmap=plt.cm.binary)\n",
        "      elif(j%2 == 1):\n",
        "\n",
        "        plt.imshow(model_output_images[j-1+10], cmap=\"Greys_r\")\n",
        "\n",
        "      #plt.xlabel(class_names[test_images[i]])\n",
        "  plt.show()\n"
      ]
    },
    {
      "cell_type": "code",
      "execution_count": 84,
      "metadata": {
        "colab": {
          "base_uri": "https://localhost:8080/",
          "height": 836
        },
        "id": "gsSYELWj7nOm",
        "outputId": "31c9fc2c-e5a2-4cfd-d929-334f93320d8e"
      },
      "outputs": [
        {
          "name": "stdout",
          "output_type": "stream",
          "text": [
            "(10000, 28, 28)\n",
            "313/313 [==============================] - 1s 3ms/step\n",
            "(10000, 28, 28)\n"
          ]
        },
        {
          "data": {
            "image/png": "[encoded data removed]",
            "text/plain": [
              "<Figure size 1000x1000 with 30 Axes>"
            ]
          },
          "metadata": {},
          "output_type": "display_data"
        }
      ],
      "source": [
        "evaluate_and_output_model(model_relu, test_labels, test_images)"
      ]
    },
    {
      "cell_type": "code",
      "execution_count": 85,
      "metadata": {
        "id": "MmvgYzAi-423"
      },
      "outputs": [],
      "source": [
        "model_relu_classifier.compile(optimizer='adam',\n",
        "               loss=tf.keras.losses.SparseCategoricalCrossentropy(from_logits=True),\n",
        "               metrics=['accuracy'], run_eagerly=True)\n"
      ]
    },
    {
      "cell_type": "code",
      "execution_count": 86,
      "metadata": {
        "colab": {
          "base_uri": "https://localhost:8080/",
          "height": 871
        },
        "id": "rQDITDG9215R",
        "outputId": "15d986c5-4cba-4ee0-dfc0-02424ac1b1ea"
      },
      "outputs": [
        {
          "name": "stdout",
          "output_type": "stream",
          "text": [
            "Epoch 1/10\n",
            "4/4 [==============================] - 2s 72ms/step - loss: 2.6837 - accuracy: 0.1200\n",
            "Epoch 2/10\n",
            "4/4 [==============================] - 0s 40ms/step - loss: 2.0689 - accuracy: 0.3100\n",
            "Epoch 3/10\n",
            "4/4 [==============================] - 0s 56ms/step - loss: 1.7784 - accuracy: 0.4400\n",
            "Epoch 4/10\n",
            "4/4 [==============================] - 0s 50ms/step - loss: 1.5790 - accuracy: 0.6000\n",
            "Epoch 5/10\n",
            "4/4 [==============================] - 0s 50ms/step - loss: 1.3678 - accuracy: 0.6700\n",
            "Epoch 6/10\n",
            "4/4 [==============================] - 0s 53ms/step - loss: 1.1684 - accuracy: 0.6900\n",
            "Epoch 7/10\n",
            "4/4 [==============================] - 0s 51ms/step - loss: 0.9972 - accuracy: 0.7400\n",
            "Epoch 8/10\n",
            "4/4 [==============================] - 0s 48ms/step - loss: 0.8078 - accuracy: 0.8300\n",
            "Epoch 9/10\n",
            "4/4 [==============================] - 0s 52ms/step - loss: 0.6456 - accuracy: 0.9200\n",
            "Epoch 10/10\n",
            "4/4 [==============================] - 0s 51ms/step - loss: 0.5258 - accuracy: 0.9400\n"
          ]
        },
        {
          "data": {
            "image/png": "[encoded data removed]",
            "text/plain": [
              "<Figure size 640x480 with 1 Axes>"
            ]
          },
          "metadata": {},
          "output_type": "display_data"
        },
        {
          "name": "stdout",
          "output_type": "stream",
          "text": [
            "313/313 [==============================] - 5s 16ms/step - loss: 1.2028 - accuracy: 0.6173\n",
            "Test Loss: 1.2027541399002075\n",
            "Test Accuracy: 0.6172999739646912\n"
          ]
        }
      ],
      "source": [
        "# Train the model and get the training history\n",
        "history = model_relu_classifier.fit(random_images_reshaped, random_labels, epochs=10)\n",
        "\n",
        "# Access the accuracy values from the history object\n",
        "train_accuracy = history.history['accuracy']\n",
        "\n",
        "# Plotting the training accuracy curve\n",
        "plt.plot(range(1, 11), train_accuracy, label='Training Accuracy')\n",
        "plt.xlabel('Epochs')\n",
        "plt.ylabel('Accuracy')\n",
        "plt.title('Training Accuracy Over Epochs')\n",
        "plt.legend()\n",
        "plt.show()\n",
        "\n",
        "# Evaluate the model on the test dataset\n",
        "test_loss, test_accuracy = model_relu_classifier.evaluate(test_images_flattened, test_labels)\n",
        "\n",
        "print(f'Test Loss: {test_loss}')\n",
        "print(f'Test Accuracy: {test_accuracy}')"
      ]
    },
    {
      "cell_type": "code",
      "execution_count": 87,
      "metadata": {
        "id": "p6L9lDIj23Bx"
      },
      "outputs": [],
      "source": [
        "model2 = keras.Sequential([\n",
        "    keras.layers.Dense(256, activation=\"relu\"),\n",
        "    keras.layers.Dense(128, activation=\"relu\"),\n",
        "    keras.layers.Dense(64, activation=\"relu\"),\n",
        "    keras.layers.Dense(32, activation=\"relu\"),\n",
        "    keras.layers.Dense(10, activation=\"sigmoid\")\n",
        "\n",
        "])\n"
      ]
    },
    {
      "cell_type": "code",
      "execution_count": 88,
      "metadata": {
        "id": "f_5NAAeE_Jp8"
      },
      "outputs": [],
      "source": [
        "model2.compile(optimizer='adam',\n",
        "               loss=tf.keras.losses.SparseCategoricalCrossentropy(from_logits=True),\n",
        "               metrics=['accuracy'], run_eagerly=True)\n"
      ]
    },
    {
      "cell_type": "code",
      "execution_count": 89,
      "metadata": {
        "colab": {
          "base_uri": "https://localhost:8080/",
          "height": 871
        },
        "id": "X8sRP9hN_Kq9",
        "outputId": "ce380ee4-48d1-405a-cbb5-ba18c9dfa7a4"
      },
      "outputs": [
        {
          "name": "stdout",
          "output_type": "stream",
          "text": [
            "Epoch 1/10\n",
            "1875/1875 [==============================] - 60s 31ms/step - loss: 0.2383 - accuracy: 0.9273\n",
            "Epoch 2/10\n",
            "1875/1875 [==============================] - 59s 31ms/step - loss: 0.0993 - accuracy: 0.9699\n",
            "Epoch 3/10\n",
            "1875/1875 [==============================] - 58s 31ms/step - loss: 0.0699 - accuracy: 0.9786\n",
            "Epoch 4/10\n",
            "1875/1875 [==============================] - 58s 31ms/step - loss: 0.0567 - accuracy: 0.9820\n",
            "Epoch 5/10\n",
            "1875/1875 [==============================] - 58s 31ms/step - loss: 0.0437 - accuracy: 0.9860\n",
            "Epoch 6/10\n",
            "1875/1875 [==============================] - 59s 31ms/step - loss: 0.0378 - accuracy: 0.9881\n",
            "Epoch 7/10\n",
            "1875/1875 [==============================] - 58s 31ms/step - loss: 0.0330 - accuracy: 0.9895\n",
            "Epoch 8/10\n",
            "1875/1875 [==============================] - 59s 32ms/step - loss: 0.0289 - accuracy: 0.9911\n",
            "Epoch 9/10\n",
            "1875/1875 [==============================] - 58s 31ms/step - loss: 0.0260 - accuracy: 0.9921\n",
            "Epoch 10/10\n",
            "1875/1875 [==============================] - 58s 31ms/step - loss: 0.0247 - accuracy: 0.9924\n"
          ]
        },
        {
          "data": {
            "image/png": "[encoded data removed]",
            "text/plain": [
              "<Figure size 640x480 with 1 Axes>"
            ]
          },
          "metadata": {},
          "output_type": "display_data"
        },
        {
          "name": "stdout",
          "output_type": "stream",
          "text": [
            "313/313 [==============================] - 5s 16ms/step - loss: 0.0724 - accuracy: 0.9814\n",
            "Test Loss: 0.07240445911884308\n",
            "Test Accuracy: 0.9814000129699707\n"
          ]
        }
      ],
      "source": [
        "# Train the model and get the training history\n",
        "history = model2.fit(train_images_flattened, train_labels, epochs=10)\n",
        "\n",
        "# Access the accuracy values from the history object\n",
        "train_accuracy = history.history['accuracy']\n",
        "\n",
        "# Plotting the training accuracy curve\n",
        "plt.plot(range(1, 11), train_accuracy, label='Training Accuracy')\n",
        "plt.xlabel('Epochs')\n",
        "plt.ylabel('Accuracy')\n",
        "plt.title('Training Accuracy Over Epochs')\n",
        "plt.legend()\n",
        "plt.show()\n",
        "\n",
        "# Evaluate the model on the test dataset\n",
        "test_loss, test_accuracy = model2.evaluate(test_images_flattened, test_labels)\n",
        "\n",
        "print(f'Test Loss: {test_loss}')\n",
        "print(f'Test Accuracy: {test_accuracy}')\n"
      ]
    },
    {
      "cell_type": "markdown",
      "metadata": {
        "id": "3TxKSDq8KxK0"
      },
      "source": [
        "**FREEZE THE ENCODER**"
      ]
    },
    {
      "cell_type": "code",
      "execution_count": 90,
      "metadata": {
        "id": "x5MH-ORKMI2h"
      },
      "outputs": [],
      "source": [
        "model_relu, model_relu_encoder, model_relu_classifier  = create_mlp_model(input_shape=(28, 28),output_activation=\"sigmoid\",hidden_activation=\"relu\")\n"
      ]
    },
    {
      "cell_type": "code",
      "execution_count": 91,
      "metadata": {
        "colab": {
          "base_uri": "https://localhost:8080/"
        },
        "id": "E6vDXx7VMWRA",
        "outputId": "d0f483b6-0348-4b5d-dd0f-7221ccd58c10"
      },
      "outputs": [
        {
          "name": "stdout",
          "output_type": "stream",
          "text": [
            "Model: \"sequential_53\"\n",
            "_________________________________________________________________\n",
            " Layer (type)                Output Shape              Param #   \n",
            "=================================================================\n",
            " flatten_31 (Flatten)        (None, 784)               0         \n",
            "                                                                 \n",
            " dense_145 (Dense)           (None, 256)               200960    \n",
            "                                                                 \n",
            " dense_146 (Dense)           (None, 128)               32896     \n",
            "                                                                 \n",
            " dense_147 (Dense)           (None, 64)                8256      \n",
            "                                                                 \n",
            " dense_148 (Dense)           (None, 32)                2080      \n",
            "                                                                 \n",
            " dense_149 (Dense)           (None, 64)                2112      \n",
            "                                                                 \n",
            " dense_150 (Dense)           (None, 128)               8320      \n",
            "                                                                 \n",
            " dense_151 (Dense)           (None, 256)               33024     \n",
            "                                                                 \n",
            " dense_152 (Dense)           (None, 784)               201488    \n",
            "                                                                 \n",
            "=================================================================\n",
            "Total params: 489136 (1.87 MB)\n",
            "Trainable params: 489136 (1.87 MB)\n",
            "Non-trainable params: 0 (0.00 Byte)\n",
            "_________________________________________________________________\n"
          ]
        }
      ],
      "source": [
        "#Printing model summary to initial check\n",
        "model_relu.summary()\n"
      ]
    },
    {
      "cell_type": "code",
      "execution_count": 92,
      "metadata": {
        "id": "CF69tUXHMl3R"
      },
      "outputs": [],
      "source": [
        "def compile_mlp_model(model,loss=\"MAE\", metrics=[\"accuracy\"], optimizer = \"adam\"):\n",
        "  if(loss == \"MAE\"):\n",
        "    model.compile(optimizer=optimizer, loss=tf.keras.losses.MAE, metrics=metrics)\n",
        "  elif (loss == \"MSQE\"):\n",
        "    model.compile(optimizer=optimizer, loss=tf.keras.losses.mean_squared_error, metrics=metrics)\n",
        "  else:\n",
        "    model.compile(optimizer=optimizer, loss=tf.keras.losses.binary_crossentropy, metrics=metrics)\n",
        "\n",
        "\n"
      ]
    },
    {
      "cell_type": "code",
      "execution_count": 93,
      "metadata": {
        "id": "KS7MW-zFMoI8"
      },
      "outputs": [],
      "source": [
        "compile_mlp_model(model_relu_classifier, loss = \"MSQE\", metrics=[\"accuracy\"])\n"
      ]
    },
    {
      "cell_type": "code",
      "execution_count": 94,
      "metadata": {
        "colab": {
          "base_uri": "https://localhost:8080/",
          "height": 871
        },
        "id": "4Dkmz7OrMIuN",
        "outputId": "a8e5a591-6299-4473-fddf-934efd633f9a"
      },
      "outputs": [
        {
          "name": "stdout",
          "output_type": "stream",
          "text": [
            "Epoch 1/10\n",
            "1875/1875 [==============================] - 9s 4ms/step - loss: 27.3046 - accuracy: 0.1054\n",
            "Epoch 2/10\n",
            "1875/1875 [==============================] - 8s 4ms/step - loss: 27.3046 - accuracy: 0.1118\n",
            "Epoch 3/10\n",
            "1875/1875 [==============================] - 7s 4ms/step - loss: 27.3046 - accuracy: 0.1042\n",
            "Epoch 4/10\n",
            "1875/1875 [==============================] - 8s 4ms/step - loss: 27.3046 - accuracy: 0.1046\n",
            "Epoch 5/10\n",
            "1875/1875 [==============================] - 7s 4ms/step - loss: 27.3045 - accuracy: 0.1055\n",
            "Epoch 6/10\n",
            "1875/1875 [==============================] - 8s 4ms/step - loss: 27.3045 - accuracy: 0.1040\n",
            "Epoch 7/10\n",
            "1875/1875 [==============================] - 7s 4ms/step - loss: 27.3046 - accuracy: 0.1019\n",
            "Epoch 8/10\n",
            "1875/1875 [==============================] - 8s 4ms/step - loss: 27.3046 - accuracy: 0.1026\n",
            "Epoch 9/10\n",
            "1875/1875 [==============================] - 7s 4ms/step - loss: 27.3046 - accuracy: 0.1043\n",
            "Epoch 10/10\n",
            "1875/1875 [==============================] - 8s 4ms/step - loss: 27.3046 - accuracy: 0.1024\n"
          ]
        },
        {
          "data": {
            "image/png": "[encoded data removed]",
            "text/plain": [
              "<Figure size 640x480 with 1 Axes>"
            ]
          },
          "metadata": {},
          "output_type": "display_data"
        },
        {
          "name": "stdout",
          "output_type": "stream",
          "text": [
            "313/313 [==============================] - 1s 3ms/step - loss: 27.2503 - accuracy: 0.1017\n",
            "Test Loss: 27.250308990478516\n",
            "Test Accuracy: 0.10170000046491623\n"
          ]
        }
      ],
      "source": [
        "# Train the model and get the training history\n",
        "history = model_relu_classifier.fit(train_images_flattened, train_labels, epochs=10)\n",
        "\n",
        "# Access the accuracy values from the history object\n",
        "train_accuracy = history.history['accuracy']\n",
        "\n",
        "# Plotting the training accuracy curve\n",
        "plt.plot(range(1, 11), train_accuracy, label='Training Accuracy')\n",
        "plt.xlabel('Epochs')\n",
        "plt.ylabel('Accuracy')\n",
        "plt.title('Training Accuracy Over Epochs')\n",
        "plt.legend()\n",
        "plt.show()\n",
        "\n",
        "# Evaluate the model on the test dataset\n",
        "test_loss, test_accuracy = model_relu_classifier.evaluate(test_images_flattened, test_labels)\n",
        "\n",
        "print(f'Test Loss: {test_loss}')\n",
        "print(f'Test Accuracy: {test_accuracy}')"
      ]
    },
    {
      "cell_type": "code",
      "execution_count": 95,
      "metadata": {
        "id": "e-4jmpUQWefg"
      },
      "outputs": [],
      "source": [
        "#first we train the autoencoder. now we want to train the encoder and classifier but but only the classifier should be trained and not the encoder again."
      ]
    }
  ],
  "metadata": {
    "accelerator": "GPU",
    "colab": {
      "gpuType": "T4",
      "provenance": []
    },
    "kernelspec": {
      "display_name": "Python 3",
      "name": "python3"
    },
    "language_info": {
      "name": "python"
    }
  },
  "nbformat": 4,
  "nbformat_minor": 0
}
