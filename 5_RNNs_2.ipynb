{
  "cells": [
    {
      "cell_type": "markdown",
      "metadata": {
        "id": "oJNqgMl-qxYd"
      },
      "source": [
        "RNNs_2\n",
        "\n",
        "\n",
        "1.   Shashankh Mysore Girish\n",
        "2.   Roshan Rayala Bhaskar\n",
        "\n"
      ]
    },
    {
      "cell_type": "code",
      "execution_count": 1,
      "metadata": {
        "id": "snZVFgU91tAW"
      },
      "outputs": [],
      "source": [
        "import tensorflow as tf\n",
        "import numpy as np\n",
        "from matplotlib import pyplot as plt"
      ]
    },
    {
      "cell_type": "code",
      "execution_count": 2,
      "metadata": {
        "colab": {
          "base_uri": "https://localhost:8080/"
        },
        "id": "umqeq6w632Ng",
        "outputId": "a5ec832e-6805-4902-fc0e-fc1ed49a9d9f"
      },
      "outputs": [
        {
          "name": "stdout",
          "output_type": "stream",
          "text": [
            "Downloading data from https://storage.googleapis.com/tensorflow/tf-keras-datasets/imdb.npz\n",
            "17464789/17464789 [==============================] - 0s 0us/step\n"
          ]
        }
      ],
      "source": [
        "max_words = 5000\n",
        "max_len = 200\n",
        "\n",
        "(train_sequences, train_labels), (test_sequences, test_labels) = tf.keras.datasets.imdb.load_data(num_words=max_words)\n",
        "\n",
        "\n",
        "def preprocess(sequences, labels):\n",
        "    return sequences, labels.astype(np.int32)\n",
        "\n",
        "train_sequences, train_labels = preprocess(train_sequences, train_labels)\n",
        "test_sequences, test_labels = preprocess(test_sequences, test_labels)"
      ]
    },
    {
      "cell_type": "code",
      "execution_count": 3,
      "metadata": {
        "colab": {
          "base_uri": "https://localhost:8080/"
        },
        "id": "aHJA6HJm33km",
        "outputId": "e0742a0d-30ad-417a-8ca8-45602f6de08c"
      },
      "outputs": [
        {
          "name": "stdout",
          "output_type": "stream",
          "text": [
            "Downloading data from https://storage.googleapis.com/tensorflow/tf-keras-datasets/imdb_word_index.json\n",
            "1641221/1641221 [==============================] - 0s 0us/step\n"
          ]
        }
      ],
      "source": [
        "vocabulary = tf.keras.datasets.imdb.get_word_index()\n",
        "char_to_ind = vocabulary\n",
        "ind_to_char = {ind: char for (char, ind) in vocabulary.items()}"
      ]
    },
    {
      "cell_type": "code",
      "execution_count": 4,
      "metadata": {
        "colab": {
          "base_uri": "https://localhost:8080/",
          "height": 338
        },
        "id": "s5fercgq35v5",
        "outputId": "733b79f0-ec72-4135-a128-ee4fe9574bab"
      },
      "outputs": [
        {
          "ename": "KeyboardInterrupt",
          "evalue": "ignored",
          "output_type": "error",
          "traceback": [
            "\u001b[0;31m---------------------------------------------------------------------------\u001b[0m",
            "\u001b[0;31mKeyboardInterrupt\u001b[0m                         Traceback (most recent call last)",
            "\u001b[0;32m<ipython-input-4-1c04c7829a62>\u001b[0m in \u001b[0;36m<cell line: 2>\u001b[0;34m()\u001b[0m\n\u001b[1;32m      1\u001b[0m \u001b[0;31m# remember this? doesn't work...\u001b[0m\u001b[0;34m\u001b[0m\u001b[0;34m\u001b[0m\u001b[0m\n\u001b[0;32m----> 2\u001b[0;31m \u001b[0mtrain_data\u001b[0m \u001b[0;34m=\u001b[0m \u001b[0mtf\u001b[0m\u001b[0;34m.\u001b[0m\u001b[0mdata\u001b[0m\u001b[0;34m.\u001b[0m\u001b[0mDataset\u001b[0m\u001b[0;34m.\u001b[0m\u001b[0mfrom_tensor_slices\u001b[0m\u001b[0;34m(\u001b[0m\u001b[0;34m(\u001b[0m\u001b[0mtrain_sequences\u001b[0m\u001b[0;34m,\u001b[0m \u001b[0mtrain_labels\u001b[0m\u001b[0;34m)\u001b[0m\u001b[0;34m)\u001b[0m\u001b[0;34m\u001b[0m\u001b[0;34m\u001b[0m\u001b[0m\n\u001b[0m",
            "\u001b[0;32m/usr/local/lib/python3.10/dist-packages/tensorflow/python/data/ops/dataset_ops.py\u001b[0m in \u001b[0;36mfrom_tensor_slices\u001b[0;34m(tensors, name)\u001b[0m\n\u001b[1;32m    819\u001b[0m     \u001b[0;31m# pylint: disable=g-import-not-at-top,protected-access\u001b[0m\u001b[0;34m\u001b[0m\u001b[0;34m\u001b[0m\u001b[0m\n\u001b[1;32m    820\u001b[0m     \u001b[0;32mfrom\u001b[0m \u001b[0mtensorflow\u001b[0m\u001b[0;34m.\u001b[0m\u001b[0mpython\u001b[0m\u001b[0;34m.\u001b[0m\u001b[0mdata\u001b[0m\u001b[0;34m.\u001b[0m\u001b[0mops\u001b[0m \u001b[0;32mimport\u001b[0m \u001b[0mfrom_tensor_slices_op\u001b[0m\u001b[0;34m\u001b[0m\u001b[0;34m\u001b[0m\u001b[0m\n\u001b[0;32m--> 821\u001b[0;31m     \u001b[0;32mreturn\u001b[0m \u001b[0mfrom_tensor_slices_op\u001b[0m\u001b[0;34m.\u001b[0m\u001b[0m_from_tensor_slices\u001b[0m\u001b[0;34m(\u001b[0m\u001b[0mtensors\u001b[0m\u001b[0;34m,\u001b[0m \u001b[0mname\u001b[0m\u001b[0;34m)\u001b[0m\u001b[0;34m\u001b[0m\u001b[0;34m\u001b[0m\u001b[0m\n\u001b[0m\u001b[1;32m    822\u001b[0m     \u001b[0;31m# pylint: enable=g-import-not-at-top,protected-access\u001b[0m\u001b[0;34m\u001b[0m\u001b[0;34m\u001b[0m\u001b[0m\n\u001b[1;32m    823\u001b[0m \u001b[0;34m\u001b[0m\u001b[0m\n",
            "\u001b[0;32m/usr/local/lib/python3.10/dist-packages/tensorflow/python/data/ops/from_tensor_slices_op.py\u001b[0m in \u001b[0;36m_from_tensor_slices\u001b[0;34m(tensors, name)\u001b[0m\n\u001b[1;32m     23\u001b[0m \u001b[0;34m\u001b[0m\u001b[0m\n\u001b[1;32m     24\u001b[0m \u001b[0;32mdef\u001b[0m \u001b[0m_from_tensor_slices\u001b[0m\u001b[0;34m(\u001b[0m\u001b[0mtensors\u001b[0m\u001b[0;34m,\u001b[0m \u001b[0mname\u001b[0m\u001b[0;34m=\u001b[0m\u001b[0;32mNone\u001b[0m\u001b[0;34m)\u001b[0m\u001b[0;34m:\u001b[0m\u001b[0;34m\u001b[0m\u001b[0;34m\u001b[0m\u001b[0m\n\u001b[0;32m---> 25\u001b[0;31m   \u001b[0;32mreturn\u001b[0m \u001b[0m_TensorSliceDataset\u001b[0m\u001b[0;34m(\u001b[0m\u001b[0mtensors\u001b[0m\u001b[0;34m,\u001b[0m \u001b[0mname\u001b[0m\u001b[0;34m=\u001b[0m\u001b[0mname\u001b[0m\u001b[0;34m)\u001b[0m\u001b[0;34m\u001b[0m\u001b[0;34m\u001b[0m\u001b[0m\n\u001b[0m\u001b[1;32m     26\u001b[0m \u001b[0;34m\u001b[0m\u001b[0m\n\u001b[1;32m     27\u001b[0m \u001b[0;34m\u001b[0m\u001b[0m\n",
            "\u001b[0;32m/usr/local/lib/python3.10/dist-packages/tensorflow/python/data/ops/from_tensor_slices_op.py\u001b[0m in \u001b[0;36m__init__\u001b[0;34m(self, element, is_files, name)\u001b[0m\n\u001b[1;32m     31\u001b[0m   \u001b[0;32mdef\u001b[0m \u001b[0m__init__\u001b[0m\u001b[0;34m(\u001b[0m\u001b[0mself\u001b[0m\u001b[0;34m,\u001b[0m \u001b[0melement\u001b[0m\u001b[0;34m,\u001b[0m \u001b[0mis_files\u001b[0m\u001b[0;34m=\u001b[0m\u001b[0;32mFalse\u001b[0m\u001b[0;34m,\u001b[0m \u001b[0mname\u001b[0m\u001b[0;34m=\u001b[0m\u001b[0;32mNone\u001b[0m\u001b[0;34m)\u001b[0m\u001b[0;34m:\u001b[0m\u001b[0;34m\u001b[0m\u001b[0;34m\u001b[0m\u001b[0m\n\u001b[1;32m     32\u001b[0m     \u001b[0;34m\"\"\"See `Dataset.from_tensor_slices` for details.\"\"\"\u001b[0m\u001b[0;34m\u001b[0m\u001b[0;34m\u001b[0m\u001b[0m\n\u001b[0;32m---> 33\u001b[0;31m     \u001b[0melement\u001b[0m \u001b[0;34m=\u001b[0m \u001b[0mstructure\u001b[0m\u001b[0;34m.\u001b[0m\u001b[0mnormalize_element\u001b[0m\u001b[0;34m(\u001b[0m\u001b[0melement\u001b[0m\u001b[0;34m)\u001b[0m\u001b[0;34m\u001b[0m\u001b[0;34m\u001b[0m\u001b[0m\n\u001b[0m\u001b[1;32m     34\u001b[0m     \u001b[0mbatched_spec\u001b[0m \u001b[0;34m=\u001b[0m \u001b[0mstructure\u001b[0m\u001b[0;34m.\u001b[0m\u001b[0mtype_spec_from_value\u001b[0m\u001b[0;34m(\u001b[0m\u001b[0melement\u001b[0m\u001b[0;34m)\u001b[0m\u001b[0;34m\u001b[0m\u001b[0;34m\u001b[0m\u001b[0m\n\u001b[1;32m     35\u001b[0m     \u001b[0mself\u001b[0m\u001b[0;34m.\u001b[0m\u001b[0m_tensors\u001b[0m \u001b[0;34m=\u001b[0m \u001b[0mstructure\u001b[0m\u001b[0;34m.\u001b[0m\u001b[0mto_batched_tensor_list\u001b[0m\u001b[0;34m(\u001b[0m\u001b[0mbatched_spec\u001b[0m\u001b[0;34m,\u001b[0m \u001b[0melement\u001b[0m\u001b[0;34m)\u001b[0m\u001b[0;34m\u001b[0m\u001b[0;34m\u001b[0m\u001b[0m\n",
            "\u001b[0;32m/usr/local/lib/python3.10/dist-packages/tensorflow/python/data/util/structure.py\u001b[0m in \u001b[0;36mnormalize_element\u001b[0;34m(element, element_signature)\u001b[0m\n\u001b[1;32m    132\u001b[0m           \u001b[0mdtype\u001b[0m \u001b[0;34m=\u001b[0m \u001b[0mgetattr\u001b[0m\u001b[0;34m(\u001b[0m\u001b[0mspec\u001b[0m\u001b[0;34m,\u001b[0m \u001b[0;34m\"dtype\"\u001b[0m\u001b[0;34m,\u001b[0m \u001b[0;32mNone\u001b[0m\u001b[0;34m)\u001b[0m\u001b[0;34m\u001b[0m\u001b[0;34m\u001b[0m\u001b[0m\n\u001b[1;32m    133\u001b[0m           normalized_components.append(\n\u001b[0;32m--> 134\u001b[0;31m               ops.convert_to_tensor(t, name=\"component_%d\" % i, dtype=dtype))\n\u001b[0m\u001b[1;32m    135\u001b[0m   \u001b[0;32mreturn\u001b[0m \u001b[0mnest\u001b[0m\u001b[0;34m.\u001b[0m\u001b[0mpack_sequence_as\u001b[0m\u001b[0;34m(\u001b[0m\u001b[0mpack_as\u001b[0m\u001b[0;34m,\u001b[0m \u001b[0mnormalized_components\u001b[0m\u001b[0;34m)\u001b[0m\u001b[0;34m\u001b[0m\u001b[0;34m\u001b[0m\u001b[0m\n\u001b[1;32m    136\u001b[0m \u001b[0;34m\u001b[0m\u001b[0m\n",
            "\u001b[0;32m/usr/local/lib/python3.10/dist-packages/tensorflow/python/profiler/trace.py\u001b[0m in \u001b[0;36mwrapped\u001b[0;34m(*args, **kwargs)\u001b[0m\n\u001b[1;32m    181\u001b[0m         \u001b[0;32mwith\u001b[0m \u001b[0mTrace\u001b[0m\u001b[0;34m(\u001b[0m\u001b[0mtrace_name\u001b[0m\u001b[0;34m,\u001b[0m \u001b[0;34m**\u001b[0m\u001b[0mtrace_kwargs\u001b[0m\u001b[0;34m)\u001b[0m\u001b[0;34m:\u001b[0m\u001b[0;34m\u001b[0m\u001b[0;34m\u001b[0m\u001b[0m\n\u001b[1;32m    182\u001b[0m           \u001b[0;32mreturn\u001b[0m \u001b[0mfunc\u001b[0m\u001b[0;34m(\u001b[0m\u001b[0;34m*\u001b[0m\u001b[0margs\u001b[0m\u001b[0;34m,\u001b[0m \u001b[0;34m**\u001b[0m\u001b[0mkwargs\u001b[0m\u001b[0;34m)\u001b[0m\u001b[0;34m\u001b[0m\u001b[0;34m\u001b[0m\u001b[0m\n\u001b[0;32m--> 183\u001b[0;31m       \u001b[0;32mreturn\u001b[0m \u001b[0mfunc\u001b[0m\u001b[0;34m(\u001b[0m\u001b[0;34m*\u001b[0m\u001b[0margs\u001b[0m\u001b[0;34m,\u001b[0m \u001b[0;34m**\u001b[0m\u001b[0mkwargs\u001b[0m\u001b[0;34m)\u001b[0m\u001b[0;34m\u001b[0m\u001b[0;34m\u001b[0m\u001b[0m\n\u001b[0m\u001b[1;32m    184\u001b[0m \u001b[0;34m\u001b[0m\u001b[0m\n\u001b[1;32m    185\u001b[0m     \u001b[0;32mreturn\u001b[0m \u001b[0mwrapped\u001b[0m\u001b[0;34m\u001b[0m\u001b[0;34m\u001b[0m\u001b[0m\n",
            "\u001b[0;32m/usr/local/lib/python3.10/dist-packages/tensorflow/python/framework/ops.py\u001b[0m in \u001b[0;36mconvert_to_tensor\u001b[0;34m(value, dtype, name, as_ref, preferred_dtype, dtype_hint, ctx, accepted_result_types)\u001b[0m\n\u001b[1;32m    696\u001b[0m   \u001b[0;31m# TODO(b/142518781): Fix all call-sites and remove redundant arg\u001b[0m\u001b[0;34m\u001b[0m\u001b[0;34m\u001b[0m\u001b[0m\n\u001b[1;32m    697\u001b[0m   \u001b[0mpreferred_dtype\u001b[0m \u001b[0;34m=\u001b[0m \u001b[0mpreferred_dtype\u001b[0m \u001b[0;32mor\u001b[0m \u001b[0mdtype_hint\u001b[0m\u001b[0;34m\u001b[0m\u001b[0;34m\u001b[0m\u001b[0m\n\u001b[0;32m--> 698\u001b[0;31m   return tensor_conversion_registry.convert(\n\u001b[0m\u001b[1;32m    699\u001b[0m       \u001b[0mvalue\u001b[0m\u001b[0;34m,\u001b[0m \u001b[0mdtype\u001b[0m\u001b[0;34m,\u001b[0m \u001b[0mname\u001b[0m\u001b[0;34m,\u001b[0m \u001b[0mas_ref\u001b[0m\u001b[0;34m,\u001b[0m \u001b[0mpreferred_dtype\u001b[0m\u001b[0;34m,\u001b[0m \u001b[0maccepted_result_types\u001b[0m\u001b[0;34m\u001b[0m\u001b[0;34m\u001b[0m\u001b[0m\n\u001b[1;32m    700\u001b[0m   )\n",
            "\u001b[0;32m/usr/local/lib/python3.10/dist-packages/tensorflow/python/framework/tensor_conversion_registry.py\u001b[0m in \u001b[0;36mconvert\u001b[0;34m(value, dtype, name, as_ref, preferred_dtype, accepted_result_types)\u001b[0m\n\u001b[1;32m    232\u001b[0m \u001b[0;34m\u001b[0m\u001b[0m\n\u001b[1;32m    233\u001b[0m     \u001b[0;32mif\u001b[0m \u001b[0mret\u001b[0m \u001b[0;32mis\u001b[0m \u001b[0;32mNone\u001b[0m\u001b[0;34m:\u001b[0m\u001b[0;34m\u001b[0m\u001b[0;34m\u001b[0m\u001b[0m\n\u001b[0;32m--> 234\u001b[0;31m       \u001b[0mret\u001b[0m \u001b[0;34m=\u001b[0m \u001b[0mconversion_func\u001b[0m\u001b[0;34m(\u001b[0m\u001b[0mvalue\u001b[0m\u001b[0;34m,\u001b[0m \u001b[0mdtype\u001b[0m\u001b[0;34m=\u001b[0m\u001b[0mdtype\u001b[0m\u001b[0;34m,\u001b[0m \u001b[0mname\u001b[0m\u001b[0;34m=\u001b[0m\u001b[0mname\u001b[0m\u001b[0;34m,\u001b[0m \u001b[0mas_ref\u001b[0m\u001b[0;34m=\u001b[0m\u001b[0mas_ref\u001b[0m\u001b[0;34m)\u001b[0m\u001b[0;34m\u001b[0m\u001b[0;34m\u001b[0m\u001b[0m\n\u001b[0m\u001b[1;32m    235\u001b[0m \u001b[0;34m\u001b[0m\u001b[0m\n\u001b[1;32m    236\u001b[0m     \u001b[0;32mif\u001b[0m \u001b[0mret\u001b[0m \u001b[0;32mis\u001b[0m \u001b[0mNotImplemented\u001b[0m\u001b[0;34m:\u001b[0m\u001b[0;34m\u001b[0m\u001b[0;34m\u001b[0m\u001b[0m\n",
            "\u001b[0;32m/usr/local/lib/python3.10/dist-packages/tensorflow/python/framework/constant_op.py\u001b[0m in \u001b[0;36m_constant_tensor_conversion_function\u001b[0;34m(v, dtype, name, as_ref)\u001b[0m\n\u001b[1;32m    326\u001b[0m                                          as_ref=False):\n\u001b[1;32m    327\u001b[0m   \u001b[0m_\u001b[0m \u001b[0;34m=\u001b[0m \u001b[0mas_ref\u001b[0m\u001b[0;34m\u001b[0m\u001b[0;34m\u001b[0m\u001b[0m\n\u001b[0;32m--> 328\u001b[0;31m   \u001b[0;32mreturn\u001b[0m \u001b[0mconstant\u001b[0m\u001b[0;34m(\u001b[0m\u001b[0mv\u001b[0m\u001b[0;34m,\u001b[0m \u001b[0mdtype\u001b[0m\u001b[0;34m=\u001b[0m\u001b[0mdtype\u001b[0m\u001b[0;34m,\u001b[0m \u001b[0mname\u001b[0m\u001b[0;34m=\u001b[0m\u001b[0mname\u001b[0m\u001b[0;34m)\u001b[0m\u001b[0;34m\u001b[0m\u001b[0;34m\u001b[0m\u001b[0m\n\u001b[0m\u001b[1;32m    329\u001b[0m \u001b[0;34m\u001b[0m\u001b[0m\n\u001b[1;32m    330\u001b[0m \u001b[0;31m# Register the conversion function for the \"unconvertible\" types\u001b[0m\u001b[0;34m\u001b[0m\u001b[0;34m\u001b[0m\u001b[0m\n",
            "\u001b[0;32m/usr/local/lib/python3.10/dist-packages/tensorflow/python/framework/constant_op.py\u001b[0m in \u001b[0;36mconstant\u001b[0;34m(value, dtype, shape, name)\u001b[0m\n\u001b[1;32m    265\u001b[0m     \u001b[0mValueError\u001b[0m\u001b[0;34m:\u001b[0m \u001b[0;32mif\u001b[0m \u001b[0mcalled\u001b[0m \u001b[0mon\u001b[0m \u001b[0ma\u001b[0m \u001b[0msymbolic\u001b[0m \u001b[0mtensor\u001b[0m\u001b[0;34m.\u001b[0m\u001b[0;34m\u001b[0m\u001b[0;34m\u001b[0m\u001b[0m\n\u001b[1;32m    266\u001b[0m   \"\"\"\n\u001b[0;32m--> 267\u001b[0;31m   return _constant_impl(value, dtype, shape, name, verify_shape=False,\n\u001b[0m\u001b[1;32m    268\u001b[0m                         allow_broadcast=True)\n\u001b[1;32m    269\u001b[0m \u001b[0;34m\u001b[0m\u001b[0m\n",
            "\u001b[0;32m/usr/local/lib/python3.10/dist-packages/tensorflow/python/framework/constant_op.py\u001b[0m in \u001b[0;36m_constant_impl\u001b[0;34m(value, dtype, shape, name, verify_shape, allow_broadcast)\u001b[0m\n\u001b[1;32m    277\u001b[0m       \u001b[0;32mwith\u001b[0m \u001b[0mtrace\u001b[0m\u001b[0;34m.\u001b[0m\u001b[0mTrace\u001b[0m\u001b[0;34m(\u001b[0m\u001b[0;34m\"tf.constant\"\u001b[0m\u001b[0;34m)\u001b[0m\u001b[0;34m:\u001b[0m\u001b[0;34m\u001b[0m\u001b[0;34m\u001b[0m\u001b[0m\n\u001b[1;32m    278\u001b[0m         \u001b[0;32mreturn\u001b[0m \u001b[0m_constant_eager_impl\u001b[0m\u001b[0;34m(\u001b[0m\u001b[0mctx\u001b[0m\u001b[0;34m,\u001b[0m \u001b[0mvalue\u001b[0m\u001b[0;34m,\u001b[0m \u001b[0mdtype\u001b[0m\u001b[0;34m,\u001b[0m \u001b[0mshape\u001b[0m\u001b[0;34m,\u001b[0m \u001b[0mverify_shape\u001b[0m\u001b[0;34m)\u001b[0m\u001b[0;34m\u001b[0m\u001b[0;34m\u001b[0m\u001b[0m\n\u001b[0;32m--> 279\u001b[0;31m     \u001b[0;32mreturn\u001b[0m \u001b[0m_constant_eager_impl\u001b[0m\u001b[0;34m(\u001b[0m\u001b[0mctx\u001b[0m\u001b[0;34m,\u001b[0m \u001b[0mvalue\u001b[0m\u001b[0;34m,\u001b[0m \u001b[0mdtype\u001b[0m\u001b[0;34m,\u001b[0m \u001b[0mshape\u001b[0m\u001b[0;34m,\u001b[0m \u001b[0mverify_shape\u001b[0m\u001b[0;34m)\u001b[0m\u001b[0;34m\u001b[0m\u001b[0;34m\u001b[0m\u001b[0m\n\u001b[0m\u001b[1;32m    280\u001b[0m \u001b[0;34m\u001b[0m\u001b[0m\n\u001b[1;32m    281\u001b[0m   const_tensor = ops._create_graph_constant(  # pylint: disable=protected-access\n",
            "\u001b[0;32m/usr/local/lib/python3.10/dist-packages/tensorflow/python/framework/constant_op.py\u001b[0m in \u001b[0;36m_constant_eager_impl\u001b[0;34m(ctx, value, dtype, shape, verify_shape)\u001b[0m\n\u001b[1;32m    287\u001b[0m \u001b[0;32mdef\u001b[0m \u001b[0m_constant_eager_impl\u001b[0m\u001b[0;34m(\u001b[0m\u001b[0mctx\u001b[0m\u001b[0;34m,\u001b[0m \u001b[0mvalue\u001b[0m\u001b[0;34m,\u001b[0m \u001b[0mdtype\u001b[0m\u001b[0;34m,\u001b[0m \u001b[0mshape\u001b[0m\u001b[0;34m,\u001b[0m \u001b[0mverify_shape\u001b[0m\u001b[0;34m)\u001b[0m\u001b[0;34m:\u001b[0m\u001b[0;34m\u001b[0m\u001b[0;34m\u001b[0m\u001b[0m\n\u001b[1;32m    288\u001b[0m   \u001b[0;34m\"\"\"Creates a constant on the current device.\"\"\"\u001b[0m\u001b[0;34m\u001b[0m\u001b[0;34m\u001b[0m\u001b[0m\n\u001b[0;32m--> 289\u001b[0;31m   \u001b[0mt\u001b[0m \u001b[0;34m=\u001b[0m \u001b[0mconvert_to_eager_tensor\u001b[0m\u001b[0;34m(\u001b[0m\u001b[0mvalue\u001b[0m\u001b[0;34m,\u001b[0m \u001b[0mctx\u001b[0m\u001b[0;34m,\u001b[0m \u001b[0mdtype\u001b[0m\u001b[0;34m)\u001b[0m\u001b[0;34m\u001b[0m\u001b[0;34m\u001b[0m\u001b[0m\n\u001b[0m\u001b[1;32m    290\u001b[0m   \u001b[0;32mif\u001b[0m \u001b[0mshape\u001b[0m \u001b[0;32mis\u001b[0m \u001b[0;32mNone\u001b[0m\u001b[0;34m:\u001b[0m\u001b[0;34m\u001b[0m\u001b[0;34m\u001b[0m\u001b[0m\n\u001b[1;32m    291\u001b[0m     \u001b[0;32mreturn\u001b[0m \u001b[0mt\u001b[0m\u001b[0;34m\u001b[0m\u001b[0;34m\u001b[0m\u001b[0m\n",
            "\u001b[0;32m/usr/local/lib/python3.10/dist-packages/tensorflow/python/framework/constant_op.py\u001b[0m in \u001b[0;36mconvert_to_eager_tensor\u001b[0;34m(value, ctx, dtype)\u001b[0m\n\u001b[1;32m     99\u001b[0m     \u001b[0;32mexcept\u001b[0m \u001b[0mAttributeError\u001b[0m\u001b[0;34m:\u001b[0m\u001b[0;34m\u001b[0m\u001b[0;34m\u001b[0m\u001b[0m\n\u001b[1;32m    100\u001b[0m       \u001b[0mdtype\u001b[0m \u001b[0;34m=\u001b[0m \u001b[0mdtypes\u001b[0m\u001b[0;34m.\u001b[0m\u001b[0mas_dtype\u001b[0m\u001b[0;34m(\u001b[0m\u001b[0mdtype\u001b[0m\u001b[0;34m)\u001b[0m\u001b[0;34m.\u001b[0m\u001b[0mas_datatype_enum\u001b[0m\u001b[0;34m\u001b[0m\u001b[0;34m\u001b[0m\u001b[0m\n\u001b[0;32m--> 101\u001b[0;31m   \u001b[0mctx\u001b[0m\u001b[0;34m.\u001b[0m\u001b[0mensure_initialized\u001b[0m\u001b[0;34m(\u001b[0m\u001b[0;34m)\u001b[0m\u001b[0;34m\u001b[0m\u001b[0;34m\u001b[0m\u001b[0m\n\u001b[0m\u001b[1;32m    102\u001b[0m   \u001b[0;32mreturn\u001b[0m \u001b[0mops\u001b[0m\u001b[0;34m.\u001b[0m\u001b[0mEagerTensor\u001b[0m\u001b[0;34m(\u001b[0m\u001b[0mvalue\u001b[0m\u001b[0;34m,\u001b[0m \u001b[0mctx\u001b[0m\u001b[0;34m.\u001b[0m\u001b[0mdevice_name\u001b[0m\u001b[0;34m,\u001b[0m \u001b[0mdtype\u001b[0m\u001b[0;34m)\u001b[0m\u001b[0;34m\u001b[0m\u001b[0;34m\u001b[0m\u001b[0m\n\u001b[1;32m    103\u001b[0m \u001b[0;34m\u001b[0m\u001b[0m\n",
            "\u001b[0;32m/usr/local/lib/python3.10/dist-packages/tensorflow/python/eager/context.py\u001b[0m in \u001b[0;36mensure_initialized\u001b[0;34m(self)\u001b[0m\n\u001b[1;32m    596\u001b[0m         pywrap_tfe.TFE_ContextOptionsSetJitCompileRewrite(\n\u001b[1;32m    597\u001b[0m             opts, self._jit_compile_rewrite)\n\u001b[0;32m--> 598\u001b[0;31m         \u001b[0mcontext_handle\u001b[0m \u001b[0;34m=\u001b[0m \u001b[0mpywrap_tfe\u001b[0m\u001b[0;34m.\u001b[0m\u001b[0mTFE_NewContext\u001b[0m\u001b[0;34m(\u001b[0m\u001b[0mopts\u001b[0m\u001b[0;34m)\u001b[0m\u001b[0;34m\u001b[0m\u001b[0;34m\u001b[0m\u001b[0m\n\u001b[0m\u001b[1;32m    599\u001b[0m       \u001b[0;32mfinally\u001b[0m\u001b[0;34m:\u001b[0m\u001b[0;34m\u001b[0m\u001b[0;34m\u001b[0m\u001b[0m\n\u001b[1;32m    600\u001b[0m         \u001b[0mpywrap_tfe\u001b[0m\u001b[0;34m.\u001b[0m\u001b[0mTFE_DeleteContextOptions\u001b[0m\u001b[0;34m(\u001b[0m\u001b[0mopts\u001b[0m\u001b[0;34m)\u001b[0m\u001b[0;34m\u001b[0m\u001b[0;34m\u001b[0m\u001b[0m\n",
            "\u001b[0;31mKeyboardInterrupt\u001b[0m: "
          ]
        }
      ],
      "source": [
        "# remember this? doesn't work...\n",
        "train_data = tf.data.Dataset.from_tensor_slices((train_sequences, train_labels))"
      ]
    },
    {
      "cell_type": "code",
      "execution_count": 5,
      "metadata": {
        "id": "vxmJFX1B4MZ4"
      },
      "outputs": [],
      "source": [
        "# we can create a dataset from a python generator. first, we have to write the generator\n",
        "# this is a very simple one, but we could execute arbitrary python code in here\n",
        "# (say, loading files from disk and preparing the loaded inputs somehow)\n",
        "def gen():\n",
        "    for sequence, label in zip(train_sequences, train_labels):\n",
        "        yield sequence, label"
      ]
    },
    {
      "cell_type": "code",
      "execution_count": 6,
      "metadata": {
        "id": "_Lq6XE4j4gay"
      },
      "outputs": [],
      "source": [
        "# we have to tell TF what to expect from the generator (\"Tensor Specification\")\n",
        "train_data = tf.data.Dataset.from_generator(gen, output_signature=(\n",
        "         tf.TensorSpec(shape=(None,), dtype=tf.int32),\n",
        "         tf.TensorSpec(shape=(), dtype=tf.int32)))\n",
        "\n",
        "# regular .batch wouldn't work because the inputs are different length\n",
        "# padded batch automatically pads all elements in the batch to the longest length\n",
        "# per dimension.\n",
        "# you can also specify different shapes and padding values other than 0.\n",
        "# padding is always \"post\"\n",
        "train_data = train_data.shuffle(25000).padded_batch(32).repeat(5)"
      ]
    },
    {
      "cell_type": "code",
      "execution_count": 8,
      "metadata": {
        "id": "hUx7O2Ha4ifV"
      },
      "outputs": [],
      "source": [
        "lengths = []\n",
        "for sequence, label in train_data:\n",
        "    lengths.append(sequence.shape[1])\n",
        "    #print(sequence.shape, label.shape)\n",
        "    #input()"
      ]
    },
    {
      "cell_type": "code",
      "execution_count": 9,
      "metadata": {
        "colab": {
          "base_uri": "https://localhost:8080/",
          "height": 447
        },
        "id": "sZ5LUbTpoZVG",
        "outputId": "55c5682c-c524-45b8-b831-ed5c0802a559"
      },
      "outputs": [
        {
          "data": {
            "image/png": "[encoded data removed]",
            "text/plain": [
              "<Figure size 640x480 with 1 Axes>"
            ]
          },
          "metadata": {},
          "output_type": "display_data"
        },
        {
          "name": "stdout",
          "output_type": "stream",
          "text": [
            "794.4920716112532\n"
          ]
        }
      ],
      "source": [
        "plt.hist(lengths, bins=100)\n",
        "plt.show()\n",
        "\n",
        "print(np.mean(lengths))"
      ]
    },
    {
      "cell_type": "code",
      "execution_count": null,
      "metadata": {
        "id": "tVgxkqBIoXWe"
      },
      "outputs": [],
      "source": [
        "# we have to tell TF what to expect from the generator (\"Tensor Specification\")\n",
        "train_data = tf.data.Dataset.from_generator(gen, output_signature=(\n",
        "         tf.TensorSpec(shape=(None,), dtype=tf.int32),\n",
        "         tf.TensorSpec(shape=(), dtype=tf.int32)))\n",
        "\n",
        "# alternatively, we can use bucketing. the idea is to define buckets for specific\n",
        "# sequence lengths, and put all sequences in their corresponding bucket.\n",
        "# when a batch is requested, first a bucket is selected and then all elements of\n",
        "# the batch are taken from this bucket.\n",
        "# this guarantees that all elements in a batch are roughly the same length,\n",
        "# minimizing the amount of padding.\n",
        "\n",
        "# here is an example with buckets in steps of 50. all sequences above length 500\n",
        "# end up in the same bucket. same for sequences below length 50.\n",
        "# do note that I by no means claim that this is a \"good\" bucketing. play around with it!\n",
        "buckets = [50, 100, 150, 200, 250, 300, 350, 400, 450, 500]\n",
        "bucket_batch_size = [32] * (len(buckets) + 1)\n",
        "train_data = train_data.bucket_by_sequence_length(lambda sequence, label: tf.shape(sequence)[0],\n",
        "                                                  bucket_boundaries=buckets, bucket_batch_sizes=bucket_batch_size).repeat(5)"
      ]
    },
    {
      "cell_type": "code",
      "execution_count": null,
      "metadata": {
        "id": "YGeoD0PforFO"
      },
      "outputs": [],
      "source": [
        "lengths = []\n",
        "for sequence, label in train_data:\n",
        "    lengths.append(sequence.shape[1])\n",
        "    #print(sequence.shape, label.shape)\n",
        "    #input()"
      ]
    },
    {
      "cell_type": "code",
      "execution_count": null,
      "metadata": {
        "colab": {
          "base_uri": "https://localhost:8080/",
          "height": 447
        },
        "id": "rqJ5h4TNotLl",
        "outputId": "8d3cde41-c59c-4422-d77c-70446401173b"
      },
      "outputs": [
        {
          "data": {
            "image/png": "[encoded data removed]",
            "text/plain": [
              "<Figure size 640x480 with 1 Axes>"
            ]
          },
          "metadata": {},
          "output_type": "display_data"
        },
        {
          "name": "stdout",
          "output_type": "stream",
          "text": [
            "299.38040712468194\n"
          ]
        }
      ],
      "source": [
        "plt.hist(lengths, bins=100)\n",
        "plt.show()\n",
        "\n",
        "print(np.mean(lengths))"
      ]
    },
    {
      "cell_type": "code",
      "execution_count": null,
      "metadata": {
        "id": "7Bj3tdaWpCZz"
      },
      "outputs": [],
      "source": [
        "# compare the average batch shapes with the padded_batch example. there, batches are\n",
        "# often length 800 or so because the longest sequence in the batch happened to\n",
        "# have that length.\n",
        "# with bucketing, we get many much smaller batches, meaning more efficient training.\n",
        "for sequence, label in train_data:\n",
        "    print(sequence.shape, label.shape)\n",
        "    input()"
      ]
    },
    {
      "cell_type": "code",
      "execution_count": null,
      "metadata": {
        "id": "8R5z3NdMAwD9"
      },
      "outputs": [],
      "source": [
        "# here's a very simple toy example for a keras lstm\n",
        "# the \"hidden dimensions\" are just randomly chosen.\n",
        "# you probably don't want to use a hidden size of 12 =) (but maybe it's actually really good?)\n",
        "\n",
        "\n",
        "# embedding comes first to replace one-hot vectors.\n",
        "#    mask_zero=True to prevent computations on padded time steps.\n",
        "# then an arbitrary number of RNN layers.\n",
        "# deeper RNN layers take as input sequence the state sequence of the layer before,\n",
        "# so all layers except the last one should return_sequences=True\n",
        "# finally, a Dense layer for the output, since the output computation is *not*\n",
        "# included in the RNN cells; all cells provided by Keras only compute the states\n",
        "model = tf.keras.Sequential([tf.keras.layers.Embedding(max_words, 20, mask_zero=True),\n",
        "                             tf.keras.layers.LSTM(12, return_sequences=True),\n",
        "                             tf.keras.layers.LSTM(15),\n",
        "                             tf.keras.layers.Dense(1)])\n",
        "\n",
        "\n",
        "# FYI, the third line is the same as the first two lines together.\n",
        "# the second option can use a much more efficient implementation, it will be SOOO much faster.\n",
        "# try it yourself!\n",
        "#rnn_cell = tf.keras.layers.LSTMCell(12)\n",
        "#rnn = tf.keras.layers.RNN(rnn_cell, return_sequences=False)\n",
        "rnn = tf.keras.layers.LSTM(12, return_sequences=False)"
      ]
    },
    {
      "cell_type": "code",
      "execution_count": null,
      "metadata": {
        "colab": {
          "base_uri": "https://localhost:8080/"
        },
        "id": "VQvxblepEoDt",
        "outputId": "7c51cb53-5213-427f-bfef-c86695c9e28a"
      },
      "outputs": [
        {
          "data": {
            "text/plain": [
              "<tf.Tensor: shape=(32, 1), dtype=float32, numpy=\n",
              "array([[-1.3870468e-03],\n",
              "       [-3.0032499e-04],\n",
              "       [-1.0252198e-03],\n",
              "       [ 1.3154706e-03],\n",
              "       [-9.3264505e-04],\n",
              "       [-7.2880718e-04],\n",
              "       [-7.4817752e-03],\n",
              "       [-2.4321130e-03],\n",
              "       [-3.1349901e-04],\n",
              "       [ 7.9292938e-04],\n",
              "       [-3.6126981e-03],\n",
              "       [ 6.3220263e-03],\n",
              "       [ 1.3634494e-03],\n",
              "       [-2.0773998e-03],\n",
              "       [ 1.3722768e-03],\n",
              "       [-4.8380916e-04],\n",
              "       [-1.3174444e-03],\n",
              "       [ 1.8112793e-03],\n",
              "       [-1.9143958e-03],\n",
              "       [ 3.4866042e-03],\n",
              "       [-3.6228197e-03],\n",
              "       [ 7.3302531e-04],\n",
              "       [ 1.8552437e-03],\n",
              "       [-5.2365116e-03],\n",
              "       [ 2.4817719e-03],\n",
              "       [ 7.7644247e-04],\n",
              "       [ 2.7285842e-03],\n",
              "       [ 8.5247064e-04],\n",
              "       [-3.5622229e-03],\n",
              "       [-3.6103823e-03],\n",
              "       [-2.1194906e-03],\n",
              "       [-8.3078630e-05]], dtype=float32)>"
            ]
          },
          "execution_count": 13,
          "metadata": {},
          "output_type": "execute_result"
        }
      ],
      "source": [
        "# calling RNN layers is easy!\n",
        "# \"sequence\" is defined above from iterating over the data batches\n",
        "model(sequence)"
      ]
    },
    {
      "cell_type": "code",
      "execution_count": null,
      "metadata": {
        "colab": {
          "base_uri": "https://localhost:8080/"
        },
        "id": "piSLVKmSEyP2",
        "outputId": "f1eb57e9-3cd9-49fb-a2e4-72c57d01223a"
      },
      "outputs": [
        {
          "name": "stdout",
          "output_type": "stream",
          "text": [
            "Epoch 1/5\n",
            "   3930/Unknown - 250s 59ms/step - loss: 0.4391 - accuracy: 0.8137Epoch 1, Accuracy: 81.37%\n",
            "3930/3930 [==============================] - 250s 59ms/step - loss: 0.4391 - accuracy: 0.8137\n",
            "Epoch 2/5\n",
            "3930/3930 [==============================] - ETA: 0s - loss: 0.3395 - accuracy: 0.8556Epoch 2, Accuracy: 85.56%\n",
            "3930/3930 [==============================] - 134s 34ms/step - loss: 0.3395 - accuracy: 0.8556\n",
            "Epoch 3/5\n",
            "3929/3930 [============================>.] - ETA: 0s - loss: 0.3238 - accuracy: 0.8710Epoch 3, Accuracy: 87.10%\n",
            "3930/3930 [==============================] - 129s 33ms/step - loss: 0.3237 - accuracy: 0.8710\n",
            "Epoch 4/5\n",
            "3930/3930 [==============================] - ETA: 0s - loss: 0.2078 - accuracy: 0.9276Epoch 4, Accuracy: 92.76%\n",
            "3930/3930 [==============================] - 127s 32ms/step - loss: 0.2078 - accuracy: 0.9276\n",
            "Epoch 5/5\n",
            "3929/3930 [============================>.] - ETA: 0s - loss: 0.2297 - accuracy: 0.9287Epoch 5, Accuracy: 92.87%\n",
            "3930/3930 [==============================] - 147s 37ms/step - loss: 0.2297 - accuracy: 0.9287\n"
          ]
        },
        {
          "data": {
            "text/plain": [
              "<keras.src.callbacks.History at 0x7a8cb5232e00>"
            ]
          },
          "execution_count": 14,
          "metadata": {},
          "output_type": "execute_result"
        }
      ],
      "source": [
        "class PrintAccuracyCallback(tf.keras.callbacks.Callback):\n",
        "    def on_epoch_end(self, epoch, logs=None):\n",
        "        print(f'Epoch {epoch + 1}, Accuracy: {logs[\"accuracy\"] * 100:.2f}%')\n",
        "\n",
        "# Compile the model\n",
        "model.compile(optimizer='adam',\n",
        "              loss='binary_crossentropy',\n",
        "              metrics=['accuracy'])\n",
        "\n",
        "# Train the model with the callback\n",
        "model.fit(train_data, epochs=5, callbacks=[PrintAccuracyCallback()])"
      ]
    },
    {
      "cell_type": "markdown",
      "metadata": {
        "id": "e4ZdWFmeSpGe"
      },
      "source": [
        "Now let us change the bucket size and bucket batch size"
      ]
    },
    {
      "cell_type": "code",
      "execution_count": null,
      "metadata": {
        "id": "yf5iTHMbSuFG"
      },
      "outputs": [],
      "source": [
        "# we have to tell TF what to expect from the generator (\"Tensor Specification\")\n",
        "train_data = tf.data.Dataset.from_generator(gen, output_signature=(\n",
        "         tf.TensorSpec(shape=(None,), dtype=tf.int32),\n",
        "         tf.TensorSpec(shape=(), dtype=tf.int32)))\n",
        "\n",
        "\n",
        "buckets = [200, 300, 400, 500, 600, 700, 800, 900, 1000, 1100]\n",
        "bucket_batch_size = [32] * (len(buckets) + 1)\n",
        "train_data = train_data.bucket_by_sequence_length(lambda sequence, label: tf.shape(sequence)[0],\n",
        "                                                  bucket_boundaries=buckets, bucket_batch_sizes=bucket_batch_size).repeat(5)"
      ]
    },
    {
      "cell_type": "code",
      "execution_count": null,
      "metadata": {
        "colab": {
          "base_uri": "https://localhost:8080/"
        },
        "id": "tZJHDl42UGBe",
        "outputId": "7710cf2c-4028-4fb9-e279-8abcb4236d75"
      },
      "outputs": [
        {
          "name": "stdout",
          "output_type": "stream",
          "text": [
            "Epoch 1/5\n",
            "   3940/Unknown - 230s 52ms/step - loss: 0.4348 - accuracy: 0.8202Epoch 1, Accuracy: 82.02%\n",
            "3940/3940 [==============================] - 230s 52ms/step - loss: 0.4348 - accuracy: 0.8202\n",
            "Epoch 2/5\n",
            "3940/3940 [==============================] - ETA: 0s - loss: 0.2779 - accuracy: 0.8913Epoch 2, Accuracy: 89.13%\n",
            "3940/3940 [==============================] - 130s 33ms/step - loss: 0.2779 - accuracy: 0.8913\n",
            "Epoch 3/5\n",
            "3940/3940 [==============================] - ETA: 0s - loss: 0.2812 - accuracy: 0.8918Epoch 3, Accuracy: 89.18%\n",
            "3940/3940 [==============================] - 129s 33ms/step - loss: 0.2812 - accuracy: 0.8918\n",
            "Epoch 4/5\n",
            "3940/3940 [==============================] - ETA: 0s - loss: 0.2214 - accuracy: 0.9233Epoch 4, Accuracy: 92.33%\n",
            "3940/3940 [==============================] - 133s 34ms/step - loss: 0.2214 - accuracy: 0.9233\n",
            "Epoch 5/5\n",
            "3940/3940 [==============================] - ETA: 0s - loss: 0.1808 - accuracy: 0.9447Epoch 5, Accuracy: 94.47%\n",
            "3940/3940 [==============================] - 137s 35ms/step - loss: 0.1808 - accuracy: 0.9447\n"
          ]
        },
        {
          "data": {
            "text/plain": [
              "<keras.src.callbacks.History at 0x7a8cb6b1c640>"
            ]
          },
          "execution_count": 23,
          "metadata": {},
          "output_type": "execute_result"
        }
      ],
      "source": [
        "# here's a very simple toy example for a keras lstm\n",
        "# the \"hidden dimensions\" are just randomly chosen.\n",
        "# you probably don't want to use a hidden size of 12 =) (but maybe it's actually really good?)\n",
        "\n",
        "\n",
        "# embedding comes first to replace one-hot vectors.\n",
        "#    mask_zero=True to prevent computations on padded time steps.\n",
        "# then an arbitrary number of RNN layers.\n",
        "# deeper RNN layers take as input sequence the state sequence of the layer before,\n",
        "# so all layers except the last one should return_sequences=True\n",
        "# finally, a Dense layer for the output, since the output computation is *not*\n",
        "# included in the RNN cells; all cells provided by Keras only compute the states\n",
        "model = tf.keras.Sequential([tf.keras.layers.Embedding(max_words, 20, mask_zero=True),\n",
        "                             tf.keras.layers.LSTM(12, return_sequences=True),\n",
        "                             tf.keras.layers.LSTM(15),\n",
        "                             tf.keras.layers.Dense(1)])\n",
        "\n",
        "\n",
        "# FYI, the third line is the same as the first two lines together.\n",
        "# the second option can use a much more efficient implementation, it will be SOOO much faster.\n",
        "# try it yourself!\n",
        "#rnn_cell = tf.keras.layers.LSTMCell(12)\n",
        "#rnn = tf.keras.layers.RNN(rnn_cell, return_sequences=False)\n",
        "rnn = tf.keras.layers.LSTM(12, return_sequences=False)\n",
        "\n",
        "\n",
        "\n",
        "\n",
        "\n",
        "# calling RNN layers is easy!\n",
        "# \"sequence\" is defined above from iterating over the data batches\n",
        "model(sequence)\n",
        "\n",
        "\n",
        "\n",
        "\n",
        "\n",
        "class PrintAccuracyCallback(tf.keras.callbacks.Callback):\n",
        "    def on_epoch_end(self, epoch, logs=None):\n",
        "        print(f'Epoch {epoch + 1}, Accuracy: {logs[\"accuracy\"] * 100:.2f}%')\n",
        "\n",
        "# Compile the model\n",
        "model.compile(optimizer='adam',\n",
        "              loss='binary_crossentropy',\n",
        "              metrics=['accuracy'])\n",
        "\n",
        "# Train the model with the callback\n",
        "model.fit(train_data, epochs=5, callbacks=[PrintAccuracyCallback()])"
      ]
    },
    {
      "cell_type": "markdown",
      "metadata": {
        "id": "VrgFKlS2h2CK"
      },
      "source": [
        "Lets change the model architecture"
      ]
    },
    {
      "cell_type": "code",
      "execution_count": 10,
      "metadata": {
        "colab": {
          "base_uri": "https://localhost:8080/"
        },
        "id": "KiNw4aObh5JZ",
        "outputId": "b17bc5ec-bcce-4d96-9656-75272f6d1827"
      },
      "outputs": [
        {
          "name": "stdout",
          "output_type": "stream",
          "text": [
            "Epoch 1/5\n",
            "   3910/Unknown - 437s 106ms/step - loss: 0.4125 - accuracy: 0.8291Epoch 1, Accuracy: 82.91%\n",
            "3910/3910 [==============================] - 437s 106ms/step - loss: 0.4125 - accuracy: 0.8291\n",
            "Epoch 2/5\n",
            "3910/3910 [==============================] - ETA: 0s - loss: 0.4250 - accuracy: 0.8257Epoch 2, Accuracy: 82.57%\n",
            "3910/3910 [==============================] - 322s 81ms/step - loss: 0.4250 - accuracy: 0.8257\n",
            "Epoch 3/5\n",
            "3910/3910 [==============================] - ETA: 0s - loss: 0.2967 - accuracy: 0.8895Epoch 3, Accuracy: 88.95%\n",
            "3910/3910 [==============================] - 328s 83ms/step - loss: 0.2967 - accuracy: 0.8895\n",
            "Epoch 4/5\n",
            "3910/3910 [==============================] - ETA: 0s - loss: 0.1841 - accuracy: 0.9421Epoch 4, Accuracy: 94.21%\n",
            "3910/3910 [==============================] - 323s 81ms/step - loss: 0.1841 - accuracy: 0.9421\n",
            "Epoch 5/5\n",
            "3910/3910 [==============================] - ETA: 0s - loss: 0.1567 - accuracy: 0.9562Epoch 5, Accuracy: 95.62%\n",
            "3910/3910 [==============================] - 333s 84ms/step - loss: 0.1567 - accuracy: 0.9562\n"
          ]
        },
        {
          "data": {
            "text/plain": [
              "<keras.src.callbacks.History at 0x79618faa0f10>"
            ]
          },
          "execution_count": 10,
          "metadata": {},
          "output_type": "execute_result"
        }
      ],
      "source": [
        "# here's a very simple toy example for a keras lstm\n",
        "# the \"hidden dimensions\" are just randomly chosen.\n",
        "# you probably don't want to use a hidden size of 12 =) (but maybe it's actually really good?)\n",
        "\n",
        "\n",
        "# embedding comes first to replace one-hot vectors.\n",
        "#    mask_zero=True to prevent computations on padded time steps.\n",
        "# then an arbitrary number of RNN layers.\n",
        "# deeper RNN layers take as input sequence the state sequence of the layer before,\n",
        "# so all layers except the last one should return_sequences=True\n",
        "# finally, a Dense layer for the output, since the output computation is *not*\n",
        "# included in the RNN cells; all cells provided by Keras only compute the states\n",
        "model = tf.keras.Sequential([tf.keras.layers.Embedding(max_words, 20, mask_zero=True),\n",
        "                             tf.keras.layers.LSTM(12, return_sequences=True),\n",
        "                             tf.keras.layers.LSTM(15, return_sequences=True),\n",
        "                             tf.keras.layers.LSTM(15, return_sequences=False),\n",
        "                             tf.keras.layers.Dense(1)])\n",
        "\n",
        "\n",
        "# FYI, the third line is the same as the first two lines together.\n",
        "# the second option can use a much more efficient implementation, it will be SOOO much faster.\n",
        "# try it yourself!\n",
        "#rnn_cell = tf.keras.layers.LSTMCell(12)\n",
        "#rnn = tf.keras.layers.RNN(rnn_cell, return_sequences=False)\n",
        "rnn = tf.keras.layers.LSTM(12, return_sequences=False)\n",
        "\n",
        "\n",
        "\n",
        "\n",
        "\n",
        "# calling RNN layers is easy!\n",
        "# \"sequence\" is defined above from iterating over the data batches\n",
        "model(sequence)\n",
        "\n",
        "\n",
        "\n",
        "\n",
        "\n",
        "class PrintAccuracyCallback(tf.keras.callbacks.Callback):\n",
        "    def on_epoch_end(self, epoch, logs=None):\n",
        "        print(f'Epoch {epoch + 1}, Accuracy: {logs[\"accuracy\"] * 100:.2f}%')\n",
        "\n",
        "# Compile the model\n",
        "model.compile(optimizer='adam',\n",
        "              loss='binary_crossentropy',\n",
        "              metrics=['accuracy'])\n",
        "\n",
        "# Train the model with the callback\n",
        "model.fit(train_data, epochs=5, callbacks=[PrintAccuracyCallback()])"
      ]
    },
    {
      "cell_type": "code",
      "execution_count": 14,
      "metadata": {
        "id": "0p5zlMsBpZBN"
      },
      "outputs": [],
      "source": [
        "# we can create a dataset from a python generator. first, we have to write the generator\n",
        "# this is a very simple one, but we could execute arbitrary python code in here\n",
        "# (say, loading files from disk and preparing the loaded inputs somehow)\n",
        "def gen_test():\n",
        "    for sequence, label in zip(test_sequences, test_labels):\n",
        "        yield sequence, label\n",
        "\n",
        "\n",
        "# we have to tell TF what to expect from the generator (\"Tensor Specification\")\n",
        "test_data = tf.data.Dataset.from_generator(gen_test, output_signature=(\n",
        "         tf.TensorSpec(shape=(None,), dtype=tf.int32),\n",
        "         tf.TensorSpec(shape=(), dtype=tf.int32)))\n",
        "\n",
        "# regular .batch wouldn't work because the inputs are different length\n",
        "# padded batch automatically pads all elements in the batch to the longest length\n",
        "# per dimension.\n",
        "# you can also specify different shapes and padding values other than 0.\n",
        "# padding is always \"post\"\n",
        "test_data = test_data.shuffle(25000).padded_batch(32).repeat(5)"
      ]
    },
    {
      "cell_type": "code",
      "execution_count": 16,
      "metadata": {
        "colab": {
          "base_uri": "https://localhost:8080/"
        },
        "id": "JbxDwgNao58u",
        "outputId": "efcc33cd-84a2-4a7a-e88c-ddf7762c73d3"
      },
      "outputs": [
        {
          "name": "stdout",
          "output_type": "stream",
          "text": [
            "3910/3910 [==============================] - 137s 34ms/step - loss: 1.2279 - accuracy: 0.8526\n",
            "Test Loss: 1.2279\n",
            "Test Accuracy: 85.26%\n"
          ]
        }
      ],
      "source": [
        "# Evaluate the model on the test dataset\n",
        "test_loss, test_accuracy = model.evaluate(test_data)\n",
        "\n",
        "# Print the test loss and accuracy\n",
        "print(f'Test Loss: {test_loss:.4f}')\n",
        "print(f'Test Accuracy: {test_accuracy * 100:.2f}%')\n"
      ]
    }
  ],
  "metadata": {
    "accelerator": "GPU",
    "colab": {
      "gpuType": "T4",
      "provenance": []
    },
    "kernelspec": {
      "display_name": "Python 3",
      "name": "python3"
    },
    "language_info": {
      "name": "python"
    }
  },
  "nbformat": 4,
  "nbformat_minor": 0
}
